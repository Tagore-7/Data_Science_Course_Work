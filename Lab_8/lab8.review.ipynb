{
 "cells": [
  {
   "cell_type": "markdown",
   "id": "44f6d463-cb19-420e-9b79-3dfb79794401",
   "metadata": {},
   "source": [
    "# SQL Review \n",
    "\n",
    "\n",
    "First, we will import the appropriate libraries. "
   ]
  },
  {
   "cell_type": "code",
   "execution_count": null,
   "id": "386f2660-113b-4dd6-9417-611b99603bf1",
   "metadata": {
    "tags": []
   },
   "outputs": [],
   "source": [
    "import os\n",
    "import pandas as pd\n",
    "import numpy as np\n",
    "import matplotlib.pyplot as plt\n",
    "import seaborn as sns\n",
    "%matplotlib inline\n",
    "\n",
    "import sqlite3"
   ]
  },
  {
   "cell_type": "markdown",
   "id": "55fe8c84-9949-4455-af4f-40e219ff70af",
   "metadata": {},
   "source": [
    "### Printing out SQL calls and results \n",
    "\n",
    "We define a function `print_sql(s)` that given an sql query `s` returns the results of the executing. "
   ]
  },
  {
   "cell_type": "code",
   "execution_count": null,
   "id": "8be0d8bb-8a72-4351-94f6-f06f19eb1828",
   "metadata": {
    "tags": []
   },
   "outputs": [],
   "source": [
    "def print_sql(c, s):\n",
    "    print('>', s)\n",
    "    for result in c.execute(s):\n",
    "        print(result)\n",
    "    print()"
   ]
  },
  {
   "cell_type": "markdown",
   "id": "a905ad0a-3e4c-47f7-8639-84aeb2e99655",
   "metadata": {},
   "source": [
    "We could also use `pandas` `read_sql` function to read in the results of the query to a dataframe to disply.  *Be careful with running this code as it will create the dataframe - for a query that returns many records this could be memory-intensive*"
   ]
  },
  {
   "cell_type": "code",
   "execution_count": null,
   "id": "a1b6791c-8ed6-4afc-8b24-5cce563b236a",
   "metadata": {
    "tags": []
   },
   "outputs": [],
   "source": [
    "def pretty_print_sql(c, s):\n",
    "    print('>', s)\n",
    "    df = pd.read_sql(s, c)\n",
    "    #display(df)\n",
    "    return df"
   ]
  },
  {
   "cell_type": "markdown",
   "id": "1d1c2cdb-6132-4449-a6ae-e39d88df2ccb",
   "metadata": {},
   "source": [
    "## Example \n",
    "\n",
    "Here we will use SQLite connection to a test database.\n",
    "\n",
    "First, we will create two sample tables to use in the examples.\n",
    "\n",
    "Create the relational instances in the database.\n",
    "\n",
    "<img src=\"https://pages.mtu.edu/~lebrown/un5550-f20/lab6/ex1-tables.png\" width=\"350px\">"
   ]
  },
  {
   "cell_type": "code",
   "execution_count": null,
   "id": "c546da59-1d84-4aef-8eba-02b159b40f05",
   "metadata": {
    "tags": []
   },
   "outputs": [],
   "source": [
    "# setup connection to new empty db\n",
    "conn = sqlite3.connect(\"testdatabase.db\")"
   ]
  },
  {
   "cell_type": "code",
   "execution_count": null,
   "id": "a2be9950-d3c2-4de7-a013-a2b9d5623d0c",
   "metadata": {
    "tags": []
   },
   "outputs": [],
   "source": [
    "# Populate tables \"s\" and \"t\" in \"testdatabase.db\"\n",
    "conn.executescript(\"\"\"\n",
    "DROP TABLE IF EXISTS s;\n",
    "DROP TABLE IF EXISTS t;\n",
    "\n",
    "CREATE TABLE s(\n",
    "    m INTEGER PRIMARY KEY, \n",
    "    u TEXT\n",
    ");\n",
    "\n",
    "INSERT INTO s VALUES \n",
    "    (1, 'W'),\n",
    "    (2, 'X'),\n",
    "    (3, 'X'),\n",
    "    (4, 'Y');\n",
    "\n",
    "CREATE TABLE t(\n",
    "    n TEXT PRIMARY KEY, \n",
    "    v CHAR\n",
    ");\n",
    "\n",
    "INSERT INTO t VALUES \n",
    "    ('A', 'X'),\n",
    "    ('B', 'X'),\n",
    "    ('C', 'Y'),\n",
    "    ('D', 'Z');\n",
    "\"\"\");"
   ]
  },
  {
   "cell_type": "markdown",
   "id": "715b934b-fa96-4786-a4a9-033475c78eec",
   "metadata": {},
   "source": [
    "We can use this to look at the tables `s` and `t` in undefined order."
   ]
  },
  {
   "cell_type": "code",
   "execution_count": null,
   "id": "05e3844e-c4bc-40c9-bc8f-bb9812b20c6a",
   "metadata": {
    "tags": []
   },
   "outputs": [],
   "source": [
    "print_sql(conn, 'SELECT * FROM s;')\n",
    "print_sql(conn, 'SELECT * FROM t;')"
   ]
  },
  {
   "cell_type": "code",
   "execution_count": null,
   "id": "96022ad9-497b-4620-a1c2-6e01b1eb03c6",
   "metadata": {
    "tags": []
   },
   "outputs": [],
   "source": [
    "pretty_print_sql(conn, 'SELECT * FROM t;')"
   ]
  },
  {
   "cell_type": "markdown",
   "id": "b8e33e9e-991a-49ed-8d5d-e9d9987cf77e",
   "metadata": {},
   "source": [
    "### Cross Join \n",
    "\n",
    "Let's know look at performing some of the join operations discussed in class.\n",
    "\n",
    "First, we will look at the cross join or cross product.\n",
    "\n",
    "<img src=\"https://pages.mtu.edu/~lebrown/un5550-f20/lab6/cross-join.png\" width=\"600px\">"
   ]
  },
  {
   "cell_type": "code",
   "execution_count": null,
   "id": "784f1d11-5421-4c56-8bf9-d2da21c53b09",
   "metadata": {
    "tags": []
   },
   "outputs": [],
   "source": [
    "print_sql(conn, 'SELECT * FROM s, t;')"
   ]
  },
  {
   "cell_type": "code",
   "execution_count": null,
   "id": "ae54ac62-ef1e-453c-9464-f4c58f036082",
   "metadata": {
    "tags": []
   },
   "outputs": [],
   "source": [
    "# Another way to structure our query\n",
    "print_sql(conn, \"\"\"\n",
    "SELECT *\n",
    "FROM s CROSS JOIN t;\n",
    "\"\"\")"
   ]
  },
  {
   "cell_type": "markdown",
   "id": "d556a22b-dfa0-4db8-9f1d-faceb212c7bf",
   "metadata": {},
   "source": [
    "### Inner Join \n",
    "\n",
    "Next, look at performing an inner join. \n",
    "\n",
    "<img src=\"https://pages.mtu.edu/~lebrown/un5550-f20/lab6/inner-join.png\" width=\"600px\">"
   ]
  },
  {
   "cell_type": "code",
   "execution_count": null,
   "id": "056e9737-7ea2-4ff8-9a2b-ec034155273b",
   "metadata": {
    "tags": []
   },
   "outputs": [],
   "source": [
    "# Here are three methods for performing and printint out the inner join\n",
    "print_sql(conn, 'SELECT * FROM s JOIN t ON s.u = t.v;')\n",
    "print_sql(conn, 'SELECT * FROM s, t WHERE s.u = t.v;')\n",
    "pretty_print_sql(conn, 'SELECT * FROM s, t WHERE s.u = t.v;')"
   ]
  },
  {
   "cell_type": "markdown",
   "id": "91345ab1-0f1b-4bc1-9605-609f5ae00816",
   "metadata": {},
   "source": [
    "### Left Outer Join \n",
    "\n",
    "Next, let's examine performing a left outer join. \n",
    "\n",
    "<img src=\"https://pages.mtu.edu/~lebrown/un5550-f20/lab6/left-outer-join.png\" width=\"600px\">"
   ]
  },
  {
   "cell_type": "code",
   "execution_count": null,
   "id": "094bd71d-7803-4b1e-871a-7b6cc8e80d33",
   "metadata": {
    "tags": []
   },
   "outputs": [],
   "source": [
    "print_sql(conn, 'SELECT * FROM s LEFT JOIN t ON s.u = t.v')"
   ]
  },
  {
   "cell_type": "markdown",
   "id": "dff382ec-bf61-4387-9802-98e990354873",
   "metadata": {},
   "source": [
    "### Other Joins "
   ]
  },
  {
   "cell_type": "code",
   "execution_count": null,
   "id": "6be15fb1-0322-4fa5-be4a-b9475cb13f0a",
   "metadata": {
    "tags": []
   },
   "outputs": [],
   "source": [
    "print_sql(conn, 'SELECT s.m, s.u, t.n, t.v FROM t LEFT JOIN s ON s.u = t.v;')\n",
    "print_sql(conn, 'SELECT s.m, s.u, t.n, t.v FROM s LEFT JOIN t ON s.u = t.v UNION '\n",
    "          'SELECT s.m, s.u, t.n, t.v FROM t LEFT JOIN s ON s.u = t.v;')"
   ]
  },
  {
   "cell_type": "markdown",
   "id": "7b8c771c-3251-4086-bbb4-e3d1822dbdd6",
   "metadata": {},
   "source": [
    "### Close the connection "
   ]
  },
  {
   "cell_type": "code",
   "execution_count": null,
   "id": "f8bbc7d9-edc5-4579-adbf-23fd296e6d21",
   "metadata": {
    "tags": []
   },
   "outputs": [],
   "source": [
    "# Close down connection to database\n",
    "conn.close()"
   ]
  },
  {
   "cell_type": "code",
   "execution_count": null,
   "id": "a3609779-772c-4790-83f1-8a291cd20991",
   "metadata": {},
   "outputs": [],
   "source": [
    "!rm testdatabase.db"
   ]
  },
  {
   "cell_type": "code",
   "execution_count": null,
   "id": "42b3e29b-e9d2-482b-86b2-c0fe197d4b81",
   "metadata": {},
   "outputs": [],
   "source": []
  }
 ],
 "metadata": {
  "kernelspec": {
   "display_name": "Python [conda env:.conda-un5550] *",
   "language": "python",
   "name": "conda-env-.conda-un5550-py"
  },
  "language_info": {
   "codemirror_mode": {
    "name": "ipython",
    "version": 3
   },
   "file_extension": ".py",
   "mimetype": "text/x-python",
   "name": "python",
   "nbconvert_exporter": "python",
   "pygments_lexer": "ipython3",
   "version": "3.10.12"
  }
 },
 "nbformat": 4,
 "nbformat_minor": 5
}
