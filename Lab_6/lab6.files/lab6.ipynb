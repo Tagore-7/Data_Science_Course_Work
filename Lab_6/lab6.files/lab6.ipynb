{
 "cells": [
  {
   "cell_type": "markdown",
   "id": "5c342a2a",
   "metadata": {
    "id": "7qjFdnLMf3v7"
   },
   "source": [
    "# Getting Data\n",
    "The topics of this week continues to be getting data, in this case using an API to access structured data. \n",
    "\n",
    "In this lab notebook you will gain experience reading data from and posting to an API. \n"
   ]
  },
  {
   "cell_type": "markdown",
   "id": "307e0dde",
   "metadata": {},
   "source": [
    "## Lab Setup"
   ]
  },
  {
   "cell_type": "code",
   "execution_count": 111,
   "id": "812c10c2",
   "metadata": {
    "id": "sjePHfG9fvnl",
    "tags": []
   },
   "outputs": [],
   "source": [
    "import requests\n",
    "import json\n",
    "import datetime\n",
    "from io import StringIO\n",
    "import pandas as pd\n",
    "import numpy as np\n",
    "import matplotlib.pyplot as plt\n",
    "import matplotlib as mpl \n",
    "%matplotlib inline  \n",
    "\n",
    "import otter\n",
    "grader = otter.Notebook()"
   ]
  },
  {
   "cell_type": "markdown",
   "id": "e2b58722",
   "metadata": {
    "id": "1yS4L1Dkf9pz"
   },
   "source": [
    "## API Getting Data\n",
    "\n",
    "So far we have seen examples of getting data from an API.  These examples make use of GET requests from the API/server. \n",
    "\n",
    "Making a HTTP GET request can be done using several python libraries including: \n",
    "\n",
    "* httplib \n",
    "* urllib \n",
    "* requests \n",
    "\n",
    "We have been using the `requests` module.\n",
    "\n",
    "Let's look at another example."
   ]
  },
  {
   "cell_type": "markdown",
   "id": "958ce23c",
   "metadata": {
    "id": "4RGqPnaJgAcz"
   },
   "source": [
    "## Example: Google Books\n",
    "\n",
    "Here we will examine using the Google Books API:  \n",
    "https://developers.google.com/books/docs/overview\n",
    "\n",
    "\n",
    "We will be using the \"volumes\" resource which does not require authentication.  \n",
    "https://developers.google.com/books/docs/v1/getting_started#background-operations\n",
    "\n",
    "Specifically, we will be using the query function to search by ISBN or book numbers. \n",
    "https://developers.google.com/books/docs/v1/using#PerformingSearch\n",
    "\n",
    "\n"
   ]
  },
  {
   "cell_type": "code",
   "execution_count": 112,
   "id": "768ca145",
   "metadata": {
    "id": "_1bq28Rff87z",
    "tags": []
   },
   "outputs": [],
   "source": [
    "# api-endpoint \n",
    "url = \"https://www.googleapis.com/books/v1/volumes\"\n",
    "  \n",
    "isbn = \"isbn:0553386794\"\n",
    "\n",
    "# set the parameters to be sent to the API\n",
    "params = {'q': isbn}\n",
    "\n",
    "resp = requests.get(url, params)"
   ]
  },
  {
   "cell_type": "markdown",
   "id": "3ec6aafd",
   "metadata": {
    "id": "wbsJt2AJhENL"
   },
   "source": [
    "Look at what the response is? \n",
    "\n",
    "How do we then extract the data?"
   ]
  },
  {
   "cell_type": "code",
   "execution_count": 113,
   "id": "13b29517",
   "metadata": {
    "id": "k3COrBT2hC63",
    "tags": []
   },
   "outputs": [
    {
     "data": {
      "text/plain": [
       "<Response [200]>"
      ]
     },
     "execution_count": 113,
     "metadata": {},
     "output_type": "execute_result"
    }
   ],
   "source": [
    "resp"
   ]
  },
  {
   "cell_type": "code",
   "execution_count": 114,
   "id": "64e3b23f",
   "metadata": {
    "id": "-NlgTV8GhITl",
    "tags": []
   },
   "outputs": [
    {
     "name": "stdout",
     "output_type": "stream",
     "text": [
      "{\n",
      "  \"kind\": \"books#volumes\",\n",
      "  \"totalItems\": 2,\n",
      "  \"items\": [\n",
      "    {\n",
      "      \"kind\": \"books#volume\",\n",
      "      \"id\": \"hXNvadj27ekC\",\n",
      "      \"etag\": \"rvp+kdA8lxI\",\n",
      "      \"selfLink\": \"https://www.googleapis.com/books/v1/volumes/hXNvadj27ekC\",\n",
      "      \"volumeInfo\": {\n",
      "        \"title\": \"A Game of Thrones (HBO Tie-in Edition)\",\n",
      "        \"subtitle\": \"A Song of Ice and Fire: Book One\",\n",
      "        \"authors\": [\n",
      "          \"George R. R. Martin\"\n",
      "        ],\n",
      "        \"publisher\": \"Bantam\",\n",
      "        \"publishedDate\": \"2011-03-22\",\n",
      "        \"description\": \"NOW THE ACCLAIMED HBO SERIES GAME OF THRONES\\u2014THE MASTERPIECE THAT BECAME A CULTURAL PHENOMENON Winter is coming. Such is the stern motto of House Stark, the northernmost of the fiefdoms that owe allegiance to King Robert Baratheon in far-off King\\u2019s Landing. There Eddard Stark of Winterfell rules in Robert\\u2019s name. There his family dwells in peace and comfort: his proud wife, Catelyn; his sons Robb, Brandon, and Rickon; his daughters Sansa and Arya; and his bastard son, Jon Snow. Far to the north, behind the towering Wall, lie savage Wildings and worse\\u2014unnatural things relegated to myth during the centuries-long summer, but proving all too real and all too deadly in the turning of the season. Yet a more immediate threat lurks to the south, where Jon Arryn, the Hand of the King, has died under mysterious circumstances. Now Robert is riding north to Winterfell, bringing his queen, the lovely but cold Cersei, his son, the cruel, vainglorious Prince Joffrey, and the queen\\u2019s brothers Jaime and Tyrion of the powerful and wealthy House Lannister\\u2014the first a swordsman without equal, the second a dwarf whose stunted stature belies a brilliant mind. All are heading for Winterfell and a fateful encounter that will change the course of kingdoms. Meanwhile, across the Narrow Sea, Prince Viserys, heir of the fallen House Targaryen, which once ruled all of Westeros, schemes to reclaim the throne with an army of barbarian Dothraki\\u2014whose loyalty he will purchase in the only coin left to him: his beautiful yet innocent sister, Daenerys.\",\n",
      "        \"industryIdentifiers\": [\n",
      "          {\n",
      "            \"type\": \"ISBN_13\",\n",
      "            \"identifier\": \"9780553386790\"\n",
      "          },\n",
      "          {\n",
      "            \"type\": \"ISBN_10\",\n",
      "            \"identifier\": \"0553386794\"\n",
      "          }\n",
      "        ],\n",
      "        \"readingModes\": {\n",
      "          \"text\": false,\n",
      "          \"image\": false\n",
      "        },\n",
      "        \"pageCount\": 722,\n",
      "        \"printType\": \"BOOK\",\n",
      "        \"categories\": [\n",
      "          \"Fiction\"\n",
      "        ],\n",
      "        \"averageRating\": 4,\n",
      "        \"ratingsCount\": 7,\n",
      "        \"maturityRating\": \"NOT_MATURE\",\n",
      "        \"allowAnonLogging\": false,\n",
      "        \"contentVersion\": \"0.7.0.0.preview.0\",\n",
      "        \"panelizationSummary\": {\n",
      "          \"containsEpubBubbles\": false,\n",
      "          \"containsImageBubbles\": false\n",
      "        },\n",
      "        \"imageLinks\": {\n",
      "          \"smallThumbnail\": \"http://books.google.com/books/content?id=hXNvadj27ekC&printsec=frontcover&img=1&zoom=5&edge=curl&source=gbs_api\",\n",
      "          \"thumbnail\": \"http://books.google.com/books/content?id=hXNvadj27ekC&printsec=frontcover&img=1&zoom=1&edge=curl&source=gbs_api\"\n",
      "        },\n",
      "        \"language\": \"en\",\n",
      "        \"previewLink\": \"http://books.google.com/books?id=hXNvadj27ekC&printsec=frontcover&dq=isbn:0553386794&hl=&cd=1&source=gbs_api\",\n",
      "        \"infoLink\": \"http://books.google.com/books?id=hXNvadj27ekC&dq=isbn:0553386794&hl=&source=gbs_api\",\n",
      "        \"canonicalVolumeLink\": \"https://books.google.com/books/about/A_Game_of_Thrones_HBO_Tie_in_Edition.html?hl=&id=hXNvadj27ekC\"\n",
      "      },\n",
      "      \"saleInfo\": {\n",
      "        \"country\": \"US\",\n",
      "        \"saleability\": \"NOT_FOR_SALE\",\n",
      "        \"isEbook\": false\n",
      "      },\n",
      "      \"accessInfo\": {\n",
      "        \"country\": \"US\",\n",
      "        \"viewability\": \"PARTIAL\",\n",
      "        \"embeddable\": true,\n",
      "        \"publicDomain\": false,\n",
      "        \"textToSpeechPermission\": \"ALLOWED\",\n",
      "        \"epub\": {\n",
      "          \"isAvailable\": false\n",
      "        },\n",
      "        \"pdf\": {\n",
      "          \"isAvailable\": false\n",
      "        },\n",
      "        \"webReaderLink\": \"http://play.google.com/books/reader?id=hXNvadj27ekC&hl=&source=gbs_api\",\n",
      "        \"accessViewStatus\": \"SAMPLE\",\n",
      "        \"quoteSharingAllowed\": false\n",
      "      },\n",
      "      \"searchInfo\": {\n",
      "        \"textSnippet\": \"NOW THE ACCLAIMED HBO SERIES GAME OF THRONES\\u2014THE MASTERPIECE THAT BECAME A CULTURAL PHENOMENON Winter is coming.\"\n",
      "      }\n",
      "    },\n",
      "    {\n",
      "      \"kind\": \"books#volume\",\n",
      "      \"id\": \"CKhFzQEACAAJ\",\n",
      "      \"etag\": \"ITq5F7+Eq94\",\n",
      "      \"selfLink\": \"https://www.googleapis.com/books/v1/volumes/CKhFzQEACAAJ\",\n",
      "      \"volumeInfo\": {\n",
      "        \"title\": \"A Song of Ice and Fire\",\n",
      "        \"authors\": [\n",
      "          \"George R. R. Martin\"\n",
      "        ],\n",
      "        \"publishedDate\": \"2011\",\n",
      "        \"description\": \"The uneasy peace that exists following the death of Robb Stark is threatened by new plots, intrigues, and alliances that once again will plunge the Seven Kingdoms back into all-out war for control of the Iron Throne.\",\n",
      "        \"industryIdentifiers\": [\n",
      "          {\n",
      "            \"type\": \"ISBN_10\",\n",
      "            \"identifier\": \"0553386794\"\n",
      "          },\n",
      "          {\n",
      "            \"type\": \"ISBN_13\",\n",
      "            \"identifier\": \"9780553386790\"\n",
      "          }\n",
      "        ],\n",
      "        \"readingModes\": {\n",
      "          \"text\": false,\n",
      "          \"image\": false\n",
      "        },\n",
      "        \"printType\": \"BOOK\",\n",
      "        \"maturityRating\": \"NOT_MATURE\",\n",
      "        \"allowAnonLogging\": false,\n",
      "        \"contentVersion\": \"preview-1.0.0\",\n",
      "        \"panelizationSummary\": {\n",
      "          \"containsEpubBubbles\": false,\n",
      "          \"containsImageBubbles\": false\n",
      "        },\n",
      "        \"language\": \"en\",\n",
      "        \"previewLink\": \"http://books.google.com/books?id=CKhFzQEACAAJ&dq=isbn:0553386794&hl=&cd=2&source=gbs_api\",\n",
      "        \"infoLink\": \"http://books.google.com/books?id=CKhFzQEACAAJ&dq=isbn:0553386794&hl=&source=gbs_api\",\n",
      "        \"canonicalVolumeLink\": \"https://books.google.com/books/about/A_Song_of_Ice_and_Fire.html?hl=&id=CKhFzQEACAAJ\"\n",
      "      },\n",
      "      \"saleInfo\": {\n",
      "        \"country\": \"US\",\n",
      "        \"saleability\": \"NOT_FOR_SALE\",\n",
      "        \"isEbook\": false\n",
      "      },\n",
      "      \"accessInfo\": {\n",
      "        \"country\": \"US\",\n",
      "        \"viewability\": \"NO_PAGES\",\n",
      "        \"embeddable\": false,\n",
      "        \"publicDomain\": false,\n",
      "        \"textToSpeechPermission\": \"ALLOWED\",\n",
      "        \"epub\": {\n",
      "          \"isAvailable\": false\n",
      "        },\n",
      "        \"pdf\": {\n",
      "          \"isAvailable\": false\n",
      "        },\n",
      "        \"webReaderLink\": \"http://play.google.com/books/reader?id=CKhFzQEACAAJ&hl=&source=gbs_api\",\n",
      "        \"accessViewStatus\": \"NONE\",\n",
      "        \"quoteSharingAllowed\": false\n",
      "      },\n",
      "      \"searchInfo\": {\n",
      "        \"textSnippet\": \"NOW THE ACCLAIMED HBO SERIES GAME OF THRONES\\u2014THE MASTERPIECE THAT BECAME A CULTURAL PHENOMENON Winter is coming.\"\n",
      "      }\n",
      "    }\n",
      "  ]\n",
      "}\n"
     ]
    }
   ],
   "source": [
    "dat = resp.json()\n",
    "#dat\n",
    "\n",
    "# First, we can print it better! \n",
    "print(json.dumps(resp.json(), indent=2))"
   ]
  },
  {
   "cell_type": "markdown",
   "id": "131bc036",
   "metadata": {
    "id": "khf6mAY8hPro"
   },
   "source": [
    "There is a lot of information here.  Explore the structure of the JSON information. "
   ]
  },
  {
   "cell_type": "code",
   "execution_count": 115,
   "id": "0886a318",
   "metadata": {
    "id": "HB6bedUvhJ1h",
    "tags": []
   },
   "outputs": [
    {
     "data": {
      "text/plain": [
       "dict_keys(['kind', 'totalItems', 'items'])"
      ]
     },
     "execution_count": 115,
     "metadata": {},
     "output_type": "execute_result"
    }
   ],
   "source": [
    "dat.keys()"
   ]
  },
  {
   "cell_type": "code",
   "execution_count": 116,
   "id": "d2b3f9bd",
   "metadata": {
    "id": "iuxqDdbdhVeC",
    "tags": []
   },
   "outputs": [
    {
     "data": {
      "text/plain": [
       "'books#volumes'"
      ]
     },
     "execution_count": 116,
     "metadata": {},
     "output_type": "execute_result"
    }
   ],
   "source": [
    "dat['kind']"
   ]
  },
  {
   "cell_type": "code",
   "execution_count": 117,
   "id": "11da8051",
   "metadata": {
    "id": "4UIRJWJ-hW-1",
    "tags": []
   },
   "outputs": [
    {
     "data": {
      "text/plain": [
       "2"
      ]
     },
     "execution_count": 117,
     "metadata": {},
     "output_type": "execute_result"
    }
   ],
   "source": [
    "dat['totalItems']"
   ]
  },
  {
   "cell_type": "code",
   "execution_count": 118,
   "id": "dbc8d240",
   "metadata": {
    "id": "jSu8VHv2hYdX",
    "tags": []
   },
   "outputs": [
    {
     "data": {
      "text/plain": [
       "[{'kind': 'books#volume',\n",
       "  'id': 'hXNvadj27ekC',\n",
       "  'etag': 'rvp+kdA8lxI',\n",
       "  'selfLink': 'https://www.googleapis.com/books/v1/volumes/hXNvadj27ekC',\n",
       "  'volumeInfo': {'title': 'A Game of Thrones (HBO Tie-in Edition)',\n",
       "   'subtitle': 'A Song of Ice and Fire: Book One',\n",
       "   'authors': ['George R. R. Martin'],\n",
       "   'publisher': 'Bantam',\n",
       "   'publishedDate': '2011-03-22',\n",
       "   'description': 'NOW THE ACCLAIMED HBO SERIES GAME OF THRONES—THE MASTERPIECE THAT BECAME A CULTURAL PHENOMENON Winter is coming. Such is the stern motto of House Stark, the northernmost of the fiefdoms that owe allegiance to King Robert Baratheon in far-off King’s Landing. There Eddard Stark of Winterfell rules in Robert’s name. There his family dwells in peace and comfort: his proud wife, Catelyn; his sons Robb, Brandon, and Rickon; his daughters Sansa and Arya; and his bastard son, Jon Snow. Far to the north, behind the towering Wall, lie savage Wildings and worse—unnatural things relegated to myth during the centuries-long summer, but proving all too real and all too deadly in the turning of the season. Yet a more immediate threat lurks to the south, where Jon Arryn, the Hand of the King, has died under mysterious circumstances. Now Robert is riding north to Winterfell, bringing his queen, the lovely but cold Cersei, his son, the cruel, vainglorious Prince Joffrey, and the queen’s brothers Jaime and Tyrion of the powerful and wealthy House Lannister—the first a swordsman without equal, the second a dwarf whose stunted stature belies a brilliant mind. All are heading for Winterfell and a fateful encounter that will change the course of kingdoms. Meanwhile, across the Narrow Sea, Prince Viserys, heir of the fallen House Targaryen, which once ruled all of Westeros, schemes to reclaim the throne with an army of barbarian Dothraki—whose loyalty he will purchase in the only coin left to him: his beautiful yet innocent sister, Daenerys.',\n",
       "   'industryIdentifiers': [{'type': 'ISBN_13', 'identifier': '9780553386790'},\n",
       "    {'type': 'ISBN_10', 'identifier': '0553386794'}],\n",
       "   'readingModes': {'text': False, 'image': False},\n",
       "   'pageCount': 722,\n",
       "   'printType': 'BOOK',\n",
       "   'categories': ['Fiction'],\n",
       "   'averageRating': 4,\n",
       "   'ratingsCount': 7,\n",
       "   'maturityRating': 'NOT_MATURE',\n",
       "   'allowAnonLogging': False,\n",
       "   'contentVersion': '0.7.0.0.preview.0',\n",
       "   'panelizationSummary': {'containsEpubBubbles': False,\n",
       "    'containsImageBubbles': False},\n",
       "   'imageLinks': {'smallThumbnail': 'http://books.google.com/books/content?id=hXNvadj27ekC&printsec=frontcover&img=1&zoom=5&edge=curl&source=gbs_api',\n",
       "    'thumbnail': 'http://books.google.com/books/content?id=hXNvadj27ekC&printsec=frontcover&img=1&zoom=1&edge=curl&source=gbs_api'},\n",
       "   'language': 'en',\n",
       "   'previewLink': 'http://books.google.com/books?id=hXNvadj27ekC&printsec=frontcover&dq=isbn:0553386794&hl=&cd=1&source=gbs_api',\n",
       "   'infoLink': 'http://books.google.com/books?id=hXNvadj27ekC&dq=isbn:0553386794&hl=&source=gbs_api',\n",
       "   'canonicalVolumeLink': 'https://books.google.com/books/about/A_Game_of_Thrones_HBO_Tie_in_Edition.html?hl=&id=hXNvadj27ekC'},\n",
       "  'saleInfo': {'country': 'US',\n",
       "   'saleability': 'NOT_FOR_SALE',\n",
       "   'isEbook': False},\n",
       "  'accessInfo': {'country': 'US',\n",
       "   'viewability': 'PARTIAL',\n",
       "   'embeddable': True,\n",
       "   'publicDomain': False,\n",
       "   'textToSpeechPermission': 'ALLOWED',\n",
       "   'epub': {'isAvailable': False},\n",
       "   'pdf': {'isAvailable': False},\n",
       "   'webReaderLink': 'http://play.google.com/books/reader?id=hXNvadj27ekC&hl=&source=gbs_api',\n",
       "   'accessViewStatus': 'SAMPLE',\n",
       "   'quoteSharingAllowed': False},\n",
       "  'searchInfo': {'textSnippet': 'NOW THE ACCLAIMED HBO SERIES GAME OF THRONES—THE MASTERPIECE THAT BECAME A CULTURAL PHENOMENON Winter is coming.'}},\n",
       " {'kind': 'books#volume',\n",
       "  'id': 'CKhFzQEACAAJ',\n",
       "  'etag': 'ITq5F7+Eq94',\n",
       "  'selfLink': 'https://www.googleapis.com/books/v1/volumes/CKhFzQEACAAJ',\n",
       "  'volumeInfo': {'title': 'A Song of Ice and Fire',\n",
       "   'authors': ['George R. R. Martin'],\n",
       "   'publishedDate': '2011',\n",
       "   'description': 'The uneasy peace that exists following the death of Robb Stark is threatened by new plots, intrigues, and alliances that once again will plunge the Seven Kingdoms back into all-out war for control of the Iron Throne.',\n",
       "   'industryIdentifiers': [{'type': 'ISBN_10', 'identifier': '0553386794'},\n",
       "    {'type': 'ISBN_13', 'identifier': '9780553386790'}],\n",
       "   'readingModes': {'text': False, 'image': False},\n",
       "   'printType': 'BOOK',\n",
       "   'maturityRating': 'NOT_MATURE',\n",
       "   'allowAnonLogging': False,\n",
       "   'contentVersion': 'preview-1.0.0',\n",
       "   'panelizationSummary': {'containsEpubBubbles': False,\n",
       "    'containsImageBubbles': False},\n",
       "   'language': 'en',\n",
       "   'previewLink': 'http://books.google.com/books?id=CKhFzQEACAAJ&dq=isbn:0553386794&hl=&cd=2&source=gbs_api',\n",
       "   'infoLink': 'http://books.google.com/books?id=CKhFzQEACAAJ&dq=isbn:0553386794&hl=&source=gbs_api',\n",
       "   'canonicalVolumeLink': 'https://books.google.com/books/about/A_Song_of_Ice_and_Fire.html?hl=&id=CKhFzQEACAAJ'},\n",
       "  'saleInfo': {'country': 'US',\n",
       "   'saleability': 'NOT_FOR_SALE',\n",
       "   'isEbook': False},\n",
       "  'accessInfo': {'country': 'US',\n",
       "   'viewability': 'NO_PAGES',\n",
       "   'embeddable': False,\n",
       "   'publicDomain': False,\n",
       "   'textToSpeechPermission': 'ALLOWED',\n",
       "   'epub': {'isAvailable': False},\n",
       "   'pdf': {'isAvailable': False},\n",
       "   'webReaderLink': 'http://play.google.com/books/reader?id=CKhFzQEACAAJ&hl=&source=gbs_api',\n",
       "   'accessViewStatus': 'NONE',\n",
       "   'quoteSharingAllowed': False},\n",
       "  'searchInfo': {'textSnippet': 'NOW THE ACCLAIMED HBO SERIES GAME OF THRONES—THE MASTERPIECE THAT BECAME A CULTURAL PHENOMENON Winter is coming.'}}]"
      ]
     },
     "execution_count": 118,
     "metadata": {},
     "output_type": "execute_result"
    }
   ],
   "source": [
    "dat['items']"
   ]
  },
  {
   "cell_type": "markdown",
   "id": "90056015",
   "metadata": {
    "id": "EYPYMTzfhe08"
   },
   "source": [
    "###   \n",
    "*HERE is where there is a lot of information* \n",
    "\n",
    "\n",
    "`dat['items']` returns a list of items, with a lot of information"
   ]
  },
  {
   "cell_type": "code",
   "execution_count": 119,
   "id": "232f3f74",
   "metadata": {
    "id": "51_-yxyYhaGT",
    "tags": []
   },
   "outputs": [
    {
     "data": {
      "text/plain": [
       "list"
      ]
     },
     "execution_count": 119,
     "metadata": {},
     "output_type": "execute_result"
    }
   ],
   "source": [
    "type(dat['items'])"
   ]
  },
  {
   "cell_type": "code",
   "execution_count": 120,
   "id": "cb6a78c3",
   "metadata": {
    "id": "416pXfskhjfl",
    "tags": []
   },
   "outputs": [
    {
     "data": {
      "text/plain": [
       "{'kind': 'books#volume',\n",
       " 'id': 'hXNvadj27ekC',\n",
       " 'etag': 'rvp+kdA8lxI',\n",
       " 'selfLink': 'https://www.googleapis.com/books/v1/volumes/hXNvadj27ekC',\n",
       " 'volumeInfo': {'title': 'A Game of Thrones (HBO Tie-in Edition)',\n",
       "  'subtitle': 'A Song of Ice and Fire: Book One',\n",
       "  'authors': ['George R. R. Martin'],\n",
       "  'publisher': 'Bantam',\n",
       "  'publishedDate': '2011-03-22',\n",
       "  'description': 'NOW THE ACCLAIMED HBO SERIES GAME OF THRONES—THE MASTERPIECE THAT BECAME A CULTURAL PHENOMENON Winter is coming. Such is the stern motto of House Stark, the northernmost of the fiefdoms that owe allegiance to King Robert Baratheon in far-off King’s Landing. There Eddard Stark of Winterfell rules in Robert’s name. There his family dwells in peace and comfort: his proud wife, Catelyn; his sons Robb, Brandon, and Rickon; his daughters Sansa and Arya; and his bastard son, Jon Snow. Far to the north, behind the towering Wall, lie savage Wildings and worse—unnatural things relegated to myth during the centuries-long summer, but proving all too real and all too deadly in the turning of the season. Yet a more immediate threat lurks to the south, where Jon Arryn, the Hand of the King, has died under mysterious circumstances. Now Robert is riding north to Winterfell, bringing his queen, the lovely but cold Cersei, his son, the cruel, vainglorious Prince Joffrey, and the queen’s brothers Jaime and Tyrion of the powerful and wealthy House Lannister—the first a swordsman without equal, the second a dwarf whose stunted stature belies a brilliant mind. All are heading for Winterfell and a fateful encounter that will change the course of kingdoms. Meanwhile, across the Narrow Sea, Prince Viserys, heir of the fallen House Targaryen, which once ruled all of Westeros, schemes to reclaim the throne with an army of barbarian Dothraki—whose loyalty he will purchase in the only coin left to him: his beautiful yet innocent sister, Daenerys.',\n",
       "  'industryIdentifiers': [{'type': 'ISBN_13', 'identifier': '9780553386790'},\n",
       "   {'type': 'ISBN_10', 'identifier': '0553386794'}],\n",
       "  'readingModes': {'text': False, 'image': False},\n",
       "  'pageCount': 722,\n",
       "  'printType': 'BOOK',\n",
       "  'categories': ['Fiction'],\n",
       "  'averageRating': 4,\n",
       "  'ratingsCount': 7,\n",
       "  'maturityRating': 'NOT_MATURE',\n",
       "  'allowAnonLogging': False,\n",
       "  'contentVersion': '0.7.0.0.preview.0',\n",
       "  'panelizationSummary': {'containsEpubBubbles': False,\n",
       "   'containsImageBubbles': False},\n",
       "  'imageLinks': {'smallThumbnail': 'http://books.google.com/books/content?id=hXNvadj27ekC&printsec=frontcover&img=1&zoom=5&edge=curl&source=gbs_api',\n",
       "   'thumbnail': 'http://books.google.com/books/content?id=hXNvadj27ekC&printsec=frontcover&img=1&zoom=1&edge=curl&source=gbs_api'},\n",
       "  'language': 'en',\n",
       "  'previewLink': 'http://books.google.com/books?id=hXNvadj27ekC&printsec=frontcover&dq=isbn:0553386794&hl=&cd=1&source=gbs_api',\n",
       "  'infoLink': 'http://books.google.com/books?id=hXNvadj27ekC&dq=isbn:0553386794&hl=&source=gbs_api',\n",
       "  'canonicalVolumeLink': 'https://books.google.com/books/about/A_Game_of_Thrones_HBO_Tie_in_Edition.html?hl=&id=hXNvadj27ekC'},\n",
       " 'saleInfo': {'country': 'US',\n",
       "  'saleability': 'NOT_FOR_SALE',\n",
       "  'isEbook': False},\n",
       " 'accessInfo': {'country': 'US',\n",
       "  'viewability': 'PARTIAL',\n",
       "  'embeddable': True,\n",
       "  'publicDomain': False,\n",
       "  'textToSpeechPermission': 'ALLOWED',\n",
       "  'epub': {'isAvailable': False},\n",
       "  'pdf': {'isAvailable': False},\n",
       "  'webReaderLink': 'http://play.google.com/books/reader?id=hXNvadj27ekC&hl=&source=gbs_api',\n",
       "  'accessViewStatus': 'SAMPLE',\n",
       "  'quoteSharingAllowed': False},\n",
       " 'searchInfo': {'textSnippet': 'NOW THE ACCLAIMED HBO SERIES GAME OF THRONES—THE MASTERPIECE THAT BECAME A CULTURAL PHENOMENON Winter is coming.'}}"
      ]
     },
     "execution_count": 120,
     "metadata": {},
     "output_type": "execute_result"
    }
   ],
   "source": [
    "# We can look at the first item on the list \n",
    "dat['items'][0]"
   ]
  },
  {
   "cell_type": "code",
   "execution_count": 121,
   "id": "13a1d143",
   "metadata": {
    "id": "QPpLdjOHhnGE",
    "tags": []
   },
   "outputs": [
    {
     "data": {
      "text/plain": [
       "dict_keys(['kind', 'id', 'etag', 'selfLink', 'volumeInfo', 'saleInfo', 'accessInfo', 'searchInfo'])"
      ]
     },
     "execution_count": 121,
     "metadata": {},
     "output_type": "execute_result"
    }
   ],
   "source": [
    "'''We can investigate the keys where information is stored for each item'''\n",
    "dat['items'][0].keys()"
   ]
  },
  {
   "cell_type": "code",
   "execution_count": 122,
   "id": "f6a39362",
   "metadata": {
    "id": "RPQ6Wts-hwR2",
    "tags": []
   },
   "outputs": [
    {
     "data": {
      "text/plain": [
       "'9780553386790'"
      ]
     },
     "execution_count": 122,
     "metadata": {},
     "output_type": "execute_result"
    }
   ],
   "source": [
    "# You can start building pretty long lines of code to access information deep \n",
    "#  in the structure. \n",
    "# Print out the ISBN_10 number for the book \n",
    "dat['items'][0]['volumeInfo']['industryIdentifiers'][0]['identifier']"
   ]
  },
  {
   "cell_type": "markdown",
   "id": "95755783",
   "metadata": {
    "deletable": false,
    "editable": false,
    "id": "wor7tdbyh2Pc"
   },
   "source": [
    "## Exercise 1 \n",
    "\n",
    "Which of the Game of Thrones books is longest?\n",
    "\n",
    "Get information about each book and print out the title and number of pages.  Then, report the book title and number of pages for the book with that is the longest.  \n",
    "\n",
    "*Note, the API may return multiple entries for each isbn.  You may use the first entry for information.  If the information is missing a page number it is likely an audiobook, and you should then use the next entry for information.  If no entry has the title and page number information return the title as \"no title\" and the number of pages as '-1'.*"
   ]
  },
  {
   "cell_type": "code",
   "execution_count": 123,
   "id": "7cace6a8",
   "metadata": {
    "deletable": false,
    "editable": false,
    "id": "1F7qSQPChzDx",
    "tags": []
   },
   "outputs": [],
   "source": [
    "''' Following is the isbn codes for Game of Thrones books. '''\n",
    "\n",
    "isbns = ['0553386794', '0345535421', '9780345543981', '0553390570', '1101886048']"
   ]
  },
  {
   "cell_type": "code",
   "execution_count": 124,
   "id": "387ea6d3",
   "metadata": {
    "id": "nj7c6pAzh8Sq",
    "tags": []
   },
   "outputs": [
    {
     "name": "stdout",
     "output_type": "stream",
     "text": [
      "A Game of Thrones (HBO Tie-in Edition) has 722 pages.\n",
      "A Clash of Kings (HBO Tie-in Edition) has 1042 pages.\n",
      "A Storm of Swords (HBO Tie-in Edition): A Song of Ice and Fire: Book Three has 1218 pages.\n",
      "A Feast for Crows (HBO Tie-in Edition): A Song of Ice and Fire: Book Four has 786 pages.\n",
      "A Dance with Dragons (HBO Tie-in Edition): A Song of Ice and Fire: Book Five has 1058 pages.\n"
     ]
    }
   ],
   "source": [
    "'''\n",
    "Iterate for each isbns to finds titles and pages for each item. \n",
    "Collect this information in a list. \n",
    "Look to use \"volumeInfo\" to gather the information needed.\n",
    "Print the title + the number of pages in the loop. \n",
    "\n",
    "Outside the loop:\n",
    "- Convert the list to a DataFrame, ex1df, column names 'Title' and 'NumPages' \n",
    "- Report the longest book in longest8dbaec7bed057df01f5566cfc6499da8BookTitle and longestBookNumPages.\n",
    "'''\n",
    "\n",
    "ex1list = [] \n",
    "\n",
    "for i in isbns: \n",
    "    params = {'q': 'isbn:' + i}\n",
    "    # passin the params to get \n",
    "    resp = requests.get(url, params)\n",
    "    # loadind the data of the books\n",
    "    dat = resp.json()\n",
    "    # checking if the items are present or not \n",
    "    if 'items' in dat:\n",
    "        # getting the voulmeinfo of the book \n",
    "        book_info = dat['items'][0]['volumeInfo']\n",
    "        # getting the title of the book if no title is found returning no title \n",
    "        title = book_info.get('title', 'No title')\n",
    "        # getting the no of pages of the book if pagecount is not found returning -1\n",
    "        pages = book_info.get('pageCount', -1)\n",
    "        # Adding the title and NoOfPages to the list\n",
    "        ex1list.append({'Title': title, 'NumPages': pages})\n",
    "    print(title + \" has \" + str(pages) + \" pages.\")\n",
    "    \n",
    "# creating the datframe by using the list \n",
    "ex1df = pd.DataFrame(ex1list, columns=['Title', 'NumPages'])\n",
    "\n",
    "# getting the longest book from the dataframe\n",
    "longest_book = ex1df[ex1df['NumPages'] == ex1df['NumPages'].max()]\n",
    "\n",
    "#getting the title of the longest book title \n",
    "longestBookTitle = longest_book['Title'].values[0]\n",
    "\n",
    "#getting the number of pages from the longest book \n",
    "longestBookNumPages =  longest_book['NumPages'].values[0]"
   ]
  },
  {
   "cell_type": "code",
   "execution_count": 125,
   "id": "143e3426",
   "metadata": {
    "deletable": false,
    "editable": false
   },
   "outputs": [
    {
     "data": {
      "text/html": [
       "<p><strong><pre style='display: inline;'>q1</pre></strong> passed! 🚀</p>"
      ],
      "text/plain": [
       "q1 results: All test cases passed!"
      ]
     },
     "execution_count": 125,
     "metadata": {},
     "output_type": "execute_result"
    }
   ],
   "source": [
    "grader.check(\"q1\")"
   ]
  },
  {
   "cell_type": "markdown",
   "id": "81b8d419",
   "metadata": {
    "id": "rDWETTmtiG2B"
   },
   "source": [
    "## Example: Government API - Iceland\n",
    "\n",
    "Many cities or countries have begun making data available for developers and researchers. \n",
    "Iceland has created a single [API](http://docs.apis.is/) that has many endpoints including weather data, concerts, bus, earthquakes, bicycle counters, etc. \n",
    "\n",
    "Try out a few different endpoints and gather some data.  *Note, some of the endpoints are not available at this time, you may get a 404 or 500 error*"
   ]
  },
  {
   "cell_type": "markdown",
   "id": "cd7d6b99",
   "metadata": {
    "id": "VHUHdyI1i5k8"
   },
   "source": [
    "**Earthquake Information**"
   ]
  },
  {
   "cell_type": "code",
   "execution_count": 126,
   "id": "25686231",
   "metadata": {
    "id": "5zNVbO4AiEj7",
    "tags": []
   },
   "outputs": [],
   "source": [
    "resp = requests.get('https://apis.is/earthquake/is')"
   ]
  },
  {
   "cell_type": "code",
   "execution_count": 127,
   "id": "26365ab4",
   "metadata": {
    "id": "yfTEKBzjiOq_",
    "tags": []
   },
   "outputs": [
    {
     "data": {
      "text/plain": [
       "<Response [200]>"
      ]
     },
     "execution_count": 127,
     "metadata": {},
     "output_type": "execute_result"
    }
   ],
   "source": [
    "resp"
   ]
  },
  {
   "cell_type": "code",
   "execution_count": 128,
   "id": "2fea0229",
   "metadata": {
    "id": "RkVXyYsPiZGU",
    "tags": []
   },
   "outputs": [],
   "source": [
    "#resp.json()\n",
    "# UNCOMMENT TO EXPLORE\n",
    "# CHECK!!! PUT COMMENT BACK IN BEFORE SUBMISSION"
   ]
  },
  {
   "cell_type": "markdown",
   "id": "acce7f59",
   "metadata": {
    "id": "WBKWLVCiic1d"
   },
   "source": [
    "Under the `results` key there is a list of items with the earthquake information. \n",
    "\n",
    "Let's try to get this list in a DataFrame."
   ]
  },
  {
   "cell_type": "code",
   "execution_count": 129,
   "id": "4cad350a",
   "metadata": {
    "id": "FhLYfy9miaPl",
    "tags": []
   },
   "outputs": [
    {
     "data": {
      "text/html": [
       "<div>\n",
       "<style scoped>\n",
       "    .dataframe tbody tr th:only-of-type {\n",
       "        vertical-align: middle;\n",
       "    }\n",
       "\n",
       "    .dataframe tbody tr th {\n",
       "        vertical-align: top;\n",
       "    }\n",
       "\n",
       "    .dataframe thead th {\n",
       "        text-align: right;\n",
       "    }\n",
       "</style>\n",
       "<table border=\"1\" class=\"dataframe\">\n",
       "  <thead>\n",
       "    <tr style=\"text-align: right;\">\n",
       "      <th></th>\n",
       "      <th>timestamp</th>\n",
       "      <th>latitude</th>\n",
       "      <th>longitude</th>\n",
       "      <th>depth</th>\n",
       "      <th>size</th>\n",
       "      <th>quality</th>\n",
       "      <th>humanReadableLocation</th>\n",
       "    </tr>\n",
       "  </thead>\n",
       "  <tbody>\n",
       "    <tr>\n",
       "      <th>0</th>\n",
       "      <td>2017-10-13 12:07:24+00:00</td>\n",
       "      <td>63.976</td>\n",
       "      <td>-21.949</td>\n",
       "      <td>1.1</td>\n",
       "      <td>0.6</td>\n",
       "      <td>58.73</td>\n",
       "      <td>6,1 km SV af Helgafelli</td>\n",
       "    </tr>\n",
       "    <tr>\n",
       "      <th>1</th>\n",
       "      <td>2017-10-13 09:50:50+00:00</td>\n",
       "      <td>65.124</td>\n",
       "      <td>-16.288</td>\n",
       "      <td>7.2</td>\n",
       "      <td>0.9</td>\n",
       "      <td>78.51</td>\n",
       "      <td>6,1 km NA af Herðubreiðartöglum</td>\n",
       "    </tr>\n",
       "    <tr>\n",
       "      <th>2</th>\n",
       "      <td>2017-10-13 09:41:09+00:00</td>\n",
       "      <td>63.945</td>\n",
       "      <td>-21.143</td>\n",
       "      <td>7.4</td>\n",
       "      <td>0.2</td>\n",
       "      <td>33.12</td>\n",
       "      <td>6,5 km SSA af Hveragerði</td>\n",
       "    </tr>\n",
       "    <tr>\n",
       "      <th>3</th>\n",
       "      <td>2017-10-13 09:37:45+00:00</td>\n",
       "      <td>65.114</td>\n",
       "      <td>-16.300</td>\n",
       "      <td>6.3</td>\n",
       "      <td>1.2</td>\n",
       "      <td>90.01</td>\n",
       "      <td>5,0 km NA af Herðubreiðartöglum</td>\n",
       "    </tr>\n",
       "    <tr>\n",
       "      <th>4</th>\n",
       "      <td>2017-10-13 09:37:21+00:00</td>\n",
       "      <td>65.113</td>\n",
       "      <td>-16.301</td>\n",
       "      <td>5.9</td>\n",
       "      <td>1.4</td>\n",
       "      <td>90.01</td>\n",
       "      <td>4,9 km NA af Herðubreiðartöglum</td>\n",
       "    </tr>\n",
       "  </tbody>\n",
       "</table>\n",
       "</div>"
      ],
      "text/plain": [
       "                  timestamp  latitude  longitude  depth  size  quality  \\\n",
       "0 2017-10-13 12:07:24+00:00    63.976    -21.949    1.1   0.6    58.73   \n",
       "1 2017-10-13 09:50:50+00:00    65.124    -16.288    7.2   0.9    78.51   \n",
       "2 2017-10-13 09:41:09+00:00    63.945    -21.143    7.4   0.2    33.12   \n",
       "3 2017-10-13 09:37:45+00:00    65.114    -16.300    6.3   1.2    90.01   \n",
       "4 2017-10-13 09:37:21+00:00    65.113    -16.301    5.9   1.4    90.01   \n",
       "\n",
       "             humanReadableLocation  \n",
       "0          6,1 km SV af Helgafelli  \n",
       "1  6,1 km NA af Herðubreiðartöglum  \n",
       "2         6,5 km SSA af Hveragerði  \n",
       "3  5,0 km NA af Herðubreiðartöglum  \n",
       "4  4,9 km NA af Herðubreiðartöglum  "
      ]
     },
     "execution_count": 129,
     "metadata": {},
     "output_type": "execute_result"
    }
   ],
   "source": [
    "# The JSON was already stored in \"resp\" and we only want the list of results \n",
    "#  under the key \"results\".  Therefore, we can take this information and \n",
    "#  re-serialize the information and let pandas read_json parse in the data \n",
    "eq = pd.read_json(json.dumps(resp.json()['results']))\n",
    "eq.head()"
   ]
  },
  {
   "cell_type": "markdown",
   "id": "4854601f",
   "metadata": {
    "id": "veePCqEUpWlU"
   },
   "source": [
    "If you get a \"Value Error: protocol not known\", then try wrapping the `json.dumps(resp.json()['results'])` in a method to write to a string using `StringIO` \n",
    "\n",
    "```python\n",
    "from io import StringIO\n",
    "eq = pd.read_json(StringIO(json.dumps(resp.json()['results'])))\n",
    "```"
   ]
  },
  {
   "cell_type": "markdown",
   "id": "785eba29",
   "metadata": {
    "id": "NLLVNcBMirl0"
   },
   "source": [
    "**Football**\n",
    "\n",
    "We can get information on football events. \n",
    "\n"
   ]
  },
  {
   "cell_type": "code",
   "execution_count": 130,
   "id": "bad0ab86",
   "metadata": {
    "id": "gY-1E7L6ioDl",
    "tags": []
   },
   "outputs": [
    {
     "data": {
      "text/plain": [
       "<Response [200]>"
      ]
     },
     "execution_count": 130,
     "metadata": {},
     "output_type": "execute_result"
    }
   ],
   "source": [
    "resp = requests.get('https://apis.is/sports/football')\n",
    "resp"
   ]
  },
  {
   "cell_type": "code",
   "execution_count": 131,
   "id": "f56e602b",
   "metadata": {
    "id": "oZpe2kBaivu5",
    "tags": []
   },
   "outputs": [
    {
     "data": {
      "text/plain": [
       "{'results': []}"
      ]
     },
     "execution_count": 131,
     "metadata": {},
     "output_type": "execute_result"
    }
   ],
   "source": [
    "resp.json()"
   ]
  },
  {
   "cell_type": "markdown",
   "id": "7de995e5",
   "metadata": {
    "id": "UGwqAkSKixjM"
   },
   "source": [
    "Looks like no information listed for upcoming football matches. "
   ]
  },
  {
   "cell_type": "markdown",
   "id": "0b6f5e60",
   "metadata": {
    "id": "Ibus5yoZjX0X"
   },
   "source": [
    "**Currency** "
   ]
  },
  {
   "cell_type": "code",
   "execution_count": 132,
   "id": "188ffd84",
   "metadata": {
    "id": "_fcy8oZ2jarO",
    "tags": []
   },
   "outputs": [
    {
     "data": {
      "text/plain": [
       "<Response [200]>"
      ]
     },
     "execution_count": 132,
     "metadata": {},
     "output_type": "execute_result"
    }
   ],
   "source": [
    "params = {'source' : 'lb'}\n",
    "resp = requests.get('https://apis.is/currency', params)\n",
    "resp"
   ]
  },
  {
   "cell_type": "code",
   "execution_count": 133,
   "id": "1b6594d3",
   "metadata": {
    "id": "iwRIpk72jaez",
    "tags": []
   },
   "outputs": [
    {
     "data": {
      "text/plain": [
       "{'results': [{'shortName': 'ISK',\n",
       "   'longName': 'Íslensk króna',\n",
       "   'value': 1,\n",
       "   'askValue': 1,\n",
       "   'bidValue': 1,\n",
       "   'changeCur': 0,\n",
       "   'changePer': '0.00'},\n",
       "  {'shortName': 'USD',\n",
       "   'longName': 'Bandarískur dalur',\n",
       "   'value': 138.735,\n",
       "   'askValue': 139.22,\n",
       "   'bidValue': 138.25,\n",
       "   'changeCur': -0.114794,\n",
       "   'changePer': 0},\n",
       "  {'shortName': 'GBP',\n",
       "   'longName': 'Sterlingspund',\n",
       "   'value': 169.205,\n",
       "   'askValue': 169.8,\n",
       "   'bidValue': 168.61,\n",
       "   'changeCur': 0.082518,\n",
       "   'changePer': '0.00'},\n",
       "  {'shortName': 'EUR',\n",
       "   'longName': 'Evra',\n",
       "   'value': 146.3,\n",
       "   'askValue': 146.81,\n",
       "   'bidValue': 145.79,\n",
       "   'changeCur': 0,\n",
       "   'changePer': '0.00'},\n",
       "  {'shortName': 'CAD',\n",
       "   'longName': 'Kanadískur dalur',\n",
       "   'value': 101.885,\n",
       "   'askValue': 102.24,\n",
       "   'bidValue': 101.53,\n",
       "   'changeCur': 0.097905,\n",
       "   'changePer': '0.00'},\n",
       "  {'shortName': 'DKK',\n",
       "   'longName': 'Dönsk króna',\n",
       "   'value': 19.6125,\n",
       "   'askValue': 19.681,\n",
       "   'bidValue': 19.544,\n",
       "   'changeCur': -0.010161,\n",
       "   'changePer': 0},\n",
       "  {'shortName': 'NOK',\n",
       "   'longName': 'Norsk króna',\n",
       "   'value': 12.6695,\n",
       "   'askValue': 12.714,\n",
       "   'bidValue': 12.625,\n",
       "   'changeCur': -0.297992,\n",
       "   'changePer': '-0.02'},\n",
       "  {'shortName': 'SEK',\n",
       "   'longName': 'Sænsk króna',\n",
       "   'value': 12.6935,\n",
       "   'askValue': 12.738,\n",
       "   'bidValue': 12.649,\n",
       "   'changeCur': 0.394073,\n",
       "   'changePer': '0.03'},\n",
       "  {'shortName': 'CHF',\n",
       "   'longName': 'Svissneskur franki',\n",
       "   'value': 154.025,\n",
       "   'askValue': 154.56,\n",
       "   'bidValue': 153.49,\n",
       "   'changeCur': 0.174995,\n",
       "   'changePer': '0.00'},\n",
       "  {'shortName': 'JPY',\n",
       "   'longName': 'Japanskt Yen',\n",
       "   'value': 0.92755,\n",
       "   'askValue': 0.9308,\n",
       "   'bidValue': 0.9243,\n",
       "   'changeCur': -0.118038,\n",
       "   'changePer': '-0.13'},\n",
       "  {'shortName': 'XDR',\n",
       "   'longName': 'Gengisvísitala',\n",
       "   'value': 183.46,\n",
       "   'askValue': 184.1,\n",
       "   'bidValue': 182.82,\n",
       "   'changeCur': -0.054289,\n",
       "   'changePer': 0}]}"
      ]
     },
     "execution_count": 133,
     "metadata": {},
     "output_type": "execute_result"
    }
   ],
   "source": [
    "resp.json()"
   ]
  },
  {
   "cell_type": "markdown",
   "id": "a8506dfc",
   "metadata": {
    "id": "5DP-mljljBCk"
   },
   "source": [
    "**Weather Observations**"
   ]
  },
  {
   "cell_type": "code",
   "execution_count": 134,
   "id": "28d5272d",
   "metadata": {
    "id": "rKf9qP7XiwzJ",
    "tags": []
   },
   "outputs": [
    {
     "data": {
      "text/plain": [
       "<Response [200]>"
      ]
     },
     "execution_count": 134,
     "metadata": {},
     "output_type": "execute_result"
    }
   ],
   "source": [
    "params = {'stations': '1'}\n",
    "resp = requests.get('https://apis.is/weather/observations/en', params)\n",
    "resp\n"
   ]
  },
  {
   "cell_type": "code",
   "execution_count": 135,
   "id": "475c246f",
   "metadata": {
    "id": "d63F_LTyjGs2",
    "tags": []
   },
   "outputs": [
    {
     "data": {
      "text/plain": [
       "{'results': [{'name': 'Reykjavík',\n",
       "   'time': '2023-10-16 22:00:00',\n",
       "   'err': '',\n",
       "   'link': 'http://en.vedur.is/weather/observations/areas/reykjavik/#group=100&station=1',\n",
       "   'F': '3',\n",
       "   'FX': '3',\n",
       "   'FG': '5',\n",
       "   'D': 'ENE',\n",
       "   'T': '3.3',\n",
       "   'W': '',\n",
       "   'V': '',\n",
       "   'N': '',\n",
       "   'P': '1008',\n",
       "   'RH': '85',\n",
       "   'SNC': '',\n",
       "   'SND': '',\n",
       "   'SED': '',\n",
       "   'RTE': '',\n",
       "   'TD': '1.0',\n",
       "   'R': '0.0',\n",
       "   'id': '1',\n",
       "   'valid': '1'}]}"
      ]
     },
     "execution_count": 135,
     "metadata": {},
     "output_type": "execute_result"
    }
   ],
   "source": [
    "resp.json()"
   ]
  },
  {
   "cell_type": "markdown",
   "id": "ae66a1da",
   "metadata": {
    "id": "G-Rb6dxXjJun"
   },
   "source": [
    "A description on what the codings stand for is available in the API documentation:  \n",
    "http://docs.apis.is/#endpoint-weather"
   ]
  },
  {
   "cell_type": "markdown",
   "id": "c09dee3a",
   "metadata": {
    "deletable": false,
    "editable": false,
    "id": "pKjVfvsJjWNN"
   },
   "source": [
    "## Exercise 2 \n",
    "\n",
    "Look at forecasts for the Reykjavík weather station (station : 1). Load this data into a DataFrame. Report the mean temperature and mean wind speed for the next 24 forecasts. "
   ]
  },
  {
   "cell_type": "code",
   "execution_count": 136,
   "id": "de27e8a6",
   "metadata": {
    "id": "4O8raKBDjH8G",
    "tags": []
   },
   "outputs": [
    {
     "name": "stdout",
     "output_type": "stream",
     "text": [
      "Mean Temperature (deg C):  7.458333333333333\n",
      "Mean Wind Speed (m/s)   :  8.291666666666666\n"
     ]
    }
   ],
   "source": [
    "# Use the Iceland API to collect weather forecasts for the Reykjavik station. \n",
    "# Store the next 24 weather forecasts in a DataFrame, wf \n",
    "# The column names should be the English descriptors for the variables collected\n",
    "#   replaces spaces with _ and remove the parenthesis and anything after it in \n",
    "#   the description. \n",
    "#   For example: \"Date\", \"Wind_speed\", etc.\n",
    "# Report the mean temperature and mean wind speed for the next 24 forecasts. \n",
    "\n",
    "params = {'stations' : '1'}\n",
    "resp = requests.get('https://apis.is/weather/forecasts/en', params)\n",
    "dat =  resp.json()\n",
    "\n",
    "# Using the information above given \n",
    "# The JSON was already stored in \"resp\" and we only want the list of results \n",
    "#  under the key \"results\".  Therefore, we can take this information and \n",
    "#  re-serialize the information and let pandas read_json parse in the data \n",
    "    \n",
    "wf = pd.read_json((json.dumps(resp.json()['results'][0]['forecast'])))\n",
    "\n",
    "wf.columns = ['Date', 'Wind_speed', 'Wind_direction', 'Air_temperature', 'Weather_description', 'Cloud_cover', 'Dew_limit', 'Cumulative_precipitation']\n",
    "\n",
    "wf = wf.head(24)\n",
    "meanTemp = wf['Air_temperature'].astype(float).mean()\n",
    "meanWS = wf['Wind_speed'].astype(float).mean() \n",
    "\n",
    "print(\"Mean Temperature (deg C): \", meanTemp)\n",
    "print(\"Mean Wind Speed (m/s)   : \", meanWS)"
   ]
  },
  {
   "cell_type": "code",
   "execution_count": 137,
   "id": "f1b4c7bc-4fed-4d6a-861d-c6c24edcc014",
   "metadata": {},
   "outputs": [
    {
     "data": {
      "text/html": [
       "<div>\n",
       "<style scoped>\n",
       "    .dataframe tbody tr th:only-of-type {\n",
       "        vertical-align: middle;\n",
       "    }\n",
       "\n",
       "    .dataframe tbody tr th {\n",
       "        vertical-align: top;\n",
       "    }\n",
       "\n",
       "    .dataframe thead th {\n",
       "        text-align: right;\n",
       "    }\n",
       "</style>\n",
       "<table border=\"1\" class=\"dataframe\">\n",
       "  <thead>\n",
       "    <tr style=\"text-align: right;\">\n",
       "      <th></th>\n",
       "      <th>Date</th>\n",
       "      <th>Wind_speed</th>\n",
       "      <th>Wind_direction</th>\n",
       "      <th>Air_temperature</th>\n",
       "      <th>Weather_description</th>\n",
       "      <th>Cloud_cover</th>\n",
       "      <th>Dew_limit</th>\n",
       "      <th>Cumulative_precipitation</th>\n",
       "    </tr>\n",
       "  </thead>\n",
       "  <tbody>\n",
       "    <tr>\n",
       "      <th>0</th>\n",
       "      <td>2023-10-17 00:00:00</td>\n",
       "      <td>4</td>\n",
       "      <td>ESE</td>\n",
       "      <td>4</td>\n",
       "      <td>Overcast</td>\n",
       "      <td>100</td>\n",
       "      <td>1</td>\n",
       "      <td>0.0</td>\n",
       "    </tr>\n",
       "    <tr>\n",
       "      <th>1</th>\n",
       "      <td>2023-10-17 01:00:00</td>\n",
       "      <td>4</td>\n",
       "      <td>ESE</td>\n",
       "      <td>4</td>\n",
       "      <td>Overcast</td>\n",
       "      <td>100</td>\n",
       "      <td>1</td>\n",
       "      <td>0.0</td>\n",
       "    </tr>\n",
       "    <tr>\n",
       "      <th>2</th>\n",
       "      <td>2023-10-17 02:00:00</td>\n",
       "      <td>5</td>\n",
       "      <td>ESE</td>\n",
       "      <td>4</td>\n",
       "      <td>Overcast</td>\n",
       "      <td>100</td>\n",
       "      <td>1</td>\n",
       "      <td>0.0</td>\n",
       "    </tr>\n",
       "    <tr>\n",
       "      <th>3</th>\n",
       "      <td>2023-10-17 03:00:00</td>\n",
       "      <td>5</td>\n",
       "      <td>ESE</td>\n",
       "      <td>4</td>\n",
       "      <td>Light rain</td>\n",
       "      <td>100</td>\n",
       "      <td>1</td>\n",
       "      <td>0.1</td>\n",
       "    </tr>\n",
       "    <tr>\n",
       "      <th>4</th>\n",
       "      <td>2023-10-17 04:00:00</td>\n",
       "      <td>5</td>\n",
       "      <td>ESE</td>\n",
       "      <td>4</td>\n",
       "      <td>Rain</td>\n",
       "      <td>100</td>\n",
       "      <td>2</td>\n",
       "      <td>0.5</td>\n",
       "    </tr>\n",
       "  </tbody>\n",
       "</table>\n",
       "</div>"
      ],
      "text/plain": [
       "                  Date  Wind_speed Wind_direction  Air_temperature  \\\n",
       "0  2023-10-17 00:00:00           4            ESE                4   \n",
       "1  2023-10-17 01:00:00           4            ESE                4   \n",
       "2  2023-10-17 02:00:00           5            ESE                4   \n",
       "3  2023-10-17 03:00:00           5            ESE                4   \n",
       "4  2023-10-17 04:00:00           5            ESE                4   \n",
       "\n",
       "  Weather_description  Cloud_cover  Dew_limit  Cumulative_precipitation  \n",
       "0            Overcast          100          1                       0.0  \n",
       "1            Overcast          100          1                       0.0  \n",
       "2            Overcast          100          1                       0.0  \n",
       "3          Light rain          100          1                       0.1  \n",
       "4                Rain          100          2                       0.5  "
      ]
     },
     "execution_count": 137,
     "metadata": {},
     "output_type": "execute_result"
    }
   ],
   "source": [
    "wf.head()"
   ]
  },
  {
   "cell_type": "code",
   "execution_count": 138,
   "id": "61d58025",
   "metadata": {
    "deletable": false,
    "editable": false
   },
   "outputs": [
    {
     "data": {
      "text/html": [
       "<p><strong><pre style='display: inline;'>q2</pre></strong> passed! 💯</p>"
      ],
      "text/plain": [
       "q2 results: All test cases passed!"
      ]
     },
     "execution_count": 138,
     "metadata": {},
     "output_type": "execute_result"
    }
   ],
   "source": [
    "grader.check(\"q2\")"
   ]
  },
  {
   "cell_type": "markdown",
   "id": "f7aed1dc",
   "metadata": {
    "id": "13hGseJjlt31"
   },
   "source": [
    "## Example: iTunes Content \n",
    "\n",
    "Apple has a simple [API](https://affiliate.itunes.apple.com/resources/documentation/itunes-store-web-service-search-api/) for looking up iTunes content."
   ]
  },
  {
   "cell_type": "code",
   "execution_count": 139,
   "id": "967a9e68",
   "metadata": {
    "id": "VCjnZU3YkwS8",
    "tags": []
   },
   "outputs": [],
   "source": [
    "# api-endpoint\n",
    "url = 'https://itunes.apple.com/search'\n",
    "\n",
    "# For example let's search for lord of the rings ebooks \n",
    "params = {'term': 'lord+of+the+rings', 'entity': 'ebook', \n",
    "         'limit': 3}\n",
    "\n",
    "resp = requests.get(url, params)"
   ]
  },
  {
   "cell_type": "code",
   "execution_count": 140,
   "id": "12b81977",
   "metadata": {
    "id": "cIizjeeYl2rn",
    "tags": []
   },
   "outputs": [
    {
     "data": {
      "text/plain": [
       "<Response [200]>"
      ]
     },
     "execution_count": 140,
     "metadata": {},
     "output_type": "execute_result"
    }
   ],
   "source": [
    "resp"
   ]
  },
  {
   "cell_type": "code",
   "execution_count": 141,
   "id": "a56906bb",
   "metadata": {
    "id": "ylYcr0tAl3Rm",
    "tags": []
   },
   "outputs": [
    {
     "data": {
      "text/plain": [
       "{'resultCount': 1,\n",
       " 'results': [{'trackViewUrl': 'https://books.apple.com/us/book/lord-of-the-rings/id739542595?uo=4',\n",
       "   'trackCensoredName': 'Lord of the Rings',\n",
       "   'fileSizeBytes': 501517,\n",
       "   'formattedPrice': '$24.99',\n",
       "   'artworkUrl60': 'https://is1-ssl.mzstatic.com/image/thumb/Publication/v4/5a/21/24/5a2124b1-b759-fd4c-3d1e-aa4c0c1e6641/9780813138015.jpg/60x60bb.jpg',\n",
       "   'artworkUrl100': 'https://is1-ssl.mzstatic.com/image/thumb/Publication/v4/5a/21/24/5a2124b1-b759-fd4c-3d1e-aa4c0c1e6641/9780813138015.jpg/100x100bb.jpg',\n",
       "   'artistViewUrl': 'https://books.apple.com/us/artist/jane-chance/482333908?uo=4',\n",
       "   'artistIds': [482333908],\n",
       "   'artistId': 482333908,\n",
       "   'artistName': 'Jane Chance',\n",
       "   'genres': ['Literary Criticism', 'Books', 'Fiction & Literature'],\n",
       "   'price': 24.99,\n",
       "   'description': '\" With New Line Cinema\\'s production of The Lord of the Rings film trilogy, the popularity of the works of J.R.R. Tolkien is unparalleled. Tolkien\\'s books continue to be bestsellers decades after their original publication. An epic in league with those of Spenser and Malory, The Lord of the Rings trilogy, begun during Hitler\\'s rise to power, celebrates the insignificant individual as hero in the modern world. Jane Chance\\'s critical appraisal of Tolkien\\'s heroic masterwork is the first to explore its \"mythology of power\"–that is, how power, politics, and language interact. Chance looks beyond the fantastic, self-contained world of Middle-earth to the twentieth-century parallels presented in the trilogy.',\n",
       "   'releaseDate': '2001-10-26T07:00:00Z',\n",
       "   'trackId': 739542595,\n",
       "   'trackName': 'Lord of the Rings',\n",
       "   'genreIds': ['10084', '38', '9031'],\n",
       "   'currency': 'USD',\n",
       "   'kind': 'ebook'}]}"
      ]
     },
     "execution_count": 141,
     "metadata": {},
     "output_type": "execute_result"
    }
   ],
   "source": [
    "resp.json()"
   ]
  },
  {
   "cell_type": "markdown",
   "id": "6f11f552",
   "metadata": {
    "id": "aGpkG4ZQl9ve"
   },
   "source": [
    "## Exercise 3\n",
    "\n",
    "Search for the 50 \"The Expanse\" e-books (search may return fewer). Create a data frame from the responses containing the `trackName`, `track ID`, `price`, and `averageUserRating`. Sort the results from highest to lowest price.\n",
    "\n",
    "If any of the information you are meant to collect (`trackName`, `track ID`, `price`, and `averageUserRating`) is missing, replace with `NaN`"
   ]
  },
  {
   "cell_type": "code",
   "execution_count": 142,
   "id": "2af750e4",
   "metadata": {
    "id": "lLZ8urk1l37R",
    "tags": []
   },
   "outputs": [],
   "source": [
    "url = 'https://itunes.apple.com/search'\n",
    "\n",
    "# \"\"\" For example let's search for \"The Expanse\" ebooks \"\"\"\n",
    "\n",
    "params = {'term': 'expanse', 'entity': 'ebook' }\n",
    "resp = requests.get(url, params) \n",
    "\n",
    "#resp.json()"
   ]
  },
  {
   "cell_type": "code",
   "execution_count": 143,
   "id": "26ac66fa",
   "metadata": {
    "id": "_wqXvkoGmeMh",
    "tags": []
   },
   "outputs": [],
   "source": [
    "obj = json.loads(resp.text)\n",
    "# Alternatively \n",
    "obj2 = resp.json()"
   ]
  },
  {
   "cell_type": "markdown",
   "id": "f7b10841",
   "metadata": {
    "id": "G7Kzxb9EmKDz"
   },
   "source": [
    "Try using at least two approaches to create the DataFrame, e.g., \n",
    "\n",
    "* *Method 1* - Keep track of rows in a list, convert nested lists to DataFrame.  Note, do not create an empty DataFrame and append entries in an iterator (this is not scalable)  \n",
    "https://stackoverflow.com/questions/13784192/creating-an-empty-pandas-dataframe-and-then-filling-it/41529411#41529411\n",
    "* *Method 2* - Use pandas `read_json` function to convert JSON to pandas object\n",
    "* *Method 3* - Use `json_normalize` function to read in JSON to a flat table. \n",
    "The `json_normalize` function normalizes a semi-structured JSON data object into a flat table.   \n",
    "https://pandas.pydata.org/pandas-docs/stable/reference/api/pandas.json_normalize.html"
   ]
  },
  {
   "cell_type": "markdown",
   "id": "260813d7",
   "metadata": {
    "deletable": false,
    "editable": false
   },
   "source": [
    "<!-- BEGIN QUESTION -->\n",
    "\n"
   ]
  },
  {
   "cell_type": "code",
   "execution_count": 144,
   "id": "abc96046",
   "metadata": {
    "id": "GL3ucTntmkvG",
    "tags": []
   },
   "outputs": [
    {
     "name": "stdout",
     "output_type": "stream",
     "text": [
      "(50, 4)\n"
     ]
    },
    {
     "data": {
      "text/html": [
       "<div>\n",
       "<style scoped>\n",
       "    .dataframe tbody tr th:only-of-type {\n",
       "        vertical-align: middle;\n",
       "    }\n",
       "\n",
       "    .dataframe tbody tr th {\n",
       "        vertical-align: top;\n",
       "    }\n",
       "\n",
       "    .dataframe thead th {\n",
       "        text-align: right;\n",
       "    }\n",
       "</style>\n",
       "<table border=\"1\" class=\"dataframe\">\n",
       "  <thead>\n",
       "    <tr style=\"text-align: right;\">\n",
       "      <th></th>\n",
       "      <th>trackName</th>\n",
       "      <th>trackID</th>\n",
       "      <th>price</th>\n",
       "      <th>averageUserRating</th>\n",
       "    </tr>\n",
       "  </thead>\n",
       "  <tbody>\n",
       "    <tr>\n",
       "      <th>2</th>\n",
       "      <td>Caliban's War</td>\n",
       "      <td>469995594</td>\n",
       "      <td>11.99</td>\n",
       "      <td>4.5</td>\n",
       "    </tr>\n",
       "    <tr>\n",
       "      <th>3</th>\n",
       "      <td>Abaddon's Gate</td>\n",
       "      <td>576438197</td>\n",
       "      <td>11.99</td>\n",
       "      <td>4.5</td>\n",
       "    </tr>\n",
       "    <tr>\n",
       "      <th>4</th>\n",
       "      <td>Cibola Burn</td>\n",
       "      <td>721822343</td>\n",
       "      <td>11.99</td>\n",
       "      <td>4.5</td>\n",
       "    </tr>\n",
       "    <tr>\n",
       "      <th>5</th>\n",
       "      <td>Nemesis Games</td>\n",
       "      <td>926360337</td>\n",
       "      <td>11.99</td>\n",
       "      <td>4.5</td>\n",
       "    </tr>\n",
       "    <tr>\n",
       "      <th>6</th>\n",
       "      <td>Babylon's Ashes</td>\n",
       "      <td>1063592195</td>\n",
       "      <td>11.99</td>\n",
       "      <td>4.5</td>\n",
       "    </tr>\n",
       "  </tbody>\n",
       "</table>\n",
       "</div>"
      ],
      "text/plain": [
       "         trackName     trackID  price averageUserRating\n",
       "2    Caliban's War   469995594  11.99               4.5\n",
       "3   Abaddon's Gate   576438197  11.99               4.5\n",
       "4      Cibola Burn   721822343  11.99               4.5\n",
       "5    Nemesis Games   926360337  11.99               4.5\n",
       "6  Babylon's Ashes  1063592195  11.99               4.5"
      ]
     },
     "execution_count": 144,
     "metadata": {},
     "output_type": "execute_result"
    }
   ],
   "source": [
    "# State which method you are using: Method 1 \n",
    "#  Method 1\n",
    "\n",
    "# Creating a function to get the information if not found filling with NaN value\n",
    "def extracting_info(result):\n",
    "    track_name = result.get('trackName', 'NaN')\n",
    "    track_id = result.get('trackId', 'NaN')\n",
    "    price = result.get('price', 'NaN')\n",
    "    avg_user_rating = result.get('averageUserRating', 'NaN')\n",
    "    return [track_name, track_id, price, avg_user_rating]\n",
    "\n",
    "# Getting the results \n",
    "results = obj2.get('results', [])\n",
    "\n",
    "# Creating a list from the results\n",
    "dat = [extracting_info(result) for result in results]\n",
    "\n",
    "#using the list to create a dataframe \n",
    "q3df1 = pd.DataFrame(dat, columns=['trackName', 'trackID', 'price', 'averageUserRating'])\n",
    "\n",
    "# Converting the price column into numeric values any non numneric values will be handled by errors\n",
    "#https://pandas.pydata.org/docs/reference/api/pandas.to_numeric.html\n",
    "q3df1['price'] = pd.to_numeric(q3df1['price'], errors='coerce')\n",
    "\n",
    "# Sorting the dataframe by price column in descending order highest to lowest \n",
    "q3df1 = q3df1.sort_values(by='price', ascending=False)\n",
    "\n",
    "print(q3df1.shape)\n",
    "q3df1.head()"
   ]
  },
  {
   "cell_type": "markdown",
   "id": "aa1a0229",
   "metadata": {
    "deletable": false,
    "editable": false
   },
   "source": [
    "<!-- END QUESTION -->\n",
    "\n",
    "<!-- BEGIN QUESTION -->\n",
    "\n"
   ]
  },
  {
   "cell_type": "code",
   "execution_count": 145,
   "id": "13effe10",
   "metadata": {
    "id": "iUuWC_MgmvEQ",
    "tags": []
   },
   "outputs": [
    {
     "name": "stdout",
     "output_type": "stream",
     "text": [
      "(50, 4)\n"
     ]
    },
    {
     "data": {
      "text/html": [
       "<div>\n",
       "<style scoped>\n",
       "    .dataframe tbody tr th:only-of-type {\n",
       "        vertical-align: middle;\n",
       "    }\n",
       "\n",
       "    .dataframe tbody tr th {\n",
       "        vertical-align: top;\n",
       "    }\n",
       "\n",
       "    .dataframe thead th {\n",
       "        text-align: right;\n",
       "    }\n",
       "</style>\n",
       "<table border=\"1\" class=\"dataframe\">\n",
       "  <thead>\n",
       "    <tr style=\"text-align: right;\">\n",
       "      <th></th>\n",
       "      <th>trackName</th>\n",
       "      <th>trackId</th>\n",
       "      <th>price</th>\n",
       "      <th>averageUserRating</th>\n",
       "    </tr>\n",
       "  </thead>\n",
       "  <tbody>\n",
       "    <tr>\n",
       "      <th>2</th>\n",
       "      <td>Caliban's War</td>\n",
       "      <td>469995594</td>\n",
       "      <td>11.99</td>\n",
       "      <td>4.5</td>\n",
       "    </tr>\n",
       "    <tr>\n",
       "      <th>3</th>\n",
       "      <td>Abaddon's Gate</td>\n",
       "      <td>576438197</td>\n",
       "      <td>11.99</td>\n",
       "      <td>4.5</td>\n",
       "    </tr>\n",
       "    <tr>\n",
       "      <th>4</th>\n",
       "      <td>Cibola Burn</td>\n",
       "      <td>721822343</td>\n",
       "      <td>11.99</td>\n",
       "      <td>4.5</td>\n",
       "    </tr>\n",
       "    <tr>\n",
       "      <th>5</th>\n",
       "      <td>Nemesis Games</td>\n",
       "      <td>926360337</td>\n",
       "      <td>11.99</td>\n",
       "      <td>4.5</td>\n",
       "    </tr>\n",
       "    <tr>\n",
       "      <th>6</th>\n",
       "      <td>Babylon's Ashes</td>\n",
       "      <td>1063592195</td>\n",
       "      <td>11.99</td>\n",
       "      <td>4.5</td>\n",
       "    </tr>\n",
       "  </tbody>\n",
       "</table>\n",
       "</div>"
      ],
      "text/plain": [
       "         trackName     trackId  price  averageUserRating\n",
       "2    Caliban's War   469995594  11.99                4.5\n",
       "3   Abaddon's Gate   576438197  11.99                4.5\n",
       "4      Cibola Burn   721822343  11.99                4.5\n",
       "5    Nemesis Games   926360337  11.99                4.5\n",
       "6  Babylon's Ashes  1063592195  11.99                4.5"
      ]
     },
     "execution_count": 145,
     "metadata": {},
     "output_type": "execute_result"
    }
   ],
   "source": [
    "# State which method you are using: Method 2  \n",
    "#  Method 2 \n",
    "\n",
    "# Using read_json to create dataframe \n",
    "q3df2 = pd.read_json(json.dumps(obj2['results']))\n",
    "\n",
    "# Sorting the dataframe by price column in descending order highest to lowest \n",
    "q3df2 = q3df2.sort_values(by='price', ascending=False)\n",
    "\n",
    "# Converting the price column into numeric values any non numneric values will be handled by errors\n",
    "#https://pandas.pydata.org/docs/reference/api/pandas.to_numeric.html\n",
    "q3df2['price'] = pd.to_numeric(q3df2['price'], errors='coerce')\n",
    "\n",
    "#creating dataframe with required columns \n",
    "q3df2 = q3df2[['trackName', 'trackId', 'price', 'averageUserRating']]\n",
    "\n",
    "print(q3df2.shape)\n",
    "q3df2.head()"
   ]
  },
  {
   "cell_type": "code",
   "execution_count": 146,
   "id": "57501f57-4f9f-4599-9f27-e1a2f52a3bce",
   "metadata": {
    "tags": []
   },
   "outputs": [
    {
     "data": {
      "text/html": [
       "<div>\n",
       "<style scoped>\n",
       "    .dataframe tbody tr th:only-of-type {\n",
       "        vertical-align: middle;\n",
       "    }\n",
       "\n",
       "    .dataframe tbody tr th {\n",
       "        vertical-align: top;\n",
       "    }\n",
       "\n",
       "    .dataframe thead th {\n",
       "        text-align: right;\n",
       "    }\n",
       "</style>\n",
       "<table border=\"1\" class=\"dataframe\">\n",
       "  <thead>\n",
       "    <tr style=\"text-align: right;\">\n",
       "      <th></th>\n",
       "      <th>trackName</th>\n",
       "      <th>trackId</th>\n",
       "      <th>price</th>\n",
       "      <th>averageUserRating</th>\n",
       "    </tr>\n",
       "  </thead>\n",
       "  <tbody>\n",
       "    <tr>\n",
       "      <th>2</th>\n",
       "      <td>Caliban's War</td>\n",
       "      <td>469995594</td>\n",
       "      <td>11.99</td>\n",
       "      <td>4.5</td>\n",
       "    </tr>\n",
       "    <tr>\n",
       "      <th>3</th>\n",
       "      <td>Abaddon's Gate</td>\n",
       "      <td>576438197</td>\n",
       "      <td>11.99</td>\n",
       "      <td>4.5</td>\n",
       "    </tr>\n",
       "    <tr>\n",
       "      <th>4</th>\n",
       "      <td>Cibola Burn</td>\n",
       "      <td>721822343</td>\n",
       "      <td>11.99</td>\n",
       "      <td>4.5</td>\n",
       "    </tr>\n",
       "    <tr>\n",
       "      <th>5</th>\n",
       "      <td>Nemesis Games</td>\n",
       "      <td>926360337</td>\n",
       "      <td>11.99</td>\n",
       "      <td>4.5</td>\n",
       "    </tr>\n",
       "    <tr>\n",
       "      <th>6</th>\n",
       "      <td>Babylon's Ashes</td>\n",
       "      <td>1063592195</td>\n",
       "      <td>11.99</td>\n",
       "      <td>4.5</td>\n",
       "    </tr>\n",
       "  </tbody>\n",
       "</table>\n",
       "</div>"
      ],
      "text/plain": [
       "         trackName     trackId  price  averageUserRating\n",
       "2    Caliban's War   469995594  11.99                4.5\n",
       "3   Abaddon's Gate   576438197  11.99                4.5\n",
       "4      Cibola Burn   721822343  11.99                4.5\n",
       "5    Nemesis Games   926360337  11.99                4.5\n",
       "6  Babylon's Ashes  1063592195  11.99                4.5"
      ]
     },
     "execution_count": 146,
     "metadata": {},
     "output_type": "execute_result"
    }
   ],
   "source": [
    "# State which method you are using: Method 3  \n",
    "#  Method 3 \n",
    "\n",
    "# Using read_json to create dataframe \n",
    "q4df4 = pd.json_normalize(obj2['results'])\n",
    "\n",
    "# Converting the price column into numeric values any non numneric values will be handled by errors\n",
    "q4df4['price'] = pd.to_numeric(q4df4['price'], errors='coerce')\n",
    "\n",
    "# Sort the DataFrame by price in descending order\n",
    "q4df4 = q4df4.sort_values(by='price', ascending=False)\n",
    "#creating dataframe with required columns \n",
    "q4df4 = q4df4[['trackName', 'trackId', 'price', 'averageUserRating']]\n",
    "\n",
    "q4df4.head()"
   ]
  },
  {
   "cell_type": "markdown",
   "id": "f44d85b4",
   "metadata": {
    "deletable": false,
    "editable": false,
    "id": "3izn33qpnl_J"
   },
   "source": [
    "<!-- END QUESTION -->\n",
    "\n",
    "## Example: TV Shows \n",
    "\n",
    "Here we can use an API on tv show information:  \n",
    "http://api.tvmaze.com/"
   ]
  },
  {
   "cell_type": "code",
   "execution_count": 147,
   "id": "3bf7df4d",
   "metadata": {
    "id": "Sd9Xi3CxnazF",
    "tags": []
   },
   "outputs": [],
   "source": [
    "# We can find the tvmaze id for a show based on the IMDB id. \n",
    "id_got = 'tt3032476'\n",
    "resp = requests.get('http://api.tvmaze.com/lookup/shows?imdb=tt3032476')"
   ]
  },
  {
   "cell_type": "code",
   "execution_count": 148,
   "id": "f62f73b0",
   "metadata": {
    "id": "_yvdU_HZn8vL",
    "tags": []
   },
   "outputs": [
    {
     "data": {
      "text/plain": [
       "{'id': 618,\n",
       " 'url': 'https://www.tvmaze.com/shows/618/better-call-saul',\n",
       " 'name': 'Better Call Saul',\n",
       " 'type': 'Scripted',\n",
       " 'language': 'English',\n",
       " 'genres': ['Drama', 'Crime', 'Legal'],\n",
       " 'status': 'Ended',\n",
       " 'runtime': 60,\n",
       " 'averageRuntime': 64,\n",
       " 'premiered': '2015-02-08',\n",
       " 'ended': '2022-08-15',\n",
       " 'officialSite': 'https://www.amc.com/shows/better-call-saul--1002228',\n",
       " 'schedule': {'time': '21:00', 'days': ['Monday']},\n",
       " 'rating': {'average': 8.6},\n",
       " 'weight': 97,\n",
       " 'network': {'id': 20,\n",
       "  'name': 'AMC',\n",
       "  'country': {'name': 'United States',\n",
       "   'code': 'US',\n",
       "   'timezone': 'America/New_York'},\n",
       "  'officialSite': None},\n",
       " 'webChannel': None,\n",
       " 'dvdCountry': None,\n",
       " 'externals': {'tvrage': 37780, 'thetvdb': 273181, 'imdb': 'tt3032476'},\n",
       " 'image': {'medium': 'https://static.tvmaze.com/uploads/images/medium_portrait/399/998743.jpg',\n",
       "  'original': 'https://static.tvmaze.com/uploads/images/original_untouched/399/998743.jpg'},\n",
       " 'summary': '<p><b>Better Call Saul</b> is the prequel to the award-winning series Breaking Bad, set six years before Saul Goodman became Walter White\\'s lawyer. When we meet him, the man who will become Saul Goodman is known as Jimmy McGill, a small-time lawyer searching for his destiny, and, more immediately, hustling to make ends meet. Working alongside, and often against, Jimmy is \"fixer\" Mike Ehrmantraut, a beloved character introduced in Breaking Bad. The series will track Jimmy\\'s transformation into Saul Goodman, the man who puts \"criminal\" in \"criminal lawyer.</p>',\n",
       " 'updated': 1683972289,\n",
       " '_links': {'self': {'href': 'https://api.tvmaze.com/shows/618'},\n",
       "  'previousepisode': {'href': 'https://api.tvmaze.com/episodes/2355731'}}}"
      ]
     },
     "execution_count": 148,
     "metadata": {},
     "output_type": "execute_result"
    }
   ],
   "source": [
    "resp.json()"
   ]
  },
  {
   "cell_type": "markdown",
   "id": "4ca667ea",
   "metadata": {
    "id": "mwz6o8XxoBH_"
   },
   "source": [
    "We now know the TVmaze ID for Better Call Saul is **618**. "
   ]
  },
  {
   "cell_type": "markdown",
   "id": "997101da",
   "metadata": {
    "deletable": false,
    "editable": false,
    "id": "R3FZH1_XoJqg"
   },
   "source": [
    "## Exercise 4 \n",
    "\n",
    "Calculate and report the min, mean, and max running time for Better Call Saul episodes by season in a DataFrame. \n",
    "Rows are indexed by season number (e.g., 1, 2, 3, ...) and Columns are \"Min\", \"Mean\", and \"Max\". \n",
    "\n",
    "Suggestion: \n",
    "\n",
    "* Create DataFrame of episodes information \n",
    "* Consider using the endpoint - http://www.tvmaze.com/api#show-episode-list\n",
    "* Then use .groupby function to group by season\n",
    "* Construct final DataFrame \"bcs\" to contain the requested information"
   ]
  },
  {
   "cell_type": "code",
   "execution_count": 149,
   "id": "636e871e",
   "metadata": {
    "id": "A0h5N-R0n-NT",
    "tags": []
   },
   "outputs": [
    {
     "data": {
      "text/html": [
       "<div>\n",
       "<style scoped>\n",
       "    .dataframe tbody tr th:only-of-type {\n",
       "        vertical-align: middle;\n",
       "    }\n",
       "\n",
       "    .dataframe tbody tr th {\n",
       "        vertical-align: top;\n",
       "    }\n",
       "\n",
       "    .dataframe thead th {\n",
       "        text-align: right;\n",
       "    }\n",
       "</style>\n",
       "<table border=\"1\" class=\"dataframe\">\n",
       "  <thead>\n",
       "    <tr style=\"text-align: right;\">\n",
       "      <th></th>\n",
       "      <th>Min</th>\n",
       "      <th>Mean</th>\n",
       "      <th>Max</th>\n",
       "    </tr>\n",
       "    <tr>\n",
       "      <th>season</th>\n",
       "      <th></th>\n",
       "      <th></th>\n",
       "      <th></th>\n",
       "    </tr>\n",
       "  </thead>\n",
       "  <tbody>\n",
       "    <tr>\n",
       "      <th>1</th>\n",
       "      <td>60</td>\n",
       "      <td>60.000000</td>\n",
       "      <td>60</td>\n",
       "    </tr>\n",
       "    <tr>\n",
       "      <th>2</th>\n",
       "      <td>60</td>\n",
       "      <td>60.000000</td>\n",
       "      <td>60</td>\n",
       "    </tr>\n",
       "    <tr>\n",
       "      <th>3</th>\n",
       "      <td>70</td>\n",
       "      <td>71.300000</td>\n",
       "      <td>77</td>\n",
       "    </tr>\n",
       "    <tr>\n",
       "      <th>4</th>\n",
       "      <td>60</td>\n",
       "      <td>60.000000</td>\n",
       "      <td>60</td>\n",
       "    </tr>\n",
       "    <tr>\n",
       "      <th>5</th>\n",
       "      <td>60</td>\n",
       "      <td>72.300000</td>\n",
       "      <td>85</td>\n",
       "    </tr>\n",
       "    <tr>\n",
       "      <th>6</th>\n",
       "      <td>60</td>\n",
       "      <td>60.923077</td>\n",
       "      <td>72</td>\n",
       "    </tr>\n",
       "  </tbody>\n",
       "</table>\n",
       "</div>"
      ],
      "text/plain": [
       "        Min       Mean  Max\n",
       "season                     \n",
       "1        60  60.000000   60\n",
       "2        60  60.000000   60\n",
       "3        70  71.300000   77\n",
       "4        60  60.000000   60\n",
       "5        60  72.300000   85\n",
       "6        60  60.923077   72"
      ]
     },
     "execution_count": 149,
     "metadata": {},
     "output_type": "execute_result"
    }
   ],
   "source": [
    "# Create a DataFrame \"bcs\" with row index of season number and \n",
    "#  columns of \"Min\", \"Mean\" and \"Max\" running time of the episodes for that season.\n",
    "\n",
    "# Getting the show info \n",
    "show_info = resp.json()\n",
    "# Getting the show ID for Better Call Saul\n",
    "show_id = show_info['id']\n",
    "# Using the show ID to get the episodes \n",
    "resp = requests.get(f'http://api.tvmaze.com/shows/{show_id}/episodes')\n",
    "# storing the info of episodes \n",
    "episodes_info = resp.json()\n",
    "# Creating the dataframe for episodes\n",
    "bcs = pd.DataFrame(episodes_info)\n",
    "# Grouping the episodes by season \n",
    "bcs = bcs.groupby('season')\n",
    "# calculating min, mean, and max running time using aggregated function  \n",
    "bcs = bcs['runtime'].agg(['min', 'mean', 'max'])\n",
    "# Renaming the columns\n",
    "bcs.columns = ['Min', 'Mean', 'Max']\n",
    "# Display the DataFrame\n",
    "bcs"
   ]
  },
  {
   "cell_type": "code",
   "execution_count": 99,
   "id": "9aadec0f",
   "metadata": {
    "deletable": false,
    "editable": false
   },
   "outputs": [
    {
     "data": {
      "text/html": [
       "<p><strong><pre style='display: inline;'>q4</pre></strong> passed! 🌟</p>"
      ],
      "text/plain": [
       "q4 results: All test cases passed!"
      ]
     },
     "execution_count": 99,
     "metadata": {},
     "output_type": "execute_result"
    }
   ],
   "source": [
    "grader.check(\"q4\")"
   ]
  },
  {
   "cell_type": "markdown",
   "id": "4f87649e",
   "metadata": {
    "deletable": false,
    "editable": false
   },
   "source": [
    "## Submission\n",
    "\n",
    "Make sure you have run all cells in your notebook in order before running the cell below, so that all images/graphs appear in the output. The cell below will generate a zip file for you to submit. **Please save before exporting!**"
   ]
  },
  {
   "cell_type": "code",
   "execution_count": 150,
   "id": "c871abf4",
   "metadata": {
    "deletable": false,
    "editable": false
   },
   "outputs": [
    {
     "name": "stdout",
     "output_type": "stream",
     "text": [
      "Running your submission against local test cases...\n",
      "\n",
      "\n",
      "\n",
      "Your submission received the following results when run against available test cases:\n",
      "\n",
      "    q1 results: All test cases passed!\n",
      "\n",
      "    q2 results: All test cases passed!\n",
      "\n",
      "    q4 results: All test cases passed!\n"
     ]
    },
    {
     "data": {
      "text/html": [
       "\n",
       "                    <p>\n",
       "                        Your submission has been exported. Click\n",
       "                        <a href=\"lab6_2023_10_16T18_16_26_259742.zip\" download=\"lab6_2023_10_16T18_16_26_259742.zip\" target=\"_blank\">here</a> to download\n",
       "                        the zip file.\n",
       "                    </p>\n",
       "                "
      ],
      "text/plain": [
       "<IPython.core.display.HTML object>"
      ]
     },
     "metadata": {},
     "output_type": "display_data"
    }
   ],
   "source": [
    "# Save your notebook first, then run this cell to export your submission.\n",
    "grader.export(pdf=False, run_tests=True)"
   ]
  },
  {
   "cell_type": "markdown",
   "id": "c40c1d0d",
   "metadata": {},
   "source": [
    " "
   ]
  }
 ],
 "metadata": {
  "kernelspec": {
   "display_name": "Python [conda env:.conda-un5550] *",
   "language": "python",
   "name": "conda-env-.conda-un5550-py"
  },
  "language_info": {
   "codemirror_mode": {
    "name": "ipython",
    "version": 3
   },
   "file_extension": ".py",
   "mimetype": "text/x-python",
   "name": "python",
   "nbconvert_exporter": "python",
   "pygments_lexer": "ipython3",
   "version": "3.10.12"
  },
  "otter": {
   "OK_FORMAT": true,
   "assignment_name": "lab6",
   "tests": {
    "q1": {
     "name": "q1",
     "points": 10,
     "suites": [
      {
       "cases": [
        {
         "code": ">>> ex1df.shape[0] == 5 and ex1df.shape[1] == 2\nTrue",
         "hidden": false,
         "locked": false
        },
        {
         "code": ">>> all(ex1df.columns == ['Title', 'NumPages'])\nTrue",
         "hidden": false,
         "locked": false
        }
       ],
       "scored": true,
       "setup": "",
       "teardown": "",
       "type": "doctest"
      }
     ]
    },
    "q2": {
     "name": "q2",
     "points": 10,
     "suites": [
      {
       "cases": [
        {
         "code": ">>> wf.shape == (24,8)\nTrue",
         "hidden": false,
         "locked": false
        },
        {
         "code": ">>> all(wf.columns == ['Date', 'Wind_speed', 'Wind_direction', 'Air_temperature', \n...                'Weather_description', 'Cloud_cover', 'Dew_limit', \n...                'Cumulative_precipitation'])\nTrue",
         "hidden": false,
         "locked": false
        }
       ],
       "scored": true,
       "setup": "",
       "teardown": "",
       "type": "doctest"
      }
     ]
    },
    "q4": {
     "name": "q4",
     "points": 10,
     "suites": [
      {
       "cases": [
        {
         "code": ">>> bcs.shape[0] == 6 and bcs.shape[1] == 3\nTrue",
         "hidden": false,
         "locked": false
        }
       ],
       "scored": true,
       "setup": "",
       "teardown": "",
       "type": "doctest"
      }
     ]
    }
   }
  }
 },
 "nbformat": 4,
 "nbformat_minor": 5
}
