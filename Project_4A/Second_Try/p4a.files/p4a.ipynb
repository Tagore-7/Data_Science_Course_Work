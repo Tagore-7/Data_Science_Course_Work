{
 "cells": [
  {
   "cell_type": "markdown",
   "id": "a744f604",
   "metadata": {},
   "source": [
    "# P4A - SQL\n",
    "\n",
    "This project give you experience with SQL and Learning topics. "
   ]
  },
  {
   "cell_type": "code",
   "execution_count": 1,
   "id": "c6cee1f3",
   "metadata": {},
   "outputs": [],
   "source": [
    "import pandas as pd \n",
    "import numpy as np\n",
    "import matplotlib as mpl\n",
    "import matplotlib.pyplot as plt\n",
    "%matplotlib inline\n",
    "\n",
    "import sqlite3\n",
    "import getpass\n",
    "\n",
    "\n",
    "import otter\n",
    "grader = otter.Notebook()\n",
    "\n",
    "import re\n",
    "import os\n",
    "if re.search(r'amzn', os.uname().release):\n",
    "    GS = True\n",
    "else:\n",
    "    GS = False"
   ]
  },
  {
   "cell_type": "markdown",
   "id": "74ede4cb",
   "metadata": {},
   "source": [
    "# SQL \n",
    "\n",
    "For this portion of the project you will look at querying a database: `imdbmini.db`.  This database is similar to what was used in the lab on this topic, but it has some noticeable differences. \n",
    "\n",
    "This is a \"minified\" version of the [Internet Movie Database](https://www.imdb.com/interfaces/) (IMDb). This SQLite database (~10MB) is a tiny sample of the much larger database (more than a few GBs). As a result, disclaimer that we may get wildly different results than if we use the whole database!\n",
    "\n",
    "The database is available to download on Canvas. \n",
    "\n",
    "Below, you will connect to this database. \n",
    "\n"
   ]
  },
  {
   "cell_type": "code",
   "execution_count": 2,
   "id": "cce4c9fd",
   "metadata": {
    "tags": []
   },
   "outputs": [],
   "source": [
    "conn = sqlite3.connect(\"imdbmini.db\")"
   ]
  },
  {
   "cell_type": "markdown",
   "id": "accd04f1",
   "metadata": {},
   "source": [
    "We will again make use of the functions `print_sql` or `pretty_print_sql` to look at the results of the SQL queries. "
   ]
  },
  {
   "cell_type": "code",
   "execution_count": 3,
   "id": "792f0b3f",
   "metadata": {
    "tags": []
   },
   "outputs": [],
   "source": [
    "def print_sql(c, s):\n",
    "    print('>', s)\n",
    "    for result in c.execute(s):\n",
    "        print(result)\n",
    "    print()"
   ]
  },
  {
   "cell_type": "code",
   "execution_count": 4,
   "id": "b55981ed",
   "metadata": {
    "tags": []
   },
   "outputs": [],
   "source": [
    "def pretty_print_sql(c, s):\n",
    "    print('>', s)\n",
    "    df = pd.read_sql(s, c)\n",
    "    display(df)\n",
    "    return df"
   ]
  },
  {
   "cell_type": "markdown",
   "id": "2ae09b16",
   "metadata": {},
   "source": [
    "We can look at the tables in the database. "
   ]
  },
  {
   "cell_type": "code",
   "execution_count": 5,
   "id": "6adc79bb",
   "metadata": {
    "tags": []
   },
   "outputs": [
    {
     "name": "stdout",
     "output_type": "stream",
     "text": [
      "> SELECT sql FROM sqlite_master WHERE type='table';\n",
      "('CREATE TABLE \"Title\" (\\n\"tconst\" INTEGER,\\n  \"titleType\" TEXT,\\n  \"primaryTitle\" TEXT,\\n  \"originalTitle\" TEXT,\\n  \"isAdult\" TEXT,\\n  \"startYear\" TEXT,\\n  \"endYear\" TEXT,\\n  \"runtimeMinutes\" TEXT,\\n  \"genres\" TEXT\\n)',)\n",
      "('CREATE TABLE \"Name\" (\\n\"nconst\" INTEGER,\\n  \"primaryName\" TEXT,\\n  \"birthYear\" TEXT,\\n  \"deathYear\" TEXT,\\n  \"primaryProfession\" TEXT\\n)',)\n",
      "('CREATE TABLE \"Role\" (\\ntconst INTEGER,\\nordering TEXT,\\nnconst INTEGER,\\ncategory TEXT,\\njob TEXT,\\ncharacters TEXT\\n)',)\n",
      "('CREATE TABLE \"Rating\" (\\ntconst INTEGER,\\naverageRating TEXT,\\nnumVotes TEXT\\n)',)\n",
      "\n"
     ]
    }
   ],
   "source": [
    "dbinfo = print_sql(conn, \"SELECT sql FROM sqlite_master WHERE type='table';\")"
   ]
  },
  {
   "cell_type": "markdown",
   "id": "329e387a",
   "metadata": {},
   "source": [
    "From running the above cell, we see the database has 4 tables: `Name`, `Role`, `Rating`, and `Title`.\n",
    "\n",
    "See descriptions of each table's schema.</summary>\n",
    "    \n",
    "**`Name`** – Contains the following information for names of people.\n",
    "    \n",
    "- nconst (text) - alphanumeric unique identifier of the name/person\n",
    "- primaryName (text)– name by which the person is most often credited\n",
    "- birthYear (integer) – in YYYY format\n",
    "- deathYear (integer) – in YYYY format\n",
    "    \n",
    "    \n",
    "**`Role`** – Contains the principal cast/crew for titles.\n",
    "    \n",
    "- tconst (text) - alphanumeric unique identifier of the title\n",
    "- ordering (integer) – a number to uniquely identify rows for a given tconst\n",
    "- nconst (text) - alphanumeric unique identifier of the name/person\n",
    "- category (text) - the category of job that person was in\n",
    "- characters (text) - the name of the character played if applicable, else '\\\\N'\n",
    "    \n",
    "**`Rating`** – Contains the IMDb rating and votes information for titles.\n",
    "    \n",
    "- tconst (integer) - alphanumeric unique identifier of the title\n",
    "- averageRating (text) – weighted average of all the individual user ratings\n",
    "- numVotes (text) - number of votes (i.e., ratings) the title has received\n",
    "    \n",
    "**`Title`** - Contains the following information for titles.\n",
    "    \n",
    "- tconst (text) - alphanumeric unique identifier of the title\n",
    "- titleType (text) -  the type/format of the title\n",
    "- primaryTitle (text) -  the more popular title / the title used by the producers on promotional materials at the point of release\n",
    "- isAdult (text) - 0: non-adult title; 1: adult title\n",
    "- startYear (text) – represents the release year of a title.\n",
    "- runtimeMinutes (integer)  – primary runtime of the title, in minutes\n",
    "    \n",
    "From the above descriptions, we can conclude the following:\n",
    "* `Name.nconst` and `Title.tconst` are primary keys of the `Name` and `Title` tables, respectively.\n",
    "* `Role.nconst` and `Role.tconst` are **foreign keys** that point to `Name.nconst` and `Title.tconst`, respectively."
   ]
  },
  {
   "cell_type": "markdown",
   "id": "c87fc43d",
   "metadata": {},
   "source": [
    "## Question 1\n",
    "\n",
    "What are the different kinds of `titleType`s included in the `Title` table? Write a query to find out all the unique `titleType`s of films using the `DISTINCT` keyword.  (**You may not use `GROUP BY`.**)"
   ]
  },
  {
   "cell_type": "code",
   "execution_count": 6,
   "id": "295acc6b",
   "metadata": {
    "tags": []
   },
   "outputs": [
    {
     "name": "stdout",
     "output_type": "stream",
     "text": [
      "> \n",
      "SELECT DISTINCT titleType FROM Title\n",
      "\n"
     ]
    },
    {
     "data": {
      "text/html": [
       "<div>\n",
       "<style scoped>\n",
       "    .dataframe tbody tr th:only-of-type {\n",
       "        vertical-align: middle;\n",
       "    }\n",
       "\n",
       "    .dataframe tbody tr th {\n",
       "        vertical-align: top;\n",
       "    }\n",
       "\n",
       "    .dataframe thead th {\n",
       "        text-align: right;\n",
       "    }\n",
       "</style>\n",
       "<table border=\"1\" class=\"dataframe\">\n",
       "  <thead>\n",
       "    <tr style=\"text-align: right;\">\n",
       "      <th></th>\n",
       "      <th>titleType</th>\n",
       "    </tr>\n",
       "  </thead>\n",
       "  <tbody>\n",
       "    <tr>\n",
       "      <th>0</th>\n",
       "      <td>short</td>\n",
       "    </tr>\n",
       "    <tr>\n",
       "      <th>1</th>\n",
       "      <td>movie</td>\n",
       "    </tr>\n",
       "    <tr>\n",
       "      <th>2</th>\n",
       "      <td>tvSeries</td>\n",
       "    </tr>\n",
       "    <tr>\n",
       "      <th>3</th>\n",
       "      <td>tvMovie</td>\n",
       "    </tr>\n",
       "    <tr>\n",
       "      <th>4</th>\n",
       "      <td>tvMiniSeries</td>\n",
       "    </tr>\n",
       "    <tr>\n",
       "      <th>5</th>\n",
       "      <td>video</td>\n",
       "    </tr>\n",
       "    <tr>\n",
       "      <th>6</th>\n",
       "      <td>videoGame</td>\n",
       "    </tr>\n",
       "    <tr>\n",
       "      <th>7</th>\n",
       "      <td>tvEpisode</td>\n",
       "    </tr>\n",
       "    <tr>\n",
       "      <th>8</th>\n",
       "      <td>tvSpecial</td>\n",
       "    </tr>\n",
       "  </tbody>\n",
       "</table>\n",
       "</div>"
      ],
      "text/plain": [
       "      titleType\n",
       "0         short\n",
       "1         movie\n",
       "2      tvSeries\n",
       "3       tvMovie\n",
       "4  tvMiniSeries\n",
       "5         video\n",
       "6     videoGame\n",
       "7     tvEpisode\n",
       "8     tvSpecial"
      ]
     },
     "metadata": {},
     "output_type": "display_data"
    }
   ],
   "source": [
    "q1query = \"\"\"\n",
    "SELECT DISTINCT titleType FROM Title\n",
    "\"\"\"\n",
    "q1df = pretty_print_sql(conn, q1query)\n"
   ]
  },
  {
   "cell_type": "code",
   "execution_count": 7,
   "id": "b3fcb80b",
   "metadata": {
    "deletable": false,
    "editable": false
   },
   "outputs": [
    {
     "data": {
      "text/html": [
       "<p><strong><pre style='display: inline;'>q1</pre></strong> passed! ✨</p>"
      ],
      "text/plain": [
       "q1 results: All test cases passed!"
      ]
     },
     "execution_count": 7,
     "metadata": {},
     "output_type": "execute_result"
    }
   ],
   "source": [
    "grader.check(\"q1\")"
   ]
  },
  {
   "cell_type": "markdown",
   "id": "a7f0a61f",
   "metadata": {},
   "source": [
    "## Question 2\n",
    "\n",
    "Before we proceed we want to get a better picture of the kinds of jobs that exist.  To do this examine the `Role` table by computing the number of records with each job `category`.  Present the results in descending order by the total counts.\n",
    "\n",
    "The top of your table should look like this (however, you should have more rows):\n",
    "\n",
    "| |category|total|\n",
    "|-----|-----|-----|\n",
    "|**0**|actor|21665|\n",
    "|**1**|writer|13830|\n",
    "|**2**|...|...|"
   ]
  },
  {
   "cell_type": "code",
   "execution_count": 8,
   "id": "af42f1c8",
   "metadata": {
    "tags": []
   },
   "outputs": [
    {
     "name": "stdout",
     "output_type": "stream",
     "text": [
      "> \n",
      " SELECT category,count(category) as total FROM Role GROUP BY category ORDER BY TOTAL DESC\n",
      "\n"
     ]
    },
    {
     "data": {
      "text/html": [
       "<div>\n",
       "<style scoped>\n",
       "    .dataframe tbody tr th:only-of-type {\n",
       "        vertical-align: middle;\n",
       "    }\n",
       "\n",
       "    .dataframe tbody tr th {\n",
       "        vertical-align: top;\n",
       "    }\n",
       "\n",
       "    .dataframe thead th {\n",
       "        text-align: right;\n",
       "    }\n",
       "</style>\n",
       "<table border=\"1\" class=\"dataframe\">\n",
       "  <thead>\n",
       "    <tr style=\"text-align: right;\">\n",
       "      <th></th>\n",
       "      <th>category</th>\n",
       "      <th>total</th>\n",
       "    </tr>\n",
       "  </thead>\n",
       "  <tbody>\n",
       "    <tr>\n",
       "      <th>0</th>\n",
       "      <td>actor</td>\n",
       "      <td>21665</td>\n",
       "    </tr>\n",
       "    <tr>\n",
       "      <th>1</th>\n",
       "      <td>writer</td>\n",
       "      <td>13830</td>\n",
       "    </tr>\n",
       "    <tr>\n",
       "      <th>2</th>\n",
       "      <td>actress</td>\n",
       "      <td>12175</td>\n",
       "    </tr>\n",
       "    <tr>\n",
       "      <th>3</th>\n",
       "      <td>producer</td>\n",
       "      <td>11028</td>\n",
       "    </tr>\n",
       "    <tr>\n",
       "      <th>4</th>\n",
       "      <td>director</td>\n",
       "      <td>6995</td>\n",
       "    </tr>\n",
       "    <tr>\n",
       "      <th>5</th>\n",
       "      <td>composer</td>\n",
       "      <td>4123</td>\n",
       "    </tr>\n",
       "    <tr>\n",
       "      <th>6</th>\n",
       "      <td>cinematographer</td>\n",
       "      <td>2747</td>\n",
       "    </tr>\n",
       "    <tr>\n",
       "      <th>7</th>\n",
       "      <td>editor</td>\n",
       "      <td>1558</td>\n",
       "    </tr>\n",
       "    <tr>\n",
       "      <th>8</th>\n",
       "      <td>self</td>\n",
       "      <td>623</td>\n",
       "    </tr>\n",
       "    <tr>\n",
       "      <th>9</th>\n",
       "      <td>production_designer</td>\n",
       "      <td>410</td>\n",
       "    </tr>\n",
       "    <tr>\n",
       "      <th>10</th>\n",
       "      <td>archive_footage</td>\n",
       "      <td>66</td>\n",
       "    </tr>\n",
       "    <tr>\n",
       "      <th>11</th>\n",
       "      <td>archive_sound</td>\n",
       "      <td>6</td>\n",
       "    </tr>\n",
       "  </tbody>\n",
       "</table>\n",
       "</div>"
      ],
      "text/plain": [
       "               category  total\n",
       "0                 actor  21665\n",
       "1                writer  13830\n",
       "2               actress  12175\n",
       "3              producer  11028\n",
       "4              director   6995\n",
       "5              composer   4123\n",
       "6       cinematographer   2747\n",
       "7                editor   1558\n",
       "8                  self    623\n",
       "9   production_designer    410\n",
       "10      archive_footage     66\n",
       "11        archive_sound      6"
      ]
     },
     "metadata": {},
     "output_type": "display_data"
    }
   ],
   "source": [
    "q2query = \"\"\"\n",
    " SELECT category,count(category) as total FROM Role GROUP BY category ORDER BY TOTAL DESC\n",
    "\"\"\" \n",
    "q2df = pretty_print_sql(conn, q2query)\n"
   ]
  },
  {
   "cell_type": "code",
   "execution_count": 9,
   "id": "c8efb5e5",
   "metadata": {
    "deletable": false,
    "editable": false
   },
   "outputs": [
    {
     "data": {
      "text/html": [
       "<p><strong><pre style='display: inline;'>q2</pre></strong> passed! 🍀</p>"
      ],
      "text/plain": [
       "q2 results: All test cases passed!"
      ]
     },
     "execution_count": 9,
     "metadata": {},
     "output_type": "execute_result"
    }
   ],
   "source": [
    "grader.check(\"q2\")"
   ]
  },
  {
   "cell_type": "markdown",
   "id": "600e718b",
   "metadata": {},
   "source": [
    "## Question 3 \n",
    "\n",
    "How far back does our data go? Does it only include recent data, or do we have information about older movies and movie stars as well? \n",
    "\n",
    "List the **10 oldest movie titles** by `startYear` and then `primaryTitle` both in **ascending** order.  Do not include movies where the `startYear` is `NULL`.  The output should contain the `startYear`, `primaryTitle`, and `titleType`."
   ]
  },
  {
   "cell_type": "code",
   "execution_count": 10,
   "id": "f764b90b",
   "metadata": {
    "tags": []
   },
   "outputs": [
    {
     "name": "stdout",
     "output_type": "stream",
     "text": [
      "> \n",
      "SELECT startYear, primaryTitle, titleType FROM Title  WHERE startYear IS NOT NULL and titleType = 'movie' ORDER BY startYear ASC , primaryTitle ASC LIMIT 10 \n",
      "\n"
     ]
    },
    {
     "data": {
      "text/html": [
       "<div>\n",
       "<style scoped>\n",
       "    .dataframe tbody tr th:only-of-type {\n",
       "        vertical-align: middle;\n",
       "    }\n",
       "\n",
       "    .dataframe tbody tr th {\n",
       "        vertical-align: top;\n",
       "    }\n",
       "\n",
       "    .dataframe thead th {\n",
       "        text-align: right;\n",
       "    }\n",
       "</style>\n",
       "<table border=\"1\" class=\"dataframe\">\n",
       "  <thead>\n",
       "    <tr style=\"text-align: right;\">\n",
       "      <th></th>\n",
       "      <th>startYear</th>\n",
       "      <th>primaryTitle</th>\n",
       "      <th>titleType</th>\n",
       "    </tr>\n",
       "  </thead>\n",
       "  <tbody>\n",
       "    <tr>\n",
       "      <th>0</th>\n",
       "      <td>1915</td>\n",
       "      <td>The Birth of a Nation</td>\n",
       "      <td>movie</td>\n",
       "    </tr>\n",
       "    <tr>\n",
       "      <th>1</th>\n",
       "      <td>1920</td>\n",
       "      <td>The Cabinet of Dr. Caligari</td>\n",
       "      <td>movie</td>\n",
       "    </tr>\n",
       "    <tr>\n",
       "      <th>2</th>\n",
       "      <td>1921</td>\n",
       "      <td>The Kid</td>\n",
       "      <td>movie</td>\n",
       "    </tr>\n",
       "    <tr>\n",
       "      <th>3</th>\n",
       "      <td>1922</td>\n",
       "      <td>Nosferatu</td>\n",
       "      <td>movie</td>\n",
       "    </tr>\n",
       "    <tr>\n",
       "      <th>4</th>\n",
       "      <td>1924</td>\n",
       "      <td>Sherlock Jr.</td>\n",
       "      <td>movie</td>\n",
       "    </tr>\n",
       "    <tr>\n",
       "      <th>5</th>\n",
       "      <td>1925</td>\n",
       "      <td>Battleship Potemkin</td>\n",
       "      <td>movie</td>\n",
       "    </tr>\n",
       "    <tr>\n",
       "      <th>6</th>\n",
       "      <td>1925</td>\n",
       "      <td>The Gold Rush</td>\n",
       "      <td>movie</td>\n",
       "    </tr>\n",
       "    <tr>\n",
       "      <th>7</th>\n",
       "      <td>1926</td>\n",
       "      <td>The General</td>\n",
       "      <td>movie</td>\n",
       "    </tr>\n",
       "    <tr>\n",
       "      <th>8</th>\n",
       "      <td>1927</td>\n",
       "      <td>Metropolis</td>\n",
       "      <td>movie</td>\n",
       "    </tr>\n",
       "    <tr>\n",
       "      <th>9</th>\n",
       "      <td>1927</td>\n",
       "      <td>Sunrise</td>\n",
       "      <td>movie</td>\n",
       "    </tr>\n",
       "  </tbody>\n",
       "</table>\n",
       "</div>"
      ],
      "text/plain": [
       "  startYear                 primaryTitle titleType\n",
       "0      1915        The Birth of a Nation     movie\n",
       "1      1920  The Cabinet of Dr. Caligari     movie\n",
       "2      1921                      The Kid     movie\n",
       "3      1922                    Nosferatu     movie\n",
       "4      1924                 Sherlock Jr.     movie\n",
       "5      1925          Battleship Potemkin     movie\n",
       "6      1925                The Gold Rush     movie\n",
       "7      1926                  The General     movie\n",
       "8      1927                   Metropolis     movie\n",
       "9      1927                      Sunrise     movie"
      ]
     },
     "metadata": {},
     "output_type": "display_data"
    }
   ],
   "source": [
    "q3query = \"\"\"\n",
    "SELECT startYear, primaryTitle, titleType FROM Title  WHERE startYear IS NOT NULL and titleType = 'movie' ORDER BY startYear ASC , primaryTitle ASC LIMIT 10 \n",
    "\"\"\"\n",
    "q3df = pretty_print_sql(conn, q3query)\n"
   ]
  },
  {
   "cell_type": "code",
   "execution_count": 11,
   "id": "00596b38",
   "metadata": {
    "deletable": false,
    "editable": false
   },
   "outputs": [
    {
     "data": {
      "text/html": [
       "<p><strong><pre style='display: inline;'>q3</pre></strong> passed! 🌈</p>"
      ],
      "text/plain": [
       "q3 results: All test cases passed!"
      ]
     },
     "execution_count": 11,
     "metadata": {},
     "output_type": "execute_result"
    }
   ],
   "source": [
    "grader.check(\"q3\")"
   ]
  },
  {
   "cell_type": "markdown",
   "id": "552f8421",
   "metadata": {},
   "source": [
    "## Question 4\n",
    "\n",
    "Let's calculate the distribution of movies by year. Write a query that returns the **total** number of movie titles for each `startYear` in the `Title` table as `total`.  Keep in mind that some entries may not have a `startYear` listed -- you should filter those out.  Order your final results by the `startYear` in **ascending** order.\n",
    "\n",
    "The first few records of the table should look like the following (but you should compute the entire table).\n",
    "\n",
    "\n",
    "| |startYear|total|\n",
    "|-----|------|-----|\n",
    "|**0**|1915|1|\n",
    "|**1**|1920|1|\n",
    "|**2**|1921|1|\n",
    "|**3**|1922|1|\n",
    "|...|...|...|\n"
   ]
  },
  {
   "cell_type": "code",
   "execution_count": 12,
   "id": "b7f07433",
   "metadata": {
    "tags": []
   },
   "outputs": [
    {
     "name": "stdout",
     "output_type": "stream",
     "text": [
      "> \n",
      "SELECT startYear,count(primaryTitle) as total FROM Title where startYear IS NOT NULL AND primaryTitle IS NOT NULL AND titleType = 'movie' GROUP BY startYear ORDER BY startYear ASC\n",
      "\n"
     ]
    },
    {
     "data": {
      "text/html": [
       "<div>\n",
       "<style scoped>\n",
       "    .dataframe tbody tr th:only-of-type {\n",
       "        vertical-align: middle;\n",
       "    }\n",
       "\n",
       "    .dataframe tbody tr th {\n",
       "        vertical-align: top;\n",
       "    }\n",
       "\n",
       "    .dataframe thead th {\n",
       "        text-align: right;\n",
       "    }\n",
       "</style>\n",
       "<table border=\"1\" class=\"dataframe\">\n",
       "  <thead>\n",
       "    <tr style=\"text-align: right;\">\n",
       "      <th></th>\n",
       "      <th>startYear</th>\n",
       "      <th>total</th>\n",
       "    </tr>\n",
       "  </thead>\n",
       "  <tbody>\n",
       "    <tr>\n",
       "      <th>0</th>\n",
       "      <td>1915</td>\n",
       "      <td>1</td>\n",
       "    </tr>\n",
       "    <tr>\n",
       "      <th>1</th>\n",
       "      <td>1920</td>\n",
       "      <td>1</td>\n",
       "    </tr>\n",
       "    <tr>\n",
       "      <th>2</th>\n",
       "      <td>1921</td>\n",
       "      <td>1</td>\n",
       "    </tr>\n",
       "    <tr>\n",
       "      <th>3</th>\n",
       "      <td>1922</td>\n",
       "      <td>1</td>\n",
       "    </tr>\n",
       "    <tr>\n",
       "      <th>4</th>\n",
       "      <td>1924</td>\n",
       "      <td>1</td>\n",
       "    </tr>\n",
       "    <tr>\n",
       "      <th>...</th>\n",
       "      <td>...</td>\n",
       "      <td>...</td>\n",
       "    </tr>\n",
       "    <tr>\n",
       "      <th>97</th>\n",
       "      <td>2017</td>\n",
       "      <td>213</td>\n",
       "    </tr>\n",
       "    <tr>\n",
       "      <th>98</th>\n",
       "      <td>2018</td>\n",
       "      <td>230</td>\n",
       "    </tr>\n",
       "    <tr>\n",
       "      <th>99</th>\n",
       "      <td>2019</td>\n",
       "      <td>194</td>\n",
       "    </tr>\n",
       "    <tr>\n",
       "      <th>100</th>\n",
       "      <td>2020</td>\n",
       "      <td>117</td>\n",
       "    </tr>\n",
       "    <tr>\n",
       "      <th>101</th>\n",
       "      <td>2021</td>\n",
       "      <td>85</td>\n",
       "    </tr>\n",
       "  </tbody>\n",
       "</table>\n",
       "<p>102 rows × 2 columns</p>\n",
       "</div>"
      ],
      "text/plain": [
       "    startYear  total\n",
       "0        1915      1\n",
       "1        1920      1\n",
       "2        1921      1\n",
       "3        1922      1\n",
       "4        1924      1\n",
       "..        ...    ...\n",
       "97       2017    213\n",
       "98       2018    230\n",
       "99       2019    194\n",
       "100      2020    117\n",
       "101      2021     85\n",
       "\n",
       "[102 rows x 2 columns]"
      ]
     },
     "metadata": {},
     "output_type": "display_data"
    }
   ],
   "source": [
    "q4query = \"\"\"\n",
    "SELECT startYear,count(primaryTitle) as total FROM Title where startYear IS NOT NULL AND primaryTitle IS NOT NULL AND titleType = 'movie' GROUP BY startYear ORDER BY startYear ASC\n",
    "\"\"\"\n",
    "q4df = pretty_print_sql(conn, q4query)\n"
   ]
  },
  {
   "cell_type": "code",
   "execution_count": 13,
   "id": "35315266",
   "metadata": {
    "deletable": false,
    "editable": false
   },
   "outputs": [
    {
     "data": {
      "text/html": [
       "<p><strong><pre style='display: inline;'>q4</pre></strong> passed! 🌈</p>"
      ],
      "text/plain": [
       "q4 results: All test cases passed!"
      ]
     },
     "execution_count": 13,
     "metadata": {},
     "output_type": "execute_result"
    }
   ],
   "source": [
    "grader.check(\"q4\")"
   ]
  },
  {
   "cell_type": "markdown",
   "id": "12c925d3",
   "metadata": {},
   "source": [
    "## Question 5\n",
    "\n",
    "Who are the **top 10 most prolific movie actors**?\n",
    "\n",
    "Define the term **\"movie actor\"** is defined as anyone with an `\"actor\"` or `\"actress\"` job category role in a `\"movie\"` title type.\n",
    "\n",
    "Your SQL query should output exactly two fields named `name` (the movie actor name) and `total` (the number of movies the movie actor appears in). Order the records by `total` in descending order, and break ties by ordering by `name` in ascending order.\n",
    "\n",
    "Your result should look something like the following, but without `????`:\n",
    "\n",
    "| | name | total |\n",
    "|-----|-----|-----|\n",
    "|**0**| ???? | 64 |\n",
    "|**1**| ???? | 54 |\n",
    "|**2**| ???? | 53 |\n",
    "|**3**| ???? | 49 |\n",
    "|**4**| ???? | 46 |\n",
    "|**5**| ???? | 43 |\n",
    "|**6**| ???? | 41 |\n",
    "|**7**| ???? | 40 |\n",
    "|**8**| ???? | 40 |\n",
    "|**9**| ???? | 39 |\n",
    "\n",
    "**Hints**:\n",
    "\n",
    "* ***The query should take < 1 minute to run.***\n",
    "* Google the top of the list and see if it makes sense. (Since this is a mini version of IMDb, some may still be off.)\n",
    "* If you want to include a non-aggregate field in the `SELECT` clause, it must also be included in the `GROUP BY` clause."
   ]
  },
  {
   "cell_type": "code",
   "execution_count": 14,
   "id": "7136baf8",
   "metadata": {
    "tags": []
   },
   "outputs": [
    {
     "name": "stdout",
     "output_type": "stream",
     "text": [
      "> \n",
      "SELECT N.primaryName AS name, \n",
      "count(R.tconst) as total FROM Role AS R \n",
      "JOIN  Name as N ON R.nconst = N.nconst JOIN Title as T ON R.tconst = T.tconst\n",
      "where (R.category = 'actor' or R.category = 'actress') AND T.titleType = 'movie' GROUP BY R.nconst ORDER BY total DESC, name ASC LIMIT 10 \n"
     ]
    },
    {
     "data": {
      "text/html": [
       "<div>\n",
       "<style scoped>\n",
       "    .dataframe tbody tr th:only-of-type {\n",
       "        vertical-align: middle;\n",
       "    }\n",
       "\n",
       "    .dataframe tbody tr th {\n",
       "        vertical-align: top;\n",
       "    }\n",
       "\n",
       "    .dataframe thead th {\n",
       "        text-align: right;\n",
       "    }\n",
       "</style>\n",
       "<table border=\"1\" class=\"dataframe\">\n",
       "  <thead>\n",
       "    <tr style=\"text-align: right;\">\n",
       "      <th></th>\n",
       "      <th>name</th>\n",
       "      <th>total</th>\n",
       "    </tr>\n",
       "  </thead>\n",
       "  <tbody>\n",
       "    <tr>\n",
       "      <th>0</th>\n",
       "      <td>Robert De Niro</td>\n",
       "      <td>64</td>\n",
       "    </tr>\n",
       "    <tr>\n",
       "      <th>1</th>\n",
       "      <td>Samuel L. Jackson</td>\n",
       "      <td>54</td>\n",
       "    </tr>\n",
       "    <tr>\n",
       "      <th>2</th>\n",
       "      <td>Nicolas Cage</td>\n",
       "      <td>53</td>\n",
       "    </tr>\n",
       "    <tr>\n",
       "      <th>3</th>\n",
       "      <td>Bruce Willis</td>\n",
       "      <td>49</td>\n",
       "    </tr>\n",
       "    <tr>\n",
       "      <th>4</th>\n",
       "      <td>Tom Hanks</td>\n",
       "      <td>46</td>\n",
       "    </tr>\n",
       "    <tr>\n",
       "      <th>5</th>\n",
       "      <td>Johnny Depp</td>\n",
       "      <td>43</td>\n",
       "    </tr>\n",
       "    <tr>\n",
       "      <th>6</th>\n",
       "      <td>Mark Wahlberg</td>\n",
       "      <td>41</td>\n",
       "    </tr>\n",
       "    <tr>\n",
       "      <th>7</th>\n",
       "      <td>Liam Neeson</td>\n",
       "      <td>40</td>\n",
       "    </tr>\n",
       "    <tr>\n",
       "      <th>8</th>\n",
       "      <td>Morgan Freeman</td>\n",
       "      <td>40</td>\n",
       "    </tr>\n",
       "    <tr>\n",
       "      <th>9</th>\n",
       "      <td>Adam Sandler</td>\n",
       "      <td>39</td>\n",
       "    </tr>\n",
       "  </tbody>\n",
       "</table>\n",
       "</div>"
      ],
      "text/plain": [
       "                name  total\n",
       "0     Robert De Niro     64\n",
       "1  Samuel L. Jackson     54\n",
       "2       Nicolas Cage     53\n",
       "3       Bruce Willis     49\n",
       "4          Tom Hanks     46\n",
       "5        Johnny Depp     43\n",
       "6      Mark Wahlberg     41\n",
       "7        Liam Neeson     40\n",
       "8     Morgan Freeman     40\n",
       "9       Adam Sandler     39"
      ]
     },
     "metadata": {},
     "output_type": "display_data"
    }
   ],
   "source": [
    "q5query = \"\"\"\n",
    "SELECT N.primaryName AS name, \n",
    "count(R.tconst) as total FROM Role AS R \n",
    "JOIN  Name as N ON R.nconst = N.nconst JOIN Title as T ON R.tconst = T.tconst\n",
    "where (R.category = 'actor' or R.category = 'actress') AND T.titleType = 'movie' GROUP BY R.nconst ORDER BY total DESC, name ASC LIMIT 10 \"\"\"\n",
    "q5df = pretty_print_sql(conn, q5query)\n"
   ]
  },
  {
   "cell_type": "code",
   "execution_count": 15,
   "id": "aefed899",
   "metadata": {
    "deletable": false,
    "editable": false
   },
   "outputs": [
    {
     "data": {
      "text/html": [
       "<p><strong><pre style='display: inline;'>q5</pre></strong> passed! 🙌</p>"
      ],
      "text/plain": [
       "q5 results: All test cases passed!"
      ]
     },
     "execution_count": 15,
     "metadata": {},
     "output_type": "execute_result"
    }
   ],
   "source": [
    "grader.check(\"q5\")"
   ]
  },
  {
   "cell_type": "markdown",
   "id": "3e2df0a0",
   "metadata": {},
   "source": [
    "## Question 6\n",
    "\n",
    "**The `CASE` Keyword**\n",
    "\n",
    "The `Rating` table has the `numVotes` and the `averageRating` for each title. A movie is consider a **\"big hit**\" if there were more than 100,000 votes for the movie. Which `movie` titles were **\"big hits\"**? Construct a query that generates the following result:\n",
    "\n",
    "| | isBigHit | total |\n",
    "|-----|-----|-----|\n",
    "|**0**| no | ???? |\n",
    "|**1**| yes | ???? |\n",
    "\n",
    "Where `????` is replaced with the correct values. The row with `no` should have the count for how many movies **are not** big hits, and the row with `yes` should have the count of how many movies **are** big hits.\n",
    "\n",
    "**Hints**:\n",
    "\n",
    "* While SQL sometimes cast data automatically, it is still best practice to cast string data to numerical data type manually before performing arithmetic operation for the purposes of readability and reproducibility.\n",
    "* You will need to use some type of `JOIN`.\n",
    "* You may also consider using a `CASE` statement:\n",
    "    ```\n",
    "    CASE \n",
    "        WHEN ... THEN ...\n",
    "        ELSE ... \n",
    "    END\n",
    "    ```\n",
    " `CASE` statements are the SQL-equivalent of Python `if... elif... else` statements. To read up on `CASE`, take a look at the following links:\n",
    "    - https://www.sqlitetutorial.net/sqlite-case/\n",
    "    - https://mode.com/sql-tutorial/sql-case/\n",
    "    - https://www.w3schools.com/sql/sql_ref_case.asp\n"
   ]
  },
  {
   "cell_type": "code",
   "execution_count": 16,
   "id": "8fe69b76",
   "metadata": {
    "tags": []
   },
   "outputs": [
    {
     "name": "stdout",
     "output_type": "stream",
     "text": [
      "> \n",
      "SELECT\n",
      "    CASE\n",
      "        WHEN R.numVotes > 100000 THEN 'yes'\n",
      "        ELSE 'no'\n",
      "    END AS isBigHit,\n",
      "    COUNT(R.tconst) AS total\n",
      "FROM Title AS T\n",
      "LEFT JOIN  Rating AS R ON T.tconst = R.tconst\n",
      "WHERE  T.titleType = 'movie' GROUP BY isBigHit \n",
      "UNION ALL\n",
      "SELECT 'no' AS isBigHit, 0 AS total FROM Title AS T WHERE T.titleType = 'movie'GROUP BY isBigHit ORDER BY isBigHit\n",
      "\n"
     ]
    },
    {
     "data": {
      "text/html": [
       "<div>\n",
       "<style scoped>\n",
       "    .dataframe tbody tr th:only-of-type {\n",
       "        vertical-align: middle;\n",
       "    }\n",
       "\n",
       "    .dataframe tbody tr th {\n",
       "        vertical-align: top;\n",
       "    }\n",
       "\n",
       "    .dataframe thead th {\n",
       "        text-align: right;\n",
       "    }\n",
       "</style>\n",
       "<table border=\"1\" class=\"dataframe\">\n",
       "  <thead>\n",
       "    <tr style=\"text-align: right;\">\n",
       "      <th></th>\n",
       "      <th>isBigHit</th>\n",
       "      <th>total</th>\n",
       "    </tr>\n",
       "  </thead>\n",
       "  <tbody>\n",
       "    <tr>\n",
       "      <th>0</th>\n",
       "      <td>no</td>\n",
       "      <td>0</td>\n",
       "    </tr>\n",
       "    <tr>\n",
       "      <th>1</th>\n",
       "      <td>yes</td>\n",
       "      <td>6359</td>\n",
       "    </tr>\n",
       "  </tbody>\n",
       "</table>\n",
       "</div>"
      ],
      "text/plain": [
       "  isBigHit  total\n",
       "0       no      0\n",
       "1      yes   6359"
      ]
     },
     "metadata": {},
     "output_type": "display_data"
    }
   ],
   "source": [
    "q6query = \"\"\"\n",
    "SELECT\n",
    "    CASE\n",
    "        WHEN R.numVotes > 100000 THEN 'yes'\n",
    "        ELSE 'no'\n",
    "    END AS isBigHit,\n",
    "    COUNT(R.tconst) AS total\n",
    "FROM Title AS T\n",
    "LEFT JOIN  Rating AS R ON T.tconst = R.tconst\n",
    "WHERE  T.titleType = 'movie' GROUP BY isBigHit \n",
    "UNION ALL\n",
    "SELECT 'no' AS isBigHit, 0 AS total FROM Title AS T WHERE T.titleType = 'movie'GROUP BY isBigHit ORDER BY isBigHit\n",
    "\"\"\"\n",
    "q6df = pretty_print_sql(conn, q6query)\n"
   ]
  },
  {
   "cell_type": "code",
   "execution_count": 17,
   "id": "7b95752d",
   "metadata": {
    "deletable": false,
    "editable": false
   },
   "outputs": [
    {
     "data": {
      "text/html": [
       "<p><strong><pre style='display: inline;'>q6</pre></strong> passed! 🍀</p>"
      ],
      "text/plain": [
       "q6 results: All test cases passed!"
      ]
     },
     "execution_count": 17,
     "metadata": {},
     "output_type": "execute_result"
    }
   ],
   "source": [
    "grader.check(\"q6\")"
   ]
  },
  {
   "cell_type": "markdown",
   "id": "79885fc1",
   "metadata": {},
   "source": [
    "## Question 7\n",
    "\n",
    "**How does movie length relate to ratings?**  To answer this question we want to bin `movie` titles by length, compute the average of the average ratings within each length bin, and visualize the relations.\n",
    "\n"
   ]
  },
  {
   "cell_type": "markdown",
   "id": "2d5ce81a",
   "metadata": {},
   "source": [
    "### Question 7a\n",
    "\n",
    "We will group movies by 10-minute increments -- that is, one bin for movies \\[0, 10) minutes long, another for \\[10, 20) minutes, another for \\[20, 30) minutes, and so on. Use the following code snippet to help construct 10-minute bins: \n",
    "\n",
    "```\n",
    "ROUND(runtimeMinutes / 10.0 + 0.5) * 10 AS runtimeBin\n",
    "```\n",
    "\n",
    "Construct a query that generates a resulting table containing the **`runtimeBin`**, the **average** of the **average ratings** (as `averageRating`), the **average number of votes** (as `averageNumVotes`), and the number of `titles` in that **runtimeBin** (as `total`).  Only include **movies** with **at least 10000 votes**.  Order the final results by the value of `runtimeBin`.\n",
    "\n",
    "**Hint**:\n",
    "* You can use a variable(s) defined in your `SELECT` clause in the later part of your query."
   ]
  },
  {
   "cell_type": "code",
   "execution_count": 18,
   "id": "e31ba218",
   "metadata": {
    "tags": []
   },
   "outputs": [
    {
     "name": "stdout",
     "output_type": "stream",
     "text": [
      "> \n",
      "WITH RuntimeBins AS (\n",
      "    SELECT\n",
      "        ROUND(runtimeMinutes / 10.0 + 0.5) * 10 AS runtimeBin,\n",
      "        AVG(CAST(R.averageRating AS REAL)) AS averageRating,\n",
      "        AVG(CAST(R.numVotes AS REAL)) AS averageNumVotes,\n",
      "        COUNT(T.tconst) AS total\n",
      "    FROM Title AS T\n",
      "    JOIN Rating AS R ON T.tconst = R.tconst\n",
      "    WHERE T.titleType = 'movie' AND R.numVotes >= 10000 AND T.runtimeMinutes IS NOT NULL GROUP BY runtimeBin\n",
      ")\n",
      "SELECT runtimeBin,averageRating,averageNumVotes, total FROM RuntimeBins ORDER BY runtimeBin\n",
      "\n"
     ]
    },
    {
     "data": {
      "text/html": [
       "<div>\n",
       "<style scoped>\n",
       "    .dataframe tbody tr th:only-of-type {\n",
       "        vertical-align: middle;\n",
       "    }\n",
       "\n",
       "    .dataframe tbody tr th {\n",
       "        vertical-align: top;\n",
       "    }\n",
       "\n",
       "    .dataframe thead th {\n",
       "        text-align: right;\n",
       "    }\n",
       "</style>\n",
       "<table border=\"1\" class=\"dataframe\">\n",
       "  <thead>\n",
       "    <tr style=\"text-align: right;\">\n",
       "      <th></th>\n",
       "      <th>runtimeBin</th>\n",
       "      <th>averageRating</th>\n",
       "      <th>averageNumVotes</th>\n",
       "      <th>total</th>\n",
       "    </tr>\n",
       "  </thead>\n",
       "  <tbody>\n",
       "    <tr>\n",
       "      <th>0</th>\n",
       "      <td>50.0</td>\n",
       "      <td>7.850000</td>\n",
       "      <td>42535.000000</td>\n",
       "      <td>2</td>\n",
       "    </tr>\n",
       "    <tr>\n",
       "      <th>1</th>\n",
       "      <td>60.0</td>\n",
       "      <td>6.400000</td>\n",
       "      <td>30668.500000</td>\n",
       "      <td>2</td>\n",
       "    </tr>\n",
       "    <tr>\n",
       "      <th>2</th>\n",
       "      <td>70.0</td>\n",
       "      <td>7.600000</td>\n",
       "      <td>59822.000000</td>\n",
       "      <td>13</td>\n",
       "    </tr>\n",
       "    <tr>\n",
       "      <th>3</th>\n",
       "      <td>80.0</td>\n",
       "      <td>6.860937</td>\n",
       "      <td>67896.187500</td>\n",
       "      <td>64</td>\n",
       "    </tr>\n",
       "    <tr>\n",
       "      <th>4</th>\n",
       "      <td>90.0</td>\n",
       "      <td>6.283951</td>\n",
       "      <td>76907.608466</td>\n",
       "      <td>567</td>\n",
       "    </tr>\n",
       "    <tr>\n",
       "      <th>5</th>\n",
       "      <td>100.0</td>\n",
       "      <td>6.418263</td>\n",
       "      <td>82147.242591</td>\n",
       "      <td>1451</td>\n",
       "    </tr>\n",
       "    <tr>\n",
       "      <th>6</th>\n",
       "      <td>110.0</td>\n",
       "      <td>6.573970</td>\n",
       "      <td>99912.440934</td>\n",
       "      <td>1456</td>\n",
       "    </tr>\n",
       "    <tr>\n",
       "      <th>7</th>\n",
       "      <td>120.0</td>\n",
       "      <td>6.783168</td>\n",
       "      <td>121878.855086</td>\n",
       "      <td>1111</td>\n",
       "    </tr>\n",
       "    <tr>\n",
       "      <th>8</th>\n",
       "      <td>130.0</td>\n",
       "      <td>7.039082</td>\n",
       "      <td>152911.968011</td>\n",
       "      <td>719</td>\n",
       "    </tr>\n",
       "    <tr>\n",
       "      <th>9</th>\n",
       "      <td>140.0</td>\n",
       "      <td>7.184529</td>\n",
       "      <td>181664.825112</td>\n",
       "      <td>446</td>\n",
       "    </tr>\n",
       "    <tr>\n",
       "      <th>10</th>\n",
       "      <td>150.0</td>\n",
       "      <td>7.331188</td>\n",
       "      <td>246401.564356</td>\n",
       "      <td>202</td>\n",
       "    </tr>\n",
       "    <tr>\n",
       "      <th>11</th>\n",
       "      <td>160.0</td>\n",
       "      <td>7.277165</td>\n",
       "      <td>218997.417323</td>\n",
       "      <td>127</td>\n",
       "    </tr>\n",
       "    <tr>\n",
       "      <th>12</th>\n",
       "      <td>170.0</td>\n",
       "      <td>7.426667</td>\n",
       "      <td>268741.746667</td>\n",
       "      <td>75</td>\n",
       "    </tr>\n",
       "    <tr>\n",
       "      <th>13</th>\n",
       "      <td>180.0</td>\n",
       "      <td>7.777083</td>\n",
       "      <td>238440.916667</td>\n",
       "      <td>48</td>\n",
       "    </tr>\n",
       "    <tr>\n",
       "      <th>14</th>\n",
       "      <td>190.0</td>\n",
       "      <td>7.703030</td>\n",
       "      <td>192721.727273</td>\n",
       "      <td>33</td>\n",
       "    </tr>\n",
       "    <tr>\n",
       "      <th>15</th>\n",
       "      <td>200.0</td>\n",
       "      <td>7.526667</td>\n",
       "      <td>222178.933333</td>\n",
       "      <td>15</td>\n",
       "    </tr>\n",
       "    <tr>\n",
       "      <th>16</th>\n",
       "      <td>210.0</td>\n",
       "      <td>8.155556</td>\n",
       "      <td>424845.333333</td>\n",
       "      <td>9</td>\n",
       "    </tr>\n",
       "    <tr>\n",
       "      <th>17</th>\n",
       "      <td>220.0</td>\n",
       "      <td>7.650000</td>\n",
       "      <td>77057.500000</td>\n",
       "      <td>6</td>\n",
       "    </tr>\n",
       "    <tr>\n",
       "      <th>18</th>\n",
       "      <td>230.0</td>\n",
       "      <td>8.175000</td>\n",
       "      <td>196062.250000</td>\n",
       "      <td>4</td>\n",
       "    </tr>\n",
       "    <tr>\n",
       "      <th>19</th>\n",
       "      <td>240.0</td>\n",
       "      <td>8.100000</td>\n",
       "      <td>301315.000000</td>\n",
       "      <td>1</td>\n",
       "    </tr>\n",
       "    <tr>\n",
       "      <th>20</th>\n",
       "      <td>250.0</td>\n",
       "      <td>7.600000</td>\n",
       "      <td>133652.000000</td>\n",
       "      <td>3</td>\n",
       "    </tr>\n",
       "    <tr>\n",
       "      <th>21</th>\n",
       "      <td>280.0</td>\n",
       "      <td>7.600000</td>\n",
       "      <td>28216.000000</td>\n",
       "      <td>1</td>\n",
       "    </tr>\n",
       "    <tr>\n",
       "      <th>22</th>\n",
       "      <td>290.0</td>\n",
       "      <td>7.400000</td>\n",
       "      <td>45046.000000</td>\n",
       "      <td>1</td>\n",
       "    </tr>\n",
       "    <tr>\n",
       "      <th>23</th>\n",
       "      <td>320.0</td>\n",
       "      <td>7.700000</td>\n",
       "      <td>24701.000000</td>\n",
       "      <td>1</td>\n",
       "    </tr>\n",
       "    <tr>\n",
       "      <th>24</th>\n",
       "      <td>330.0</td>\n",
       "      <td>8.200000</td>\n",
       "      <td>89634.000000</td>\n",
       "      <td>1</td>\n",
       "    </tr>\n",
       "    <tr>\n",
       "      <th>25</th>\n",
       "      <td>370.0</td>\n",
       "      <td>8.500000</td>\n",
       "      <td>21371.000000</td>\n",
       "      <td>1</td>\n",
       "    </tr>\n",
       "  </tbody>\n",
       "</table>\n",
       "</div>"
      ],
      "text/plain": [
       "    runtimeBin  averageRating  averageNumVotes  total\n",
       "0         50.0       7.850000     42535.000000      2\n",
       "1         60.0       6.400000     30668.500000      2\n",
       "2         70.0       7.600000     59822.000000     13\n",
       "3         80.0       6.860937     67896.187500     64\n",
       "4         90.0       6.283951     76907.608466    567\n",
       "5        100.0       6.418263     82147.242591   1451\n",
       "6        110.0       6.573970     99912.440934   1456\n",
       "7        120.0       6.783168    121878.855086   1111\n",
       "8        130.0       7.039082    152911.968011    719\n",
       "9        140.0       7.184529    181664.825112    446\n",
       "10       150.0       7.331188    246401.564356    202\n",
       "11       160.0       7.277165    218997.417323    127\n",
       "12       170.0       7.426667    268741.746667     75\n",
       "13       180.0       7.777083    238440.916667     48\n",
       "14       190.0       7.703030    192721.727273     33\n",
       "15       200.0       7.526667    222178.933333     15\n",
       "16       210.0       8.155556    424845.333333      9\n",
       "17       220.0       7.650000     77057.500000      6\n",
       "18       230.0       8.175000    196062.250000      4\n",
       "19       240.0       8.100000    301315.000000      1\n",
       "20       250.0       7.600000    133652.000000      3\n",
       "21       280.0       7.600000     28216.000000      1\n",
       "22       290.0       7.400000     45046.000000      1\n",
       "23       320.0       7.700000     24701.000000      1\n",
       "24       330.0       8.200000     89634.000000      1\n",
       "25       370.0       8.500000     21371.000000      1"
      ]
     },
     "metadata": {},
     "output_type": "display_data"
    }
   ],
   "source": [
    "q7query = \"\"\"\n",
    "WITH RuntimeBins AS (\n",
    "    SELECT\n",
    "        ROUND(runtimeMinutes / 10.0 + 0.5) * 10 AS runtimeBin,\n",
    "        AVG(CAST(R.averageRating AS REAL)) AS averageRating,\n",
    "        AVG(CAST(R.numVotes AS REAL)) AS averageNumVotes,\n",
    "        COUNT(T.tconst) AS total\n",
    "    FROM Title AS T\n",
    "    JOIN Rating AS R ON T.tconst = R.tconst\n",
    "    WHERE T.titleType = 'movie' AND R.numVotes >= 10000 AND T.runtimeMinutes IS NOT NULL GROUP BY runtimeBin\n",
    ")\n",
    "SELECT runtimeBin,averageRating,averageNumVotes, total FROM RuntimeBins ORDER BY runtimeBin\n",
    "\"\"\"\n",
    "q7df = pretty_print_sql(conn, q7query)\n"
   ]
  },
  {
   "cell_type": "code",
   "execution_count": 19,
   "id": "107ff5f4",
   "metadata": {
    "deletable": false,
    "editable": false
   },
   "outputs": [
    {
     "data": {
      "text/html": [
       "<p><strong><pre style='display: inline;'>q7a</pre></strong> passed! 🚀</p>"
      ],
      "text/plain": [
       "q7a results: All test cases passed!"
      ]
     },
     "execution_count": 19,
     "metadata": {},
     "output_type": "execute_result"
    }
   ],
   "source": [
    "grader.check(\"q7a\")"
   ]
  },
  {
   "cell_type": "markdown",
   "id": "e3c5f605",
   "metadata": {},
   "source": [
    "<!-- BEGIN QUESTION -->\n",
    "\n",
    "### Question 7b\n",
    "\n",
    "Create two line plots below. The first should show the relationship between the number of votes (*y-axis*) vs runtime (*x-axis*); and the second will show the relationship between average rating (*y-axis*) and runtime (*x-axis*). Use the columns from the table generated in the previous part, `q7df`. If your SQL query is correct you should get some interesting plots below. This might explain why directors keep going with a particular range of runtimes. \n",
    " "
   ]
  },
  {
   "cell_type": "code",
   "execution_count": 20,
   "id": "7dfe1462",
   "metadata": {
    "tags": []
   },
   "outputs": [
    {
     "data": {
      "image/png": "[encoded data removed]",
      "text/plain": [
       "<Figure size 800x400 with 2 Axes>"
      ]
     },
     "metadata": {},
     "output_type": "display_data"
    }
   ],
   "source": [
    "\n",
    "plt.figure(figsize=(8, 4))\n",
    "plt.subplot(1, 2, 1) # DO NOT MODIFY THIS LINE\n",
    "plt.plot(q7df['runtimeBin'], q7df['averageNumVotes'], marker='o')\n",
    "plt.title('Number of Votes vs Runtime')\n",
    "plt.xlabel('Runtime (minutes)')\n",
    "plt.ylabel('Average Number of Votes')\n",
    "plt.subplot(1, 2, 2) # DO NOT MODIFY THIS LINE\n",
    "plt.plot(q7df['runtimeBin'], q7df['averageRating'], marker='o')\n",
    "plt.title('Average Rating vs Runtime')\n",
    "plt.xlabel('Runtime (minutes)')\n",
    "plt.ylabel('Average Rating')\n",
    "\n",
    "plt.tight_layout()\n",
    "plt.show()\n"
   ]
  },
  {
   "cell_type": "markdown",
   "id": "d53eb6f9",
   "metadata": {},
   "source": [
    "<!-- END QUESTION -->\n",
    "\n",
    "## Question 8\n",
    "\n",
    "Which **movie actors** have the highest average ratings across all the movies in which they star? Again, define **\"movie actor\"** as anyone with an `actor` or `actress` job category role in a `movie` title type.\n",
    "\n",
    "Construct a query that generates a resulting table consisting of the **movie actor's name**  (as `name`) and their **average actor rating** (as `actorRating`) computed by rescaling ratings for movies in which they had a role:\n",
    "\n",
    "$$\n",
    "\\text{actorRating} = \n",
    "\\frac{\\sum_m \\text{averageRating}[m] * \\text{numVotes}[m]}{\\sum_m \\text{numVotes}[m]}\n",
    "$$\n",
    "\n",
    "In addition, only consider ratings where there are **at least 1000** votes and only consider movie actors that have **at least 20 rated performances**. Present the movie actors with the **top 10** `actorRating` in descending order and break ties alphabetically using the movie actor's name.\n",
    "\n",
    "The results should look something like this but without the `????`, and with higher rating precision.\n",
    "\n",
    "| | name | actorRating |\n",
    "|-----|-----|-----|\n",
    "|**0**|????|8.4413...|\n",
    "|**1**|????|8.2473...|\n",
    "|**2**|????|8.1383...|\n",
    "|**3**|????|8.1339...|\n",
    "|**4**|????|8.0349...|\n",
    "|**5**|????|7.9898...|\n",
    "|**6**|????|7.9464...|\n",
    "|**7**|????|7.9330...|\n",
    "|**8**|????|7.9261...|\n",
    "|**9**|????|7.8668...|\n",
    "\n",
    "\n",
    "**Note**:\n",
    "* ***The query should take < 3 minutes to run.***\n",
    "* If an actor/actress has multiple `role` listings for a movie, then that movie will have a bigger impact in the overall average (this is desired)."
   ]
  },
  {
   "cell_type": "code",
   "execution_count": 21,
   "id": "6aeeba11",
   "metadata": {
    "tags": []
   },
   "outputs": [
    {
     "name": "stdout",
     "output_type": "stream",
     "text": [
      "> \n",
      "WITH ActorRatings AS (\n",
      "    SELECT\n",
      "        R.nconst AS actorId,\n",
      "        N.primaryName AS name,\n",
      "        SUM(Rt.averageRating * Rt.numVotes) AS totalRating,\n",
      "        SUM(Rt.numVotes) AS totalVotes,\n",
      "        COUNT(DISTINCT R.tconst) AS ratedPerformances\n",
      "    FROM Role AS R\n",
      "    JOIN Name AS N ON R.nconst = N.nconst\n",
      "    JOIN Rating AS Rt ON R.tconst = Rt.tconst\n",
      "    WHERE R.category IN ('actor', 'actress') AND Rt.numVotes >= 1000 GROUP BY actorId, name\n",
      "    HAVING  ratedPerformances >= 20 )\n",
      "SELECT name, totalRating / totalVotes AS actorRating FROM ActorRatings ORDER BY actorRating DESC, name LIMIT 10;\n",
      "\n",
      "\n"
     ]
    },
    {
     "data": {
      "text/html": [
       "<div>\n",
       "<style scoped>\n",
       "    .dataframe tbody tr th:only-of-type {\n",
       "        vertical-align: middle;\n",
       "    }\n",
       "\n",
       "    .dataframe tbody tr th {\n",
       "        vertical-align: top;\n",
       "    }\n",
       "\n",
       "    .dataframe thead th {\n",
       "        text-align: right;\n",
       "    }\n",
       "</style>\n",
       "<table border=\"1\" class=\"dataframe\">\n",
       "  <thead>\n",
       "    <tr style=\"text-align: right;\">\n",
       "      <th></th>\n",
       "      <th>name</th>\n",
       "      <th>actorRating</th>\n",
       "    </tr>\n",
       "  </thead>\n",
       "  <tbody>\n",
       "    <tr>\n",
       "      <th>0</th>\n",
       "      <td>Anna Gunn</td>\n",
       "      <td>9.444474</td>\n",
       "    </tr>\n",
       "    <tr>\n",
       "      <th>1</th>\n",
       "      <td>Dean Norris</td>\n",
       "      <td>9.190228</td>\n",
       "    </tr>\n",
       "    <tr>\n",
       "      <th>2</th>\n",
       "      <td>Aaron Paul</td>\n",
       "      <td>8.936393</td>\n",
       "    </tr>\n",
       "    <tr>\n",
       "      <th>3</th>\n",
       "      <td>Kit Harington</td>\n",
       "      <td>8.903395</td>\n",
       "    </tr>\n",
       "    <tr>\n",
       "      <th>4</th>\n",
       "      <td>Diane Keaton</td>\n",
       "      <td>8.440924</td>\n",
       "    </tr>\n",
       "    <tr>\n",
       "      <th>5</th>\n",
       "      <td>Peter Dinklage</td>\n",
       "      <td>8.363749</td>\n",
       "    </tr>\n",
       "    <tr>\n",
       "      <th>6</th>\n",
       "      <td>Bryan Cranston</td>\n",
       "      <td>8.359993</td>\n",
       "    </tr>\n",
       "    <tr>\n",
       "      <th>7</th>\n",
       "      <td>Emilia Clarke</td>\n",
       "      <td>8.287443</td>\n",
       "    </tr>\n",
       "    <tr>\n",
       "      <th>8</th>\n",
       "      <td>Nikolaj Coster-Waldau</td>\n",
       "      <td>8.263317</td>\n",
       "    </tr>\n",
       "    <tr>\n",
       "      <th>9</th>\n",
       "      <td>Tim Robbins</td>\n",
       "      <td>8.247318</td>\n",
       "    </tr>\n",
       "  </tbody>\n",
       "</table>\n",
       "</div>"
      ],
      "text/plain": [
       "                    name  actorRating\n",
       "0              Anna Gunn     9.444474\n",
       "1            Dean Norris     9.190228\n",
       "2             Aaron Paul     8.936393\n",
       "3          Kit Harington     8.903395\n",
       "4           Diane Keaton     8.440924\n",
       "5         Peter Dinklage     8.363749\n",
       "6         Bryan Cranston     8.359993\n",
       "7          Emilia Clarke     8.287443\n",
       "8  Nikolaj Coster-Waldau     8.263317\n",
       "9            Tim Robbins     8.247318"
      ]
     },
     "metadata": {},
     "output_type": "display_data"
    }
   ],
   "source": [
    "q8query = \"\"\"\n",
    "WITH ActorRatings AS (\n",
    "    SELECT\n",
    "        R.nconst AS actorId,\n",
    "        N.primaryName AS name,\n",
    "        SUM(Rt.averageRating * Rt.numVotes) AS totalRating,\n",
    "        SUM(Rt.numVotes) AS totalVotes,\n",
    "        COUNT(DISTINCT R.tconst) AS ratedPerformances\n",
    "    FROM Role AS R\n",
    "    JOIN Name AS N ON R.nconst = N.nconst\n",
    "    JOIN Rating AS Rt ON R.tconst = Rt.tconst\n",
    "    WHERE R.category IN ('actor', 'actress') AND Rt.numVotes >= 1000 GROUP BY actorId, name\n",
    "    HAVING  ratedPerformances >= 20 )\n",
    "SELECT name, totalRating / totalVotes AS actorRating FROM ActorRatings ORDER BY actorRating DESC, name LIMIT 10;\n",
    "\n",
    "\"\"\"\n",
    "q8df = pretty_print_sql(conn, q8query)\n"
   ]
  },
  {
   "cell_type": "code",
   "execution_count": 22,
   "id": "d375cd1a",
   "metadata": {
    "deletable": false,
    "editable": false
   },
   "outputs": [
    {
     "data": {
      "text/html": [
       "<p><strong><pre style='display: inline;'>q8</pre></strong> passed! 🌈</p>"
      ],
      "text/plain": [
       "q8 results: All test cases passed!"
      ]
     },
     "execution_count": 22,
     "metadata": {},
     "output_type": "execute_result"
    }
   ],
   "source": [
    "grader.check(\"q8\")"
   ]
  },
  {
   "cell_type": "markdown",
   "id": "394884f7",
   "metadata": {
    "deletable": false,
    "editable": false
   },
   "source": [
    "## Submission\n",
    "\n",
    "Make sure you have run all cells in your notebook in order before running the cell below, so that all images/graphs appear in the output. The cell below will generate a zip file for you to submit. **Please save before exporting!**"
   ]
  },
  {
   "cell_type": "code",
   "execution_count": 23,
   "id": "2922c8f4",
   "metadata": {
    "deletable": false,
    "editable": false
   },
   "outputs": [
    {
     "data": {
      "text/html": [
       "\n",
       "                    <p>\n",
       "                        Your submission has been exported. Click\n",
       "                        <a href=\"p4a_2023_12_07T13_24_42_459436.zip\" download=\"p4a_2023_12_07T13_24_42_459436.zip\" target=\"_blank\">here</a> to download\n",
       "                        the zip file.\n",
       "                    </p>\n",
       "                "
      ],
      "text/plain": [
       "<IPython.core.display.HTML object>"
      ]
     },
     "metadata": {},
     "output_type": "display_data"
    }
   ],
   "source": [
    "# Save your notebook first, then run this cell to export your submission.\n",
    "grader.export(pdf=False)"
   ]
  },
  {
   "cell_type": "markdown",
   "id": "f218b5e1",
   "metadata": {},
   "source": [
    " "
   ]
  }
 ],
 "metadata": {
  "kernelspec": {
   "display_name": "Python [conda env:.conda-un5550] *",
   "language": "python",
   "name": "conda-env-.conda-un5550-py"
  },
  "language_info": {
   "codemirror_mode": {
    "name": "ipython",
    "version": 3
   },
   "file_extension": ".py",
   "mimetype": "text/x-python",
   "name": "python",
   "nbconvert_exporter": "python",
   "pygments_lexer": "ipython3",
   "version": "3.10.12"
  },
  "otter": {
   "OK_FORMAT": true,
   "assignment_name": "p4a",
   "tests": {
    "q1": {
     "name": "q1",
     "points": 3,
     "suites": [
      {
       "cases": [
        {
         "code": ">>> q1df.shape == (9, 1)\nTrue",
         "hidden": false,
         "locked": false
        },
        {
         "code": ">>> \"group by\" not in q1query.lower()\nTrue",
         "hidden": false,
         "locked": false
        },
        {
         "code": ">>> sorted(list(q1df.iloc[:,0])) == ['movie', 'short', 'tvEpisode', 'tvMiniSeries', \n...                                   'tvMovie', 'tvSeries', 'tvSpecial', 'video', \n...                                  'videoGame']\nTrue",
         "hidden": false,
         "locked": false
        }
       ],
       "scored": true,
       "setup": "",
       "teardown": "",
       "type": "doctest"
      }
     ]
    },
    "q2": {
     "name": "q2",
     "points": [
      1,
      1.5,
      1.5
     ],
     "suites": [
      {
       "cases": [
        {
         "code": ">>> q2df.shape == (12,2)\nTrue",
         "hidden": false,
         "locked": false
        },
        {
         "code": ">>> list(q2df['total']) == [21665, 13830, 12175, 11028, 6995, 4123, 2747, 1558, \n...                         623, 410, 66, 6]\nTrue",
         "hidden": false,
         "locked": false
        },
        {
         "code": ">>> list(q2df['category']) == ['actor',\n...                            'writer',\n...                            'actress',\n...                            'producer',\n...                            'director',\n...                            'composer',\n...                            'cinematographer',\n...                            'editor',\n...                            'self',\n...                            'production_designer',\n...                            'archive_footage',\n...                            'archive_sound']\nTrue",
         "hidden": false,
         "locked": false
        }
       ],
       "scored": true,
       "setup": "",
       "teardown": "",
       "type": "doctest"
      }
     ]
    },
    "q3": {
     "name": "q3",
     "points": [
      0.5,
      0.5,
      0.5
     ],
     "suites": [
      {
       "cases": [
        {
         "code": ">>> q3df.shape == (10,3)\nTrue",
         "hidden": false,
         "locked": false
        },
        {
         "code": ">>> set(q3df.columns) == set(['startYear', 'primaryTitle', 'titleType'])\nTrue",
         "hidden": false,
         "locked": false
        },
        {
         "code": ">>> np.all(q3df[\"titleType\"] == \"movie\")\nTrue",
         "hidden": false,
         "locked": false
        }
       ],
       "scored": true,
       "setup": "",
       "teardown": "",
       "type": "doctest"
      }
     ]
    },
    "q4": {
     "name": "q4",
     "points": 6,
     "suites": [
      {
       "cases": [
        {
         "code": ">>> q4df.shape == (102, 2)\nTrue",
         "hidden": false,
         "locked": false
        },
        {
         "code": ">>> set(q4df.columns) == set(['startYear', 'total'])\nTrue",
         "hidden": false,
         "locked": false
        }
       ],
       "scored": true,
       "setup": "",
       "teardown": "",
       "type": "doctest"
      }
     ]
    },
    "q5": {
     "name": "q5",
     "points": 8,
     "suites": [
      {
       "cases": [
        {
         "code": ">>> q5df.shape == (10, 2)\nTrue",
         "hidden": false,
         "locked": false
        },
        {
         "code": ">>> set(q5df.columns) == set(['name', 'total'])\nTrue",
         "hidden": false,
         "locked": false
        },
        {
         "code": ">>> all(q5df['total'] == [64, 54, 53, 49, 46, 43, 41, 40, 40, 39])\nTrue",
         "hidden": false,
         "locked": false
        }
       ],
       "scored": true,
       "setup": "",
       "teardown": "",
       "type": "doctest"
      }
     ]
    },
    "q6": {
     "name": "q6",
     "points": [
      1,
      1,
      1
     ],
     "suites": [
      {
       "cases": [
        {
         "code": ">>> q6df.shape == (2, 2)\nTrue",
         "hidden": false,
         "locked": false
        },
        {
         "code": ">>> set(q6df.columns) == set(['isBigHit', 'total'])\nTrue",
         "hidden": false,
         "locked": false
        },
        {
         "code": ">>> set(q6df['isBigHit']) == set(['yes', 'no'])\nTrue",
         "hidden": false,
         "locked": false
        }
       ],
       "scored": true,
       "setup": "",
       "teardown": "",
       "type": "doctest"
      }
     ]
    },
    "q7a": {
     "name": "q7a",
     "points": 10,
     "suites": [
      {
       "cases": [
        {
         "code": ">>> q7df.shape == (26, 4)\nTrue",
         "hidden": false,
         "locked": false
        },
        {
         "code": ">>> set(q7df.columns) == set(['runtimeBin', 'averageRating', 'averageNumVotes', 'total'])\nTrue",
         "hidden": false,
         "locked": false
        },
        {
         "code": ">>> q7df[\"runtimeBin\"].min() == 50.0\nTrue",
         "hidden": false,
         "locked": false
        },
        {
         "code": ">>> q7df[\"runtimeBin\"].max() == 370.0\nTrue",
         "hidden": false,
         "locked": false
        }
       ],
       "scored": true,
       "setup": "",
       "teardown": "",
       "type": "doctest"
      }
     ]
    },
    "q8": {
     "name": "q8",
     "points": [
      1,
      1
     ],
     "suites": [
      {
       "cases": [
        {
         "code": ">>> q8df.shape == (10, 2)\nTrue",
         "hidden": false,
         "locked": false
        },
        {
         "code": ">>> set(q8df.columns) == set(['name', 'actorRating'])\nTrue",
         "hidden": false,
         "locked": false
        }
       ],
       "scored": true,
       "setup": "",
       "teardown": "",
       "type": "doctest"
      }
     ]
    }
   }
  }
 },
 "nbformat": 4,
 "nbformat_minor": 5
}
