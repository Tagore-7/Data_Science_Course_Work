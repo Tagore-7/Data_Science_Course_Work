{
 "cells": [
  {
   "cell_type": "markdown",
   "id": "90c38507",
   "metadata": {
    "id": "xMC9hGGknkad"
   },
   "source": [
    "# P3 \n",
    "\n",
    "\n",
    "This project gives you experience with getting data from the web. \n",
    "\n"
   ]
  },
  {
   "cell_type": "code",
   "execution_count": 1,
   "id": "c2c3e907",
   "metadata": {
    "executionInfo": {
     "elapsed": 318,
     "status": "ok",
     "timestamp": 1638973997163,
     "user": {
      "displayName": "Laura Brown",
      "photoUrl": "https://lh3.googleusercontent.com/a-/AOh14GjYbC5So3kNOYBteW-fSY5JpgP-bBJa7kyAEluaKg=s64",
      "userId": "02180634349638765126"
     },
     "user_tz": 300
    },
    "id": "4i05x2H2uD9z",
    "tags": []
   },
   "outputs": [],
   "source": [
    "import pandas as pd \n",
    "import numpy as np\n",
    "from bs4 import BeautifulSoup\n",
    "import requests \n",
    "import re\n",
    "import os\n",
    "import datetime\n",
    "import json\n",
    "from io import StringIO\n",
    "\n",
    "from getpass import getpass\n",
    "\n",
    "import matplotlib.pyplot as plt\n",
    "%matplotlib inline \n",
    "import seaborn as sns\n",
    "\n",
    "import otter\n",
    "grader = otter.Notebook()\n",
    "\n",
    "if re.search(r'amzn', os.uname().release):\n",
    "    GS = True\n",
    "else:\n",
    "    GS = False"
   ]
  },
  {
   "cell_type": "markdown",
   "id": "75e01932",
   "metadata": {},
   "source": [
    "**NOTE** A note on grading for this project.  \n",
    "Each question has the total points listed which will be split between autograding methods and manual grading; make sure you review your code to achieve the requested result.   "
   ]
  },
  {
   "cell_type": "markdown",
   "id": "11245455",
   "metadata": {
    "deletable": false,
    "editable": false,
    "id": "3Gnokidqn_H7"
   },
   "source": [
    "## Q1 - (6 pts total)\n",
    "\n",
    "Scrape [https://www.data.gov](https://www.data.gov) to identify and print out the number of data sets available."
   ]
  },
  {
   "cell_type": "code",
   "execution_count": 2,
   "id": "59f32087",
   "metadata": {
    "executionInfo": {
     "elapsed": 392,
     "status": "ok",
     "timestamp": 1638977359150,
     "user": {
      "displayName": "Laura Brown",
      "photoUrl": "https://lh3.googleusercontent.com/a-/AOh14GjYbC5So3kNOYBteW-fSY5JpgP-bBJa7kyAEluaKg=s64",
      "userId": "02180634349638765126"
     },
     "user_tz": 300
    },
    "id": "MLg0cuqsoMU8",
    "tags": []
   },
   "outputs": [],
   "source": [
    "site = requests.get('https://www.data.gov').text\n",
    "q1 = BeautifulSoup(site, 'html5lib')"
   ]
  },
  {
   "cell_type": "code",
   "execution_count": 3,
   "id": "65a7062d",
   "metadata": {
    "tags": []
   },
   "outputs": [
    {
     "name": "stdout",
     "output_type": "stream",
     "text": [
      "The number of datasets is  259718\n"
     ]
    }
   ],
   "source": [
    "q1_num_datasets =  int(q1.find('span',\"text-color-red\").text.replace(',', ''))   # q1_num_datasets should be an integer  \n",
    "print(\"The number of datasets is \", str(q1_num_datasets))"
   ]
  },
  {
   "cell_type": "code",
   "execution_count": 4,
   "id": "da9ce313",
   "metadata": {
    "deletable": false,
    "editable": false
   },
   "outputs": [
    {
     "data": {
      "text/html": [
       "<p><strong><pre style='display: inline;'>q1</pre></strong> passed! 🎉</p>"
      ],
      "text/plain": [
       "q1 results: All test cases passed!"
      ]
     },
     "execution_count": 4,
     "metadata": {},
     "output_type": "execute_result"
    }
   ],
   "source": [
    "grader.check(\"q1\")"
   ]
  },
  {
   "cell_type": "markdown",
   "id": "86e86709",
   "metadata": {
    "deletable": false,
    "editable": false,
    "id": "3mJlHZc8pYNK"
   },
   "source": [
    "## Q2 - (30 pts total) \n",
    "\n",
    "From the list of top 200 most popular names for babies born in the US in the 2010s.  We are interested in the names that start with 'C' or contain a letter  'X' or 'x'.  \n",
    "\n",
    "Create a DataFrame with the names that start with 'X' or contain a letter  'X' or 'x' (for both male and female together), their rank, and the number of times the name is used.  DataFrame has four columns: \"Rank\" - int, \"Names\" - str, \"Number\" - int, and \"Gender\" - str - \"Male\"/\"Female\". \n",
    "\n",
    "Examples names from the table are: \n",
    "* 8, Alexander, 142043\n",
    "* 9, Charlotte, 102409\n",
    "* 15, Chloe, 85235\n",
    "* 27, Christopher, 102040\n",
    "* ... \n",
    "\n",
    "Display the first 10 rows of the DataFrame, sorted by decreasing number.  Also, print out the sum of the number of the 'X' names and the sum of the number of names with 'X' or 'x'.  \n",
    "\n",
    "Data available at: https://www.ssa.gov/OACT/babynames/decades/names2010s.html"
   ]
  },
  {
   "cell_type": "code",
   "execution_count": 5,
   "id": "2e7f6a39",
   "metadata": {
    "id": "59rffn1hqxj1",
    "tags": []
   },
   "outputs": [],
   "source": [
    "site = requests.get('https://www.ssa.gov/OACT/babynames/decades/names2010s.html').text\n",
    "q2 = BeautifulSoup(site, 'html5lib')"
   ]
  },
  {
   "cell_type": "code",
   "execution_count": 6,
   "id": "a4300ae9",
   "metadata": {
    "tags": []
   },
   "outputs": [],
   "source": [
    "# Get the table \n",
    "table = q2.find('table', \"t-stripe\")\n",
    "header = []\n",
    "rows = []\n",
    "for i, row in enumerate(table.find_all('tr')):\n",
    "    if i == 0:\n",
    "        header = [element.text.strip() for element in row.find_all('th')]\n",
    "    else:\n",
    "        rows.append([element.text.strip() for element in row.find_all('td')])\n",
    "rows = rows[1:201]\n",
    "# convert the rows list into dataframe with required coloumn\n",
    "names = pd.DataFrame(rows, columns = ['Rank', 'Name_Male', 'Number_Male', 'Name_Female', 'Number_Female'])\n",
    "\n",
    "# For combining the male and female names and numbers \n",
    "Rank = names['Rank'].tolist()\n",
    "Names_Male = names['Name_Male'].tolist()\n",
    "Number_Male = names['Number_Male'].tolist()\n",
    "Names_Female = names['Name_Female'].tolist()\n",
    "Number_Female = names['Number_Female'].tolist()\n",
    "\n",
    "# Adding the ranks, names, numbers to make final dataframe\n",
    "Rank = Rank + Rank\n",
    "names = Names_Male + Names_Female\n",
    "numbers = Number_Male + Number_Female\n",
    "# For creating a gender column \n",
    "genders = ['Male'] * len(Number_Male) + ['Female'] * len(Names_Female)\n"
   ]
  },
  {
   "cell_type": "code",
   "execution_count": 7,
   "id": "7fc074a0",
   "metadata": {
    "colab": {
     "base_uri": "https://localhost:8080/",
     "height": 391
    },
    "executionInfo": {
     "elapsed": 320,
     "status": "ok",
     "timestamp": 1633719248228,
     "user": {
      "displayName": "Laura Brown",
      "photoUrl": "https://lh3.googleusercontent.com/a-/AOh14GjYbC5So3kNOYBteW-fSY5JpgP-bBJa7kyAEluaKg=s64",
      "userId": "02180634349638765126"
     },
     "user_tz": 240
    },
    "id": "FQ-XVx5_qxXO",
    "outputId": "acdaee3f-515f-4e0c-83a1-3c1bb423d930",
    "tags": []
   },
   "outputs": [
    {
     "name": "stdout",
     "output_type": "stream",
     "text": [
      "Total number of names that start with C  : 1390108\n",
      "Total number of names that contain X/x   : 642599\n"
     ]
    },
    {
     "data": {
      "text/html": [
       "<div>\n",
       "<style scoped>\n",
       "    .dataframe tbody tr th:only-of-type {\n",
       "        vertical-align: middle;\n",
       "    }\n",
       "\n",
       "    .dataframe tbody tr th {\n",
       "        vertical-align: top;\n",
       "    }\n",
       "\n",
       "    .dataframe thead th {\n",
       "        text-align: right;\n",
       "    }\n",
       "</style>\n",
       "<table border=\"1\" class=\"dataframe\">\n",
       "  <thead>\n",
       "    <tr style=\"text-align: right;\">\n",
       "      <th></th>\n",
       "      <th>Rank</th>\n",
       "      <th>Name</th>\n",
       "      <th>Num</th>\n",
       "      <th>Gender</th>\n",
       "    </tr>\n",
       "  </thead>\n",
       "  <tbody>\n",
       "    <tr>\n",
       "      <th>7</th>\n",
       "      <td>8</td>\n",
       "      <td>Alexander</td>\n",
       "      <td>142043</td>\n",
       "      <td>Male</td>\n",
       "    </tr>\n",
       "    <tr>\n",
       "      <th>26</th>\n",
       "      <td>27</td>\n",
       "      <td>Christopher</td>\n",
       "      <td>102040</td>\n",
       "      <td>Male</td>\n",
       "    </tr>\n",
       "    <tr>\n",
       "      <th>29</th>\n",
       "      <td>30</td>\n",
       "      <td>Carter</td>\n",
       "      <td>95188</td>\n",
       "      <td>Male</td>\n",
       "    </tr>\n",
       "    <tr>\n",
       "      <th>37</th>\n",
       "      <td>38</td>\n",
       "      <td>Caleb</td>\n",
       "      <td>86661</td>\n",
       "      <td>Male</td>\n",
       "    </tr>\n",
       "    <tr>\n",
       "      <th>40</th>\n",
       "      <td>41</td>\n",
       "      <td>Christian</td>\n",
       "      <td>84097</td>\n",
       "      <td>Male</td>\n",
       "    </tr>\n",
       "    <tr>\n",
       "      <th>49</th>\n",
       "      <td>50</td>\n",
       "      <td>Charles</td>\n",
       "      <td>69958</td>\n",
       "      <td>Male</td>\n",
       "    </tr>\n",
       "    <tr>\n",
       "      <th>51</th>\n",
       "      <td>52</td>\n",
       "      <td>Jaxon</td>\n",
       "      <td>69103</td>\n",
       "      <td>Male</td>\n",
       "    </tr>\n",
       "    <tr>\n",
       "      <th>52</th>\n",
       "      <td>53</td>\n",
       "      <td>Connor</td>\n",
       "      <td>68243</td>\n",
       "      <td>Male</td>\n",
       "    </tr>\n",
       "    <tr>\n",
       "      <th>56</th>\n",
       "      <td>57</td>\n",
       "      <td>Cameron</td>\n",
       "      <td>66156</td>\n",
       "      <td>Male</td>\n",
       "    </tr>\n",
       "    <tr>\n",
       "      <th>67</th>\n",
       "      <td>68</td>\n",
       "      <td>Colton</td>\n",
       "      <td>58416</td>\n",
       "      <td>Male</td>\n",
       "    </tr>\n",
       "  </tbody>\n",
       "</table>\n",
       "</div>"
      ],
      "text/plain": [
       "    Rank         Name     Num Gender\n",
       "7      8    Alexander  142043   Male\n",
       "26    27  Christopher  102040   Male\n",
       "29    30       Carter   95188   Male\n",
       "37    38        Caleb   86661   Male\n",
       "40    41    Christian   84097   Male\n",
       "49    50      Charles   69958   Male\n",
       "51    52        Jaxon   69103   Male\n",
       "52    53       Connor   68243   Male\n",
       "56    57      Cameron   66156   Male\n",
       "67    68       Colton   58416   Male"
      ]
     },
     "execution_count": 7,
     "metadata": {},
     "output_type": "execute_result"
    }
   ],
   "source": [
    "# Create a DataFrame 'names' for the names that start with C or have a X/x\n",
    "# The 'names' DataFrame has four colummns: \n",
    "#   'Rank' (int) \n",
    "#   'Name' (str)\n",
    "#   'Num' (int) \n",
    "#   'Gender' (str) 'Female' / 'Male'\n",
    "\n",
    "names = pd.DataFrame({'Rank':Rank,'Name': names, 'Num' : numbers,'Gender' : genders})\n",
    "names = names[names['Name'].str.contains('C|^X|x')]\n",
    "names['Rank'] = names['Rank'].astype(int)\n",
    "names['Name'] = names['Name'].astype(str)\n",
    "names['Num'] = names['Num'].astype(str).str.replace(',', '').astype(int)\n",
    "names['Gender'] = names['Gender'].astype(str)\n",
    "\n",
    "numCnames = names[names['Name'].str.startswith('C')]['Num'].sum()  # the sum of the names beginning with C \n",
    "numXnames = names[names['Name'].str.contains('^X|x')]['Num'].sum()   # the sum of the names with a X/x\n",
    "\n",
    "\n",
    "print(\"Total number of names that start with C  : \" + str(numCnames))\n",
    "print(\"Total number of names that contain X/x   : \" + str(numXnames))\n",
    "\n",
    "names.head(10)"
   ]
  },
  {
   "cell_type": "code",
   "execution_count": 8,
   "id": "6835423c",
   "metadata": {
    "deletable": false,
    "editable": false
   },
   "outputs": [
    {
     "data": {
      "text/html": [
       "<p><strong><pre style='display: inline;'>q2</pre></strong> passed! 🌟</p>"
      ],
      "text/plain": [
       "q2 results: All test cases passed!"
      ]
     },
     "execution_count": 8,
     "metadata": {},
     "output_type": "execute_result"
    }
   ],
   "source": [
    "grader.check(\"q2\")"
   ]
  },
  {
   "cell_type": "markdown",
   "id": "e13d366e",
   "metadata": {
    "deletable": false,
    "editable": false,
    "id": "JzLFYsEgq1kx"
   },
   "source": [
    "## Q3 - (24 pts total) \n",
    "\n",
    "Use Python to scrape the articles posted to https://techcrunch.com/  front page under \"The Latest\", and report this in a DataFrame.  \n",
    "\n",
    "The columns of the DataFrame `news` should be:\n",
    "\n",
    "* 'Title' - article title, type `object` *string*\n",
    "* 'Date' - publish date, type `datetime64[ns, tz]` _will have to convert to this type_\n",
    "* 'Author' - author, type `object` *string*\n",
    "\n",
    "Note: be respectful to the website (obey robots.txt information) and do not repeatedly access the site.\n"
   ]
  },
  {
   "cell_type": "code",
   "execution_count": 9,
   "id": "57250b56",
   "metadata": {
    "id": "lYL-RJRprIF5",
    "tags": []
   },
   "outputs": [],
   "source": [
    "html = requests.get(\"https://techcrunch.com\").text\n",
    "soup = BeautifulSoup(html, 'html5lib')"
   ]
  },
  {
   "cell_type": "code",
   "execution_count": 10,
   "id": "8959e1c8",
   "metadata": {
    "colab": {
     "base_uri": "https://localhost:8080/",
     "height": 662
    },
    "executionInfo": {
     "elapsed": 159,
     "status": "ok",
     "timestamp": 1633719968205,
     "user": {
      "displayName": "Laura Brown",
      "photoUrl": "https://lh3.googleusercontent.com/a-/AOh14GjYbC5So3kNOYBteW-fSY5JpgP-bBJa7kyAEluaKg=s64",
      "userId": "02180634349638765126"
     },
     "user_tz": 240
    },
    "id": "sNie1tvarIlF",
    "outputId": "9f808702-14b9-4cd4-eadf-fee4d1502d8e",
    "tags": []
   },
   "outputs": [
    {
     "data": {
      "text/html": [
       "<div>\n",
       "<style scoped>\n",
       "    .dataframe tbody tr th:only-of-type {\n",
       "        vertical-align: middle;\n",
       "    }\n",
       "\n",
       "    .dataframe tbody tr th {\n",
       "        vertical-align: top;\n",
       "    }\n",
       "\n",
       "    .dataframe thead th {\n",
       "        text-align: right;\n",
       "    }\n",
       "</style>\n",
       "<table border=\"1\" class=\"dataframe\">\n",
       "  <thead>\n",
       "    <tr style=\"text-align: right;\">\n",
       "      <th></th>\n",
       "      <th>Title</th>\n",
       "      <th>Date</th>\n",
       "      <th>Author</th>\n",
       "    </tr>\n",
       "  </thead>\n",
       "  <tbody>\n",
       "    <tr>\n",
       "      <th>0</th>\n",
       "      <td>Microsoft launches a deepfakes creator at Igni...</td>\n",
       "      <td>2023-11-15 15:30:19-08:00</td>\n",
       "      <td>Kyle Wiggers</td>\n",
       "    </tr>\n",
       "    <tr>\n",
       "      <th>1</th>\n",
       "      <td>Microsoft renames Bing Chat to Copilot as it c...</td>\n",
       "      <td>2023-11-15 15:20:47-08:00</td>\n",
       "      <td>Kyle Wiggers</td>\n",
       "    </tr>\n",
       "    <tr>\n",
       "      <th>2</th>\n",
       "      <td>Microsoft Teams gets an AI-powered home decora...</td>\n",
       "      <td>2023-11-15 15:10:58-08:00</td>\n",
       "      <td>Frederic Lardinois</td>\n",
       "    </tr>\n",
       "    <tr>\n",
       "      <th>3</th>\n",
       "      <td>Threads starts testing hashtags…without the hash</td>\n",
       "      <td>2023-11-15 14:55:02-08:00</td>\n",
       "      <td>Sarah Perez</td>\n",
       "    </tr>\n",
       "    <tr>\n",
       "      <th>4</th>\n",
       "      <td>Microsoft combines Microsoft To Do, Planner an...</td>\n",
       "      <td>2023-11-15 14:50:04-08:00</td>\n",
       "      <td>Frederic Lardinois</td>\n",
       "    </tr>\n",
       "  </tbody>\n",
       "</table>\n",
       "</div>"
      ],
      "text/plain": [
       "                                               Title  \\\n",
       "0  Microsoft launches a deepfakes creator at Igni...   \n",
       "1  Microsoft renames Bing Chat to Copilot as it c...   \n",
       "2  Microsoft Teams gets an AI-powered home decora...   \n",
       "3   Threads starts testing hashtags…without the hash   \n",
       "4  Microsoft combines Microsoft To Do, Planner an...   \n",
       "\n",
       "                       Date              Author  \n",
       "0 2023-11-15 15:30:19-08:00        Kyle Wiggers  \n",
       "1 2023-11-15 15:20:47-08:00        Kyle Wiggers  \n",
       "2 2023-11-15 15:10:58-08:00  Frederic Lardinois  \n",
       "3 2023-11-15 14:55:02-08:00         Sarah Perez  \n",
       "4 2023-11-15 14:50:04-08:00  Frederic Lardinois  "
      ]
     },
     "execution_count": 10,
     "metadata": {},
     "output_type": "execute_result"
    }
   ],
   "source": [
    "# Pull information from website into DataFrame 'news'\n",
    "#  'news' has columns: \n",
    "#     - 'Title', str \n",
    "#     - 'Date', datetime object \n",
    "#     - 'Author', str \n",
    "\n",
    "# Get the article \n",
    "articles = soup.select('.post-block')\n",
    "Articles = []\n",
    "# Get the title, date, author from the article\n",
    "for article in articles:\n",
    "    Title = article.select_one('.post-block__title__link').text.strip()\n",
    "    Date = article.select_one('time')['datetime']\n",
    "    Author = article.select_one('.river-byline__authors a').text.strip()\n",
    "\n",
    "    Articles.append({'Title': Title, 'Date': Date, 'Author': Author})\n",
    "\n",
    "\n",
    "news = pd.DataFrame(Articles)\n",
    "news['Date'] = pd.to_datetime(news['Date'])\n",
    "\n",
    "news.head()"
   ]
  },
  {
   "cell_type": "code",
   "execution_count": 11,
   "id": "b2665936",
   "metadata": {
    "deletable": false,
    "editable": false
   },
   "outputs": [
    {
     "data": {
      "text/html": [
       "<p><strong><pre style='display: inline;'>q3</pre></strong> passed! 🌟</p>"
      ],
      "text/plain": [
       "q3 results: All test cases passed!"
      ]
     },
     "execution_count": 11,
     "metadata": {},
     "output_type": "execute_result"
    }
   ],
   "source": [
    "grader.check(\"q3\")"
   ]
  },
  {
   "cell_type": "markdown",
   "id": "793ab86f-e6f5-4a37-91b8-361c666c26ba",
   "metadata": {},
   "source": [
    "## Q4 \n",
    "\n",
    "For this problem, you will be getting data from an API.  We will be getting information from NASA about Near Earth Objects (NEOs).  \n",
    "\n",
    "First, you will need to get an API key to use the system.  You can get one at https://api.nasa.gov/. You’ll need to supply an email address, which can\n",
    "be either your MTU email or a personal email address.\n",
    "\n",
    "Be aware of the limitation on the requests per day from a given IP. \n",
    "\n",
    "Do not repeatedly hit the system for requests or you will shut down your access for the rest of the day. \n",
    "\n",
    "**Asteroids NeoWs API** \n",
    "\n",
    "We will be using the Asteroids NeoWs API.  You can find information on this API under the \"Browse APIs\" part of the website. \n",
    "\n",
    "We will use the \"feed\" endpoint to retrieve Near Earth Objects based on the\n",
    "date of their closest approach to Earth. This endpoint takes three parameters: \n",
    "`start_date`, `end_date` and `api_key`. \n",
    "\n",
    "\n",
    "\n"
   ]
  },
  {
   "cell_type": "markdown",
   "id": "f72602e6-5cb5-49e9-ae64-11b1866140c1",
   "metadata": {
    "deletable": false,
    "editable": false
   },
   "source": [
    "### Q4a - (8 pts total)\n",
    "\n",
    "You will construct the request string to retrieve the Near Earth Objects for January 1, 2021.  \n",
    "\n",
    "From the response, report the number of NEOs - `num_NEOs`. "
   ]
  },
  {
   "cell_type": "code",
   "execution_count": 12,
   "id": "cf0e90db-fe71-4984-8457-abd820e6f9d5",
   "metadata": {
    "deletable": false,
    "editable": false,
    "tags": []
   },
   "outputs": [
    {
     "name": "stdin",
     "output_type": "stream",
     "text": [
      "Enter Kaggle API Key:  ········································\n"
     ]
    }
   ],
   "source": [
    "if GS==False:\n",
    "    keys = {}\n",
    "    keys['NASA_KEY'] = getpass(\"Enter Kaggle API Key: \")"
   ]
  },
  {
   "cell_type": "code",
   "execution_count": 13,
   "id": "85329e0d-b7cc-4c6c-8fbc-7b22cdf169af",
   "metadata": {
    "tags": []
   },
   "outputs": [],
   "source": [
    "q4site = 'https://api.nasa.gov/neo/rest/v1/feed'\n",
    "q4a_start_date = '2021-01-01'\n",
    "q4a_end_date = '2021-01-01'\n",
    "q4a_api_key = keys['NASA_KEY']\n",
    "\n",
    "q4a_params = { 'start_date': q4a_start_date, 'end_date': q4a_end_date, 'api_key': q4a_api_key }\n",
    "\n",
    "q4a_resp = requests.get(q4site, q4a_params)\n",
    "\n",
    "NEO_data =  q4a_resp.json()\n",
    "\n",
    "num_NEOs = NEO_data['element_count']\n"
   ]
  },
  {
   "cell_type": "code",
   "execution_count": 14,
   "id": "1faff275",
   "metadata": {
    "deletable": false,
    "editable": false
   },
   "outputs": [
    {
     "data": {
      "text/html": [
       "<p><strong><pre style='display: inline;'>q4a</pre></strong> passed! 🙌</p>"
      ],
      "text/plain": [
       "q4a results: All test cases passed!"
      ]
     },
     "execution_count": 14,
     "metadata": {},
     "output_type": "execute_result"
    }
   ],
   "source": [
    "grader.check(\"q4a\")"
   ]
  },
  {
   "cell_type": "markdown",
   "id": "02035046-b09f-4d35-acff-b46efaeb4c1f",
   "metadata": {
    "deletable": false,
    "editable": false
   },
   "source": [
    "### Q4b - (12 pts total)\n",
    "\n",
    "You are writing a function to get all the Near Earth Objects for a particular day from the API.  \n",
    "\n",
    "The function `get_neos_response` has 4 inputs: \n",
    "\n",
    "* `key` - string, API Key \n",
    "* `year` - integer \n",
    "* `month` - integer, optional defaults to 1\n",
    "* `day` - integer, optional defaults to 1\n",
    "\n",
    "The function returns the JSON object from the NeoWs endpoint for the specified day. \n",
    "\n",
    "*Assumptions*   \n",
    "You may assume the `year`, `month`, `day` arguments are positive integers and that when formatted as `yyyy-mm-dd` specify a valid date. \n",
    "\n",
    "You make make use of any of the libraries imported at the top of the notebook, e.g., `datetime`, but may not import other libraries. \n",
    "\n",
    "*Suggestions*  \n",
    "Break into steps: \n",
    "\n",
    "1. Use the supplied date informaiton to construct the `start_date` and `end_date` strings needed for the API request. \n",
    "\n",
    "2. Use the `start_date` and `end_date` along with the API key to create a dictionary of parameters, `q4b_params`, and use `requests` to submit a HTTP GET request to the NASA API. \n",
    "\n",
    "3. Extract the JSON object in the resulting `requests` object and return it as a dictionary. \n",
    "\n"
   ]
  },
  {
   "cell_type": "code",
   "execution_count": 15,
   "id": "9d546105-b566-49d2-bcd9-286432cf02bf",
   "metadata": {
    "tags": []
   },
   "outputs": [],
   "source": [
    "# Function get_neos_response\n",
    "# Inputs: \n",
    "#  key - string, API key\n",
    "#  year - integer, required \n",
    "#  month - integer, optional default to 1\n",
    "#  day - integer, optional default to 1\n",
    "# Returns: \n",
    "#  JSON object that is returned by NASA NeoWs end point for specified day \n",
    "\n",
    "def get_neos_response(key, year, month =1, day = 1): \n",
    "\n",
    "    q4b_start_date = f\"{year}-{month:02d}-{day:02d}\"\n",
    "  \n",
    "    q4b_end_date = f\"{year}-{month:02d}-{day:02d}\"\n",
    "    \n",
    "    q4a_api_key = keys['NASA_KEY']\n",
    "    \n",
    "    q4b_params = { 'start_date': q4b_start_date, 'end_date': q4b_end_date, 'api_key': q4a_api_key }\n",
    "    \n",
    "    q4b_resp = requests.get('https://api.nasa.gov/neo/rest/v1/feed', q4b_params)\n",
    "    \n",
    "    NEO_data = q4b_resp.json()\n",
    "    \n",
    "    return NEO_data\n",
    "\n",
    "\n",
    "q4b_test1 = get_neos_response(keys['NASA_KEY'], 2022)\n",
    "q4b_test2 = get_neos_response(keys['NASA_KEY'], 1986, 2, 9)\n",
    "q4b_test3 = get_neos_response(keys['NASA_KEY'], 1958, 12)\n",
    "q4b_test4 = get_neos_response(keys['NASA_KEY'], 2021)\n",
    "q4b_test5 = get_neos_response(keys['NASA_KEY'], 2015, 1, 1)"
   ]
  },
  {
   "cell_type": "code",
   "execution_count": 16,
   "id": "9c307b83",
   "metadata": {
    "deletable": false,
    "editable": false
   },
   "outputs": [
    {
     "data": {
      "text/html": [
       "<p><strong><pre style='display: inline;'>q4b</pre></strong> passed! 💯</p>"
      ],
      "text/plain": [
       "q4b results: All test cases passed!"
      ]
     },
     "execution_count": 16,
     "metadata": {},
     "output_type": "execute_result"
    }
   ],
   "source": [
    "grader.check(\"q4b\")"
   ]
  },
  {
   "cell_type": "markdown",
   "id": "cd185733-0c7b-4845-94f5-0f6e9fcff8d4",
   "metadata": {
    "deletable": false,
    "editable": false
   },
   "source": [
    "### Q4c - (12 pts total)\n",
    "\n",
    "Now you will be asked to write a function `is_valid_date` that takes three input: \n",
    "\n",
    "* `year`, integer\n",
    "* `month`, integer \n",
    "* `day`, integer \n",
    "\n",
    "and returns a Boolean that is true if and only if the arguments are for a valid date. \n",
    "\n",
    "\n",
    "Examples of valid dates are: \n",
    " \n",
    " * 2021-10-31\n",
    " * 1934-02-20\n",
    " * 1968-07-30\n",
    " \n",
    "Examples of invalid dates are: \n",
    "\n",
    " * 2020-13-01 *no 13th month*\n",
    " * 2004-04-34 *no 34th day* \n",
    " * 1988-00-04 *no 0th month* \n",
    " * 1997-02-29 *no leap day* \n",
    " \n",
    "Accounting for [leap years](https://en.wikipedia.org/wiki/Leap_year) is more challenging.  Leap years (in the Gregorian calendar) are those that are divisible by 4, but not by 100, except if they are divisible by 400.  \n"
   ]
  },
  {
   "cell_type": "code",
   "execution_count": 17,
   "id": "4727d4a2-02dd-4777-a5ed-6e5824d870f8",
   "metadata": {
    "tags": []
   },
   "outputs": [],
   "source": [
    "# Function is_valid_date\n",
    "# Inputs: \n",
    "#  year - integer\n",
    "#  month - integer\n",
    "#  day - integer\n",
    "# Returns: \n",
    "#  Boolean - true if and only if the arguments are for a valid date  \n",
    "\n",
    "def is_valid_date(year, month, day): \n",
    "    # check for year, month, day validity \n",
    "    if year > 0 and 1 <= month <= 12 and 1<= day <=31:\n",
    "        # check for leap year\n",
    "        if month == 2:\n",
    "            if (day == 29 and ((year % 4 == 0 and year % 100 != 0) or (year % 400 == 0))):\n",
    "                return True\n",
    "            elif 1 <= day <= 28:\n",
    "                return True\n",
    "        # check odd months \n",
    "        elif month in [1, 3, 5, 7, 8, 10, 12] and 1 <= day <= 31:\n",
    "            return True\n",
    "        # check even months \n",
    "        elif month in [4, 6, 9, 11] and 1 <= day <= 30:\n",
    "            return True\n",
    "    return False\n",
    "\n",
    "\n",
    "q4c_test1 = is_valid_date(2023, 11, 9)\n",
    "q4c_test2 = is_valid_date(2020, 10, 32)\n",
    "q4c_test3 = is_valid_date(2020, 0, 1)\n",
    "q4c_test4 = is_valid_date(2023, 2, 29)\n",
    "q4c_test5 = is_valid_date(2016, 2, 29)\n",
    "q4c_test6 = is_valid_date(1990, 2, 29)\n",
    "q4c_test7 = is_valid_date(2020, 2, 29)"
   ]
  },
  {
   "cell_type": "code",
   "execution_count": 18,
   "id": "40123049",
   "metadata": {
    "deletable": false,
    "editable": false
   },
   "outputs": [
    {
     "data": {
      "text/html": [
       "<p><strong><pre style='display: inline;'>q4c</pre></strong> passed! 🍀</p>"
      ],
      "text/plain": [
       "q4c results: All test cases passed!"
      ]
     },
     "execution_count": 18,
     "metadata": {},
     "output_type": "execute_result"
    }
   ],
   "source": [
    "grader.check(\"q4c\")"
   ]
  },
  {
   "cell_type": "markdown",
   "id": "65410714-70bf-49c1-838e-c6f53226fd25",
   "metadata": {
    "deletable": false,
    "editable": false
   },
   "source": [
    "### Q4d - (22 pts total)\n",
    "\n",
    "Now you will write a function `get_neos_data` that takes the same arguments as `get_neos_response`, but now returns a DataFrame with some of the Near Earth Objects information. \n",
    "\n",
    "The function `get_neos_data` has 4 inputs:\n",
    "\n",
    "* `key` - string, API Key\n",
    "* `year` - integer\n",
    "* `month` - integer, optional defaults to 1\n",
    "* `day` - integer, optional defaults to 1\n",
    "\n",
    "You should check that the arguments are of the appropriate type and are all positive, if not return None. Additionally, if the arguments do not specify a valid date, return None. \n",
    "\n",
    "Use the `get_neos_response` function to get the JSON object for the date from NASA. \n",
    "\n",
    "Extract the following information into a DataFrame for the Near Earth Objects and return that DataFrame: \n",
    "\n",
    "* `id` the \"id\" of the NEO \n",
    "* `name` the \"name\" of the NEO \n",
    "* `minDim` the \"minimal diameter\" of the NEO in kilometers  (float)\n",
    "* `maxDim` the \"maximal diameter\" of the NEO in kilometers  (float)\n",
    "* `missDist` the \"miss distance\" of the NEO in kilometers  (float)\n",
    "* `orbitBody` the \"orbiting body\" of the NEO\n",
    "* `hazard` if the NEO \"is potentially hazardous\" \n",
    "\n",
    "\n"
   ]
  },
  {
   "cell_type": "code",
   "execution_count": 19,
   "id": "cd939300-3f53-4107-85a3-cf3cca53bba8",
   "metadata": {
    "tags": []
   },
   "outputs": [
    {
     "data": {
      "text/html": [
       "<div>\n",
       "<style scoped>\n",
       "    .dataframe tbody tr th:only-of-type {\n",
       "        vertical-align: middle;\n",
       "    }\n",
       "\n",
       "    .dataframe tbody tr th {\n",
       "        vertical-align: top;\n",
       "    }\n",
       "\n",
       "    .dataframe thead th {\n",
       "        text-align: right;\n",
       "    }\n",
       "</style>\n",
       "<table border=\"1\" class=\"dataframe\">\n",
       "  <thead>\n",
       "    <tr style=\"text-align: right;\">\n",
       "      <th></th>\n",
       "      <th>id</th>\n",
       "      <th>name</th>\n",
       "      <th>minDim</th>\n",
       "      <th>maxDim</th>\n",
       "      <th>missDist</th>\n",
       "      <th>orbitBody</th>\n",
       "      <th>hazard</th>\n",
       "    </tr>\n",
       "  </thead>\n",
       "  <tbody>\n",
       "    <tr>\n",
       "      <th>0</th>\n",
       "      <td>2363505</td>\n",
       "      <td>363505 (2003 UC20)</td>\n",
       "      <td>0.530341</td>\n",
       "      <td>1.185878</td>\n",
       "      <td>2.359123e+07</td>\n",
       "      <td>Earth</td>\n",
       "      <td>True</td>\n",
       "    </tr>\n",
       "    <tr>\n",
       "      <th>1</th>\n",
       "      <td>2376848</td>\n",
       "      <td>376848 (2001 RY47)</td>\n",
       "      <td>0.318094</td>\n",
       "      <td>0.711279</td>\n",
       "      <td>5.117541e+07</td>\n",
       "      <td>Earth</td>\n",
       "      <td>False</td>\n",
       "    </tr>\n",
       "    <tr>\n",
       "      <th>2</th>\n",
       "      <td>2488490</td>\n",
       "      <td>488490 (2000 AF205)</td>\n",
       "      <td>0.110804</td>\n",
       "      <td>0.247765</td>\n",
       "      <td>6.091417e+07</td>\n",
       "      <td>Earth</td>\n",
       "      <td>True</td>\n",
       "    </tr>\n",
       "    <tr>\n",
       "      <th>3</th>\n",
       "      <td>3388081</td>\n",
       "      <td>(2007 TL23)</td>\n",
       "      <td>0.134448</td>\n",
       "      <td>0.300635</td>\n",
       "      <td>2.957283e+07</td>\n",
       "      <td>Earth</td>\n",
       "      <td>True</td>\n",
       "    </tr>\n",
       "    <tr>\n",
       "      <th>4</th>\n",
       "      <td>3592308</td>\n",
       "      <td>(2012 AP10)</td>\n",
       "      <td>0.013322</td>\n",
       "      <td>0.029788</td>\n",
       "      <td>5.940803e+07</td>\n",
       "      <td>Earth</td>\n",
       "      <td>False</td>\n",
       "    </tr>\n",
       "  </tbody>\n",
       "</table>\n",
       "</div>"
      ],
      "text/plain": [
       "        id                 name    minDim    maxDim      missDist orbitBody  \\\n",
       "0  2363505   363505 (2003 UC20)  0.530341  1.185878  2.359123e+07     Earth   \n",
       "1  2376848   376848 (2001 RY47)  0.318094  0.711279  5.117541e+07     Earth   \n",
       "2  2488490  488490 (2000 AF205)  0.110804  0.247765  6.091417e+07     Earth   \n",
       "3  3388081          (2007 TL23)  0.134448  0.300635  2.957283e+07     Earth   \n",
       "4  3592308          (2012 AP10)  0.013322  0.029788  5.940803e+07     Earth   \n",
       "\n",
       "   hazard  \n",
       "0    True  \n",
       "1   False  \n",
       "2    True  \n",
       "3    True  \n",
       "4   False  "
      ]
     },
     "execution_count": 19,
     "metadata": {},
     "output_type": "execute_result"
    }
   ],
   "source": [
    "# Function get_neos_data\n",
    "# Inputs: \n",
    "#  key - string, API key\n",
    "#  year - integer, required \n",
    "#  month - integer, optional default to 1\n",
    "#  day - integer, optional default to 1\n",
    "# Returns: \n",
    "#  JSON object that is returned by NASA NeoWs end point for specified day \n",
    "\n",
    "def get_neos_data(key, year, month=1, day=1): \n",
    "\n",
    "    # Check inputs using the is_valid_date function \n",
    "    if (is_valid_date(year, month, day) == False):\n",
    "        \n",
    "        return None\n",
    "    \n",
    "    \n",
    "    # Get JSON Object with get_neos_response\n",
    "    \n",
    "    def get_neos_response(key, year, month =1, day = 1): \n",
    "\n",
    "        q4b_start_date = f\"{year}-{month:02d}-{day:02d}\"\n",
    "\n",
    "        q4b_end_date = f\"{year}-{month:02d}-{day:02d}\"\n",
    "\n",
    "        q4a_api_key = keys['NASA_KEY']\n",
    "\n",
    "        q4b_params = { 'start_date': q4b_start_date, 'end_date': q4b_end_date, 'api_key': q4a_api_key }\n",
    "\n",
    "        q4b_resp = requests.get('https://api.nasa.gov/neo/rest/v1/feed', q4b_params)\n",
    "\n",
    "        NEO_data = q4b_resp.json()\n",
    "\n",
    "        return NEO_data\n",
    "\n",
    "    # store the data NEO_Data\n",
    "    NEO_Data = get_neos_response(key, year, month, day)\n",
    "\n",
    "    # Get all the required data into DataFrame \n",
    "    neo_data = []\n",
    "    for data in NEO_Data['near_earth_objects']:\n",
    "        for neo in NEO_Data['near_earth_objects'][data]:\n",
    "            neo_data.append({\n",
    "                'id': neo['id'],\n",
    "                'name': neo['name'],\n",
    "                'minDim': neo['estimated_diameter']['kilometers']['estimated_diameter_min'],\n",
    "                'maxDim': neo['estimated_diameter']['kilometers']['estimated_diameter_max'],\n",
    "                'missDist': neo['close_approach_data'][0]['miss_distance']['kilometers'],\n",
    "                'orbitBody': neo['close_approach_data'][0]['orbiting_body'],\n",
    "                'hazard': neo['is_potentially_hazardous_asteroid']\n",
    "            })\n",
    "        \n",
    "    # Convert the data into dataframe \n",
    "    neos_df = pd.DataFrame(neo_data)\n",
    "    neos_df['missDist'] = neos_df['missDist'].astype(float)\n",
    "    \n",
    "    return neos_df\n",
    " \n",
    "\n",
    "\n",
    "\n",
    "q4d_df1 = get_neos_data(keys['NASA_KEY'], 2022)\n",
    "q4d_df2 = get_neos_data(keys['NASA_KEY'], 1986, 2, 9)\n",
    "q4d_df3 = get_neos_data(keys['NASA_KEY'], 1958, 12)\n",
    "q4d_df4 = get_neos_data(keys['NASA_KEY'], 2021)\n",
    "q4d_df5 = get_neos_data(keys['NASA_KEY'], 2015, 1, 40)\n",
    "q4d_df1.head()\n"
   ]
  },
  {
   "cell_type": "code",
   "execution_count": 20,
   "id": "11e7212f-3b74-4eb4-a300-48a2b302e168",
   "metadata": {
    "tags": []
   },
   "outputs": [],
   "source": [
    "#del keys  # remove api key from being saved "
   ]
  },
  {
   "cell_type": "code",
   "execution_count": 21,
   "id": "b7dd6322",
   "metadata": {
    "deletable": false,
    "editable": false
   },
   "outputs": [
    {
     "data": {
      "text/html": [
       "<p><strong><pre style='display: inline;'>q4d</pre></strong> passed! ✨</p>"
      ],
      "text/plain": [
       "q4d results: All test cases passed!"
      ]
     },
     "execution_count": 21,
     "metadata": {},
     "output_type": "execute_result"
    }
   ],
   "source": [
    "grader.check(\"q4d\")"
   ]
  },
  {
   "cell_type": "markdown",
   "id": "b969f188",
   "metadata": {
    "deletable": false,
    "editable": false
   },
   "source": [
    "<!-- BEGIN QUESTION -->\n",
    "\n",
    "## Bonus - (4 points) \n",
    "\n",
    "Going back to the names data from Q3.  Let's look at how the distribution of popular names has changed over time. \n",
    "\n",
    "Create a small multiples plot (meaning each plot is the same type and showing similar information in a grid).  \n",
    "\n",
    "The small multiples plot will show how the distribution of names has changed from the 1960s to 2010s.  \n",
    "\n",
    "1960s data - https://www.ssa.gov/OACT/babynames/decades/names1960s.html  \n",
    "1970s data - https://www.ssa.gov/OACT/babynames/decades/names1970s.html  \n",
    "...  \n",
    "2010s data - https://www.ssa.gov/OACT/babynames/decades/names2010s.html\n",
    "\n",
    "Let's focus on just how the distribution of girls names have changed.  This can be displayed using a line plot on just the top 100 names per decade.\n",
    "\n",
    "When getting the information, you should also scrape the total number of female births in that period to normalize the number of names as a percent in that decade. \n",
    "\n",
    "\n",
    "Your final grid should display: \n",
    "\n",
    "|         | Col 1 | Col 2 | \n",
    "|-------|-----------|-----------|\n",
    "| Row 1 | 1960 plot | 1970 plot | \n",
    "| Row 2 | 1980 plot | 1990 plot | \n",
    "| Row 3 | 2000 plot | 2010 plot | \n",
    "\n"
   ]
  },
  {
   "cell_type": "code",
   "execution_count": 22,
   "id": "7c2a9a54",
   "metadata": {
    "tags": []
   },
   "outputs": [
    {
     "data": {
      "image/png": "[encoded data removed]",
      "text/plain": [
       "<Figure size 800x600 with 6 Axes>"
      ]
     },
     "metadata": {},
     "output_type": "display_data"
    }
   ],
   "source": [
    "# Create small multiples plot. \n",
    "\n",
    "# To Get the data using same approach in the Q3\n",
    "def get_decade_data(decade):\n",
    "    site = requests.get(f'https://www.ssa.gov/OACT/babynames/decades/names{decade}s.html').text\n",
    "    soup = BeautifulSoup(site, 'html5lib')\n",
    "    table = soup.find('table', \"t-stripe\")\n",
    "\n",
    "    header = []\n",
    "    rows = []\n",
    "\n",
    "    for i, row in enumerate(table.find_all('tr')):\n",
    "        if i == 0:\n",
    "            header = [element.text.strip() for element in row.find_all('th')]\n",
    "        else:\n",
    "            rows.append([element.text.strip() for element in row.find_all('td')])\n",
    "\n",
    "    rows = rows[1:201]  \n",
    "    # Make the dataframe from the list \n",
    "    names = pd.DataFrame(rows, columns = ['Rank', 'Name_Male', 'Number_Male', 'Name_Female', 'Number_Female'])\n",
    "\n",
    "    # Convert the columns into list for concating the males and females \n",
    "    Rank = names['Rank'].tolist()\n",
    "    Names_Male = names['Name_Male'].tolist()\n",
    "    Number_Male = names['Number_Male'].tolist()\n",
    "    Names_Female = names['Name_Female'].tolist()\n",
    "    Number_Female = names['Number_Female'].tolist()\n",
    "\n",
    "    # Add the Male and Female name, rank, numbers \n",
    "    Rank = Rank + Rank\n",
    "    names = Names_Male + Names_Female\n",
    "    numbers = Number_Male + Number_Female\n",
    "    genders = ['Male'] * len(Names_Male) + ['Female'] * len(Names_Female)\n",
    "\n",
    "    # Convert it into dataframe \n",
    "    names = pd.DataFrame({'Rank':Rank,'Name': names, 'Num' : numbers,'Gender' : genders})\n",
    "\n",
    "\n",
    "    names['Rank'] = names['Rank'].astype(int)\n",
    "    names['Name'] = names['Name'].astype(str)\n",
    "    names['Num'] = names['Num'].astype(str).str.replace(',', '').astype(int)\n",
    "    names['Gender'] = names['Gender'].astype(str)\n",
    "    \n",
    "    # Keep only Female data in the dataframe \n",
    "    names = names[names['Gender'] == 'Female'].reset_index()\n",
    "    \n",
    "    # Calculate the total female births \n",
    "    total_female_births = names['Num'].sum()\n",
    "\n",
    "    return names, total_female_births\n",
    "\n",
    "\n",
    "# To create line plot for a decade\n",
    "def create_line_plot(ax, names_df, total_female_births, decade, color):\n",
    "    \n",
    "    # Calculate the percentage of each name\n",
    "    names_df['Percentage'] = (names_df['Num'] / total_female_births) * 100\n",
    "\n",
    "    # only the top 100 names\n",
    "    top_100_names = names_df.head(100)\n",
    "\n",
    "    # To create a line plot\n",
    "    ax.plot(top_100_names['Rank'], top_100_names['Percentage'], label=f'{decade}s', color = color)\n",
    "    ax.set_title(f'{decade}s')\n",
    "    ax.set_xlabel('Rank')\n",
    "    ax.set_ylabel('per(%) of Female Births')\n",
    "  \n",
    "# Create small multiples plot\n",
    "fig, axes = plt.subplots(nrows=3, ncols=2, figsize=(8, 6))\n",
    "\n",
    "# For different colors for plot for good visualization\n",
    "colors = ['blue', 'orange', 'green', 'red', 'purple', 'black']\n",
    "\n",
    "# Get the data for each decades\n",
    "for i, decade in enumerate(range(1960, 2020, 10)):\n",
    "    # Get the data \n",
    "    names_df, total_female_births = get_decade_data(decade)\n",
    "    # For the subplots\n",
    "    row = i // 2\n",
    "    col = i % 2\n",
    "    # Create line plot for the decade\n",
    "    create_line_plot(axes[row, col], names_df, total_female_births, decade,colors[i])\n",
    "    \n",
    "\n",
    "plt.tight_layout()\n",
    "plt.show()\n",
    "\n",
    "\n",
    "\n"
   ]
  },
  {
   "cell_type": "markdown",
   "id": "49a36961",
   "metadata": {
    "deletable": false,
    "editable": false
   },
   "source": [
    "<!-- END QUESTION -->\n",
    "\n"
   ]
  },
  {
   "cell_type": "markdown",
   "id": "4cb6ef6e",
   "metadata": {
    "deletable": false,
    "editable": false
   },
   "source": [
    "## Submission\n",
    "\n",
    "Make sure you have run all cells in your notebook in order before running the cell below, so that all images/graphs appear in the output. The cell below will generate a zip file for you to submit. **Please save before exporting!**"
   ]
  },
  {
   "cell_type": "code",
   "execution_count": 24,
   "id": "0d7339de",
   "metadata": {
    "deletable": false,
    "editable": false
   },
   "outputs": [
    {
     "data": {
      "text/html": [
       "\n",
       "                    <p>\n",
       "                        Your submission has been exported. Click\n",
       "                        <a href=\"p3_2023_11_15T19_32_25_260099.zip\" download=\"p3_2023_11_15T19_32_25_260099.zip\" target=\"_blank\">here</a> to download\n",
       "                        the zip file.\n",
       "                    </p>\n",
       "                "
      ],
      "text/plain": [
       "<IPython.core.display.HTML object>"
      ]
     },
     "metadata": {},
     "output_type": "display_data"
    }
   ],
   "source": [
    "# Save your notebook first, then run this cell to export your submission.\n",
    "grader.export(pdf=False)"
   ]
  },
  {
   "cell_type": "markdown",
   "id": "a68bb8e6",
   "metadata": {},
   "source": [
    " "
   ]
  }
 ],
 "metadata": {
  "kernelspec": {
   "display_name": "Python [conda env:.conda-un5550] *",
   "language": "python",
   "name": "conda-env-.conda-un5550-py"
  },
  "language_info": {
   "codemirror_mode": {
    "name": "ipython",
    "version": 3
   },
   "file_extension": ".py",
   "mimetype": "text/x-python",
   "name": "python",
   "nbconvert_exporter": "python",
   "pygments_lexer": "ipython3",
   "version": "3.10.12"
  },
  "otter": {
   "OK_FORMAT": true,
   "assignment_name": "p3",
   "tests": {
    "q1": {
     "name": "q1",
     "points": 4,
     "suites": [
      {
       "cases": [
        {
         "code": ">>> type(q1_num_datasets) == int\nTrue",
         "hidden": false,
         "locked": false
        }
       ],
       "scored": true,
       "setup": "",
       "teardown": "",
       "type": "doctest"
      }
     ]
    },
    "q2": {
     "name": "q2",
     "points": 20,
     "suites": [
      {
       "cases": [
        {
         "code": ">>> numCnames == 1390108\nTrue",
         "hidden": false,
         "locked": false
        },
        {
         "code": ">>> numXnames == 642599\nTrue",
         "hidden": false,
         "locked": false
        },
        {
         "code": ">>> names.shape[0] == 42 and names.shape[1] == 4\nTrue",
         "hidden": false,
         "locked": false
        },
        {
         "code": ">>> all(names.dtypes == ['int64', 'object', 'int64', 'object'])\nTrue",
         "hidden": false,
         "locked": false
        },
        {
         "code": ">>> all(names.columns == ['Rank', 'Name', 'Num', 'Gender'])\nTrue",
         "hidden": false,
         "locked": false
        }
       ],
       "scored": true,
       "setup": "",
       "teardown": "",
       "type": "doctest"
      }
     ]
    },
    "q3": {
     "name": "q3",
     "points": 10,
     "suites": [
      {
       "cases": [
        {
         "code": ">>> news.shape[0]==20\nTrue",
         "hidden": false,
         "locked": false
        },
        {
         "code": ">>> news.shape[1]==3\nTrue",
         "hidden": false,
         "locked": false
        },
        {
         "code": ">>> type(news.iloc[1,0]) == str and type(news.iloc[1,2]) == str\nTrue",
         "hidden": false,
         "locked": false
        },
        {
         "code": ">>> type(news.iloc[1,1]) == pd._libs.tslibs.timestamps.Timestamp\nTrue",
         "hidden": false,
         "locked": false
        },
        {
         "code": ">>> type(news.dtypes[1]) == pd.core.dtypes.dtypes.DatetimeTZDtype\nTrue",
         "hidden": false,
         "locked": false
        }
       ],
       "scored": true,
       "setup": "",
       "teardown": "",
       "type": "doctest"
      }
     ]
    },
    "q4a": {
     "name": "q4a",
     "points": [
      1,
      1,
      1,
      1,
      2
     ],
     "suites": [
      {
       "cases": [
        {
         "code": ">>> type(q4a_resp) == requests.models.Response\nTrue",
         "hidden": false,
         "locked": false
        },
        {
         "code": ">>> type(q4a_resp.json()) == dict\nTrue",
         "hidden": false,
         "locked": false
        },
        {
         "code": ">>> list(q4a_resp.json().keys()) == ['links', 'element_count', 'near_earth_objects']\nTrue",
         "hidden": false,
         "locked": false
        },
        {
         "code": ">>> q4a_params['start_date'] == '2021-01-01' and \\\n... q4a_params['end_date'] == '2021-01-01'\nTrue",
         "hidden": false,
         "locked": false
        },
        {
         "code": ">>> num_NEOs == 11\nTrue",
         "hidden": false,
         "locked": false
        }
       ],
       "scored": true,
       "setup": "",
       "teardown": "",
       "type": "doctest"
      }
     ]
    },
    "q4b": {
     "name": "q4b",
     "points": 10,
     "suites": [
      {
       "cases": [
        {
         "code": ">>> type(q4b_test1) == dict and type(q4b_test2) == dict and type(q4b_test3) == dict\nTrue",
         "hidden": false,
         "locked": false
        },
        {
         "code": ">>> list(q4b_test1.keys()) == ['links', 'element_count', 'near_earth_objects'] and \\\n... list(q4b_test2.keys()) == ['links', 'element_count', 'near_earth_objects'] and \\\n... list(q4b_test3.keys()) == ['links', 'element_count', 'near_earth_objects']\nTrue",
         "hidden": false,
         "locked": false
        }
       ],
       "scored": true,
       "setup": "",
       "teardown": "",
       "type": "doctest"
      }
     ]
    },
    "q4c": {
     "name": "q4c",
     "points": 7,
     "suites": [
      {
       "cases": [
        {
         "code": ">>> q4c_test1 == True\nTrue",
         "hidden": false,
         "locked": false
        },
        {
         "code": ">>> q4c_test2 == False\nTrue",
         "hidden": false,
         "locked": false
        },
        {
         "code": ">>> q4c_test3 == False\nTrue",
         "hidden": false,
         "locked": false
        }
       ],
       "scored": true,
       "setup": "",
       "teardown": "",
       "type": "doctest"
      }
     ]
    },
    "q4d": {
     "name": "q4d",
     "points": 12,
     "suites": [
      {
       "cases": [
        {
         "code": ">>> type(q4d_df1) == pd.core.frame.DataFrame and type(q4d_df2) == pd.core.frame.DataFrame\nTrue",
         "hidden": false,
         "locked": false
        },
        {
         "code": ">>> q4d_df5 == None\nTrue",
         "hidden": false,
         "locked": false
        },
        {
         "code": ">>> q4d_df1.shape == (23,7)\nTrue",
         "hidden": false,
         "locked": false
        },
        {
         "code": ">>> all(q4d_df4.dtypes == ['object', 'object', 'float64', 'float64', 'float64', \n...                        'object', 'bool'] )\nTrue",
         "hidden": false,
         "locked": false
        }
       ],
       "scored": true,
       "setup": "",
       "teardown": "",
       "type": "doctest"
      }
     ]
    }
   }
  }
 },
 "nbformat": 4,
 "nbformat_minor": 5
}
