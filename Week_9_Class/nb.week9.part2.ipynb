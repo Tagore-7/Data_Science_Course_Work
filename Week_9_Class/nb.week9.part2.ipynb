{
 "cells": [
  {
   "cell_type": "markdown",
   "id": "cc1fd5ae",
   "metadata": {
    "id": "i7-Y4OVaDcJ_"
   },
   "source": [
    "# SQL Review and Practice - Part 2\n",
    "\n",
    "\n",
    "Many of the examples have been adapted from Data100 and J. Canny's course."
   ]
  },
  {
   "cell_type": "markdown",
   "id": "5e9e861c",
   "metadata": {
    "id": "8C7yQvIjK9Zs"
   },
   "source": [
    "## Setup \n",
    "\n",
    "This notebook makes use of a python module: `utils.py` as well as 4 data files: \n",
    "\n",
    "* `pls_fy2009_pupld09a.csv` \n",
    "* `pls_fy2014_pupld09a.csv` \n",
    "* `us_counties_2000.csv`\n",
    "* `us_counties_2010.csv` \n"
   ]
  },
  {
   "cell_type": "code",
   "execution_count": null,
   "id": "38e22f48",
   "metadata": {
    "id": "MTwWGInADcKA",
    "tags": []
   },
   "outputs": [],
   "source": [
    "import os\n",
    "import pandas as pd\n",
    "import numpy as np\n",
    "import matplotlib.pyplot as plt\n",
    "import seaborn as sns\n",
    "%matplotlib inline\n",
    "\n",
    "#from pathlib import Path\n",
    "#from sqlalchemy import create_engine\n",
    "from utils import fetch_and_cache"
   ]
  },
  {
   "cell_type": "code",
   "execution_count": null,
   "id": "71796787",
   "metadata": {
    "id": "L94nSdNlDcKG",
    "tags": []
   },
   "outputs": [],
   "source": [
    "%%html\n",
    "<style>\n",
    "table {margin-left: 0 !important;}\n",
    "</style>"
   ]
  },
  {
   "cell_type": "markdown",
   "id": "ade3d990",
   "metadata": {
    "id": "TNBboq4LDcKO"
   },
   "source": [
    "For this lab, we will be using SQLite to connect to databases. This is a simple, light-way module, there are of course other modules to interact with databases. \n",
    "\n",
    "SQLite has a [nice tutorial](https://www.sqlitetutorial.net/) if you want to learn more about database queries and explore additional options. "
   ]
  },
  {
   "cell_type": "code",
   "execution_count": null,
   "id": "a70171d3",
   "metadata": {
    "id": "5Bqzw_G-DcKP",
    "tags": []
   },
   "outputs": [],
   "source": [
    "import sqlite3"
   ]
  },
  {
   "cell_type": "markdown",
   "id": "c617d1d7",
   "metadata": {
    "id": "n4PRO3-oDcKY"
   },
   "source": [
    "A couple of things to know about SQLite.  Other database systems such as `MySQL` and `PostgreSQL` use *static typing*, where a column is declared for a specific data type and can only store data of that type. \n",
    "\n",
    "SQLite uses *dynamic type system*, where a value stored in a column determines its data type, not the column's data type.  "
   ]
  },
  {
   "cell_type": "markdown",
   "id": "cadd5b18",
   "metadata": {},
   "source": [
    "# Setting up Examples"
   ]
  },
  {
   "cell_type": "markdown",
   "id": "02a1aab9",
   "metadata": {
    "id": "IjPrC9znDcKa"
   },
   "source": [
    "## Example 1 \n",
    "\n",
    "*Example from Practical SQL, by Anthony DeBarros, 2018 - Available on O'reilly's learning platform*  \n"
   ]
  },
  {
   "cell_type": "markdown",
   "id": "065f2ee9",
   "metadata": {},
   "source": [
    "Let's connect to a new, empty database `analysis2.db`"
   ]
  },
  {
   "cell_type": "code",
   "execution_count": null,
   "id": "f9ebc96b",
   "metadata": {
    "id": "IiaFi8XpDcKd",
    "tags": []
   },
   "outputs": [],
   "source": [
    "conn = sqlite3.connect(\"analysis2.db\")"
   ]
  },
  {
   "cell_type": "markdown",
   "id": "64cff105",
   "metadata": {
    "id": "Jt_pIcV5DcKi"
   },
   "source": [
    "### Printing out SQL calls and results \n",
    "\n",
    "We define a function `print_sql(s)` that given database connection `c` and a sql query `s` returns the result of that executing."
   ]
  },
  {
   "cell_type": "code",
   "execution_count": null,
   "id": "adbe6f89",
   "metadata": {
    "id": "D8GgLUJVDcKj",
    "tags": []
   },
   "outputs": [],
   "source": [
    "def print_sql(c, s):\n",
    "    print('>', s)\n",
    "    for result in c.execute(s):\n",
    "        print(result)\n",
    "    print()"
   ]
  },
  {
   "cell_type": "code",
   "execution_count": null,
   "id": "cf5b33e5",
   "metadata": {
    "id": "vhQG9FyzDcKx",
    "tags": []
   },
   "outputs": [],
   "source": [
    "def pretty_print_sql(c, s):\n",
    "    print('>', s)\n",
    "    df = pd.read_sql(s, c)\n",
    "    display(df)"
   ]
  },
  {
   "cell_type": "markdown",
   "id": "3b7f5f1d",
   "metadata": {},
   "source": [
    "## Example 2\n",
    "\n",
    "Banking example from J. Freire consisting of the following relations. \n",
    "\n",
    "The first table, `Account`, has banking account information: \n",
    "\n",
    "    number    custID    owner        balance      type\n",
    "    ------    ------    ---------    ---------    ---------\n",
    "    101       1         J. Smith     1000.00      checking\n",
    "    102       2         W. Wei       2000.00      checking\n",
    "    103       1         J. Smith     5000.00      saving\n",
    "    104       3         M. Jones     1000.00      checking\n",
    "    105       4         H. Martin    10000.00     checking\n",
    "\n",
    "The second table, `Deposit`, has transaction information: \n",
    "\n",
    "    account    transID    dDate       amount\n",
    "    -------    -------    --------    ---------\n",
    "    102        1          10/22/21    500.00\n",
    "    102        2          10/29/21    200.00\n",
    "    104        3          10/29/21    1000.00\n",
    "    105        4          11/2/21     10000.00\n",
    "\n",
    "The third table `CheckInfo`, has information on checks written: \n",
    "\n",
    "    account    checkNum    cDate       amount\n",
    "    -------    --------    --------    ---------\n",
    "    101        924         10/23/21    125.00\n",
    "    101        925         10/24/21    23.98"
   ]
  },
  {
   "cell_type": "markdown",
   "id": "d47ffa8c-d334-4de5-8924-f0ff564066a4",
   "metadata": {},
   "source": [
    "## Setup Examples 1 and 2"
   ]
  },
  {
   "cell_type": "markdown",
   "id": "c219778e-1b52-4431-a04a-85b9f9808ace",
   "metadata": {},
   "source": [
    "#### Example 1 \n",
    "\n",
    "Create `teachers` table and add data to it. "
   ]
  },
  {
   "cell_type": "code",
   "execution_count": null,
   "id": "0b8ecf5a",
   "metadata": {
    "id": "julcBIwIDcK_",
    "tags": []
   },
   "outputs": [],
   "source": [
    "# Example 1 - Create table teachers\n",
    "conn.executescript(\"\"\"\n",
    "CREATE TABLE teachers (\n",
    "    id INTEGER PRIMARY KEY AUTOINCREMENT NOT NULL,\n",
    "    first_name TEXT,\n",
    "    last_name TEXT,\n",
    "    school TEXT,\n",
    "    hire_date TEXT,\n",
    "    salary INTEGER\n",
    ");\n",
    "\"\"\");"
   ]
  },
  {
   "cell_type": "code",
   "execution_count": null,
   "id": "1593284c",
   "metadata": {
    "id": "QYqYmbYsDcLH",
    "tags": []
   },
   "outputs": [],
   "source": [
    "# Example 1 - Add data into teachers table\n",
    "conn.executescript(\"\"\"\n",
    "INSERT INTO teachers (first_name, last_name, school, hire_date, salary)\n",
    "VALUES ('Janet', 'Smith', 'F.D. Roosevelt HS', '2011-10-30', 36200),\n",
    "       ('Lee', 'Reynolds', 'F.D. Roosevelt HS', '1993-05-22', 65000),\n",
    "       ('Samuel', 'Cole', 'Myers Middle School', '2005-08-01', 43500),\n",
    "       ('Samantha', 'Bush', 'Myers Middle School', '2011-10-30', 36200),\n",
    "       ('Betty', 'Diaz', 'Myers Middle School', '2005-08-30', 43500),\n",
    "       ('Kathleen', 'Roush', 'F.D. Roosevelt HS', '2010-10-22', 38500);\n",
    "\"\"\");"
   ]
  },
  {
   "cell_type": "code",
   "execution_count": null,
   "id": "155172a4",
   "metadata": {
    "id": "F4A20637DcLL",
    "tags": []
   },
   "outputs": [],
   "source": [
    "# Example 1 - add row into teachers table\n",
    "conn.executescript(\"\"\"\n",
    "INSERT INTO teachers (first_name, last_name, school, hire_date, salary) \n",
    "VALUES ('Hank', 'Smith', 'Jefferson HS', '2018-01-01', 32000);\n",
    "\"\"\");"
   ]
  },
  {
   "cell_type": "markdown",
   "id": "7f2be904",
   "metadata": {},
   "source": [
    "#### Example 2 \n",
    "\n",
    "Populate tables, `Account`, `Deposit`, `CheckInfo` and `ATMwithdraw`.  The `ATMwithdraw` has the following schema `ATMwithdraw(transID, custID, account, amount, wDate)` where `transID` is the primary key.   "
   ]
  },
  {
   "cell_type": "code",
   "execution_count": null,
   "id": "0a75d6e1",
   "metadata": {
    "tags": []
   },
   "outputs": [],
   "source": [
    "# Example 2  - Create tables in banking database \n",
    "conn2 = sqlite3.connect(\"banking2.db\")\n",
    "\n",
    "conn2.executescript(\"\"\"\n",
    "CREATE TABLE Account (\n",
    "    number INTEGER PRIMARY KEY,\n",
    "    custID INTEGER,\n",
    "    owner TEXT,\n",
    "    balance REAL,\n",
    "    type TEXT\n",
    ");\n",
    "\"\"\");\n",
    "\n",
    "conn2.executescript(\"\"\"\n",
    "CREATE TABLE Deposit (\n",
    "    accountID INTEGER,\n",
    "    transID INTEGER PRIMARY KEY, \n",
    "    dDate TEXT, \n",
    "    amount REAL, \n",
    "    FOREIGN KEY (accountID)\n",
    "       REFERENCES Account (number)\n",
    ");\n",
    "\"\"\")\n",
    "\n",
    "conn2.executescript(\"\"\"\n",
    "CREATE TABLE CheckInfo (\n",
    "    accountID INTEGER NOT NULL,\n",
    "    checkNum INTEGER NOT NULL, \n",
    "    cDate TEXT,\n",
    "    amount REAL,\n",
    "    PRIMARY KEY (accountID, checkNum), \n",
    "    FOREIGN KEY (accountID)\n",
    "       REFERENCES Account (number)\n",
    ");\n",
    "\"\"\")"
   ]
  },
  {
   "cell_type": "code",
   "execution_count": null,
   "id": "dfecf1f7",
   "metadata": {
    "tags": []
   },
   "outputs": [],
   "source": [
    "conn2.executescript(\"\"\"\n",
    "INSERT INTO Account (number, custID, owner, balance, type)\n",
    "VALUES (101, 1, 'J. Smith', 1000.00, 'checking'), \n",
    "       (102, 2, 'W.Wei', 2000.00, 'checking'),\n",
    "       (103, 1, 'J. Smith', 5000.00, 'saving'), \n",
    "       (104, 3, 'M. Jones', 1000.00, 'checking'),\n",
    "       (105, 4, 'H. Martin', 10000.00, 'checking');\n",
    "\"\"\")\n",
    "\n",
    "conn2.executescript(\"\"\"\n",
    "INSERT INTO Deposit (accountID, transID, dDate, amount)\n",
    "VALUES (102, 1, '10/22/21', 500.00), \n",
    "       (102, 2, '10/29/21', 200.00), \n",
    "       (104, 3, '10/29/21', 1000.00), \n",
    "       (105, 4, '11/2/21', 10000.00);\n",
    "\"\"\")\n",
    "\n",
    "conn2.executescript(\"\"\"\n",
    "INSERT INTO CheckInfo (accountID, checkNum, cDate, amount)\n",
    "VALUES (101, 924, '10/23/21', 125.00),\n",
    "       (101, 925, '10/24/21', 23.98);\n",
    "\"\"\")\n",
    "\n",
    "conn2.executescript(\"\"\"\n",
    "CREATE TABLE ATMwithdraw (\n",
    "    transID INTEGER NOT NULL,\n",
    "    custID INTEGER, \n",
    "    accountID INTEGER,\n",
    "    amount REAL,\n",
    "    wDate TEXT,\n",
    "    PRIMARY KEY (transID), \n",
    "    FOREIGN KEY (accountID)\n",
    "       REFERENCES Account (number)\n",
    "    FOREIGN KEY (custID)\n",
    "       REFERENCES Account (custID)\n",
    ");\n",
    "\"\"\")\n",
    "\n",
    "conn2.executescript(\"\"\"\n",
    "INSERT INTO ATMwithdraw (transID, custID, accountID, amount, wDate)\n",
    "VALUES (1, 2, 102, 25.00, '11/01/21 09:45:00'), \n",
    "       (2, 2, 102, 150.00, '11/10/2021 13:15:00'), \n",
    "       (3, 1, 101, 40.00, '11/01/2021 10:05:00'), \n",
    "       (4, 1, 101, 40.00, '11/01/2021 10:07:00'), \n",
    "       (5, 1, 101, 200.00, '11/8/2021 14:14:00');\n",
    "\"\"\")"
   ]
  },
  {
   "cell_type": "markdown",
   "id": "b213878d",
   "metadata": {
    "id": "TXpgiLszDcMo"
   },
   "source": [
    "### Importing Data \n",
    "\n",
    "Many times we might have data from a delimited file.  We can import or export this data. \n",
    "\n",
    "In SQLite, this is done at the command line with the `.import` command.  In PostgreSQL, this is done with the `COPY` command. \n",
    "\n",
    "Here we can take advantage of `pandas`, to write a DataFrame to an sql database."
   ]
  },
  {
   "cell_type": "code",
   "execution_count": null,
   "id": "db650b60",
   "metadata": {
    "id": "dyIqnl8FDcMp",
    "tags": []
   },
   "outputs": [],
   "source": [
    "df = pd.read_csv(\"us_counties_2010.csv\")\n",
    "df.to_sql('us_counties_2010', conn, if_exists='append', index=False)\n",
    "df.head()"
   ]
  },
  {
   "cell_type": "markdown",
   "id": "9ed7266f",
   "metadata": {},
   "source": [
    "## Query Language of SQL \n",
    "\n",
    "SQL - Structured Query Language \n",
    "\n",
    "```mysql \n",
    "SELECT <column_list>\n",
    "FROM <table_name_list>\n",
    "[WHERE condition] \n",
    "[GROUP BY <column_name>]\n",
    "[HAVING <condition>]\n",
    "[ORDER BY <column_name> [ASC|DESC]]\n",
    "```"
   ]
  },
  {
   "cell_type": "markdown",
   "id": "084dfc66",
   "metadata": {},
   "source": [
    "# Multi-Relation Queries\n",
    "\n",
    "Interesting queries often combine data from more than one relation.\n",
    "\n",
    "We can address several relations in one query by listing them all in the FROM clause.\n",
    "\n",
    "Distinguish attributes of the same name by `<relation>.<attribute>`\n",
    "\n"
   ]
  },
  {
   "cell_type": "markdown",
   "id": "ee85f073",
   "metadata": {},
   "source": [
    "The **formal semantics** of multi-relation queries is almost the same as for single-relation queries: \n",
    "\n",
    "1. Start with the product of all the relations in the FROM clause \n",
    "2. Apply the selection condition from the WHERE clause \n",
    "3. Project onto the list of attributes and expressions in the SELECT clause \n",
    "\n",
    "\n",
    "A general SQL query has the form: \n",
    "```mysql \n",
    "SELECT A1, A2, ..., An \n",
    "FROM R1, R2, ..., Rm \n",
    "WHERE P \n",
    "```\n",
    "\n",
    "This is equivalent to the relational algebra expression. \n",
    "\n",
    "$\\pi_{A1, A2, ..., An} (\\sigma_P (R1 \\times R2\\; \\times \\;...\\; \\times Rm))$ \n",
    " "
   ]
  },
  {
   "cell_type": "markdown",
   "id": "83b9c7eb",
   "metadata": {},
   "source": [
    "#### Example 2\n",
    "\n",
    "For example, we can create an SQL query from Example 2 with the Account and Deposit tables.  Remember the schema as: \n",
    "\n",
    "* Account(number, custID, balance, type) \n",
    "* Deposit(accountID, transID, dDate, amount) \n",
    "\n",
    "```mysql\n",
    "SELECT number, balance \n",
    "FROM Account, Deposit \n",
    "WHERE accountID = number and amount > 1000; \n",
    "```\n",
    "\n",
    "The equivalent relational algebra expression is: \n",
    "$ \\pi_{number, balance} (\\sigma_{accountID=number \\;and\\; amount > 1000}\\;\\; (Account \\times Deposit))$ "
   ]
  },
  {
   "cell_type": "code",
   "execution_count": null,
   "id": "bbb39dc6",
   "metadata": {
    "tags": []
   },
   "outputs": [],
   "source": [
    "pretty_print_sql(conn2, \"\"\"\n",
    "SELECT number, balance \n",
    "FROM Account, Deposit \n",
    "WHERE accountID = number and Amount > 1000;\n",
    "\"\"\")"
   ]
  },
  {
   "cell_type": "markdown",
   "id": "ba13dcc4",
   "metadata": {},
   "source": [
    "Another example for \n",
    "```mysql \n",
    "SELECT * \n",
    "FROM Account, Deposit\n",
    "``` \n",
    "with the equivalent relational algebra expression is $(Account \\times Deposit)$"
   ]
  },
  {
   "cell_type": "code",
   "execution_count": null,
   "id": "1953a66d",
   "metadata": {
    "tags": []
   },
   "outputs": [],
   "source": [
    "pretty_print_sql(conn2, \"\"\"\n",
    "SELECT * \n",
    "FROM Account, Deposit;\n",
    "\"\"\")"
   ]
  },
  {
   "cell_type": "markdown",
   "id": "88ee4569",
   "metadata": {},
   "source": [
    "#### Self-Join Example \n",
    "\n",
    "From the `teachers` relation, find all pairs of teachers from the same school. \n",
    "* do not return pairs like (Janet, Janet) \n",
    "* produce pairs in alphabetic order (Janet, Mike) not (Mike, Janet). "
   ]
  },
  {
   "cell_type": "code",
   "execution_count": null,
   "id": "560b4a6a",
   "metadata": {
    "tags": []
   },
   "outputs": [],
   "source": [
    "pretty_print_sql(conn, \"\"\"\n",
    "SELECT t1.first_name, t2.first_name, t1.school\n",
    "FROM teachers t1, teachers t2\n",
    "WHERE t1.school = t2.school AND \n",
    "t1.first_name < t2.first_name\n",
    "ORDER BY t1.school, t1.first_name;\n",
    "\"\"\")"
   ]
  },
  {
   "cell_type": "markdown",
   "id": "dd78c9c7",
   "metadata": {},
   "source": [
    "Note, \"t1\" is the correlation name for the first teachers table and \"t2\" is the correlation name for the second teachers table.  \n",
    "\n",
    "You can choose the correlation names when you write a query, this is particularly useful for disambiguating attribute names.  \n",
    "\n",
    "Here is another example of correlation names with Example 2. "
   ]
  },
  {
   "cell_type": "code",
   "execution_count": null,
   "id": "ba8837ac",
   "metadata": {
    "tags": []
   },
   "outputs": [],
   "source": [
    "pretty_print_sql(conn2, \"\"\"\n",
    "SELECT A.owner, A.balance\n",
    "FROM Account AS A, Deposit as D\n",
    "WHERE D.accountID = A.number AND A.balance > 1000;\n",
    "\"\"\")"
   ]
  },
  {
   "cell_type": "markdown",
   "id": "af520789",
   "metadata": {},
   "source": [
    "Note, W. Wei appears twice, the result of the query is a \"bag\" not a set. "
   ]
  },
  {
   "cell_type": "markdown",
   "id": "30699d16",
   "metadata": {
    "id": "LwEXrtiaDcOb"
   },
   "source": [
    "## Joining Tables in Relational Database "
   ]
  },
  {
   "cell_type": "markdown",
   "id": "668e0b8a",
   "metadata": {
    "id": "OJcmD0xGDcOc"
   },
   "source": [
    "To connect tables in a query, we use `JOIN ... ON` statements (or other `JOIN` variants).  `JOIN` links one table with another in the database during a query, using matching values in columns we specify in both tables.  \n",
    "\n",
    "```mysql \n",
    "SELECT *\n",
    "FROM table_a JOIN table_b\n",
    "ON table_a.key_column = table_b.foreign_key_column\n",
    "```\n",
    "\n",
    "Matching based on equality is the most common, but the `ON` clause can use anything that evaluates to *Boolean*, e.g., `ON table_a.key_column >= table_b.foreign_key_column`. "
   ]
  },
  {
   "cell_type": "markdown",
   "id": "be0dd9ea",
   "metadata": {
    "id": "kYJUUt0hDcOd"
   },
   "source": [
    "#### Relating Tables with Key Columns \n",
    "\n",
    "Let's start with creating a few new tables in Example 1's database.  "
   ]
  },
  {
   "cell_type": "code",
   "execution_count": null,
   "id": "4c66bc66",
   "metadata": {
    "id": "TXZy1YtqDcOd",
    "tags": []
   },
   "outputs": [],
   "source": [
    "print_sql(conn, \"\"\"\n",
    "CREATE TABLE departments (\n",
    "    dept_id INTEGER,\n",
    "    dept TEXT,\n",
    "    city TEXT,\n",
    "    CONSTRAINT dept_key PRIMARY KEY (dept_id),\n",
    "    CONSTRAINT dept_city_unique UNIQUE (dept, city)\n",
    ");\n",
    "\"\"\")"
   ]
  },
  {
   "cell_type": "markdown",
   "id": "b681c51d",
   "metadata": {
    "id": "UG2Rj0SWDcOh"
   },
   "source": [
    "The primary key is defined for `departments` with the `CONSTRAINT` keyword.  The `dept_id` column uniquesly identifies the department.  "
   ]
  },
  {
   "cell_type": "code",
   "execution_count": null,
   "id": "bd9e177b",
   "metadata": {
    "id": "M4Axhgq0DcOi",
    "tags": []
   },
   "outputs": [],
   "source": [
    "print_sql(conn, \"\"\"\n",
    "CREATE TABLE employees (\n",
    "    emp_id INTEGER,\n",
    "    first_name TEXT,\n",
    "    last_name TEXT,\n",
    "    salary INTEGER,\n",
    "    dept_id INTEGER REFERENCES departments (dept_id),\n",
    "    CONSTRAINT emp_key PRIMARY KEY (emp_id),\n",
    "    CONSTRAINT emp_dept_unique UNIQUE (emp_id, dept_id)\n",
    ");\n",
    "\"\"\")"
   ]
  },
  {
   "cell_type": "markdown",
   "id": "7f549395",
   "metadata": {
    "id": "rxA38LzVDcOo"
   },
   "source": [
    "In the `employees` table, the `emp_id` column uniquely identifies each row.  The table also includes a `dept_id` column, that refer to values in the `departments` table's primary key.  This is called a *foreign key*.  A foreign key constraint requires a value entered in a column to already exist in the primary key of the table it references.  \n",
    "\n",
    "The `UNIQUE` constraint guarantees that values in a column, or a combination of values in more than one column, are unique. \n",
    "\n",
    "Now let's add some instances to both tables. "
   ]
  },
  {
   "cell_type": "code",
   "execution_count": null,
   "id": "72be660e",
   "metadata": {
    "id": "4D2CXXeEDcOp",
    "tags": []
   },
   "outputs": [],
   "source": [
    "print_sql(conn, \"\"\"\n",
    "INSERT INTO departments (dept_id, dept, city)\n",
    "VALUES\n",
    "    (1, 'Tax', 'Atlanta'),\n",
    "    (2, 'IT', 'Boston');\n",
    "\"\"\")"
   ]
  },
  {
   "cell_type": "code",
   "execution_count": null,
   "id": "87b185a0",
   "metadata": {
    "id": "Ou8CkQPPDcOs",
    "tags": []
   },
   "outputs": [],
   "source": [
    "print_sql(conn,\"SELECT * FROM departments;\")"
   ]
  },
  {
   "cell_type": "code",
   "execution_count": null,
   "id": "869a2799",
   "metadata": {
    "id": "vgFKyMSCDcOy",
    "tags": []
   },
   "outputs": [],
   "source": [
    "print_sql(conn, \"\"\"\n",
    "INSERT INTO employees (emp_id, first_name, last_name, salary, dept_id)\n",
    "VALUES\n",
    "    (1, 'Julia', 'Reyes', 115300, 1),\n",
    "    (2, 'Janet', 'King', 98000, 1),\n",
    "    (3, 'Arthur', 'Pappas', 72700, 2),\n",
    "    (4, 'Michael', 'Taylor', 89500, 2);\n",
    "\"\"\")"
   ]
  },
  {
   "cell_type": "code",
   "execution_count": null,
   "id": "f34d1cc1",
   "metadata": {
    "id": "1QxAcVtXDcO6",
    "tags": []
   },
   "outputs": [],
   "source": [
    "print_sql(conn, \"SELECT * FROM employees;\")"
   ]
  },
  {
   "cell_type": "markdown",
   "id": "5e0a42de",
   "metadata": {
    "id": "2YLDy-0UDcPB"
   },
   "source": [
    "### Querying Multiple Tables using Join"
   ]
  },
  {
   "cell_type": "code",
   "execution_count": null,
   "id": "3b6c76ea",
   "metadata": {
    "id": "o_9xT4YnDcPC",
    "tags": []
   },
   "outputs": [],
   "source": [
    "pretty_print_sql(conn, \"\"\"\n",
    "SELECT *\n",
    "FROM employees JOIN departments\n",
    "ON employees.dept_id = departments.dept_id;\n",
    "\"\"\")"
   ]
  },
  {
   "cell_type": "markdown",
   "id": "e5f250f9",
   "metadata": {
    "id": "pzQLguinDcPJ"
   },
   "source": [
    "The result of the `JOIN` operation include all values from both tables where values in the `dept_id` columns match.  The `dept_id` field appears twice because you selected all columns of both tables. "
   ]
  },
  {
   "cell_type": "markdown",
   "id": "ba738f10-e9a8-4c22-86c8-d624b79063ed",
   "metadata": {},
   "source": [
    "##### Example 1 - Add tables \n",
    "\n",
    "In Example 1, two new tables are created and populated. "
   ]
  },
  {
   "cell_type": "code",
   "execution_count": null,
   "id": "757f7e63",
   "metadata": {
    "id": "XZiwXrabDcPK",
    "tags": []
   },
   "outputs": [],
   "source": [
    "conn.executescript(\"\"\"\n",
    "CREATE TABLE district1 (\n",
    "    id INTEGER CONSTRAINT id_key_1 PRIMARY KEY,\n",
    "    school_1 TEXT\n",
    ");\n",
    "\"\"\");\n",
    "conn.executescript(\"\"\"\n",
    "CREATE TABLE district2 (\n",
    "    id INTEGER CONSTRAINT id_key_2 PRIMARY KEY,\n",
    "    school_2 TEXT\n",
    "  );\n",
    "\"\"\");\n",
    "conn.executescript(\"\"\"\n",
    "INSERT INTO district1 VALUES\n",
    "    (1, 'Oak Street School'),\n",
    "    (2, 'Roosevelt High School'),\n",
    "    (5, 'Dover Middle School'),\n",
    "    (6, 'Webutuck High School');\n",
    "\"\"\");\n",
    "conn.executescript(\"\"\"\n",
    "INSERT INTO district2 VALUES\n",
    "    (1, 'Oak Street School'),\n",
    "    (2, 'Roosevelt High School'),\n",
    "    (3, 'Morrison Elementary'),\n",
    "    (4, 'Chase Magnet Academy'),\n",
    "    (6, 'Webutuck High School');\n",
    "\"\"\");"
   ]
  },
  {
   "cell_type": "markdown",
   "id": "168c8fb0",
   "metadata": {
    "id": "IPI6FC9WDcPK"
   },
   "source": [
    "#### Join Types \n",
    "\n",
    "* **`JOIN`** Returns rows from both tables where matching values are found in the joined columns of both tables, alternative syntax `INNER JOIN` \n",
    "* **`LEFT JOIN`**  Returns every row from the left table plus rows that match values in the joined column from the right table. When a left table row doesn’t have a match in the right table, the result shows no values from the right table.\n",
    "* **`RIGHT JOIN`**  Returns every row from the right table plus rows that match the key values in the key column from the left table. When a right table row doesn’t have a match in the left table, the result shows no values from the left table.  *NOTE, Right Join is not supported in SQLite*.\n",
    "* **`FULL OUTER JOIN`**  Returns every row from both tables and matches rows; then joins the rows where values in the joined columns match. If there’s no match for a value in either the left or right table, the query result contains an empty row for the other table. *NOTE, Full outer join is not supported in SQLite*\n",
    "* **`CROSS JOIN`** Returns every possible combination of rows from both tables.\n",
    "\n"
   ]
  },
  {
   "cell_type": "markdown",
   "id": "3584cd77",
   "metadata": {
    "id": "kWMCfAA2DcPU"
   },
   "source": [
    "##### JOIN \n",
    "\n",
    "Use `JOIN` or `INNER JOIN`. "
   ]
  },
  {
   "cell_type": "code",
   "execution_count": null,
   "id": "354c1523",
   "metadata": {
    "id": "0xxARm54DcPY",
    "tags": []
   },
   "outputs": [],
   "source": [
    "pretty_print_sql(conn, \"\"\"\n",
    "SELECT *\n",
    "FROM district1 JOIN district2\n",
    "ON district1.id = district2.id;\n",
    "\"\"\");"
   ]
  },
  {
   "cell_type": "markdown",
   "id": "0deb0484",
   "metadata": {},
   "source": [
    "We can also specify this as a `INNER JOIN`"
   ]
  },
  {
   "cell_type": "code",
   "execution_count": null,
   "id": "2693fc81",
   "metadata": {
    "tags": []
   },
   "outputs": [],
   "source": [
    "pretty_print_sql(conn, \"\"\"\n",
    "SELECT *\n",
    "FROM district1 INNER JOIN district2\n",
    "ON district1.id = district2.id\n",
    "ORDER BY district1.id;\n",
    "\"\"\");"
   ]
  },
  {
   "cell_type": "markdown",
   "id": "3512e638",
   "metadata": {},
   "source": [
    "We can also specify the `JOIN` without the `ON` argument and use the `USING` option. "
   ]
  },
  {
   "cell_type": "code",
   "execution_count": null,
   "id": "8e1c18f8",
   "metadata": {
    "tags": []
   },
   "outputs": [],
   "source": [
    "pretty_print_sql(conn, \"\"\"\n",
    "SELECT *\n",
    "FROM district1 JOIN district2\n",
    "USING (id) \n",
    "ORDER BY district1.id;\n",
    "\"\"\");"
   ]
  },
  {
   "cell_type": "markdown",
   "id": "ef500759",
   "metadata": {
    "id": "Zn7m6gfGDcPi"
   },
   "source": [
    "##### Left Join "
   ]
  },
  {
   "cell_type": "code",
   "execution_count": null,
   "id": "d83d74f9",
   "metadata": {
    "id": "329GDJfFDcPi",
    "tags": []
   },
   "outputs": [],
   "source": [
    "pretty_print_sql(conn, \"\"\"\n",
    "SELECT *\n",
    "FROM district1 LEFT JOIN district2\n",
    "ON district1.id = district2.id\n",
    "ORDER BY district1.id;\n",
    "\"\"\")"
   ]
  },
  {
   "cell_type": "markdown",
   "id": "1fd1512a",
   "metadata": {},
   "source": [
    "##### Right Join "
   ]
  },
  {
   "cell_type": "code",
   "execution_count": null,
   "id": "616f3f5a",
   "metadata": {
    "tags": []
   },
   "outputs": [],
   "source": [
    "pretty_print_sql(conn, \"\"\"\n",
    "SELECT *\n",
    "FROM district1 RIGHT JOIN district2\n",
    "ON district1.id = district2.id\n",
    "ORDER BY district1.id;\n",
    "\"\"\")"
   ]
  },
  {
   "cell_type": "markdown",
   "id": "e7107a27",
   "metadata": {
    "id": "pG4yQBmhDcPq"
   },
   "source": [
    "##### Full Outer Join \n"
   ]
  },
  {
   "cell_type": "code",
   "execution_count": null,
   "id": "19cc3077",
   "metadata": {
    "tags": []
   },
   "outputs": [],
   "source": [
    "pretty_print_sql(conn, \"\"\"\n",
    "SELECT * \n",
    "FROM district1 FULL OUTER JOIN district2\n",
    "ON district1.id = district2.id\n",
    "ORDER BY district1.id;\n",
    "\"\"\")"
   ]
  },
  {
   "cell_type": "markdown",
   "id": "e017fc45",
   "metadata": {},
   "source": [
    "We can emulate a `FULL OUTER JOIN` in SQLite with a UNION statement. "
   ]
  },
  {
   "cell_type": "code",
   "execution_count": null,
   "id": "58cbde7b",
   "metadata": {
    "id": "EpwInMf5DcPr",
    "tags": []
   },
   "outputs": [],
   "source": [
    "pretty_print_sql(conn, \"\"\"\n",
    "SELECT district1.*, district2.*\n",
    "FROM district1 LEFT JOIN district2\n",
    "ON district1.id = district2.id\n",
    "UNION ALL \n",
    "SELECT district1.*, district2.*\n",
    "FROM district2 LEFT JOIN district1\n",
    "ON district1.id = district2.id\n",
    "WHERE district1.id IS NULL;\n",
    "\"\"\")"
   ]
  },
  {
   "cell_type": "markdown",
   "id": "81096e5c",
   "metadata": {
    "id": "00-zCRn4DcPw"
   },
   "source": [
    "##### Cross Join "
   ]
  },
  {
   "cell_type": "code",
   "execution_count": null,
   "id": "e8c9e241",
   "metadata": {
    "id": "mF85zTs_DcPw",
    "tags": []
   },
   "outputs": [],
   "source": [
    "pretty_print_sql(conn, \"\"\"\n",
    "SELECT *\n",
    "FROM district1 CROSS JOIN district2\n",
    "ORDER BY district1.id, district2.id;\n",
    "\"\"\")"
   ]
  },
  {
   "cell_type": "markdown",
   "id": "e162345a",
   "metadata": {},
   "source": [
    "Alternatively, CROSS JOIN can be written with a comma-join syntax. "
   ]
  },
  {
   "cell_type": "code",
   "execution_count": null,
   "id": "a424c011",
   "metadata": {
    "tags": []
   },
   "outputs": [],
   "source": [
    "pretty_print_sql(conn, \"\"\"\n",
    "SELECT *\n",
    "FROM district1, district2\n",
    "ORDER BY district1.id, district2.id;\n",
    "\"\"\")"
   ]
  },
  {
   "cell_type": "markdown",
   "id": "461ee5cc",
   "metadata": {},
   "source": [
    "### Joining Multiple Tables \n",
    "\n",
    "Let's look at joining multiple tables together. "
   ]
  },
  {
   "cell_type": "code",
   "execution_count": null,
   "id": "994f1c23",
   "metadata": {
    "tags": []
   },
   "outputs": [],
   "source": [
    "conn.executescript(\"\"\"\n",
    "CREATE TABLE district1_enrollment (\n",
    "    id INTEGER,\n",
    "    enrollment INTEGER\n",
    ");\n",
    "\"\"\");\n",
    "conn.executescript(\"\"\"\n",
    "CREATE TABLE district1_grades (\n",
    "    id INTEGER,\n",
    "    grades TEXT\n",
    "  );\n",
    "\"\"\");\n",
    "conn.executescript(\"\"\"\n",
    "INSERT INTO district1_enrollment \n",
    "VALUES\n",
    "    (1, 360),\n",
    "    (2, 1001),\n",
    "    (5, 450),\n",
    "    (6, 927);\n",
    "\"\"\");\n",
    "conn.executescript(\"\"\"\n",
    "INSERT INTO district1_grades \n",
    "VALUES\n",
    "    (1, 'K-3'),\n",
    "    (2, '9-12'),\n",
    "    (5, '6-8'),\n",
    "    (6, '9-12');\n",
    "\"\"\");"
   ]
  },
  {
   "cell_type": "code",
   "execution_count": null,
   "id": "bee0366f",
   "metadata": {
    "tags": []
   },
   "outputs": [],
   "source": [
    "pretty_print_sql(conn, \"\"\"\n",
    "SELECT d1.id, \n",
    "       d1.school_1,\n",
    "       en.enrollment, \n",
    "       gr.grades\n",
    "FROM district1 AS d1 JOIN district1_enrollment AS en\n",
    "    ON d1.id = en.id\n",
    "JOIN district1_grades AS gr \n",
    "    ON d1.id = gr.id\n",
    "ORDER BY d1.id;\n",
    "\"\"\")"
   ]
  },
  {
   "cell_type": "markdown",
   "id": "be04f8bf",
   "metadata": {},
   "source": [
    "### Connections to Relational Algebra \n",
    "\n",
    "Here we can now explore additional connections to relational algebra operators. "
   ]
  },
  {
   "cell_type": "markdown",
   "id": "5f37320a",
   "metadata": {},
   "source": [
    "#### Union \n",
    "\n",
    "The union operator $p \\cup q$ is related to \n",
    "\n",
    "```mysql \n",
    "SELECT * \n",
    "FROM p \n",
    "UNION \n",
    "SELECT * \n",
    "FROM q\n",
    "```"
   ]
  },
  {
   "cell_type": "code",
   "execution_count": null,
   "id": "e7fa421d",
   "metadata": {
    "tags": []
   },
   "outputs": [],
   "source": [
    "pretty_print_sql(conn, \"\"\"\n",
    "SELECT * \n",
    "FROM district1 \n",
    "UNION \n",
    "SELECT * \n",
    "FROM district2\n",
    "ORDER BY id;\n",
    "\"\"\")"
   ]
  },
  {
   "cell_type": "code",
   "execution_count": null,
   "id": "be6ba3d8",
   "metadata": {
    "tags": []
   },
   "outputs": [],
   "source": [
    "pretty_print_sql(conn, \"\"\"\n",
    "SELECT * \n",
    "FROM district1 \n",
    "UNION ALL\n",
    "SELECT * \n",
    "FROM district2\n",
    "ORDER BY id;\n",
    "\"\"\")"
   ]
  },
  {
   "cell_type": "code",
   "execution_count": null,
   "id": "0108b426",
   "metadata": {
    "tags": []
   },
   "outputs": [],
   "source": [
    "pretty_print_sql(conn, \"\"\"\n",
    "SELECT '1' AS num, \n",
    "       school_1 AS school\n",
    "FROM district1 \n",
    "UNION ALL \n",
    "SELECT '2' AS num,\n",
    "       school_2 AS school\n",
    "FROM district2\n",
    "ORDER BY school, num;\n",
    "\"\"\")"
   ]
  },
  {
   "cell_type": "markdown",
   "id": "e8ac53d0",
   "metadata": {},
   "source": [
    "#### Intersection \n",
    "\n",
    "The intersection operator $p \\cap q$ is related to \n",
    "\n",
    "```mysql \n",
    "SELECT * \n",
    "FROM p \n",
    "INTERSECT \n",
    "SELECT * \n",
    "FROM q\n",
    "```"
   ]
  },
  {
   "cell_type": "code",
   "execution_count": null,
   "id": "3577c7a6",
   "metadata": {
    "tags": []
   },
   "outputs": [],
   "source": [
    "pretty_print_sql(conn, \"\"\"\n",
    "SELECT * FROM district1\n",
    "INTERSECT\n",
    "SELECT * FROM district2\n",
    "ORDER BY id;\n",
    "\"\"\")"
   ]
  },
  {
   "cell_type": "markdown",
   "id": "e0e86c20",
   "metadata": {},
   "source": [
    "#### Set Difference \n",
    "\n",
    "The set different operator $p - q$ is related to \n",
    "\n",
    "```mysql \n",
    "SELECT * \n",
    "FROM p \n",
    "EXCEPT \n",
    "SELECT * \n",
    "FROM q\n",
    "```"
   ]
  },
  {
   "cell_type": "code",
   "execution_count": null,
   "id": "e8f50cdc",
   "metadata": {
    "tags": []
   },
   "outputs": [],
   "source": [
    "pretty_print_sql(conn, \"\"\"\n",
    "SELECT * FROM district1\n",
    "EXCEPT\n",
    "SELECT * FROM district2\n",
    "ORDER BY id;\n",
    "\"\"\")"
   ]
  },
  {
   "cell_type": "markdown",
   "id": "e7d388a2",
   "metadata": {
    "id": "qRM71UyTDcPz"
   },
   "source": [
    "### Performing Math on Joined Table \n",
    "\n",
    "Math functions can also be used when working with joined tables. \n",
    "\n",
    "First, let's load in data from the 2000 Census.  Note, the file format and headers are slightly different, but we can handle that. "
   ]
  },
  {
   "cell_type": "code",
   "execution_count": null,
   "id": "32162eb8",
   "metadata": {
    "id": "ct8CDxWlDcPz",
    "tags": []
   },
   "outputs": [],
   "source": [
    "df = pd.read_csv(\"us_counties_2000.csv\")\n",
    "df.to_sql('us_counties_2000', conn, if_exists='append', index=False)\n",
    "df.head()"
   ]
  },
  {
   "cell_type": "markdown",
   "id": "37a07a73",
   "metadata": {
    "id": "5ta7oNwZDcP1"
   },
   "source": [
    "Now we can look at calculating the change in population from 2000 to 2010 as a percentage. "
   ]
  },
  {
   "cell_type": "code",
   "execution_count": null,
   "id": "e35b8e71",
   "metadata": {
    "id": "XmnUW2dHDcP5",
    "scrolled": true,
    "tags": []
   },
   "outputs": [],
   "source": [
    "print_sql(conn, \"\"\"\n",
    "SELECT DISTINCT c2010.NAME,\n",
    "      c2010.STUSAB AS state,\n",
    "      c2010.P0010001 AS pop_2010,\n",
    "      c2000.p0010001 AS pop_2000,\n",
    "      c2010.P0010001 - c2000.p0010001 AS raw_change,\n",
    "       round( (CAST(c2010.P0010001 AS FLOAT) - c2000.p0010001)\n",
    "             / c2000.p0010001 * 100, 1 ) AS pct_change\n",
    "FROM us_counties_2010 c2010 INNER JOIN us_counties_2000 c2000\n",
    "ON c2010.STATE = c2000.state_fips\n",
    "  AND c2010.COUNTY = c2000.county_fips\n",
    "   AND c2010.P0010001 <> c2000.p0010001\n",
    "ORDER BY pct_change DESC;\n",
    "\"\"\")"
   ]
  },
  {
   "cell_type": "markdown",
   "id": "5f7df526",
   "metadata": {
    "id": "AHr2TYVjDcQD"
   },
   "source": [
    "### Information from Grouping and Summarizing\n",
    "\n",
    "We will load in survey data from the Institute of Museum and Library Services (IMLS) in its annual Public Libraries Survey.  The survey collects data from more than 9,000 library entities. \n",
    "\n",
    "We will create two tables one from 2014 survey and one from 2009 survey. "
   ]
  },
  {
   "cell_type": "code",
   "execution_count": null,
   "id": "80bd4e02",
   "metadata": {
    "id": "GJwL6A_2DcQE",
    "tags": []
   },
   "outputs": [],
   "source": [
    "df = pd.read_csv(\"pls_fy2014_pupld14a.csv\")\n",
    "df.to_sql('pls_fy2014_pupld14a', conn, if_exists='append', index=False)\n",
    "df.head()"
   ]
  },
  {
   "cell_type": "code",
   "execution_count": null,
   "id": "b682273e",
   "metadata": {
    "id": "SQHPIEF8DcQG",
    "tags": []
   },
   "outputs": [],
   "source": [
    "df = pd.read_csv(\"pls_fy2009_pupld09a.csv\")\n",
    "df.to_sql('pls_fy2009_pupld09a', conn, if_exists='append', index=False)\n",
    "df.head()"
   ]
  },
  {
   "cell_type": "markdown",
   "id": "2f54d45e",
   "metadata": {
    "id": "Xo51fNOfDcQt"
   },
   "source": [
    "##### Counting Rows and Values using count()\n",
    "\n",
    "The `count()` aggregate function can be used to check the number of rows.  The * returns the number of table rows regardless of whether they include `NULL` values. "
   ]
  },
  {
   "cell_type": "code",
   "execution_count": null,
   "id": "07d2239c",
   "metadata": {
    "id": "v_CtrXBhDcQt",
    "tags": []
   },
   "outputs": [],
   "source": [
    "print_sql(conn, \"SELECT count(*) FROM pls_fy2014_pupld14a;\")"
   ]
  },
  {
   "cell_type": "code",
   "execution_count": null,
   "id": "fcfe46dc",
   "metadata": {
    "id": "qgW_UOEMDcQ2",
    "tags": []
   },
   "outputs": [],
   "source": [
    "print_sql(conn, \"SELECT count(*) FROM pls_fy2009_pupld09a;\")"
   ]
  },
  {
   "cell_type": "markdown",
   "id": "de68196f",
   "metadata": {
    "id": "6mrgdL-ZDcQ4"
   },
   "source": [
    "##### Counting Values in a Column \n",
    "\n",
    "Count the number of rows in salaries column from 2014 that have values. "
   ]
  },
  {
   "cell_type": "code",
   "execution_count": null,
   "id": "74d7be92",
   "metadata": {
    "id": "ORzFS1MeDcQ4",
    "tags": []
   },
   "outputs": [],
   "source": [
    "print_sql(conn, \"SELECT count(SALARIES) FROM pls_fy2014_pupld14a;\")"
   ]
  },
  {
   "cell_type": "markdown",
   "id": "5174b63f",
   "metadata": {
    "id": "9NMxcyHCDcQ8"
   },
   "source": [
    "We can count the number of distinct values using the `DISTINCT` keyword. "
   ]
  },
  {
   "cell_type": "code",
   "execution_count": null,
   "id": "e7ba716e",
   "metadata": {
    "id": "Zcsml8_9DcQ9",
    "tags": []
   },
   "outputs": [],
   "source": [
    "print_sql(conn, \"SELECT count(LIBNAME) FROM pls_fy2014_pupld14a;\")"
   ]
  },
  {
   "cell_type": "code",
   "execution_count": null,
   "id": "f044378a",
   "metadata": {
    "id": "V-iAuOHGDcQ_",
    "tags": []
   },
   "outputs": [],
   "source": [
    "print_sql(conn, \"SELECT count(DISTINCT LIBNAME) FROM pls_fy2014_pupld14a;\")"
   ]
  },
  {
   "cell_type": "markdown",
   "id": "6b06d21e",
   "metadata": {
    "id": "pHXnEDQXDcRD"
   },
   "source": [
    "We would expect the library agency name to be unique, but we can see that there are only 8,515 out of the 9,305 rows.  \n",
    "\n",
    "Looking closely we can see several duplicate names.  For example, there are nine library agencies named Oxford Public Library, each in a city or town named Oxford, in different states, e.g., Alabama, Connecticut, Kansas, etc. "
   ]
  },
  {
   "cell_type": "code",
   "execution_count": null,
   "id": "df94a7eb",
   "metadata": {
    "tags": []
   },
   "outputs": [],
   "source": [
    "print_sql(conn, \"\"\"\n",
    "SELECT LIBNAME, count(LIBNAME)\n",
    "FROM pls_fy2014_pupld14a\n",
    "GROUP BY LIBNAME\n",
    "ORDER BY count(LIBNAME) DESC;\n",
    "\"\"\")"
   ]
  },
  {
   "cell_type": "markdown",
   "id": "7328a17a",
   "metadata": {
    "id": "g2P2yXWBDcRD"
   },
   "source": [
    "##### Finding Maximum and Minimum Values "
   ]
  },
  {
   "cell_type": "code",
   "execution_count": null,
   "id": "04b01dd9",
   "metadata": {
    "id": "PNLQCKkSDcRE",
    "tags": []
   },
   "outputs": [],
   "source": [
    "pretty_print_sql(conn, \"SELECT max(VISITS), min(VISITS) FROM pls_fy2014_pupld14a;\")"
   ]
  },
  {
   "cell_type": "markdown",
   "id": "103f5854",
   "metadata": {
    "id": "av0G5YpCDcRG"
   },
   "source": [
    "##### Aggregating Data Using GROUP BY \n",
    "\n",
    "We can use GROUP BY to see all the states represented in the survey. "
   ]
  },
  {
   "cell_type": "code",
   "execution_count": null,
   "id": "19059d8e",
   "metadata": {
    "tags": []
   },
   "outputs": [],
   "source": [
    "pretty_print_sql(conn, \"\"\"\n",
    "SELECT STABR \n",
    "FROM pls_fy2014_pupld14a\n",
    "GROUP BY STABR \n",
    "ORDER BY STABR;\n",
    "\"\"\")"
   ]
  },
  {
   "cell_type": "markdown",
   "id": "24c38d49",
   "metadata": {},
   "source": [
    "Why are there more than 50 states, there are also territories, e.g., PR - Puerto Rico, GU - Guam, etc. \n",
    "\n",
    "We can also group by multiply columns, e.g., city and state. "
   ]
  },
  {
   "cell_type": "code",
   "execution_count": null,
   "id": "3f0d7ca4",
   "metadata": {
    "tags": []
   },
   "outputs": [],
   "source": [
    "print_sql(conn, \"\"\"\n",
    "SELECT CITY, STABR\n",
    "FROM pls_fy2014_pupld14a\n",
    "GROUP BY CITY, STABR\n",
    "ORDER BY CITY, STABR;\n",
    "\"\"\")"
   ]
  },
  {
   "cell_type": "markdown",
   "id": "4e7b6194",
   "metadata": {},
   "source": [
    "We can use `GROUP BY` with aggregate functions.  For example, we can look at using `sum()` or `count()` for each state with the survey data. "
   ]
  },
  {
   "cell_type": "code",
   "execution_count": null,
   "id": "7bc838f6",
   "metadata": {
    "id": "lrCYTsYaDcRG",
    "scrolled": true,
    "tags": []
   },
   "outputs": [],
   "source": [
    "print_sql(conn, \"\"\"\n",
    "SELECT STABR, count(*)\n",
    "FROM pls_fy2014_pupld14a\n",
    "GROUP BY STABR\n",
    "ORDER BY count(*) DESC;\n",
    "\"\"\")"
   ]
  },
  {
   "cell_type": "markdown",
   "id": "51d2e878",
   "metadata": {
    "id": "GqKxZJw6DcRM"
   },
   "source": [
    "We can group by with multiple columns with the aggregate functions.  Here we consider both city and state.  "
   ]
  },
  {
   "cell_type": "code",
   "execution_count": null,
   "id": "7e426668",
   "metadata": {
    "id": "_EsEsJiADcRQ",
    "scrolled": true,
    "tags": []
   },
   "outputs": [],
   "source": [
    "print_sql(conn, \"\"\"\n",
    "SELECT CITY, STABR, count(*)\n",
    "FROM pls_fy2014_pupld14a\n",
    "GROUP BY CITY, STABR\n",
    "ORDER BY count(*) DESC;\n",
    "\"\"\")"
   ]
  },
  {
   "cell_type": "code",
   "execution_count": null,
   "id": "d684315f",
   "metadata": {
    "tags": []
   },
   "outputs": [],
   "source": [
    "print_sql(conn, \"\"\"\n",
    "SELECT STABR, STATADDR, count(*)\n",
    "FROM pls_fy2014_pupld14a\n",
    "GROUP BY STABR, STATADDR\n",
    "ORDER BY STABR, STATADDR;\n",
    "\"\"\")"
   ]
  },
  {
   "cell_type": "markdown",
   "id": "7ffc0048",
   "metadata": {
    "id": "bPmRy5y9DcRW"
   },
   "source": [
    "Let's look at `sum()` and library visits.  The value for library visits can be negative to indicate certain encodings in the data, we don't want to include them in our sum. "
   ]
  },
  {
   "cell_type": "code",
   "execution_count": null,
   "id": "71088317",
   "metadata": {
    "id": "84fx2kCGDcRW",
    "tags": []
   },
   "outputs": [],
   "source": [
    "print_sql(conn, \"\"\"\n",
    "SELECT sum(VISITS) AS visits_2014\n",
    "FROM pls_fy2014_pupld14a\n",
    "WHERE VISITS >= 0;\n",
    "\"\"\")"
   ]
  },
  {
   "cell_type": "code",
   "execution_count": null,
   "id": "de8a4a32",
   "metadata": {
    "id": "eAzgAqbEDcRY",
    "tags": []
   },
   "outputs": [],
   "source": [
    "print_sql(conn, \"\"\"\n",
    "SELECT sum(VISITS) AS visits_2009\n",
    "FROM pls_fy2009_pupld09a\n",
    "WHERE VISITS >= 0;\n",
    "\"\"\")"
   ]
  },
  {
   "cell_type": "code",
   "execution_count": null,
   "id": "78f72d90",
   "metadata": {
    "id": "I1Vh7EnxDcRf",
    "tags": []
   },
   "outputs": [],
   "source": [
    "pretty_print_sql(conn, \"\"\"\n",
    "SELECT sum(pls14.VISITS) AS visits_2014,\n",
    "         sum(pls09.VISITS) AS visits_2009\n",
    "FROM pls_fy2014_pupld14a pls14 JOIN pls_fy2009_pupld09a pls09\n",
    "ON pls14.FSCSKEY = pls09.FSCSKEY\n",
    "WHERE pls14.VISITS >= 0 AND pls09.VISITS >= 0;\n",
    "\"\"\")"
   ]
  },
  {
   "cell_type": "markdown",
   "id": "b71485a5",
   "metadata": {
    "id": "g2NjM6gVDcRi"
   },
   "source": [
    "Now we can look at grouping visit sums by state. "
   ]
  },
  {
   "cell_type": "code",
   "execution_count": null,
   "id": "09edfd46",
   "metadata": {
    "id": "yRkTExHqDcRj",
    "scrolled": true,
    "tags": []
   },
   "outputs": [],
   "source": [
    "print_sql(conn, \"\"\"\n",
    "SELECT pls14.STABR,\n",
    "         sum(pls14.VISITS) AS visits_2014,\n",
    "         sum(pls09.VISITS) AS visits_2009,\n",
    "         round( (CAST(sum(pls14.VISITS) AS FLOAT) - sum(pls09.VISITS)) /\n",
    "                      sum(pls09.VISITS) * 100, 2 ) AS pct_change\n",
    "FROM pls_fy2014_pupld14a pls14 JOIN pls_fy2009_pupld09a pls09\n",
    "ON pls14.FSCSKEY = pls09.FSCSKEY\n",
    "WHERE pls14.VISITS >= 0 AND pls09.VISITS >= 0\n",
    "GROUP BY pls14.STABR\n",
    "ORDER BY pct_change DESC;\n",
    "\"\"\")"
   ]
  },
  {
   "cell_type": "markdown",
   "id": "5522df44",
   "metadata": {
    "id": "3-FtKuI7DcRm"
   },
   "source": [
    "We can also refine the results by filtering with the `HAVING` clause. "
   ]
  },
  {
   "cell_type": "code",
   "execution_count": null,
   "id": "c2b2a5eb",
   "metadata": {
    "id": "zRoZ_5fZDcRm",
    "tags": []
   },
   "outputs": [],
   "source": [
    "print_sql(conn, \"\"\"\n",
    "SELECT pls14.STABR,\n",
    "         sum(pls14.VISITS) AS visits_2014,\n",
    "         sum(pls09.VISITS) AS visits_2009,\n",
    "         round( (CAST(sum(pls14.VISITS) AS FLOAT) - sum(pls09.VISITS)) /\n",
    "                      sum(pls09.VISITS) * 100, 2 ) AS pct_change\n",
    "FROM pls_fy2014_pupld14a pls14 JOIN pls_fy2009_pupld09a pls09\n",
    "ON pls14.FSCSKEY = pls09.FSCSKEY\n",
    "WHERE pls14.VISITS >= 0 AND pls09.VISITS >= 0\n",
    "GROUP BY pls14.STABR\n",
    "HAVING sum(pls14.VISITS) > 50000000\n",
    "ORDER BY pct_change DESC;\n",
    "\"\"\")"
   ]
  },
  {
   "cell_type": "markdown",
   "id": "01f2be53",
   "metadata": {},
   "source": [
    "Note, that the answer to a relation query is always a table, we can use the answer from one query as input to another query. \n",
    "\n",
    "This means we can create arbitrarily complex queries. \n",
    "\n",
    "Links to examples of subqueries:   \n",
    "https://www.sqlitetutorial.net/sqlite-subquery/  \n",
    "https://www.sqltutorial.org/sql-subquery/\n"
   ]
  },
  {
   "cell_type": "markdown",
   "id": "eb80e740",
   "metadata": {
    "id": "qPUyy6UHDcRo"
   },
   "source": [
    "### Other Topics\n",
    "\n",
    "There are many more topics associated with databases including modifying data, statistical functions, working with dates and times, advanced query methods, etc. \n",
    "\n",
    "This is meant to be a review of the basic methods. "
   ]
  },
  {
   "cell_type": "code",
   "execution_count": null,
   "id": "e588f31e",
   "metadata": {
    "id": "G6uK5Pd_DcRo"
   },
   "outputs": [],
   "source": []
  },
  {
   "cell_type": "code",
   "execution_count": null,
   "id": "1368503f",
   "metadata": {
    "id": "GPoXbjkDDcRq"
   },
   "outputs": [],
   "source": []
  },
  {
   "cell_type": "code",
   "execution_count": null,
   "id": "48f797ac",
   "metadata": {
    "id": "xXxMEkoWDcRs"
   },
   "outputs": [],
   "source": []
  }
 ],
 "metadata": {
  "kernelspec": {
   "display_name": "Python [conda env:un5550] *",
   "language": "python",
   "name": "conda-env-un5550-py"
  },
  "language_info": {
   "codemirror_mode": {
    "name": "ipython",
    "version": 3
   },
   "file_extension": ".py",
   "mimetype": "text/x-python",
   "name": "python",
   "nbconvert_exporter": "python",
   "pygments_lexer": "ipython3",
   "version": "3.10.12"
  }
 },
 "nbformat": 4,
 "nbformat_minor": 5
}
