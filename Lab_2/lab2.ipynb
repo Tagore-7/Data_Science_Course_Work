{
 "cells": [
  {
   "cell_type": "markdown",
   "id": "0583c8d9",
   "metadata": {},
   "source": [
    "# Lab 2 \n",
    "\n",
    "\n",
    "**Lab 2**\n",
    "Assignment Objectives:  \n",
    "Upon successful completion of this assignment, a student will be able to:\n",
    "* Gain experience using and writing functions.\n",
    "* Use basic statistical functions\n",
    "* Gain experience in exploratory data visualization\n",
    "* Use basic data cleanging."
   ]
  },
  {
   "cell_type": "markdown",
   "id": "961e0f47",
   "metadata": {},
   "source": [
    "The next code cell is required to use the autograder when running on Colab/DeepNote (uncomment the code). If you are using an environment with `otter-grader` already installed, then leave the code commented out.  "
   ]
  },
  {
   "cell_type": "code",
   "execution_count": 47,
   "id": "d1bd78d6",
   "metadata": {
    "tags": []
   },
   "outputs": [],
   "source": [
    "#  Import libraries \n",
    "import pandas as pd\n",
    "import numpy as np\n",
    "import matplotlib as mpl\n",
    "import matplotlib.pyplot as plt\n",
    "%matplotlib inline\n",
    "import seaborn as sns\n",
    "\n",
    "import otter\n",
    "grader = otter.Notebook()"
   ]
  },
  {
   "cell_type": "markdown",
   "id": "a39cd771",
   "metadata": {},
   "source": [
    "*Tip: It is good practice to list all imports needed at the top of the notebook.  You can import modules in later cells as needed, but listing them at the top clearly shows all which are needed to be available / installed.*"
   ]
  },
  {
   "cell_type": "markdown",
   "id": "abd68191",
   "metadata": {
    "id": "Tk_HzyPRF0pb"
   },
   "source": [
    "### Data \n",
    "\n",
    "You will again be using the Auto-MPG data set available on the UCI repository. \n",
    "\n",
    "https://archive.ics.uci.edu/ml/datasets/Auto+MPG\n",
    "\n"
   ]
  },
  {
   "cell_type": "markdown",
   "id": "1c5ca841",
   "metadata": {
    "deletable": false,
    "editable": false,
    "id": "SODxVOmdGRW-",
    "tags": []
   },
   "source": [
    "## Exercise 1 - Import Data \n",
    "You will want to create a function to import the data \n",
    "\n",
    "The function should be named `ImportData(url, col_names)`    \n",
    "`ImportData` has two input arguments: \n",
    "* `url` - a string that links to the data to be imported, and \n",
    "* `col_names` - a list of strings container each column names. \n",
    "\n",
    "In the function, you should import the data using `read_csv`, set the column names to `col_names`, and set the DataFrame index (*row labels*) to `carName`.  \n",
    "\n",
    "The column names should be set to: 'mpg', 'cyl', 'disp', 'hp', 'weight', 'accel', 'model year', 'origin', 'car name'. \n",
    "\n",
    "For this function, do not use the `na_values` argument of `read_csv`.  We will handle missing data later in the notebook.\n",
    "\n",
    "The function should return the DataFrame. \n",
    "\n",
    "Helpful links: \n",
    "\n",
    "* https://pandas.pydata.org/pandas-docs/stable/generated/pandas.read_csv.html#pandas.read_csv\n",
    "* https://pandas.pydata.org/pandas-docs/stable/generated/pandas.read_table.html#pandas.read_table"
   ]
  },
  {
   "cell_type": "code",
   "execution_count": 48,
   "id": "838779a1",
   "metadata": {
    "colab": {
     "base_uri": "https://localhost:8080/",
     "height": 235
    },
    "executionInfo": {
     "elapsed": 702,
     "status": "ok",
     "timestamp": 1599773891853,
     "user": {
      "displayName": "Laura Brown",
      "photoUrl": "https://lh3.googleusercontent.com/a-/AOh14GjYbC5So3kNOYBteW-fSY5JpgP-bBJa7kyAEluaKg=s64",
      "userId": "02180634349638765126"
     },
     "user_tz": 240
    },
    "id": "Wl4t-wwZGxXN",
    "outputId": "05cf1cfa-3401-40d6-86da-7c035af0d602",
    "tags": []
   },
   "outputs": [
    {
     "data": {
      "text/html": [
       "<div>\n",
       "<style scoped>\n",
       "    .dataframe tbody tr th:only-of-type {\n",
       "        vertical-align: middle;\n",
       "    }\n",
       "\n",
       "    .dataframe tbody tr th {\n",
       "        vertical-align: top;\n",
       "    }\n",
       "\n",
       "    .dataframe thead th {\n",
       "        text-align: right;\n",
       "    }\n",
       "</style>\n",
       "<table border=\"1\" class=\"dataframe\">\n",
       "  <thead>\n",
       "    <tr style=\"text-align: right;\">\n",
       "      <th></th>\n",
       "      <th>mpg</th>\n",
       "      <th>cyl</th>\n",
       "      <th>disp</th>\n",
       "      <th>hp</th>\n",
       "      <th>weight</th>\n",
       "      <th>accel</th>\n",
       "      <th>model year</th>\n",
       "      <th>origin</th>\n",
       "      <th>car name</th>\n",
       "    </tr>\n",
       "    <tr>\n",
       "      <th>car name</th>\n",
       "      <th></th>\n",
       "      <th></th>\n",
       "      <th></th>\n",
       "      <th></th>\n",
       "      <th></th>\n",
       "      <th></th>\n",
       "      <th></th>\n",
       "      <th></th>\n",
       "      <th></th>\n",
       "    </tr>\n",
       "  </thead>\n",
       "  <tbody>\n",
       "    <tr>\n",
       "      <th>chevrolet chevelle malibu</th>\n",
       "      <td>18.0</td>\n",
       "      <td>8</td>\n",
       "      <td>307.0</td>\n",
       "      <td>130.0</td>\n",
       "      <td>3504.0</td>\n",
       "      <td>12.0</td>\n",
       "      <td>70</td>\n",
       "      <td>1</td>\n",
       "      <td>chevrolet chevelle malibu</td>\n",
       "    </tr>\n",
       "    <tr>\n",
       "      <th>buick skylark 320</th>\n",
       "      <td>15.0</td>\n",
       "      <td>8</td>\n",
       "      <td>350.0</td>\n",
       "      <td>165.0</td>\n",
       "      <td>3693.0</td>\n",
       "      <td>11.5</td>\n",
       "      <td>70</td>\n",
       "      <td>1</td>\n",
       "      <td>buick skylark 320</td>\n",
       "    </tr>\n",
       "    <tr>\n",
       "      <th>plymouth satellite</th>\n",
       "      <td>18.0</td>\n",
       "      <td>8</td>\n",
       "      <td>318.0</td>\n",
       "      <td>150.0</td>\n",
       "      <td>3436.0</td>\n",
       "      <td>11.0</td>\n",
       "      <td>70</td>\n",
       "      <td>1</td>\n",
       "      <td>plymouth satellite</td>\n",
       "    </tr>\n",
       "    <tr>\n",
       "      <th>amc rebel sst</th>\n",
       "      <td>16.0</td>\n",
       "      <td>8</td>\n",
       "      <td>304.0</td>\n",
       "      <td>150.0</td>\n",
       "      <td>3433.0</td>\n",
       "      <td>12.0</td>\n",
       "      <td>70</td>\n",
       "      <td>1</td>\n",
       "      <td>amc rebel sst</td>\n",
       "    </tr>\n",
       "    <tr>\n",
       "      <th>ford torino</th>\n",
       "      <td>17.0</td>\n",
       "      <td>8</td>\n",
       "      <td>302.0</td>\n",
       "      <td>140.0</td>\n",
       "      <td>3449.0</td>\n",
       "      <td>10.5</td>\n",
       "      <td>70</td>\n",
       "      <td>1</td>\n",
       "      <td>ford torino</td>\n",
       "    </tr>\n",
       "  </tbody>\n",
       "</table>\n",
       "</div>"
      ],
      "text/plain": [
       "                            mpg  cyl   disp     hp  weight  accel  model year  \\\n",
       "car name                                                                        \n",
       "chevrolet chevelle malibu  18.0    8  307.0  130.0  3504.0   12.0          70   \n",
       "buick skylark 320          15.0    8  350.0  165.0  3693.0   11.5          70   \n",
       "plymouth satellite         18.0    8  318.0  150.0  3436.0   11.0          70   \n",
       "amc rebel sst              16.0    8  304.0  150.0  3433.0   12.0          70   \n",
       "ford torino                17.0    8  302.0  140.0  3449.0   10.5          70   \n",
       "\n",
       "                           origin                   car name  \n",
       "car name                                                      \n",
       "chevrolet chevelle malibu       1  chevrolet chevelle malibu  \n",
       "buick skylark 320               1          buick skylark 320  \n",
       "plymouth satellite              1         plymouth satellite  \n",
       "amc rebel sst                   1              amc rebel sst  \n",
       "ford torino                     1                ford torino  "
      ]
     },
     "execution_count": 48,
     "metadata": {},
     "output_type": "execute_result"
    }
   ],
   "source": [
    "# Create the function ImportData here and return the data \n",
    "\n",
    "def ImportData(url, col_names):\n",
    "    df = pd.read_csv(url,header = None, names = cNames,  delim_whitespace=True)\n",
    "    df.set_index('car name', inplace = True,drop = False)\n",
    "    \n",
    "    # return the created DataFrame, df \n",
    "    \n",
    "    \n",
    "    return df\n",
    "\n",
    "url = 'https://archive.ics.uci.edu/ml/machine-learning-databases/auto-mpg/auto-mpg.data'  \n",
    "cNames = ['mpg', 'cyl', 'disp', 'hp', 'weight', 'accel', 'model year', 'origin', 'car name']\n",
    "data = ImportData(url, cNames)\n",
    "data.head()"
   ]
  },
  {
   "cell_type": "code",
   "execution_count": 49,
   "id": "1ecb2600",
   "metadata": {
    "deletable": false,
    "editable": false
   },
   "outputs": [
    {
     "data": {
      "text/html": [
       "<p><strong><pre style='display: inline;'>q1</pre></strong> passed! 🙌</p>"
      ],
      "text/plain": [
       "q1 results: All test cases passed!"
      ]
     },
     "execution_count": 49,
     "metadata": {},
     "output_type": "execute_result"
    }
   ],
   "source": [
    "grader.check(\"q1\")"
   ]
  },
  {
   "cell_type": "markdown",
   "id": "14433da0",
   "metadata": {
    "deletable": false,
    "editable": false,
    "id": "Duo0iHKSGWUM"
   },
   "source": [
    "## Exercise 2: Data Cleaning \n",
    "\n",
    "The data cleaning part will have multiple goals: to handle any missing data and to process the string data to remove spaces and replace with an underscore. \n",
    "\n",
    "You will create a function, named ColDataClean(data) that:\n",
    "\n",
    "* Identify any Null/NA/NaN entries in the DataFrame, print out what entries will be removed, and remove them \n",
    "* Change the column labels (headers) from all lower case to [title case](https://danielmiessler.com/p/a-list-of-different-case-types/) and then replace \"space\" with underscore, \"_\". Print the column headers before and after.\n",
    "* Change the DataFrame index (row labels) also be title case, that is, replace all spaces with underscore"
   ]
  },
  {
   "cell_type": "code",
   "execution_count": 50,
   "id": "1f15c8b2",
   "metadata": {
    "colab": {
     "base_uri": "https://localhost:8080/",
     "height": 558
    },
    "executionInfo": {
     "elapsed": 415,
     "status": "ok",
     "timestamp": 1599760064096,
     "user": {
      "displayName": "Laura Brown",
      "photoUrl": "https://lh3.googleusercontent.com/a-/AOh14GjYbC5So3kNOYBteW-fSY5JpgP-bBJa7kyAEluaKg=s64",
      "userId": "02180634349638765126"
     },
     "user_tz": 240
    },
    "id": "FiQVijr_G3F5",
    "outputId": "c1872d2a-e214-4f4f-c0e4-11097da58fa2",
    "tags": []
   },
   "outputs": [
    {
     "name": "stdout",
     "output_type": "stream",
     "text": [
      "mpg           False\n",
      "cyl           False\n",
      "disp          False\n",
      "hp            False\n",
      "weight        False\n",
      "accel         False\n",
      "model year    False\n",
      "origin        False\n",
      "car name      False\n",
      "dtype: bool\n",
      "*** Removing null entries ***\n",
      "*** String Operations on Column Headers ***\n",
      "  Before:  Index(['mpg', 'cyl', 'disp', 'hp', 'weight', 'accel', 'model year', 'origin',\n",
      "       'car name'],\n",
      "      dtype='object')\n",
      "  After:  Index(['Mpg', 'Cyl', 'Disp', 'Hp', 'Weight', 'Accel', 'Model Year', 'Origin',\n",
      "       'Car Name'],\n",
      "      dtype='object')\n",
      "*** String Operations on index strings *** \n",
      "\n"
     ]
    },
    {
     "data": {
      "text/html": [
       "<div>\n",
       "<style scoped>\n",
       "    .dataframe tbody tr th:only-of-type {\n",
       "        vertical-align: middle;\n",
       "    }\n",
       "\n",
       "    .dataframe tbody tr th {\n",
       "        vertical-align: top;\n",
       "    }\n",
       "\n",
       "    .dataframe thead th {\n",
       "        text-align: right;\n",
       "    }\n",
       "</style>\n",
       "<table border=\"1\" class=\"dataframe\">\n",
       "  <thead>\n",
       "    <tr style=\"text-align: right;\">\n",
       "      <th></th>\n",
       "      <th>Mpg</th>\n",
       "      <th>Cyl</th>\n",
       "      <th>Disp</th>\n",
       "      <th>Hp</th>\n",
       "      <th>Weight</th>\n",
       "      <th>Accel</th>\n",
       "      <th>Model_Year</th>\n",
       "      <th>Origin</th>\n",
       "      <th>Car_Name</th>\n",
       "    </tr>\n",
       "    <tr>\n",
       "      <th>car name</th>\n",
       "      <th></th>\n",
       "      <th></th>\n",
       "      <th></th>\n",
       "      <th></th>\n",
       "      <th></th>\n",
       "      <th></th>\n",
       "      <th></th>\n",
       "      <th></th>\n",
       "      <th></th>\n",
       "    </tr>\n",
       "  </thead>\n",
       "  <tbody>\n",
       "    <tr>\n",
       "      <th>Chevrolet_Chevelle_Malibu</th>\n",
       "      <td>18.0</td>\n",
       "      <td>8</td>\n",
       "      <td>307.0</td>\n",
       "      <td>130.0</td>\n",
       "      <td>3504.0</td>\n",
       "      <td>12.0</td>\n",
       "      <td>70</td>\n",
       "      <td>1</td>\n",
       "      <td>chevrolet chevelle malibu</td>\n",
       "    </tr>\n",
       "    <tr>\n",
       "      <th>Buick_Skylark_320</th>\n",
       "      <td>15.0</td>\n",
       "      <td>8</td>\n",
       "      <td>350.0</td>\n",
       "      <td>165.0</td>\n",
       "      <td>3693.0</td>\n",
       "      <td>11.5</td>\n",
       "      <td>70</td>\n",
       "      <td>1</td>\n",
       "      <td>buick skylark 320</td>\n",
       "    </tr>\n",
       "    <tr>\n",
       "      <th>Plymouth_Satellite</th>\n",
       "      <td>18.0</td>\n",
       "      <td>8</td>\n",
       "      <td>318.0</td>\n",
       "      <td>150.0</td>\n",
       "      <td>3436.0</td>\n",
       "      <td>11.0</td>\n",
       "      <td>70</td>\n",
       "      <td>1</td>\n",
       "      <td>plymouth satellite</td>\n",
       "    </tr>\n",
       "    <tr>\n",
       "      <th>Amc_Rebel_Sst</th>\n",
       "      <td>16.0</td>\n",
       "      <td>8</td>\n",
       "      <td>304.0</td>\n",
       "      <td>150.0</td>\n",
       "      <td>3433.0</td>\n",
       "      <td>12.0</td>\n",
       "      <td>70</td>\n",
       "      <td>1</td>\n",
       "      <td>amc rebel sst</td>\n",
       "    </tr>\n",
       "    <tr>\n",
       "      <th>Ford_Torino</th>\n",
       "      <td>17.0</td>\n",
       "      <td>8</td>\n",
       "      <td>302.0</td>\n",
       "      <td>140.0</td>\n",
       "      <td>3449.0</td>\n",
       "      <td>10.5</td>\n",
       "      <td>70</td>\n",
       "      <td>1</td>\n",
       "      <td>ford torino</td>\n",
       "    </tr>\n",
       "  </tbody>\n",
       "</table>\n",
       "</div>"
      ],
      "text/plain": [
       "                            Mpg  Cyl   Disp     Hp  Weight  Accel  Model_Year  \\\n",
       "car name                                                                        \n",
       "Chevrolet_Chevelle_Malibu  18.0    8  307.0  130.0  3504.0   12.0          70   \n",
       "Buick_Skylark_320          15.0    8  350.0  165.0  3693.0   11.5          70   \n",
       "Plymouth_Satellite         18.0    8  318.0  150.0  3436.0   11.0          70   \n",
       "Amc_Rebel_Sst              16.0    8  304.0  150.0  3433.0   12.0          70   \n",
       "Ford_Torino                17.0    8  302.0  140.0  3449.0   10.5          70   \n",
       "\n",
       "                           Origin                   Car_Name  \n",
       "car name                                                      \n",
       "Chevrolet_Chevelle_Malibu       1  chevrolet chevelle malibu  \n",
       "Buick_Skylark_320               1          buick skylark 320  \n",
       "Plymouth_Satellite              1         plymouth satellite  \n",
       "Amc_Rebel_Sst                   1              amc rebel sst  \n",
       "Ford_Torino                     1                ford torino  "
      ]
     },
     "execution_count": 50,
     "metadata": {},
     "output_type": "execute_result"
    }
   ],
   "source": [
    "def ColDataClean(df):\n",
    "    # Identify, print, and remove any entries with Null / NA / NaN\n",
    "    print(df.isna().any())\n",
    "  \n",
    "    \n",
    "    print(\"*** Removing null entries ***\")\n",
    "    df.dropna(axis = 0, how = 'any', inplace = True)\n",
    "    \n",
    "    \n",
    "    print(\"*** String Operations on Column Headers ***\")\n",
    "    print(\"  Before: \", df.columns)\n",
    "    df.columns = df.columns.str.title() \n",
    "    \n",
    "    print(\"  After: \", df.columns)\n",
    "    df.columns = df.columns.str.replace(' ', '_')\n",
    "    \n",
    "    print(\"*** String Operations on index strings *** \\n\")\n",
    "    df.index = df.index.str.title()\n",
    "    df.index = df.index.str.replace(' ', '_')\n",
    "    \n",
    "    \n",
    "    return df\n",
    "\n",
    "data = ColDataClean(data)\n",
    "\n",
    "data.head()"
   ]
  },
  {
   "cell_type": "code",
   "execution_count": 51,
   "id": "f9a7d336",
   "metadata": {
    "deletable": false,
    "editable": false
   },
   "outputs": [
    {
     "data": {
      "text/html": [
       "<p><strong><pre style='display: inline;'>q2</pre></strong> passed! 💯</p>"
      ],
      "text/plain": [
       "q2 results: All test cases passed!"
      ]
     },
     "execution_count": 51,
     "metadata": {},
     "output_type": "execute_result"
    }
   ],
   "source": [
    "grader.check(\"q2\")"
   ]
  },
  {
   "cell_type": "markdown",
   "id": "e204d294",
   "metadata": {
    "deletable": false,
    "editable": false,
    "id": "BZvBJxWFHC8q"
   },
   "source": [
    "## Exercise 3: Data Cleaning and Manipulation \n",
    "\n",
    "Look at the types for each column of the DataFrame. "
   ]
  },
  {
   "cell_type": "code",
   "execution_count": 52,
   "id": "be107b77",
   "metadata": {
    "colab": {
     "base_uri": "https://localhost:8080/",
     "height": 187
    },
    "deletable": false,
    "editable": false,
    "executionInfo": {
     "elapsed": 361,
     "status": "ok",
     "timestamp": 1599760068887,
     "user": {
      "displayName": "Laura Brown",
      "photoUrl": "https://lh3.googleusercontent.com/a-/AOh14GjYbC5So3kNOYBteW-fSY5JpgP-bBJa7kyAEluaKg=s64",
      "userId": "02180634349638765126"
     },
     "user_tz": 240
    },
    "id": "HJAoyZuMHB92",
    "outputId": "d1cb9ecc-08f4-4a48-b6b8-5c0aeec588d0"
   },
   "outputs": [
    {
     "data": {
      "text/plain": [
       "Mpg           float64\n",
       "Cyl             int64\n",
       "Disp          float64\n",
       "Hp             object\n",
       "Weight        float64\n",
       "Accel         float64\n",
       "Model_Year      int64\n",
       "Origin          int64\n",
       "Car_Name       object\n",
       "dtype: object"
      ]
     },
     "execution_count": 52,
     "metadata": {},
     "output_type": "execute_result"
    }
   ],
   "source": [
    "data.dtypes"
   ]
  },
  {
   "cell_type": "markdown",
   "id": "d1d6935b",
   "metadata": {
    "deletable": false,
    "editable": false,
    "id": "HjSp6JDVHKx6"
   },
   "source": [
    "Horsepower, `Hp`, is considered an object.  But, really this should be a float.  Why is this a float?"
   ]
  },
  {
   "cell_type": "code",
   "execution_count": 53,
   "id": "17c7c48d",
   "metadata": {
    "colab": {
     "base_uri": "https://localhost:8080/",
     "height": 266
    },
    "deletable": false,
    "editable": false,
    "executionInfo": {
     "elapsed": 334,
     "status": "ok",
     "timestamp": 1599760070991,
     "user": {
      "displayName": "Laura Brown",
      "photoUrl": "https://lh3.googleusercontent.com/a-/AOh14GjYbC5So3kNOYBteW-fSY5JpgP-bBJa7kyAEluaKg=s64",
      "userId": "02180634349638765126"
     },
     "user_tz": 240
    },
    "id": "5_t7zC9OHLTp",
    "outputId": "5c06cc41-e587-4411-d41d-aa699fc0f907"
   },
   "outputs": [
    {
     "data": {
      "text/html": [
       "<div>\n",
       "<style scoped>\n",
       "    .dataframe tbody tr th:only-of-type {\n",
       "        vertical-align: middle;\n",
       "    }\n",
       "\n",
       "    .dataframe tbody tr th {\n",
       "        vertical-align: top;\n",
       "    }\n",
       "\n",
       "    .dataframe thead th {\n",
       "        text-align: right;\n",
       "    }\n",
       "</style>\n",
       "<table border=\"1\" class=\"dataframe\">\n",
       "  <thead>\n",
       "    <tr style=\"text-align: right;\">\n",
       "      <th></th>\n",
       "      <th>Mpg</th>\n",
       "      <th>Cyl</th>\n",
       "      <th>Disp</th>\n",
       "      <th>Hp</th>\n",
       "      <th>Weight</th>\n",
       "      <th>Accel</th>\n",
       "      <th>Model_Year</th>\n",
       "      <th>Origin</th>\n",
       "      <th>Car_Name</th>\n",
       "    </tr>\n",
       "    <tr>\n",
       "      <th>car name</th>\n",
       "      <th></th>\n",
       "      <th></th>\n",
       "      <th></th>\n",
       "      <th></th>\n",
       "      <th></th>\n",
       "      <th></th>\n",
       "      <th></th>\n",
       "      <th></th>\n",
       "      <th></th>\n",
       "    </tr>\n",
       "  </thead>\n",
       "  <tbody>\n",
       "    <tr>\n",
       "      <th>Ford_Pinto</th>\n",
       "      <td>25.0</td>\n",
       "      <td>4</td>\n",
       "      <td>98.0</td>\n",
       "      <td>?</td>\n",
       "      <td>2046.0</td>\n",
       "      <td>19.0</td>\n",
       "      <td>71</td>\n",
       "      <td>1</td>\n",
       "      <td>ford pinto</td>\n",
       "    </tr>\n",
       "    <tr>\n",
       "      <th>Ford_Maverick</th>\n",
       "      <td>21.0</td>\n",
       "      <td>6</td>\n",
       "      <td>200.0</td>\n",
       "      <td>?</td>\n",
       "      <td>2875.0</td>\n",
       "      <td>17.0</td>\n",
       "      <td>74</td>\n",
       "      <td>1</td>\n",
       "      <td>ford maverick</td>\n",
       "    </tr>\n",
       "    <tr>\n",
       "      <th>Renault_Lecar_Deluxe</th>\n",
       "      <td>40.9</td>\n",
       "      <td>4</td>\n",
       "      <td>85.0</td>\n",
       "      <td>?</td>\n",
       "      <td>1835.0</td>\n",
       "      <td>17.3</td>\n",
       "      <td>80</td>\n",
       "      <td>2</td>\n",
       "      <td>renault lecar deluxe</td>\n",
       "    </tr>\n",
       "    <tr>\n",
       "      <th>Ford_Mustang_Cobra</th>\n",
       "      <td>23.6</td>\n",
       "      <td>4</td>\n",
       "      <td>140.0</td>\n",
       "      <td>?</td>\n",
       "      <td>2905.0</td>\n",
       "      <td>14.3</td>\n",
       "      <td>80</td>\n",
       "      <td>1</td>\n",
       "      <td>ford mustang cobra</td>\n",
       "    </tr>\n",
       "    <tr>\n",
       "      <th>Renault_18I</th>\n",
       "      <td>34.5</td>\n",
       "      <td>4</td>\n",
       "      <td>100.0</td>\n",
       "      <td>?</td>\n",
       "      <td>2320.0</td>\n",
       "      <td>15.8</td>\n",
       "      <td>81</td>\n",
       "      <td>2</td>\n",
       "      <td>renault 18i</td>\n",
       "    </tr>\n",
       "    <tr>\n",
       "      <th>Amc_Concord_Dl</th>\n",
       "      <td>23.0</td>\n",
       "      <td>4</td>\n",
       "      <td>151.0</td>\n",
       "      <td>?</td>\n",
       "      <td>3035.0</td>\n",
       "      <td>20.5</td>\n",
       "      <td>82</td>\n",
       "      <td>1</td>\n",
       "      <td>amc concord dl</td>\n",
       "    </tr>\n",
       "  </tbody>\n",
       "</table>\n",
       "</div>"
      ],
      "text/plain": [
       "                       Mpg  Cyl   Disp Hp  Weight  Accel  Model_Year  Origin  \\\n",
       "car name                                                                       \n",
       "Ford_Pinto            25.0    4   98.0  ?  2046.0   19.0          71       1   \n",
       "Ford_Maverick         21.0    6  200.0  ?  2875.0   17.0          74       1   \n",
       "Renault_Lecar_Deluxe  40.9    4   85.0  ?  1835.0   17.3          80       2   \n",
       "Ford_Mustang_Cobra    23.6    4  140.0  ?  2905.0   14.3          80       1   \n",
       "Renault_18I           34.5    4  100.0  ?  2320.0   15.8          81       2   \n",
       "Amc_Concord_Dl        23.0    4  151.0  ?  3035.0   20.5          82       1   \n",
       "\n",
       "                                  Car_Name  \n",
       "car name                                    \n",
       "Ford_Pinto                      ford pinto  \n",
       "Ford_Maverick                ford maverick  \n",
       "Renault_Lecar_Deluxe  renault lecar deluxe  \n",
       "Ford_Mustang_Cobra      ford mustang cobra  \n",
       "Renault_18I                    renault 18i  \n",
       "Amc_Concord_Dl              amc concord dl  "
      ]
     },
     "execution_count": 53,
     "metadata": {},
     "output_type": "execute_result"
    }
   ],
   "source": [
    "data[data[\"Hp\"] == '?']"
   ]
  },
  {
   "cell_type": "markdown",
   "id": "46a18034",
   "metadata": {
    "deletable": false,
    "editable": false,
    "id": "JHHHosICHOQJ"
   },
   "source": [
    "There are some missing values in this column that need to be handled.\n",
    "\n",
    "Create a function `HandleHP(df, col)`, that changes all the \"?\" values to a replacement value 99 and converts the column to be a float, where\n",
    "* `df` is a DataFrame to be worked on \n",
    "* `col` is the name of the column to be \"handled\"\n",
    "\n"
   ]
  },
  {
   "cell_type": "code",
   "execution_count": 54,
   "id": "90731cf9",
   "metadata": {
    "colab": {
     "base_uri": "https://localhost:8080/",
     "height": 221
    },
    "executionInfo": {
     "elapsed": 303,
     "status": "ok",
     "timestamp": 1599760074063,
     "user": {
      "displayName": "Laura Brown",
      "photoUrl": "https://lh3.googleusercontent.com/a-/AOh14GjYbC5So3kNOYBteW-fSY5JpgP-bBJa7kyAEluaKg=s64",
      "userId": "02180634349638765126"
     },
     "user_tz": 240
    },
    "id": "ge75D24jHTEP",
    "outputId": "e570c17a-126d-4d9a-ec2a-78a36f8a43c4",
    "tags": []
   },
   "outputs": [
    {
     "name": "stdout",
     "output_type": "stream",
     "text": [
      "  Current data type is :  object\n",
      "  Changed data type is :  float64\n",
      "Mpg           float64\n",
      "Cyl             int64\n",
      "Disp          float64\n",
      "Hp            float64\n",
      "Weight        float64\n",
      "Accel         float64\n",
      "Model_Year      int64\n",
      "Origin          int64\n",
      "Car_Name       object\n",
      "dtype: object\n"
     ]
    }
   ],
   "source": [
    "def HandleHp(df, col):\n",
    "    # Guarding \n",
    "    if (df[col].dtypes == 'object'):\n",
    "       \n",
    "        print (\"  Current data type is : \", df[col].dtypes)\n",
    "        df[col] = df[col].replace('?', 99).astype(float)\n",
    "        print (\"  Changed data type is : \", df[col].dtypes)\n",
    "        \n",
    "    return df \n",
    "\n",
    "\n",
    "HandleHp(data, 'Hp')\n",
    "print(data.dtypes)"
   ]
  },
  {
   "cell_type": "code",
   "execution_count": 55,
   "id": "5d501cbd",
   "metadata": {
    "deletable": false,
    "editable": false
   },
   "outputs": [
    {
     "data": {
      "text/html": [
       "<p><strong><pre style='display: inline;'>q3</pre></strong> passed! 🌟</p>"
      ],
      "text/plain": [
       "q3 results: All test cases passed!"
      ]
     },
     "execution_count": 55,
     "metadata": {},
     "output_type": "execute_result"
    }
   ],
   "source": [
    "grader.check(\"q3\")"
   ]
  },
  {
   "cell_type": "markdown",
   "id": "8044eb84",
   "metadata": {
    "deletable": false,
    "editable": false,
    "id": "lELbX-w7HXp_",
    "tags": []
   },
   "source": [
    "## Exercise 4: Data Aggregation and Grouping \n",
    "\n",
    "Add two new columns for Kmpl (km per liter) and Kmpg (km per gallon). \n",
    "\n",
    "Note, the conversions are 1 mpg = 0.425144 kmpl  and 1 mpg = 1.609 kmpg."
   ]
  },
  {
   "cell_type": "markdown",
   "id": "19373a33",
   "metadata": {},
   "source": [
    "_Type your answer here, replacing this text._"
   ]
  },
  {
   "cell_type": "code",
   "execution_count": 56,
   "id": "b73e0b0c",
   "metadata": {
    "colab": {
     "base_uri": "https://localhost:8080/",
     "height": 170
    },
    "executionInfo": {
     "elapsed": 348,
     "status": "ok",
     "timestamp": 1599760083056,
     "user": {
      "displayName": "Laura Brown",
      "photoUrl": "https://lh3.googleusercontent.com/a-/AOh14GjYbC5So3kNOYBteW-fSY5JpgP-bBJa7kyAEluaKg=s64",
      "userId": "02180634349638765126"
     },
     "user_tz": 240
    },
    "id": "yltsoDdjHe2b",
    "outputId": "ca9360db-eaf1-4b90-8c68-3f1972970703",
    "tags": []
   },
   "outputs": [
    {
     "name": "stdout",
     "output_type": "stream",
     "text": [
      "                            Mpg  Cyl   Disp     Hp  Weight  Accel  Model_Year  \\\n",
      "car name                                                                        \n",
      "Chevrolet_Chevelle_Malibu  18.0    8  307.0  130.0  3504.0   12.0          70   \n",
      "Buick_Skylark_320          15.0    8  350.0  165.0  3693.0   11.5          70   \n",
      "Plymouth_Satellite         18.0    8  318.0  150.0  3436.0   11.0          70   \n",
      "Amc_Rebel_Sst              16.0    8  304.0  150.0  3433.0   12.0          70   \n",
      "Ford_Torino                17.0    8  302.0  140.0  3449.0   10.5          70   \n",
      "\n",
      "                           Origin                   Car_Name      Kmpl    Kmpg  \n",
      "car name                                                                        \n",
      "Chevrolet_Chevelle_Malibu       1  chevrolet chevelle malibu  7.652592  28.962  \n",
      "Buick_Skylark_320               1          buick skylark 320  6.377160  24.135  \n",
      "Plymouth_Satellite              1         plymouth satellite  7.652592  28.962  \n",
      "Amc_Rebel_Sst                   1              amc rebel sst  6.802304  25.744  \n",
      "Ford_Torino                     1                ford torino  7.227448  27.353  \n"
     ]
    }
   ],
   "source": [
    "#  Add two new columns\n",
    "data['Kmpl'] =  data['Mpg']* 0.425144\n",
    "data['Kmpg'] =  data['Mpg']* 1.609\n",
    "print (data.head())\n"
   ]
  },
  {
   "cell_type": "code",
   "execution_count": 57,
   "id": "13770fab",
   "metadata": {
    "id": "rjieDtJOHmVl",
    "tags": []
   },
   "outputs": [],
   "source": [
    "# Add Region_Origin column \n",
    "region = {1:'ASIA', 2: 'EUROPE', 3: 'USA'}\n",
    "data['Region_Origin'] = data['Origin'].map(region)\n",
    "\n"
   ]
  },
  {
   "cell_type": "code",
   "execution_count": 58,
   "id": "bdeb3ef9",
   "metadata": {
    "deletable": false,
    "editable": false
   },
   "outputs": [
    {
     "data": {
      "text/html": [
       "<p><strong><pre style='display: inline;'>q4</pre></strong> passed! 🎉</p>"
      ],
      "text/plain": [
       "q4 results: All test cases passed!"
      ]
     },
     "execution_count": 58,
     "metadata": {},
     "output_type": "execute_result"
    }
   ],
   "source": [
    "grader.check(\"q4\")"
   ]
  },
  {
   "cell_type": "markdown",
   "id": "773b1ec3",
   "metadata": {
    "deletable": false,
    "editable": false,
    "id": "j2RFf9WvHrng",
    "tags": []
   },
   "source": [
    "## Exercise 5: Grouping \n",
    "\n",
    "Let's create a number of different groups for the data set. \n",
    "\n",
    "* Group 1 - group by 'region origin' \n",
    "* Group 2 - group by 'model year' \n",
    "* Group 3 - group by 'model year' and 'region origin' \n",
    "\n",
    "Let's look at these groups iterating with for loops"
   ]
  },
  {
   "cell_type": "code",
   "execution_count": 59,
   "id": "61462534",
   "metadata": {
    "colab": {
     "base_uri": "https://localhost:8080/",
     "height": 629
    },
    "executionInfo": {
     "elapsed": 418,
     "status": "ok",
     "timestamp": 1599760097026,
     "user": {
      "displayName": "Laura Brown",
      "photoUrl": "https://lh3.googleusercontent.com/a-/AOh14GjYbC5So3kNOYBteW-fSY5JpgP-bBJa7kyAEluaKg=s64",
      "userId": "02180634349638765126"
     },
     "user_tz": 240
    },
    "id": "ezbCk1EiHxZN",
    "outputId": "6b7c1bfe-3de7-4df7-c6c5-313276beac1d",
    "tags": []
   },
   "outputs": [
    {
     "name": "stdout",
     "output_type": "stream",
     "text": [
      "(70,)\n",
      "*** Start \n",
      "                            Mpg  Cyl   Disp     Hp  Weight  Accel  Model_Year  \\\n",
      "car name                                                                        \n",
      "Chevrolet_Chevelle_Malibu  18.0    8  307.0  130.0  3504.0   12.0          70   \n",
      "Buick_Skylark_320          15.0    8  350.0  165.0  3693.0   11.5          70   \n",
      "Plymouth_Satellite         18.0    8  318.0  150.0  3436.0   11.0          70   \n",
      "Amc_Rebel_Sst              16.0    8  304.0  150.0  3433.0   12.0          70   \n",
      "\n",
      "                           Origin                   Car_Name      Kmpl  \\\n",
      "car name                                                                 \n",
      "Chevrolet_Chevelle_Malibu       1  chevrolet chevelle malibu  7.652592   \n",
      "Buick_Skylark_320               1          buick skylark 320  6.377160   \n",
      "Plymouth_Satellite              1         plymouth satellite  7.652592   \n",
      "Amc_Rebel_Sst                   1              amc rebel sst  6.802304   \n",
      "\n",
      "                             Kmpg Region_Origin  \n",
      "car name                                         \n",
      "Chevrolet_Chevelle_Malibu  28.962          ASIA  \n",
      "Buick_Skylark_320          24.135          ASIA  \n",
      "Plymouth_Satellite         28.962          ASIA  \n",
      "Amc_Rebel_Sst              25.744          ASIA  \n",
      "*** End \n",
      "(71,)\n",
      "*** Start \n",
      "                      Mpg  Cyl   Disp    Hp  Weight  Accel  Model_Year  \\\n",
      "car name                                                                 \n",
      "Datsun_Pl510         27.0    4   97.0  88.0  2130.0   14.5          71   \n",
      "Chevrolet_Vega_2300  28.0    4  140.0  90.0  2264.0   15.5          71   \n",
      "Toyota_Corona        25.0    4  113.0  95.0  2228.0   14.0          71   \n",
      "Ford_Pinto           25.0    4   98.0  99.0  2046.0   19.0          71   \n",
      "\n",
      "                     Origin             Car_Name       Kmpl    Kmpg  \\\n",
      "car name                                                              \n",
      "Datsun_Pl510              3         datsun pl510  11.478888  43.443   \n",
      "Chevrolet_Vega_2300       1  chevrolet vega 2300  11.904032  45.052   \n",
      "Toyota_Corona             3        toyota corona  10.628600  40.225   \n",
      "Ford_Pinto                1           ford pinto  10.628600  40.225   \n",
      "\n",
      "                    Region_Origin  \n",
      "car name                           \n",
      "Datsun_Pl510                  USA  \n",
      "Chevrolet_Vega_2300          ASIA  \n",
      "Toyota_Corona                 USA  \n",
      "Ford_Pinto                   ASIA  \n",
      "*** End \n",
      "(72,)\n",
      "*** Start \n",
      "                        Mpg  Cyl   Disp    Hp  Weight  Accel  Model_Year  \\\n",
      "car name                                                                   \n",
      "Toyota_Corona_Hardtop  24.0    4  113.0  95.0  2278.0   15.5          72   \n",
      "Dodge_Colt_Hardtop     25.0    4   97.5  80.0  2126.0   17.0          72   \n",
      "Volkswagen_Type_3      23.0    4   97.0  54.0  2254.0   23.5          72   \n",
      "Chevrolet_Vega         20.0    4  140.0  90.0  2408.0   19.5          72   \n",
      "\n",
      "                       Origin               Car_Name       Kmpl    Kmpg  \\\n",
      "car name                                                                  \n",
      "Toyota_Corona_Hardtop       3  toyota corona hardtop  10.203456  38.616   \n",
      "Dodge_Colt_Hardtop          1     dodge colt hardtop  10.628600  40.225   \n",
      "Volkswagen_Type_3           2      volkswagen type 3   9.778312  37.007   \n",
      "Chevrolet_Vega              1         chevrolet vega   8.502880  32.180   \n",
      "\n",
      "                      Region_Origin  \n",
      "car name                             \n",
      "Toyota_Corona_Hardtop           USA  \n",
      "Dodge_Colt_Hardtop             ASIA  \n",
      "Volkswagen_Type_3            EUROPE  \n",
      "Chevrolet_Vega                 ASIA  \n",
      "*** End \n",
      "(73,)\n",
      "*** Start \n",
      "                    Mpg  Cyl   Disp     Hp  Weight  Accel  Model_Year  Origin  \\\n",
      "car name                                                                        \n",
      "Buick_Century_350  13.0    8  350.0  175.0  4100.0   13.0          73       1   \n",
      "Amc_Matador        14.0    8  304.0  150.0  3672.0   11.5          73       1   \n",
      "Chevrolet_Malibu   13.0    8  350.0  145.0  3988.0   13.0          73       1   \n",
      "Ford_Gran_Torino   14.0    8  302.0  137.0  4042.0   14.5          73       1   \n",
      "\n",
      "                            Car_Name      Kmpl    Kmpg Region_Origin  \n",
      "car name                                                              \n",
      "Buick_Century_350  buick century 350  5.526872  20.917          ASIA  \n",
      "Amc_Matador              amc matador  5.952016  22.526          ASIA  \n",
      "Chevrolet_Malibu    chevrolet malibu  5.526872  20.917          ASIA  \n",
      "Ford_Gran_Torino    ford gran torino  5.952016  22.526          ASIA  \n",
      "*** End \n",
      "(74,)\n",
      "*** Start \n",
      "                  Mpg  Cyl   Disp     Hp  Weight  Accel  Model_Year  Origin  \\\n",
      "car name                                                                      \n",
      "Plymouth_Duster  20.0    6  198.0   95.0  3102.0   16.5          74       1   \n",
      "Ford_Maverick    21.0    6  200.0   99.0  2875.0   17.0          74       1   \n",
      "Amc_Hornet       19.0    6  232.0  100.0  2901.0   16.0          74       1   \n",
      "Chevrolet_Nova   15.0    6  250.0  100.0  3336.0   17.0          74       1   \n",
      "\n",
      "                        Car_Name      Kmpl    Kmpg Region_Origin  \n",
      "car name                                                          \n",
      "Plymouth_Duster  plymouth duster  8.502880  32.180          ASIA  \n",
      "Ford_Maverick      ford maverick  8.928024  33.789          ASIA  \n",
      "Amc_Hornet            amc hornet  8.077736  30.571          ASIA  \n",
      "Chevrolet_Nova    chevrolet nova  6.377160  24.135          ASIA  \n",
      "*** End \n",
      "(75,)\n",
      "*** Start \n",
      "                          Mpg  Cyl   Disp     Hp  Weight  Accel  Model_Year  \\\n",
      "car name                                                                      \n",
      "Plymouth_Valiant_Custom  19.0    6  225.0   95.0  3264.0   16.0          75   \n",
      "Chevrolet_Nova           18.0    6  250.0  105.0  3459.0   16.0          75   \n",
      "Mercury_Monarch          15.0    6  250.0   72.0  3432.0   21.0          75   \n",
      "Ford_Maverick            15.0    6  250.0   72.0  3158.0   19.5          75   \n",
      "\n",
      "                         Origin                 Car_Name      Kmpl    Kmpg  \\\n",
      "car name                                                                     \n",
      "Plymouth_Valiant_Custom       1  plymouth valiant custom  8.077736  30.571   \n",
      "Chevrolet_Nova                1           chevrolet nova  7.652592  28.962   \n",
      "Mercury_Monarch               1          mercury monarch  6.377160  24.135   \n",
      "Ford_Maverick                 1            ford maverick  6.377160  24.135   \n",
      "\n",
      "                        Region_Origin  \n",
      "car name                               \n",
      "Plymouth_Valiant_Custom          ASIA  \n",
      "Chevrolet_Nova                   ASIA  \n",
      "Mercury_Monarch                  ASIA  \n",
      "Ford_Maverick                    ASIA  \n",
      "*** End \n",
      "(76,)\n",
      "*** Start \n",
      "             Mpg  Cyl   Disp    Hp  Weight  Accel  Model_Year  Origin  \\\n",
      "car name                                                                \n",
      "Fiat_131    28.0    4  107.0  86.0  2464.0   15.5          76       2   \n",
      "Opel_1900   25.0    4  116.0  81.0  2220.0   16.9          76       2   \n",
      "Capri_Ii    25.0    4  140.0  92.0  2572.0   14.9          76       1   \n",
      "Dodge_Colt  26.0    4   98.0  79.0  2255.0   17.7          76       1   \n",
      "\n",
      "              Car_Name       Kmpl    Kmpg Region_Origin  \n",
      "car name                                                 \n",
      "Fiat_131      fiat 131  11.904032  45.052        EUROPE  \n",
      "Opel_1900    opel 1900  10.628600  40.225        EUROPE  \n",
      "Capri_Ii      capri ii  10.628600  40.225          ASIA  \n",
      "Dodge_Colt  dodge colt  11.053744  41.834          ASIA  \n",
      "*** End \n",
      "(77,)\n",
      "*** Start \n",
      "                          Mpg  Cyl   Disp    Hp  Weight  Accel  Model_Year  \\\n",
      "car name                                                                     \n",
      "Honda_Accord_Cvcc        31.5    4   98.0  68.0  2045.0   18.5          77   \n",
      "Buick_Opel_Isuzu_Deluxe  30.0    4  111.0  80.0  2155.0   14.8          77   \n",
      "Renault_5_Gtl            36.0    4   79.0  58.0  1825.0   18.6          77   \n",
      "Plymouth_Arrow_Gs        25.5    4  122.0  96.0  2300.0   15.5          77   \n",
      "\n",
      "                         Origin                 Car_Name       Kmpl     Kmpg  \\\n",
      "car name                                                                       \n",
      "Honda_Accord_Cvcc             3        honda accord cvcc  13.392036  50.6835   \n",
      "Buick_Opel_Isuzu_Deluxe       1  buick opel isuzu deluxe  12.754320  48.2700   \n",
      "Renault_5_Gtl                 2            renault 5 gtl  15.305184  57.9240   \n",
      "Plymouth_Arrow_Gs             1        plymouth arrow gs  10.841172  41.0295   \n",
      "\n",
      "                        Region_Origin  \n",
      "car name                               \n",
      "Honda_Accord_Cvcc                 USA  \n",
      "Buick_Opel_Isuzu_Deluxe          ASIA  \n",
      "Renault_5_Gtl                  EUROPE  \n",
      "Plymouth_Arrow_Gs                ASIA  \n",
      "*** End \n",
      "(78,)\n",
      "*** Start \n",
      "                                  Mpg  Cyl  Disp    Hp  Weight  Accel  \\\n",
      "car name                                                                \n",
      "Volkswagen_Rabbit_Custom_Diesel  43.1    4  90.0  48.0  1985.0   21.5   \n",
      "Ford_Fiesta                      36.1    4  98.0  66.0  1800.0   14.4   \n",
      "Mazda_Glc_Deluxe                 32.8    4  78.0  52.0  1985.0   19.4   \n",
      "Datsun_B210_Gx                   39.4    4  85.0  70.0  2070.0   18.6   \n",
      "\n",
      "                                 Model_Year  Origin  \\\n",
      "car name                                              \n",
      "Volkswagen_Rabbit_Custom_Diesel          78       2   \n",
      "Ford_Fiesta                              78       1   \n",
      "Mazda_Glc_Deluxe                         78       3   \n",
      "Datsun_B210_Gx                           78       3   \n",
      "\n",
      "                                                        Car_Name       Kmpl  \\\n",
      "car name                                                                      \n",
      "Volkswagen_Rabbit_Custom_Diesel  volkswagen rabbit custom diesel  18.323706   \n",
      "Ford_Fiesta                                          ford fiesta  15.347698   \n",
      "Mazda_Glc_Deluxe                                mazda glc deluxe  13.944723   \n",
      "Datsun_B210_Gx                                    datsun b210 gx  16.750674   \n",
      "\n",
      "                                    Kmpg Region_Origin  \n",
      "car name                                                \n",
      "Volkswagen_Rabbit_Custom_Diesel  69.3479        EUROPE  \n",
      "Ford_Fiesta                      58.0849          ASIA  \n",
      "Mazda_Glc_Deluxe                 52.7752           USA  \n",
      "Datsun_B210_Gx                   63.3946           USA  \n",
      "*** End \n",
      "(79,)\n",
      "*** Start \n",
      "                    Mpg  Cyl   Disp     Hp  Weight  Accel  Model_Year  Origin  \\\n",
      "car name                                                                        \n",
      "Pontiac_Lemans_V6  21.5    6  231.0  115.0  3245.0   15.4          79       1   \n",
      "Mercury_Zephyr_6   19.8    6  200.0   85.0  2990.0   18.2          79       1   \n",
      "Ford_Fairmont_4    22.3    4  140.0   88.0  2890.0   17.3          79       1   \n",
      "Amc_Concord_Dl_6   20.2    6  232.0   90.0  3265.0   18.2          79       1   \n",
      "\n",
      "                            Car_Name      Kmpl     Kmpg Region_Origin  \n",
      "car name                                                               \n",
      "Pontiac_Lemans_V6  pontiac lemans v6  9.140596  34.5935          ASIA  \n",
      "Mercury_Zephyr_6    mercury zephyr 6  8.417851  31.8582          ASIA  \n",
      "Ford_Fairmont_4      ford fairmont 4  9.480711  35.8807          ASIA  \n",
      "Amc_Concord_Dl_6    amc concord dl 6  8.587909  32.5018          ASIA  \n",
      "*** End \n",
      "(80,)\n",
      "*** Start \n",
      "                        Mpg  Cyl  Disp    Hp  Weight  Accel  Model_Year  \\\n",
      "car name                                                                  \n",
      "Vw_Rabbit              41.5    4  98.0  76.0  2144.0   14.7          80   \n",
      "Toyota_Corolla_Tercel  38.1    4  89.0  60.0  1968.0   18.8          80   \n",
      "Chevrolet_Chevette     32.1    4  98.0  70.0  2120.0   15.5          80   \n",
      "Datsun_310             37.2    4  86.0  65.0  2019.0   16.4          80   \n",
      "\n",
      "                       Origin               Car_Name       Kmpl     Kmpg  \\\n",
      "car name                                                                   \n",
      "Vw_Rabbit                   2              vw rabbit  17.643476  66.7735   \n",
      "Toyota_Corolla_Tercel       3  toyota corolla tercel  16.197986  61.3029   \n",
      "Chevrolet_Chevette          1     chevrolet chevette  13.647122  51.6489   \n",
      "Datsun_310                  3             datsun 310  15.815357  59.8548   \n",
      "\n",
      "                      Region_Origin  \n",
      "car name                             \n",
      "Vw_Rabbit                    EUROPE  \n",
      "Toyota_Corolla_Tercel           USA  \n",
      "Chevrolet_Chevette             ASIA  \n",
      "Datsun_310                      USA  \n",
      "*** End \n",
      "(81,)\n",
      "*** Start \n",
      "                         Mpg  Cyl   Disp     Hp  Weight  Accel  Model_Year  \\\n",
      "car name                                                                     \n",
      "Plymouth_Reliant        27.2    4  135.0   84.0  2490.0   15.7          81   \n",
      "Buick_Skylark           26.6    4  151.0   84.0  2635.0   16.4          81   \n",
      "Dodge_Aries_Wagon_(Sw)  25.8    4  156.0   92.0  2620.0   14.4          81   \n",
      "Chevrolet_Citation      23.5    6  173.0  110.0  2725.0   12.6          81   \n",
      "\n",
      "                        Origin                Car_Name       Kmpl     Kmpg  \\\n",
      "car name                                                                     \n",
      "Plymouth_Reliant             1        plymouth reliant  11.563917  43.7648   \n",
      "Buick_Skylark                1           buick skylark  11.308830  42.7994   \n",
      "Dodge_Aries_Wagon_(Sw)       1  dodge aries wagon (sw)  10.968715  41.5122   \n",
      "Chevrolet_Citation           1      chevrolet citation   9.990884  37.8115   \n",
      "\n",
      "                       Region_Origin  \n",
      "car name                              \n",
      "Plymouth_Reliant                ASIA  \n",
      "Buick_Skylark                   ASIA  \n",
      "Dodge_Aries_Wagon_(Sw)          ASIA  \n",
      "Chevrolet_Citation              ASIA  \n",
      "*** End \n",
      "(82,)\n",
      "*** Start \n",
      "                             Mpg  Cyl   Disp    Hp  Weight  Accel  Model_Year  \\\n",
      "car name                                                                        \n",
      "Chevrolet_Cavalier          28.0    4  112.0  88.0  2605.0   19.6          82   \n",
      "Chevrolet_Cavalier_Wagon    27.0    4  112.0  88.0  2640.0   18.6          82   \n",
      "Chevrolet_Cavalier_2-Door   34.0    4  112.0  88.0  2395.0   18.0          82   \n",
      "Pontiac_J2000_Se_Hatchback  31.0    4  112.0  85.0  2575.0   16.2          82   \n",
      "\n",
      "                            Origin                    Car_Name       Kmpl  \\\n",
      "car name                                                                    \n",
      "Chevrolet_Cavalier               1          chevrolet cavalier  11.904032   \n",
      "Chevrolet_Cavalier_Wagon         1    chevrolet cavalier wagon  11.478888   \n",
      "Chevrolet_Cavalier_2-Door        1   chevrolet cavalier 2-door  14.454896   \n",
      "Pontiac_J2000_Se_Hatchback       1  pontiac j2000 se hatchback  13.179464   \n",
      "\n",
      "                              Kmpg Region_Origin  \n",
      "car name                                          \n",
      "Chevrolet_Cavalier          45.052          ASIA  \n",
      "Chevrolet_Cavalier_Wagon    43.443          ASIA  \n",
      "Chevrolet_Cavalier_2-Door   54.706          ASIA  \n",
      "Pontiac_J2000_Se_Hatchback  49.879          ASIA  \n",
      "*** End \n"
     ]
    }
   ],
   "source": [
    "# Create groups \n",
    "\n",
    "group1 = data.groupby(['Region_Origin'])\n",
    "group2 = data.groupby(['Model_Year'])\n",
    "group3 = data.groupby(['Model_Year','Region_Origin'])\n",
    "\n",
    "\n",
    "# Print the data from Group 2 with a for loop \n",
    "#  restrict ourselves to only printing 4 cars in each group. \n",
    "\n",
    "\n",
    "    \n",
    "for x, group in group2:\n",
    "    print (x)\n",
    "    print (\"*** Start \")\n",
    "    print (group.head(4))\n",
    "    print (\"*** End \")\n",
    "    \n",
    "\n"
   ]
  },
  {
   "cell_type": "code",
   "execution_count": 60,
   "id": "93baeeff",
   "metadata": {
    "deletable": false,
    "editable": false
   },
   "outputs": [
    {
     "data": {
      "text/html": [
       "<p><strong><pre style='display: inline;'>q5</pre></strong> passed! 🚀</p>"
      ],
      "text/plain": [
       "q5 results: All test cases passed!"
      ]
     },
     "execution_count": 60,
     "metadata": {},
     "output_type": "execute_result"
    }
   ],
   "source": [
    "grader.check(\"q5\")"
   ]
  },
  {
   "cell_type": "markdown",
   "id": "1efd39e0",
   "metadata": {
    "deletable": false,
    "editable": false,
    "id": "fPXGWmUAH2dk"
   },
   "source": [
    "<!-- BEGIN QUESTION -->\n",
    "\n",
    "## Exercise 6: Data Exploration and Analysis \n",
    "\n",
    "Create a function `plot_mpg_region()` that reports the mpg over the grouping `Region_Origin`.  Consider using line, bar, scatter plots.  \n",
    "\n",
    "The function should: \n",
    "\n",
    "* take as input a DataFrame group (from above)\n",
    "* report mpg over the group \n",
    "* make sure the plot looks good and has labels, title, etc. "
   ]
  },
  {
   "cell_type": "code",
   "execution_count": 62,
   "id": "01520502-1e10-4cbb-a17c-19245764d9ce",
   "metadata": {},
   "outputs": [
    {
     "ename": "AttributeError",
     "evalue": "'DataFrameGroupBy' object has no attribute 'pd'",
     "output_type": "error",
     "traceback": [
      "\u001b[0;31m---------------------------------------------------------------------------\u001b[0m",
      "\u001b[0;31mAttributeError\u001b[0m                            Traceback (most recent call last)",
      "Cell \u001b[0;32mIn[62], line 12\u001b[0m\n\u001b[1;32m      6\u001b[0m     avg_mpg_by_region\u001b[38;5;241m.\u001b[39mplot\u001b[38;5;241m.\u001b[39mscatter(x\u001b[38;5;241m=\u001b[39m\u001b[38;5;124m\"\u001b[39m\u001b[38;5;124mpH\u001b[39m\u001b[38;5;124m\"\u001b[39m, y\u001b[38;5;241m=\u001b[39m\u001b[38;5;124m\"\u001b[39m\u001b[38;5;124malcohol\u001b[39m\u001b[38;5;124m\"\u001b[39m)\n\u001b[1;32m      9\u001b[0m     \u001b[38;5;28;01mreturn\u001b[39;00m \n\u001b[0;32m---> 12\u001b[0m \u001b[43mplot_mpg_region\u001b[49m\u001b[43m(\u001b[49m\u001b[43mgroup1\u001b[49m\u001b[43m)\u001b[49m\n",
      "Cell \u001b[0;32mIn[62], line 3\u001b[0m, in \u001b[0;36mplot_mpg_region\u001b[0;34m(my_group)\u001b[0m\n\u001b[1;32m      1\u001b[0m \u001b[38;5;28;01mdef\u001b[39;00m \u001b[38;5;21mplot_mpg_region\u001b[39m(my_group):\n\u001b[0;32m----> 3\u001b[0m     avg_mpg_by_region \u001b[38;5;241m=\u001b[39m \u001b[43mmy_group\u001b[49m\u001b[38;5;241;43m.\u001b[39;49m\u001b[43mpd\u001b[49m\u001b[38;5;241m.\u001b[39mgroupby([\u001b[38;5;124m'\u001b[39m\u001b[38;5;124mRegion_Origin\u001b[39m\u001b[38;5;124m'\u001b[39m])\u001b[38;5;241m.\u001b[39mmean()\n\u001b[1;32m      4\u001b[0m     \u001b[38;5;66;03m#Jupyter notebooks have a default figure size, which might override the figsize parameter. \u001b[39;00m\n\u001b[1;32m      5\u001b[0m     \u001b[38;5;66;03m#To change the figure size in a Jupyter notebook, we need to use %matplotlib inline and rcParams.\u001b[39;00m\n\u001b[1;32m      6\u001b[0m     avg_mpg_by_region\u001b[38;5;241m.\u001b[39mplot\u001b[38;5;241m.\u001b[39mscatter(x\u001b[38;5;241m=\u001b[39m\u001b[38;5;124m\"\u001b[39m\u001b[38;5;124mpH\u001b[39m\u001b[38;5;124m\"\u001b[39m, y\u001b[38;5;241m=\u001b[39m\u001b[38;5;124m\"\u001b[39m\u001b[38;5;124malcohol\u001b[39m\u001b[38;5;124m\"\u001b[39m)\n",
      "File \u001b[0;32m~/.conda/envs/un5550/lib/python3.10/site-packages/pandas/core/groupby/groupby.py:952\u001b[0m, in \u001b[0;36mGroupBy.__getattr__\u001b[0;34m(self, attr)\u001b[0m\n\u001b[1;32m    949\u001b[0m \u001b[38;5;28;01mif\u001b[39;00m attr \u001b[38;5;129;01min\u001b[39;00m \u001b[38;5;28mself\u001b[39m\u001b[38;5;241m.\u001b[39mobj:\n\u001b[1;32m    950\u001b[0m     \u001b[38;5;28;01mreturn\u001b[39;00m \u001b[38;5;28mself\u001b[39m[attr]\n\u001b[0;32m--> 952\u001b[0m \u001b[38;5;28;01mraise\u001b[39;00m \u001b[38;5;167;01mAttributeError\u001b[39;00m(\n\u001b[1;32m    953\u001b[0m     \u001b[38;5;124mf\u001b[39m\u001b[38;5;124m\"\u001b[39m\u001b[38;5;124m'\u001b[39m\u001b[38;5;132;01m{\u001b[39;00m\u001b[38;5;28mtype\u001b[39m(\u001b[38;5;28mself\u001b[39m)\u001b[38;5;241m.\u001b[39m\u001b[38;5;18m__name__\u001b[39m\u001b[38;5;132;01m}\u001b[39;00m\u001b[38;5;124m'\u001b[39m\u001b[38;5;124m object has no attribute \u001b[39m\u001b[38;5;124m'\u001b[39m\u001b[38;5;132;01m{\u001b[39;00mattr\u001b[38;5;132;01m}\u001b[39;00m\u001b[38;5;124m'\u001b[39m\u001b[38;5;124m\"\u001b[39m\n\u001b[1;32m    954\u001b[0m )\n",
      "\u001b[0;31mAttributeError\u001b[0m: 'DataFrameGroupBy' object has no attribute 'pd'"
     ]
    }
   ],
   "source": [
    "def plot_mpg_region(my_group):\n",
    "\n",
    "    avg_mpg_by_region = my_group.groupby(['Region_Origin']).mean()\n",
    "    #Jupyter notebooks have a default figure size, which might override the figsize parameter. \n",
    "    #To change the figure size in a Jupyter notebook, we need to use %matplotlib inline and rcParams.\n",
    "    avg_mpg_by_region.plot.scatter(x=\"pH\", y=\"alcohol\")\n",
    "    \n",
    "\n",
    "    return \n",
    "\n",
    "\n",
    "plot_mpg_region(group1)"
   ]
  },
  {
   "cell_type": "code",
   "execution_count": null,
   "id": "fef20173",
   "metadata": {
    "colab": {
     "base_uri": "https://localhost:8080/",
     "height": 375
    },
    "executionInfo": {
     "elapsed": 659,
     "status": "ok",
     "timestamp": 1599760101090,
     "user": {
      "displayName": "Laura Brown",
      "photoUrl": "https://lh3.googleusercontent.com/a-/AOh14GjYbC5So3kNOYBteW-fSY5JpgP-bBJa7kyAEluaKg=s64",
      "userId": "02180634349638765126"
     },
     "user_tz": 240
    },
    "id": "hYMAfnScH-1b",
    "outputId": "2adcafb6-de92-4ec3-9c32-062e6dde0bf2",
    "tags": []
   },
   "outputs": [],
   "source": [
    "def plot_mpg_region(my_group):\n",
    "\n",
    "    avg_mpg_by_region = data.groupby(['Mpg']).mean()\n",
    "    #Jupyter notebooks have a default figure size, which might override the figsize parameter. \n",
    "    #To change the figure size in a Jupyter notebook, we need to use %matplotlib inline and rcParams.\n",
    "    plt.rcParams[\"figure.figsize\"] = (16, 6)\n",
    "    avg_mpg_by_region.plot(kind = 'bar', color = ['yellow','black','pink'])\n",
    "    plt.title(' Report of Avg Mpg over the Group Region_Origin')\n",
    "    plt.xlabel('Region_Origin')\n",
    "    plt.ylabel('Mpg')\n",
    "    plt.xticks(rotation = 45)\n",
    "    plt.grid(axis = 'y', linestyle = '--',alpha = 0.7)\n",
    "    \n",
    "\n",
    "    return \n",
    "\n",
    "\n",
    "plot_mpg_region(group1)"
   ]
  },
  {
   "cell_type": "markdown",
   "id": "e453e1ae-bca0-4806-a1c8-1c07047e5caa",
   "metadata": {
    "deletable": false,
    "editable": false
   },
   "source": [
    "<!-- END QUESTION -->\n",
    "\n",
    "<!-- BEGIN QUESTION -->\n",
    "\n",
    "## Exercise 7: Data Exploration and Analysis \n",
    "\n",
    "Create a function `plot_mpg_year()` that reports the mpg over the grouping `Model Year`.  Consider using line, bar, scatter plots.  \n",
    "\n",
    "The function should: \n",
    "\n",
    "* take as input a DataFrame group (from above)\n",
    "* report mpg over the group \n",
    "* make sure the plot looks good and has labels, title, etc. "
   ]
  },
  {
   "cell_type": "code",
   "execution_count": null,
   "id": "ac86a698-6cb2-43ab-8b14-e1105117cb73",
   "metadata": {
    "tags": []
   },
   "outputs": [],
   "source": [
    "def plot_mpg_year(my_group):\n",
    "    \n",
    "    \n",
    "    return \n",
    "\n",
    "\n",
    "plot_mpg_year(group2)"
   ]
  },
  {
   "cell_type": "markdown",
   "id": "00afc59b-5b61-4784-bbad-b4cbb800d4d4",
   "metadata": {
    "deletable": false,
    "editable": false
   },
   "source": [
    "<!-- END QUESTION -->\n",
    "\n",
    "<!-- BEGIN QUESTION -->\n",
    "\n",
    "## Exercise 8: Data Exploration and Analysis \n",
    "\n",
    "Create a function `plot_mpg_year_region()` that reports the mpg over the both groupings `Model Year` and `Region`.  Think about what is the appropriate type of plot.  \n",
    "\n",
    "The function should: \n",
    "\n",
    "* take as input the DataFrame (*note, this is different than the other plots*)\n",
    "* report mpg over both groups\n",
    "* make sure the plot looks good and has labels, title, etc. "
   ]
  },
  {
   "cell_type": "code",
   "execution_count": null,
   "id": "3be5ddb5-1991-4b50-a79c-465ed738a68f",
   "metadata": {
    "tags": []
   },
   "outputs": [],
   "source": [
    "def plot_mpg_year_region(data):\n",
    "    \n",
    "    \n",
    "    Mpg_pivot = data.pivot_table(values = 'Mpg', index = 'Model_Year', columns = 'Region_Origin' , aggfunc = 'mean')\n",
    "    plt.rcParams[\"figure.figsize\"] = (10, 6)\n",
    "    sns.heatmap(Mpg_pivot, annot = True, cmap = 'coolwarm', fmt = '.2f', cbar = True, linewidth = 0.5)\n",
    "    plt.title(' Mpg by the Model Year and Region_Origin')\n",
    "    plt.xlabel('Region_Origin')\n",
    "    plt.ylabel('Model_Year')\n",
    "    plt.tight_layout()\n",
    "    plt.show()\n",
    "    return \n",
    "\n",
    "\n",
    "plot_mpg_year_region(data)"
   ]
  },
  {
   "cell_type": "markdown",
   "id": "5e597bb9",
   "metadata": {
    "deletable": false,
    "editable": false,
    "id": "3fW5TCz3H-Zy"
   },
   "source": [
    "<!-- END QUESTION -->\n",
    "\n",
    "<!-- BEGIN QUESTION -->\n",
    "\n",
    "## Exercise 9: Explore Additional aspects of the data using statistics \n",
    "\n",
    "Look at the statistics for 2 of the `float` variables in the data set.  \n",
    "Report the mean, standard deviation, 5-number summary.  \n",
    "\n",
    "Plot the distributions using histograms.  \n",
    "\n",
    "Which distribution has the most skew? \n",
    "\n",
    "Look at the statistics and distribution again now grouped by country of origin.  \n",
    "\n",
    "Look at the statistics and distribution again now grouped by number of cylinders.  "
   ]
  },
  {
   "cell_type": "markdown",
   "id": "ad8ccc27-e659-41f9-9edb-ffe548fb348f",
   "metadata": {},
   "source": [
    "**Look at the statistics for 2 of the float variables in the data set.\n",
    "Report the mean, standard deviation, 5-number summary.** "
   ]
  },
  {
   "cell_type": "code",
   "execution_count": null,
   "id": "c17fa64a",
   "metadata": {
    "tags": []
   },
   "outputs": [],
   "source": [
    "\n",
    "#  I am selecting Mpg and Acceleration as my two float varaibles because both of them as more float values \n",
    "# For Mpg Stat\n",
    "Mpg_Mean =  np.mean(data['Mpg'])\n",
    "Mpg_Standard_Deviation =  np.std(data['Mpg'])\n",
    "Mpg_5_Number_Summary = [np.max(data['Mpg']),np.min(data['Mpg']),np.median(data['Mpg']),np.percentile(data['Mpg'],25),np.percentile(data['Mpg'],75)]\n",
    "Max = Mpg_5_Number_Summary[0]\n",
    "Min = Mpg_5_Number_Summary[1]\n",
    "Median = Mpg_5_Number_Summary[2]\n",
    "Percentile_at_25 = Mpg_5_Number_Summary[3]\n",
    "Percentile_at_75 = Mpg_5_Number_Summary[4]\n",
    "\n",
    "#printing Mpg Statistics\n",
    "print(\"Statistics for 'Mpg': \")\n",
    "print('Mean :',Mpg_Mean)\n",
    "print('Standard Deviation:', Mpg_Standard_Deviation)\n",
    "print('5-number summary ',Mpg_5_Number_Summary)\n",
    "print(f'Maximum : {Max}, Minimum : {Min}, Medium : {Median},Percentile_at_25 : {Percentile_at_25}, Percentile_at_75 : {Percentile_at_75}')\n",
    "\n",
    "# For Acceleration Statistics\n",
    "Acceleration_Mean =  np.mean(data['Accel'])\n",
    "Acceleration_Standard_Deviation =  np.std(data['Accel'])\n",
    "Acceleration_5_Number_Summary = [np.max(data['Accel']),np.min(data['Accel']),np.median(data['Accel']),np.percentile(data['Mpg'],25),np.percentile(data['Accel'],70)]\n",
    "Max = Acceleration_5_Number_Summary[0]\n",
    "Min = Acceleration_5_Number_Summary[1]\n",
    "Median = Acceleration_5_Number_Summary[2]\n",
    "Percentile_at_25 = Acceleration_5_Number_Summary[3]\n",
    "Percentile_at_75 = Acceleration_5_Number_Summary[4]\n",
    "\n",
    "#printing Acceleration Stat\n",
    "print(\"\\nStatistics for 'Acceleration': \")\n",
    "print('Mean :',Acceleration_Mean)\n",
    "print('Standard Deviation:', Acceleration_Standard_Deviation)\n",
    "print('5-number summary :',Acceleration_5_Number_Summary)\n",
    "print(f'Maximum : {Max}, Minimum : {Min}, Medium : {Median},Percentile_at_25 : {Percentile_at_25}, Percentile_at_75 : {Percentile_at_75}')\n"
   ]
  },
  {
   "cell_type": "markdown",
   "id": "0674f6f3-201e-4798-86a7-a754fb283fb0",
   "metadata": {},
   "source": [
    "**Plot the distributions using histograms.**"
   ]
  },
  {
   "cell_type": "code",
   "execution_count": null,
   "id": "dc4ec76b-02af-4f2c-8c80-73b36f569dbe",
   "metadata": {},
   "outputs": [],
   "source": [
    "#Histogram for Mpg\n",
    "plt.rcParams[\"figure.figsize\"] = (10, 6)\n",
    "plt.hist(data['Mpg'],bins = 30, color = 'yellow', edgecolor = 'black')\n",
    "plt.title('Distribution of Mpg')\n",
    "plt.xlabel('Mpg')\n",
    "plt.ylabel('Frequency')\n",
    "plt.tight_layout()\n",
    "plt.show()"
   ]
  },
  {
   "cell_type": "code",
   "execution_count": null,
   "id": "1f87f838-0c2d-41a2-85e0-591972f2bd9b",
   "metadata": {},
   "outputs": [],
   "source": [
    "#Histogram for Acceleration\n",
    "plt.rcParams[\"figure.figsize\"] = (10, 6)\n",
    "plt.hist(data['Accel'],bins = 30, color = 'skyblue', edgecolor = 'black')\n",
    "plt.title('Distribution of Acceleration')\n",
    "plt.xlabel('Mpg')\n",
    "plt.ylabel('Frequency')\n",
    "plt.tight_layout()\n",
    "plt.show()"
   ]
  },
  {
   "cell_type": "markdown",
   "id": "d5f8386e-b5ca-48ef-a394-f37bd8ca4119",
   "metadata": {},
   "source": [
    "Q)Which distribution has the most skew? \n",
    "<br>Ans: As we can the distribution of both Mpg and Acceleration. I would say the distribution of **Mpg is most skewed**\n",
    "although it is postively skewed. \n",
    "<br> We can obeserve the values of Mean, Median and Mode of the both Mpg and Acceleration. When you plot those values for both Mpg and Acceleration we can see that Acceleration is kinda of symmetrical."
   ]
  },
  {
   "cell_type": "markdown",
   "id": "7f4ced75-99b3-48a7-946f-139e9af47a45",
   "metadata": {},
   "source": [
    "**Look at the statistics and distribution again now grouped by country of origin.** "
   ]
  },
  {
   "cell_type": "code",
   "execution_count": null,
   "id": "71c6ba51-3383-4dd4-9f13-be8d0e25b507",
   "metadata": {},
   "outputs": [],
   "source": [
    "# Calculating Statistics and Distribution agian by grouping country of origin for Mpg\n",
    "Grouped_By_Region_Origin = data.groupby('Region_Origin')\n",
    "Mpg_Statistics_By_Country_Of_Origin = Grouped_By_Region_Origin['Mpg'].describe()\n",
    "Mpg_Statistics_By_Country_Of_Origin"
   ]
  },
  {
   "cell_type": "code",
   "execution_count": null,
   "id": "c96ac13c-2ccb-45d5-a0d7-93da949c576c",
   "metadata": {},
   "outputs": [],
   "source": [
    "# Calculating Statistics and Distribution agian by grouping country of origin for Acceleration\n",
    "Acceleration_Statistics_By_Country_Of_Origin = Grouped_By_Region_Origin['Accel'].describe()\n",
    "Acceleration_Statistics_By_Country_Of_Origin"
   ]
  },
  {
   "cell_type": "markdown",
   "id": "a58704cc-b843-486d-aac6-01c34a47722d",
   "metadata": {},
   "source": [
    "**Look at the statistics and distribution again now grouped by number of cylinders.**\n"
   ]
  },
  {
   "cell_type": "code",
   "execution_count": null,
   "id": "1690140b-996b-4d49-9518-0175d3425446",
   "metadata": {},
   "outputs": [],
   "source": [
    "Grouped_By_Cylinders = data.groupby('Cyl')\n",
    "Mpg_Statistics_By_Grouping_Cylinders = Grouped_By_Cylinders['Mpg'].describe()\n",
    "Mpg_Statistics_By_Grouping_Cylinders"
   ]
  },
  {
   "cell_type": "code",
   "execution_count": null,
   "id": "02879858-af84-4651-be0a-15d3251a4ea8",
   "metadata": {},
   "outputs": [],
   "source": [
    "Grouped_By_Cylinders = data.groupby('Cyl')\n",
    "Acceleration_Statistics_By_Grouping_Cylinders = Grouped_By_Cylinders['Accel'].describe()\n",
    "Acceleration_Statistics_By_Grouping_Cylinders"
   ]
  },
  {
   "cell_type": "markdown",
   "id": "2fd3676b",
   "metadata": {
    "deletable": false,
    "editable": false
   },
   "source": [
    "<!-- END QUESTION -->\n",
    "\n"
   ]
  },
  {
   "cell_type": "markdown",
   "id": "c34466fa",
   "metadata": {
    "deletable": false,
    "editable": false
   },
   "source": [
    "## Submission\n",
    "\n",
    "Make sure you have run all cells in your notebook in order before running the cell below, so that all images/graphs appear in the output. The cell below will generate a zip file for you to submit. **Please save before exporting!**"
   ]
  },
  {
   "cell_type": "code",
   "execution_count": null,
   "id": "af612a9c",
   "metadata": {
    "deletable": false,
    "editable": false
   },
   "outputs": [],
   "source": [
    "# Save your notebook first, then run this cell to export your submission.\n",
    "grader.export(pdf=False, run_tests=True)"
   ]
  },
  {
   "cell_type": "markdown",
   "id": "d1ef527c",
   "metadata": {},
   "source": [
    " "
   ]
  }
 ],
 "metadata": {
  "kernelspec": {
   "display_name": "Python [conda env:.conda-un5550] *",
   "language": "python",
   "name": "conda-env-.conda-un5550-py"
  },
  "language_info": {
   "codemirror_mode": {
    "name": "ipython",
    "version": 3
   },
   "file_extension": ".py",
   "mimetype": "text/x-python",
   "name": "python",
   "nbconvert_exporter": "python",
   "pygments_lexer": "ipython3",
   "version": "3.10.12"
  },
  "otter": {
   "OK_FORMAT": true,
   "assignment_name": "lab2",
   "tests": {
    "q1": {
     "name": "q1",
     "points": [
      2,
      2,
      2
     ],
     "suites": [
      {
       "cases": [
        {
         "code": ">>> data.iloc[0,0] == 18.0 and data.iloc[0,8] == 'chevrolet chevelle malibu'\nTrue",
         "hidden": false,
         "locked": false
        },
        {
         "code": ">>> data.iloc[4,0] == 17.0 and data.iloc[4,8] == 'ford torino'\nTrue",
         "hidden": false,
         "locked": false
        },
        {
         "code": ">>> data.shape[0]==398 and data.shape[1]==9\nTrue",
         "hidden": false,
         "locked": false
        }
       ],
       "scored": true,
       "setup": "",
       "teardown": "",
       "type": "doctest"
      }
     ]
    },
    "q2": {
     "name": "q2",
     "points": [
      2,
      2,
      2
     ],
     "suites": [
      {
       "cases": [
        {
         "code": ">>> data.isnull().values.any() == False\nTrue",
         "hidden": false,
         "locked": false
        },
        {
         "code": ">>> data.columns[6] =='Model_Year'\nTrue",
         "hidden": false,
         "locked": false
        },
        {
         "code": ">>> data.index[0] =='Chevrolet_Chevelle_Malibu' and data.index[4] =='Ford_Torino'\nTrue",
         "hidden": false,
         "locked": false
        }
       ],
       "scored": true,
       "setup": "",
       "teardown": "",
       "type": "doctest"
      }
     ]
    },
    "q3": {
     "name": "q3",
     "points": [
      2,
      2
     ],
     "suites": [
      {
       "cases": [
        {
         "code": ">>> data[\"Hp\"].values.any() != '?'\nTrue",
         "hidden": false,
         "locked": false
        },
        {
         "code": ">>> data['Hp'].dtypes=='float64'\nTrue",
         "hidden": false,
         "locked": false
        }
       ],
       "scored": true,
       "setup": "",
       "teardown": "",
       "type": "doctest"
      }
     ]
    },
    "q4": {
     "name": "q4",
     "points": [
      2,
      2
     ],
     "suites": [
      {
       "cases": [
        {
         "code": ">>> data.iloc[0,9] == 7.652592 and data.iloc[0,10] == 28.962\nTrue",
         "hidden": false,
         "locked": false
        },
        {
         "code": ">>> data.iloc[1,9] == 6.377160 and np.isclose(data.iloc[1,10], 24.135)\nTrue",
         "hidden": false,
         "locked": false
        }
       ],
       "scored": true,
       "setup": "",
       "teardown": "",
       "type": "doctest"
      }
     ]
    },
    "q5": {
     "name": "q5",
     "points": [
      4
     ],
     "suites": [
      {
       "cases": [
        {
         "code": ">>> total_gp = [x[0] for x, group in group2]\n>>> total_gp == [70, 71, 72, 73, 74, 75, 76, 77, 78, 79, 80, 81, 82]\nTrue",
         "hidden": false,
         "locked": false
        }
       ],
       "scored": true,
       "setup": "",
       "teardown": "",
       "type": "doctest"
      }
     ]
    }
   }
  }
 },
 "nbformat": 4,
 "nbformat_minor": 5
}
