{
 "cells": [
  {
   "cell_type": "markdown",
   "id": "a3af7b9d-8072-4c38-9166-fabfe115070d",
   "metadata": {},
   "source": [
    "# Lab 1 - Python Assignment \n",
    "\n",
    "Upon successful completion of this assignment, a student will be able to:\n",
    "\n",
    "* Correctly setup Python environment on Campus Linux Machines\n",
    "* Add new text and code cells to a colab notebook\n",
    "* Gain experience in formatting text using Markdown\n",
    "* Load in a data set, access it, and explore its properties.\n",
    "* Submit assignment to Gradescope.\n",
    "\n",
    "We start with the standard setup for our notebook files importing standard modules."
   ]
  },
  {
   "cell_type": "code",
   "execution_count": 1,
   "id": "28fef3e8-9380-4bfb-a243-f43e761193ad",
   "metadata": {
    "tags": []
   },
   "outputs": [],
   "source": [
    "#  Import standard modules  \n",
    "import pandas as pd\n",
    "import numpy as np\n",
    "import matplotlib as mpl\n",
    "import matplotlib.pyplot as plt\n",
    "%matplotlib inline\n",
    "\n",
    "import otter\n",
    "grader = otter.Notebook()"
   ]
  },
  {
   "cell_type": "code",
   "execution_count": 2,
   "id": "9603bae8-2f17-43e6-aeea-48c27b8ee725",
   "metadata": {
    "tags": []
   },
   "outputs": [],
   "source": [
    "# Import modules for this lab \n",
    "import re \n",
    "import os\n",
    "import platform \n",
    "import sys \n",
    "\n",
    "import importlib\n",
    "from packaging.version import Version, parse "
   ]
  },
  {
   "cell_type": "markdown",
   "id": "3b45d00f-3ae9-42b9-8ee3-4f148920f0c6",
   "metadata": {
    "deletable": false,
    "editable": false
   },
   "source": [
    "<!-- BEGIN QUESTION -->\n",
    "\n",
    "## Q1 - Setup\n",
    "\n",
    "The following code looks to see whether your notebook is run on Gradescope (GS), Colab (COLAB), or the linux lab machine Python environment you were asked to setup."
   ]
  },
  {
   "cell_type": "code",
   "execution_count": 3,
   "id": "3f514da6-4c08-44ff-a94f-be462b8c13e2",
   "metadata": {
    "deletable": false,
    "editable": false,
    "tags": []
   },
   "outputs": [
    {
     "name": "stdout",
     "output_type": "stream",
     "text": [
      "System: GS - False, COLAB - False, LLM - True\n"
     ]
    }
   ],
   "source": [
    "# flag if notebook is running on Gradescope \n",
    "if re.search(r'amzn', platform.uname().release): \n",
    "    GS = True\n",
    "else: \n",
    "    GS = False\n",
    "\n",
    "# flag if notebook is running on Colaboratory \n",
    "try:\n",
    "  import google.colab\n",
    "  COLAB = True\n",
    "except:\n",
    "  COLAB = False\n",
    "\n",
    "# flag if running on Linux lab machines. \n",
    "cname = platform.uname().node\n",
    "if re.search(r'(guardian|colossus|c28|coc-15954-m)', cname):\n",
    "    LLM = True \n",
    "else: \n",
    "    LLM = False\n",
    "\n",
    "print(\"System: GS - %s, COLAB - %s, LLM - %s\" % (GS, COLAB, LLM))"
   ]
  },
  {
   "cell_type": "markdown",
   "id": "c838ad29-5b9c-4509-97c6-5ba419acd7b2",
   "metadata": {
    "deletable": false,
    "editable": false
   },
   "source": [
    "### Check Setup \n",
    "\n",
    "Check to make sure the correct version of Python was run."
   ]
  },
  {
   "cell_type": "code",
   "execution_count": 4,
   "id": "7001b353-9d11-4437-b825-ee5ad48554af",
   "metadata": {
    "deletable": false,
    "editable": false,
    "tags": []
   },
   "outputs": [
    {
     "name": "stdout",
     "output_type": "stream",
     "text": [
      "3.10.12 (main, Jul  5 2023, 18:54:27) [GCC 11.2.0]\n"
     ]
    }
   ],
   "source": [
    "pver = sys.version \n",
    "print(pver) "
   ]
  },
  {
   "cell_type": "markdown",
   "id": "22e1cbbf-7bc1-45aa-9f0c-1a0fa66b9552",
   "metadata": {
    "deletable": false,
    "editable": false
   },
   "source": [
    "It is good practice to list all imports needed at the top of the notebook. You can import modules in \n",
    "later cells as needed, but listing them at the top clearly shows all which are needed to be available / installed.\n",
    "\n",
    "If you are doing development on Colab, the otter-grader package is not available, so you will need to install it\n",
    "with pip `!pip install otter-grader==5.1`."
   ]
  },
  {
   "cell_type": "markdown",
   "id": "394a8629-2dae-4aa9-9b03-8e57902d0dea",
   "metadata": {
    "deletable": false,
    "editable": false
   },
   "source": [
    "The python environment that is running is: "
   ]
  },
  {
   "cell_type": "code",
   "execution_count": 5,
   "id": "25d5b876-0ea9-4423-b366-3aad22b7a6f4",
   "metadata": {
    "deletable": false,
    "editable": false,
    "tags": []
   },
   "outputs": [
    {
     "name": "stdout",
     "output_type": "stream",
     "text": [
      "/home/campus19/trkosire/.conda/envs/un5550/bin/python\n"
     ]
    }
   ],
   "source": [
    "env1 = sys.executable\n",
    "print(env1)"
   ]
  },
  {
   "cell_type": "code",
   "execution_count": 6,
   "id": "96004240-f5dd-4155-8ed8-e01f50862880",
   "metadata": {
    "deletable": false,
    "editable": false,
    "tags": []
   },
   "outputs": [
    {
     "name": "stdout",
     "output_type": "stream",
     "text": [
      "['     active environment : un5550', '    active env location : /home/campus19/trkosire/.conda/envs/un5550']\n"
     ]
    }
   ],
   "source": [
    "env2 =!conda info | grep 'active env'\n",
    "print(env2)"
   ]
  },
  {
   "cell_type": "markdown",
   "id": "1083f2c3-808c-43cc-8272-c17a76c4c7eb",
   "metadata": {
    "deletable": false,
    "editable": false
   },
   "source": [
    "Make sure that the environment you set up for the class is what is being used to execute your notebook. For example, the default name should be \"un5550\". \n",
    "\n",
    "Next, we are going to look at all the packages installed. "
   ]
  },
  {
   "cell_type": "code",
   "execution_count": 7,
   "id": "644bfed1-9d4b-4485-9a95-8e1b15b89757",
   "metadata": {
    "deletable": false,
    "editable": false,
    "tags": []
   },
   "outputs": [
    {
     "name": "stdout",
     "output_type": "stream",
     "text": [
      "\u001b[42m[ OK ]\u001b[0m numpy version 1.25.2\n",
      "\u001b[42m[ OK ]\u001b[0m scipy version 1.11.1\n",
      "\u001b[42m[ OK ]\u001b[0m matplotlib version 3.7.1\n",
      "\u001b[42m[ OK ]\u001b[0m pandas version 2.0.3\n",
      "\u001b[42m[ OK ]\u001b[0m IPython version 8.14.0\n",
      "\u001b[42m[ OK ]\u001b[0m seaborn version 0.12.2\n",
      "\u001b[42m[ OK ]\u001b[0m plotly version 5.9.0\n",
      "\u001b[42m[ OK ]\u001b[0m dill version 0.3.7\n",
      "\u001b[42m[ OK ]\u001b[0m sklearn version 1.3.0\n"
     ]
    }
   ],
   "source": [
    "OK = '\\x1b[42m[ OK ]\\x1b[0m'\n",
    "FAIL = \"x1b[41m[FAIL]\\x1b[0m\"\n",
    "\n",
    "def import_version(pkg, req_ver, fail_msg=\"\"):\n",
    "    mod = None\n",
    "    try:\n",
    "        mod = importlib.import_module(pkg)\n",
    "        ver = mod.__version__\n",
    "        if Version(ver) != req_ver:\n",
    "            print(FAIL, \"%s version %s required, but %s installed.\"\n",
    "                  % (lib, req_ver, ver))\n",
    "        else:\n",
    "            print(OK, '%s version %s' % (pkg, ver))\n",
    "    except ImportError:\n",
    "        print(FAIL, '%s not installed. %s' % (pkg, fail_msg))\n",
    "    return (mod, Version(ver), req_ver)\n",
    "\n",
    "requirements = {'numpy': parse(\"1.25.2\"), 'scipy': parse(\"1.11.1\"),\n",
    "                'matplotlib': parse(\"3.7.1\"), 'pandas': parse(\"2.0.3\"),\n",
    "                'IPython': parse(\"8.14.0\"), 'seaborn': parse('0.12.2'),\n",
    "                'plotly': parse(\"5.9.0\"), 'dill': parse('0.3.7'),\n",
    "                'sklearn': parse(\"1.3.0\")\n",
    "                }\n",
    "\n",
    "pks = []\n",
    "for lib, required_version in list(requirements.items()):\n",
    "    pks.append(import_version(lib, required_version))"
   ]
  },
  {
   "cell_type": "markdown",
   "id": "1c05bb1b-836c-4e36-a945-ccfeddbadeac",
   "metadata": {
    "deletable": false,
    "editable": false
   },
   "source": [
    "<!-- END QUESTION -->\n",
    "\n",
    "## Example 1 - More Data Cleaning \n",
    "*Adapted from J. Sullivan*\n",
    "\n",
    "Let's look at another data file to see additional data cleaning steps and code.  \n",
    "\n",
    "The initial data set reads in part: \n",
    "\n",
    "![property data](https://pages.mtu.edu/~lebrown/un5550-f20/week1/property-data.jpg)"
   ]
  },
  {
   "cell_type": "code",
   "execution_count": 8,
   "id": "ad62d8cb-b2e0-4044-8dea-b187763e7602",
   "metadata": {
    "tags": []
   },
   "outputs": [
    {
     "data": {
      "text/html": [
       "<div>\n",
       "<style scoped>\n",
       "    .dataframe tbody tr th:only-of-type {\n",
       "        vertical-align: middle;\n",
       "    }\n",
       "\n",
       "    .dataframe tbody tr th {\n",
       "        vertical-align: top;\n",
       "    }\n",
       "\n",
       "    .dataframe thead th {\n",
       "        text-align: right;\n",
       "    }\n",
       "</style>\n",
       "<table border=\"1\" class=\"dataframe\">\n",
       "  <thead>\n",
       "    <tr style=\"text-align: right;\">\n",
       "      <th></th>\n",
       "      <th>PID</th>\n",
       "      <th>ST_NUM</th>\n",
       "      <th>ST_NAME</th>\n",
       "      <th>OWN_OCCUPIED</th>\n",
       "      <th>NUM_BEDROOMS</th>\n",
       "      <th>NUM_BATH</th>\n",
       "      <th>SQ_FT</th>\n",
       "    </tr>\n",
       "  </thead>\n",
       "  <tbody>\n",
       "    <tr>\n",
       "      <th>0</th>\n",
       "      <td>100001000.0</td>\n",
       "      <td>104.0</td>\n",
       "      <td>PUTNAM</td>\n",
       "      <td>Y</td>\n",
       "      <td>3</td>\n",
       "      <td>1</td>\n",
       "      <td>1000</td>\n",
       "    </tr>\n",
       "    <tr>\n",
       "      <th>1</th>\n",
       "      <td>100002000.0</td>\n",
       "      <td>197.0</td>\n",
       "      <td>LEXINGTON</td>\n",
       "      <td>N</td>\n",
       "      <td>3</td>\n",
       "      <td>1.5</td>\n",
       "      <td>--</td>\n",
       "    </tr>\n",
       "    <tr>\n",
       "      <th>2</th>\n",
       "      <td>100003000.0</td>\n",
       "      <td>NaN</td>\n",
       "      <td>LEXINGTON</td>\n",
       "      <td>N</td>\n",
       "      <td>NaN</td>\n",
       "      <td>1</td>\n",
       "      <td>850</td>\n",
       "    </tr>\n",
       "    <tr>\n",
       "      <th>3</th>\n",
       "      <td>100004000.0</td>\n",
       "      <td>201.0</td>\n",
       "      <td>BERKELEY</td>\n",
       "      <td>12</td>\n",
       "      <td>1</td>\n",
       "      <td>NaN</td>\n",
       "      <td>700</td>\n",
       "    </tr>\n",
       "    <tr>\n",
       "      <th>4</th>\n",
       "      <td>NaN</td>\n",
       "      <td>203.0</td>\n",
       "      <td>BERKELEY</td>\n",
       "      <td>Y</td>\n",
       "      <td>3</td>\n",
       "      <td>2</td>\n",
       "      <td>1600</td>\n",
       "    </tr>\n",
       "    <tr>\n",
       "      <th>5</th>\n",
       "      <td>100006000.0</td>\n",
       "      <td>207.0</td>\n",
       "      <td>BERKELEY</td>\n",
       "      <td>Y</td>\n",
       "      <td>NaN</td>\n",
       "      <td>1</td>\n",
       "      <td>800</td>\n",
       "    </tr>\n",
       "    <tr>\n",
       "      <th>6</th>\n",
       "      <td>100007000.0</td>\n",
       "      <td>NaN</td>\n",
       "      <td>WASHINGTON</td>\n",
       "      <td>NaN</td>\n",
       "      <td>2</td>\n",
       "      <td>HURLEY</td>\n",
       "      <td>950</td>\n",
       "    </tr>\n",
       "    <tr>\n",
       "      <th>7</th>\n",
       "      <td>100008000.0</td>\n",
       "      <td>213.0</td>\n",
       "      <td>TREMONT</td>\n",
       "      <td>Y</td>\n",
       "      <td>--</td>\n",
       "      <td>1</td>\n",
       "      <td>NaN</td>\n",
       "    </tr>\n",
       "    <tr>\n",
       "      <th>8</th>\n",
       "      <td>100009000.0</td>\n",
       "      <td>215.0</td>\n",
       "      <td>TREMONT</td>\n",
       "      <td>Y</td>\n",
       "      <td>na</td>\n",
       "      <td>2</td>\n",
       "      <td>1800</td>\n",
       "    </tr>\n",
       "  </tbody>\n",
       "</table>\n",
       "</div>"
      ],
      "text/plain": [
       "           PID  ST_NUM     ST_NAME OWN_OCCUPIED NUM_BEDROOMS NUM_BATH SQ_FT\n",
       "0  100001000.0   104.0      PUTNAM            Y            3        1  1000\n",
       "1  100002000.0   197.0   LEXINGTON            N            3      1.5    --\n",
       "2  100003000.0     NaN   LEXINGTON            N          NaN        1   850\n",
       "3  100004000.0   201.0    BERKELEY           12            1      NaN   700\n",
       "4          NaN   203.0    BERKELEY            Y            3        2  1600\n",
       "5  100006000.0   207.0    BERKELEY            Y          NaN        1   800\n",
       "6  100007000.0     NaN  WASHINGTON          NaN            2   HURLEY   950\n",
       "7  100008000.0   213.0     TREMONT            Y           --        1   NaN\n",
       "8  100009000.0   215.0     TREMONT            Y           na        2  1800"
      ]
     },
     "execution_count": 8,
     "metadata": {},
     "output_type": "execute_result"
    }
   ],
   "source": [
    "prop = pd.read_csv(\"data/property.csv\")\n",
    "prop"
   ]
  },
  {
   "cell_type": "markdown",
   "id": "4a43336f-38e5-4ddd-9406-f4cd7ff8fc89",
   "metadata": {},
   "source": [
    "We can see that `pandas` is already able to find some of the different ways that we have missing values in the data.\n",
    "\n",
    "For instance in the ST_NUM column, the 3rd entry is blank and the 7th entry is NaN.  `pandas` filled in the blank entry with \"NA\".  Both of these values are found by the `isnull()` method."
   ]
  },
  {
   "cell_type": "code",
   "execution_count": 9,
   "id": "309a778c-62a9-48a1-9b43-ea726e2513bf",
   "metadata": {
    "tags": []
   },
   "outputs": [
    {
     "data": {
      "text/plain": [
       "0    False\n",
       "1    False\n",
       "2     True\n",
       "3    False\n",
       "4    False\n",
       "5    False\n",
       "6     True\n",
       "7    False\n",
       "8    False\n",
       "Name: ST_NUM, dtype: bool"
      ]
     },
     "execution_count": 9,
     "metadata": {},
     "output_type": "execute_result"
    }
   ],
   "source": [
    "prop['ST_NUM'].isnull()"
   ]
  },
  {
   "cell_type": "markdown",
   "id": "dffd19ea-28ea-49c1-85ba-b1753255741d",
   "metadata": {},
   "source": [
    "However, there are other missing value encodings that pandas does not immediately recognize. \n",
    "\n",
    "Let's look at the Num_Bedrooms column. \n",
    "\n",
    "![property data 2](https://pages.mtu.edu/~lebrown/un5550-f20/week1/property-data2.jpg)\n",
    "\n",
    "\n"
   ]
  },
  {
   "cell_type": "markdown",
   "id": "4eab606d-f6fc-4167-b231-3ea09a6c62c9",
   "metadata": {},
   "source": [
    "In this column, we have missing values as \"n/a\", \"NA\", \"--\" and \"na\".\n",
    "\n",
    "Let's see what `pandas` automatically recognizes."
   ]
  },
  {
   "cell_type": "code",
   "execution_count": 10,
   "id": "ad7eabe1-1b84-497b-8690-798eb5dbf7c9",
   "metadata": {
    "tags": []
   },
   "outputs": [
    {
     "data": {
      "text/plain": [
       "0    False\n",
       "1    False\n",
       "2     True\n",
       "3    False\n",
       "4    False\n",
       "5     True\n",
       "6    False\n",
       "7    False\n",
       "8    False\n",
       "Name: NUM_BEDROOMS, dtype: bool"
      ]
     },
     "execution_count": 10,
     "metadata": {},
     "output_type": "execute_result"
    }
   ],
   "source": [
    "prop['NUM_BEDROOMS'].isnull()"
   ]
  },
  {
   "cell_type": "markdown",
   "id": "c09a39cc-a15b-48ec-9720-bf00dd3d2163",
   "metadata": {},
   "source": [
    "`pandas` automatically recognizes the \"n/a\" and \"NA\" but not the \"--\" and \"na\". \n",
    "\n",
    "Let's change that! "
   ]
  },
  {
   "cell_type": "code",
   "execution_count": 12,
   "id": "5e327b03-f20b-47ab-94ee-d17d0db1e72c",
   "metadata": {
    "tags": []
   },
   "outputs": [],
   "source": [
    "# Making a list of missing value types\n",
    "missing_values = [\"n/a\", \"na\", \"--\", \"NA\"]\n",
    "prop2 = pd.read_csv(\"data/property.csv\", na_values = missing_values)"
   ]
  },
  {
   "cell_type": "code",
   "execution_count": 13,
   "id": "232e3343-6fcf-4ca6-b666-a857e8f02922",
   "metadata": {
    "tags": []
   },
   "outputs": [
    {
     "name": "stdout",
     "output_type": "stream",
     "text": [
      "0    3.0\n",
      "1    3.0\n",
      "2    NaN\n",
      "3    1.0\n",
      "4    3.0\n",
      "5    NaN\n",
      "6    2.0\n",
      "7    NaN\n",
      "8    NaN\n",
      "Name: NUM_BEDROOMS, dtype: float64\n",
      "0    False\n",
      "1    False\n",
      "2     True\n",
      "3    False\n",
      "4    False\n",
      "5     True\n",
      "6    False\n",
      "7     True\n",
      "8     True\n",
      "Name: NUM_BEDROOMS, dtype: bool\n"
     ]
    }
   ],
   "source": [
    "print (prop2['NUM_BEDROOMS'])\n",
    "print (prop2['NUM_BEDROOMS'].isnull())"
   ]
  },
  {
   "cell_type": "markdown",
   "id": "0e6817a3",
   "metadata": {},
   "source": [
    "## Example 2 - Printing"
   ]
  },
  {
   "cell_type": "markdown",
   "id": "9cf8be09",
   "metadata": {},
   "source": [
    "\n",
    "In many courses, tutorials for new languages the first thing you learn is printing \"Hello World\""
   ]
  },
  {
   "cell_type": "code",
   "execution_count": 14,
   "id": "42e72e12",
   "metadata": {
    "tags": []
   },
   "outputs": [
    {
     "name": "stdout",
     "output_type": "stream",
     "text": [
      "Hello World\n"
     ]
    }
   ],
   "source": [
    "print('Hello World')"
   ]
  },
  {
   "cell_type": "markdown",
   "id": "d7a889ea",
   "metadata": {},
   "source": [
    "We can also capture `input` from the user. \n",
    "https://docs.python.org/3/library/functions.html#input"
   ]
  },
  {
   "cell_type": "code",
   "execution_count": 16,
   "id": "144c0638",
   "metadata": {
    "tags": []
   },
   "outputs": [
    {
     "name": "stdin",
     "output_type": "stream",
     "text": [
      "What is your name?   Tagore\n"
     ]
    }
   ],
   "source": [
    "firstName = input('What is your name?  ')"
   ]
  },
  {
   "cell_type": "code",
   "execution_count": 17,
   "id": "5d150aac",
   "metadata": {
    "tags": []
   },
   "outputs": [
    {
     "data": {
      "text/plain": [
       "'Hello Tagore!'"
      ]
     },
     "execution_count": 17,
     "metadata": {},
     "output_type": "execute_result"
    }
   ],
   "source": [
    "\"Hello \" + firstName + \"!\""
   ]
  },
  {
   "cell_type": "markdown",
   "id": "5686996a",
   "metadata": {},
   "source": [
    "Use inbuilt function `dir()` to the variable \"firstName\" above and print the outcome.\n",
    "\n",
    "https://docs.python.org/3/library/functions.html#dir"
   ]
  },
  {
   "cell_type": "code",
   "execution_count": 18,
   "id": "208b225c",
   "metadata": {},
   "outputs": [
    {
     "data": {
      "text/plain": [
       "['__add__',\n",
       " '__class__',\n",
       " '__contains__',\n",
       " '__delattr__',\n",
       " '__dir__',\n",
       " '__doc__',\n",
       " '__eq__',\n",
       " '__format__',\n",
       " '__ge__',\n",
       " '__getattribute__',\n",
       " '__getitem__',\n",
       " '__getnewargs__',\n",
       " '__gt__',\n",
       " '__hash__',\n",
       " '__init__',\n",
       " '__init_subclass__',\n",
       " '__iter__',\n",
       " '__le__',\n",
       " '__len__',\n",
       " '__lt__',\n",
       " '__mod__',\n",
       " '__mul__',\n",
       " '__ne__',\n",
       " '__new__',\n",
       " '__reduce__',\n",
       " '__reduce_ex__',\n",
       " '__repr__',\n",
       " '__rmod__',\n",
       " '__rmul__',\n",
       " '__setattr__',\n",
       " '__sizeof__',\n",
       " '__str__',\n",
       " '__subclasshook__',\n",
       " 'capitalize',\n",
       " 'casefold',\n",
       " 'center',\n",
       " 'count',\n",
       " 'encode',\n",
       " 'endswith',\n",
       " 'expandtabs',\n",
       " 'find',\n",
       " 'format',\n",
       " 'format_map',\n",
       " 'index',\n",
       " 'isalnum',\n",
       " 'isalpha',\n",
       " 'isascii',\n",
       " 'isdecimal',\n",
       " 'isdigit',\n",
       " 'isidentifier',\n",
       " 'islower',\n",
       " 'isnumeric',\n",
       " 'isprintable',\n",
       " 'isspace',\n",
       " 'istitle',\n",
       " 'isupper',\n",
       " 'join',\n",
       " 'ljust',\n",
       " 'lower',\n",
       " 'lstrip',\n",
       " 'maketrans',\n",
       " 'partition',\n",
       " 'removeprefix',\n",
       " 'removesuffix',\n",
       " 'replace',\n",
       " 'rfind',\n",
       " 'rindex',\n",
       " 'rjust',\n",
       " 'rpartition',\n",
       " 'rsplit',\n",
       " 'rstrip',\n",
       " 'split',\n",
       " 'splitlines',\n",
       " 'startswith',\n",
       " 'strip',\n",
       " 'swapcase',\n",
       " 'title',\n",
       " 'translate',\n",
       " 'upper',\n",
       " 'zfill']"
      ]
     },
     "execution_count": 18,
     "metadata": {},
     "output_type": "execute_result"
    }
   ],
   "source": [
    "dir(firstName)"
   ]
  },
  {
   "cell_type": "markdown",
   "id": "176c6bbd",
   "metadata": {},
   "source": [
    "This lists all the functions available to be used on the \"string\" `firstName'"
   ]
  },
  {
   "cell_type": "markdown",
   "id": "8afde54a",
   "metadata": {
    "deletable": false,
    "editable": false
   },
   "source": [
    "## Q2 - Strings\n",
    "\n",
    "I want you to explore using the string functions: `len()`, `split()`, and `strip()` on the following strings. \n",
    "\n",
    "https://docs.python.org/3/library/functions.html"
   ]
  },
  {
   "cell_type": "code",
   "execution_count": 19,
   "id": "389795f2",
   "metadata": {
    "tags": []
   },
   "outputs": [],
   "source": [
    "className = \" Introduction   to   Data Science   \""
   ]
  },
  {
   "cell_type": "code",
   "execution_count": 22,
   "id": "b5b7eb86",
   "metadata": {
    "tags": []
   },
   "outputs": [
    {
     "data": {
      "text/plain": [
       "36"
      ]
     },
     "execution_count": 22,
     "metadata": {},
     "output_type": "execute_result"
    }
   ],
   "source": [
    "# Show how to find the length of the string \"className\" \n",
    "# Store the results in a new variable \"class_length\"\n",
    "class_length = len(className)\n",
    "class_length"
   ]
  },
  {
   "cell_type": "code",
   "execution_count": 23,
   "id": "04230270",
   "metadata": {
    "tags": []
   },
   "outputs": [
    {
     "data": {
      "text/plain": [
       "['Introduction', 'to', 'Data', 'Science']"
      ]
     },
     "execution_count": 23,
     "metadata": {},
     "output_type": "execute_result"
    }
   ],
   "source": [
    "# Show the results of the `split()` function on the string \"className\"  \n",
    "# Store the results in a new variable \"class_split\"\n",
    "class_split = className.split()\n",
    "class_split"
   ]
  },
  {
   "cell_type": "code",
   "execution_count": 24,
   "id": "910662ce",
   "metadata": {
    "tags": []
   },
   "outputs": [
    {
     "data": {
      "text/plain": [
       "'Introduction   to   Data Science'"
      ]
     },
     "execution_count": 24,
     "metadata": {},
     "output_type": "execute_result"
    }
   ],
   "source": [
    "# Save the results of the `strip()` function on the string \"className\" in a \n",
    "# new variable \"className2\"\n",
    "className2 = className.strip()\n",
    "className2"
   ]
  },
  {
   "cell_type": "code",
   "execution_count": 25,
   "id": "45aad8f5",
   "metadata": {
    "deletable": false,
    "editable": false
   },
   "outputs": [
    {
     "data": {
      "text/html": [
       "<p><strong><pre style='display: inline;'>q2</pre></strong> passed! 🚀</p>"
      ],
      "text/plain": [
       "q2 results: All test cases passed!"
      ]
     },
     "execution_count": 25,
     "metadata": {},
     "output_type": "execute_result"
    }
   ],
   "source": [
    "grader.check(\"q2\")"
   ]
  },
  {
   "cell_type": "markdown",
   "id": "c2bb250b",
   "metadata": {},
   "source": [
    "## Example 3 - Comments \n",
    "\n",
    "To create a comment line (in line with the code), # (hash) symbol is used, followed by a space. (Short key: Ctrl+/ ) [To comment out, remove # or use Ctrl+/ again]\n",
    "\n",
    "Other options are using the triple quotes (\"\"\")or (''') known as backticks, to enclose the complete sentence as a comment.(This needs to be on different line other than the code). Different programming language has different approches for commenting. Please be aware."
   ]
  },
  {
   "cell_type": "code",
   "execution_count": 26,
   "id": "5863728e",
   "metadata": {
    "tags": []
   },
   "outputs": [],
   "source": [
    "# This is a comment"
   ]
  },
  {
   "cell_type": "code",
   "execution_count": 27,
   "id": "8da029c6",
   "metadata": {
    "tags": []
   },
   "outputs": [
    {
     "data": {
      "text/plain": [
       "4"
      ]
     },
     "execution_count": 27,
     "metadata": {},
     "output_type": "execute_result"
    }
   ],
   "source": [
    "'''This is a larger comment block \n",
    "that may span multiple lines \n",
    "'''\n",
    "2 + 2"
   ]
  },
  {
   "cell_type": "markdown",
   "id": "f630a76b",
   "metadata": {
    "deletable": false,
    "editable": false
   },
   "source": [
    "<!-- BEGIN QUESTION -->\n",
    "\n",
    "## Q3 - Markdown\n",
    "\n",
    "Markdown option for cells in the jupyter notebook provides a way to display information to the use around the particular code snippets. For more information and reading, please look into:\n",
    "\n",
    "https://help.github.com/articles/basic-writing-and-formatting-syntax/\n",
    "\n",
    "https://jupyter-notebook.readthedocs.io/en/stable/examples/Notebook/Working%20With%20Markdown%20Cells.html\n",
    "\n",
    "Colab's Markdown Guide: https://colab.research.google.com/notebooks/markdown_guide.ipynb#scrollTo=5Y3CStVkLxqt\n",
    "\n",
    "For this exercise add a new 'Text' cell and try to recreate the following block of text. \n",
    "\n",
    "![example markdown](https://pages.mtu.edu/~lebrown/un5550-f20/week1/markdown-example.png)\n",
    "\n",
    "\n"
   ]
  },
  {
   "cell_type": "markdown",
   "id": "3115a883-c81c-435b-baa6-6d2a792ba4bb",
   "metadata": {},
   "source": [
    "We can start with a few different paragraphs of text. This first paragraph will have a few sentences with various markups\n",
    "found. Things like **bold** *italics* ~~strikethrough~~, and even `mononspace`.\n",
    "\n",
    "Here is another paragraph of text that conatains a url https://mtu.edu.\n",
    "\n",
    "We can have lists:\n",
    "\n",
    "*one\n",
    "*two\n",
    "*three\n",
    "\n",
    "And more lists:\n",
    "\n",
    "1.one\n",
    "1.two\n",
    "1.three\n",
    "\n",
    "Nested lists:\n",
    "\n",
    "* one\n",
    "  * one A\n",
    "  * one B\n",
    "* two\n",
    "* three\n",
    "\n",
    "\n"
   ]
  },
  {
   "cell_type": "markdown",
   "id": "5f683fe0-a0ed-41ec-b994-4fd964a6d7fe",
   "metadata": {},
   "source": [
    "*Enter your Markdown here*"
   ]
  },
  {
   "cell_type": "markdown",
   "id": "5a5009bb",
   "metadata": {
    "deletable": false,
    "editable": false
   },
   "source": [
    "<!-- END QUESTION -->\n",
    "\n",
    "## Example 4 - String Operations \n",
    "\n",
    "Here you can see some more operations working with strings.\n",
    "\n",
    "https://docs.python.org/3/library/stdtypes.html#str"
   ]
  },
  {
   "cell_type": "code",
   "execution_count": 28,
   "id": "093be2ea",
   "metadata": {
    "tags": []
   },
   "outputs": [],
   "source": [
    "str = \"Hello Data Science 2023\""
   ]
  },
  {
   "cell_type": "code",
   "execution_count": 29,
   "id": "ef9f0d36",
   "metadata": {
    "tags": []
   },
   "outputs": [
    {
     "name": "stdout",
     "output_type": "stream",
     "text": [
      "19\n"
     ]
    }
   ],
   "source": [
    "print(str.find(\"2023\"))"
   ]
  },
  {
   "cell_type": "code",
   "execution_count": 30,
   "id": "3ee3911c",
   "metadata": {
    "tags": []
   },
   "outputs": [
    {
     "name": "stdout",
     "output_type": "stream",
     "text": [
      "2023\n"
     ]
    }
   ],
   "source": [
    "print(str[-4:])"
   ]
  },
  {
   "cell_type": "code",
   "execution_count": 31,
   "id": "b496eba9",
   "metadata": {
    "tags": []
   },
   "outputs": [
    {
     "data": {
      "text/plain": [
       "'HELLO DATA SCIENCE 2023'"
      ]
     },
     "execution_count": 31,
     "metadata": {},
     "output_type": "execute_result"
    }
   ],
   "source": [
    "str.upper()"
   ]
  },
  {
   "cell_type": "code",
   "execution_count": 32,
   "id": "6b10230d",
   "metadata": {
    "tags": []
   },
   "outputs": [
    {
     "data": {
      "text/plain": [
       "'hello data science 2023'"
      ]
     },
     "execution_count": 32,
     "metadata": {},
     "output_type": "execute_result"
    }
   ],
   "source": [
    "str.lower()"
   ]
  },
  {
   "cell_type": "code",
   "execution_count": 33,
   "id": "724d2991",
   "metadata": {
    "tags": []
   },
   "outputs": [
    {
     "data": {
      "text/plain": [
       "'Hello Data Science 2023 & FutureDataScientist'"
      ]
     },
     "execution_count": 33,
     "metadata": {},
     "output_type": "execute_result"
    }
   ],
   "source": [
    "str + ' & ' + 'FutureDataScientist'"
   ]
  },
  {
   "cell_type": "markdown",
   "id": "6dbd37ae",
   "metadata": {
    "deletable": false,
    "editable": false
   },
   "source": [
    "## Q4 - Pandas \n",
    "\n",
    "Pandas Resources:\n",
    "* https://pandas.pydata.org/\n",
    "* https://pandas.pydata.org/pandas-docs/stable/generated/pandas.read_csv.html\n",
    "\n",
    "We are going to be using the Abalone data set.  This is part of the UCI Machine Learning repository.  A common place to find data sets to test out code and used in learning about machine learning and data science. \n",
    "\n",
    "I have already downloaded the data from https://archive.ics.uci.edu/dataset/1/abalone\n",
    " \n",
    "In the next cell, you will modify the code to read in the `abalone.data` file properly.  Use the following names for the columns:  \n",
    "`sex`, `len`, `diameter`, `height`, `wh_wgt`, `shuck_wgt`, `vis_wgt`, `sh_wgt`, `rings`\n",
    "\n",
    "*HINT:* You will need to look at using additional parameters for the [`read_csv`](https://pandas.pydata.org/pandas-docs/stable/generated/pandas.read_csv.html) function. It will be helpful to look at the documentation on `read_csv`   \n",
    "https://pandas.pydata.org/pandas-docs/stable/reference/api/pandas.read_csv.html\n",
    "\n"
   ]
  },
  {
   "cell_type": "code",
   "execution_count": 50,
   "id": "4d8ed05d",
   "metadata": {
    "tags": []
   },
   "outputs": [
    {
     "data": {
      "text/html": [
       "<div>\n",
       "<style scoped>\n",
       "    .dataframe tbody tr th:only-of-type {\n",
       "        vertical-align: middle;\n",
       "    }\n",
       "\n",
       "    .dataframe tbody tr th {\n",
       "        vertical-align: top;\n",
       "    }\n",
       "\n",
       "    .dataframe thead th {\n",
       "        text-align: right;\n",
       "    }\n",
       "</style>\n",
       "<table border=\"1\" class=\"dataframe\">\n",
       "  <thead>\n",
       "    <tr style=\"text-align: right;\">\n",
       "      <th></th>\n",
       "      <th>sex</th>\n",
       "      <th>len</th>\n",
       "      <th>diameter</th>\n",
       "      <th>height</th>\n",
       "      <th>wh_wgt</th>\n",
       "      <th>shuck_wgt</th>\n",
       "      <th>vis_wgt</th>\n",
       "      <th>sh_wgt</th>\n",
       "      <th>rings</th>\n",
       "    </tr>\n",
       "  </thead>\n",
       "  <tbody>\n",
       "    <tr>\n",
       "      <th>0</th>\n",
       "      <td>M</td>\n",
       "      <td>0.455</td>\n",
       "      <td>0.365</td>\n",
       "      <td>0.095</td>\n",
       "      <td>0.5140</td>\n",
       "      <td>0.2245</td>\n",
       "      <td>0.1010</td>\n",
       "      <td>0.150</td>\n",
       "      <td>15</td>\n",
       "    </tr>\n",
       "    <tr>\n",
       "      <th>1</th>\n",
       "      <td>M</td>\n",
       "      <td>0.350</td>\n",
       "      <td>0.265</td>\n",
       "      <td>0.090</td>\n",
       "      <td>0.2255</td>\n",
       "      <td>0.0995</td>\n",
       "      <td>0.0485</td>\n",
       "      <td>0.070</td>\n",
       "      <td>7</td>\n",
       "    </tr>\n",
       "    <tr>\n",
       "      <th>2</th>\n",
       "      <td>F</td>\n",
       "      <td>0.530</td>\n",
       "      <td>0.420</td>\n",
       "      <td>0.135</td>\n",
       "      <td>0.6770</td>\n",
       "      <td>0.2565</td>\n",
       "      <td>0.1415</td>\n",
       "      <td>0.210</td>\n",
       "      <td>9</td>\n",
       "    </tr>\n",
       "    <tr>\n",
       "      <th>3</th>\n",
       "      <td>M</td>\n",
       "      <td>0.440</td>\n",
       "      <td>0.365</td>\n",
       "      <td>0.125</td>\n",
       "      <td>0.5160</td>\n",
       "      <td>0.2155</td>\n",
       "      <td>0.1140</td>\n",
       "      <td>0.155</td>\n",
       "      <td>10</td>\n",
       "    </tr>\n",
       "    <tr>\n",
       "      <th>4</th>\n",
       "      <td>I</td>\n",
       "      <td>0.330</td>\n",
       "      <td>0.255</td>\n",
       "      <td>0.080</td>\n",
       "      <td>0.2050</td>\n",
       "      <td>0.0895</td>\n",
       "      <td>0.0395</td>\n",
       "      <td>0.055</td>\n",
       "      <td>7</td>\n",
       "    </tr>\n",
       "  </tbody>\n",
       "</table>\n",
       "</div>"
      ],
      "text/plain": [
       "  sex    len  diameter  height  wh_wgt  shuck_wgt  vis_wgt  sh_wgt  rings\n",
       "0   M  0.455     0.365   0.095  0.5140     0.2245   0.1010   0.150     15\n",
       "1   M  0.350     0.265   0.090  0.2255     0.0995   0.0485   0.070      7\n",
       "2   F  0.530     0.420   0.135  0.6770     0.2565   0.1415   0.210      9\n",
       "3   M  0.440     0.365   0.125  0.5160     0.2155   0.1140   0.155     10\n",
       "4   I  0.330     0.255   0.080  0.2050     0.0895   0.0395   0.055      7"
      ]
     },
     "execution_count": 50,
     "metadata": {},
     "output_type": "execute_result"
    }
   ],
   "source": [
    "df = pd.read_csv('data/abalone.data',names=['sex','len','diameter','height','wh_wgt','shuck_wgt','vis_wgt','sh_wgt','rings'])  # modify this code to properly read the data\n",
    "# use the column names provided above \n",
    "df.head()\n"
   ]
  },
  {
   "cell_type": "code",
   "execution_count": 51,
   "id": "1785fad9",
   "metadata": {
    "deletable": false,
    "editable": false
   },
   "outputs": [
    {
     "data": {
      "text/html": [
       "<p><strong><pre style='display: inline;'>q4</pre></strong> passed! 🚀</p>"
      ],
      "text/plain": [
       "q4 results: All test cases passed!"
      ]
     },
     "execution_count": 51,
     "metadata": {},
     "output_type": "execute_result"
    }
   ],
   "source": [
    "grader.check(\"q4\")"
   ]
  },
  {
   "cell_type": "markdown",
   "id": "3621d8d4",
   "metadata": {
    "deletable": false,
    "editable": false
   },
   "source": [
    "## Q5 - Pandas \n",
    "\n",
    "Here you will explore properties of the DataFrame and its attributes."
   ]
  },
  {
   "cell_type": "code",
   "execution_count": 53,
   "id": "378aa5a8",
   "metadata": {
    "tags": []
   },
   "outputs": [
    {
     "name": "stdout",
     "output_type": "stream",
     "text": [
      "No of rows: 4177\n",
      "No of columns: 9\n"
     ]
    },
    {
     "data": {
      "text/plain": [
       "['sex',\n",
       " 'len',\n",
       " 'diameter',\n",
       " 'height',\n",
       " 'wh_wgt',\n",
       " 'shuck_wgt',\n",
       " 'vis_wgt',\n",
       " 'sh_wgt',\n",
       " 'rings']"
      ]
     },
     "execution_count": 53,
     "metadata": {},
     "output_type": "execute_result"
    }
   ],
   "source": [
    "# Determine the number of rows and columns of the data set \n",
    "rows = df.shape[0]\n",
    "columns = df.shape[1]\n",
    "# Determine what are the column names \n",
    "dfColumnNames = df.columns.values.tolist()\n",
    "\n",
    "print(f'No of rows: {rows}')\n",
    "print(f'No of columns: {columns}')\n",
    "dfColumnNames"
   ]
  },
  {
   "cell_type": "code",
   "execution_count": 54,
   "id": "f66b8502",
   "metadata": {
    "deletable": false,
    "editable": false
   },
   "outputs": [
    {
     "data": {
      "text/html": [
       "<p><strong><pre style='display: inline;'>q5</pre></strong> passed! 🍀</p>"
      ],
      "text/plain": [
       "q5 results: All test cases passed!"
      ]
     },
     "execution_count": 54,
     "metadata": {},
     "output_type": "execute_result"
    }
   ],
   "source": [
    "grader.check(\"q5\")"
   ]
  },
  {
   "cell_type": "markdown",
   "id": "74566075",
   "metadata": {
    "deletable": false,
    "editable": false
   },
   "source": [
    "## Q6 - Pandas \n",
    "\n",
    "Show the first 4 rows of the DataFrame.\n",
    "\n",
    "Show the last 7 rows of the DataFrame."
   ]
  },
  {
   "cell_type": "code",
   "execution_count": 55,
   "id": "42dfa5b9",
   "metadata": {
    "tags": []
   },
   "outputs": [
    {
     "name": "stdout",
     "output_type": "stream",
     "text": [
      "  sex    len  diameter  height  wh_wgt  shuck_wgt  vis_wgt  sh_wgt  rings\n",
      "0   M  0.455     0.365   0.095  0.5140     0.2245   0.1010   0.150     15\n",
      "1   M  0.350     0.265   0.090  0.2255     0.0995   0.0485   0.070      7\n",
      "2   F  0.530     0.420   0.135  0.6770     0.2565   0.1415   0.210      9\n",
      "3   M  0.440     0.365   0.125  0.5160     0.2155   0.1140   0.155     10\n",
      "     sex    len  diameter  height  wh_wgt  shuck_wgt  vis_wgt  sh_wgt  rings\n",
      "4170   M  0.550     0.430   0.130  0.8395     0.3155   0.1955  0.2405     10\n",
      "4171   M  0.560     0.430   0.155  0.8675     0.4000   0.1720  0.2290      8\n",
      "4172   F  0.565     0.450   0.165  0.8870     0.3700   0.2390  0.2490     11\n",
      "4173   M  0.590     0.440   0.135  0.9660     0.4390   0.2145  0.2605     10\n",
      "4174   M  0.600     0.475   0.205  1.1760     0.5255   0.2875  0.3080      9\n",
      "4175   F  0.625     0.485   0.150  1.0945     0.5310   0.2610  0.2960     10\n",
      "4176   M  0.710     0.555   0.195  1.9485     0.9455   0.3765  0.4950     12\n"
     ]
    }
   ],
   "source": [
    "first_4_rows = df.head(4)\n",
    "last_7_rows = df.tail(7) \n",
    "print(first_4_rows)\n",
    "print(last_7_rows)"
   ]
  },
  {
   "cell_type": "code",
   "execution_count": 56,
   "id": "3735fc67",
   "metadata": {
    "deletable": false,
    "editable": false
   },
   "outputs": [
    {
     "data": {
      "text/html": [
       "<p><strong><pre style='display: inline;'>q6</pre></strong> passed! ✨</p>"
      ],
      "text/plain": [
       "q6 results: All test cases passed!"
      ]
     },
     "execution_count": 56,
     "metadata": {},
     "output_type": "execute_result"
    }
   ],
   "source": [
    "grader.check(\"q6\")"
   ]
  },
  {
   "cell_type": "markdown",
   "id": "9ab2463f",
   "metadata": {
    "deletable": false,
    "editable": false
   },
   "source": [
    "## Q7 - Pandas \n",
    "\n",
    "Practice selecting different parts of the DataFrame\n",
    "\n",
    "Select the `sh_wgt` column"
   ]
  },
  {
   "cell_type": "markdown",
   "id": "99aba641",
   "metadata": {},
   "source": [
    "_Type your answer here, replacing this text._"
   ]
  },
  {
   "cell_type": "code",
   "execution_count": 58,
   "id": "772f79fe",
   "metadata": {
    "tags": []
   },
   "outputs": [
    {
     "data": {
      "text/plain": [
       "0       0.1500\n",
       "1       0.0700\n",
       "2       0.2100\n",
       "3       0.1550\n",
       "4       0.0550\n",
       "         ...  \n",
       "4172    0.2490\n",
       "4173    0.2605\n",
       "4174    0.3080\n",
       "4175    0.2960\n",
       "4176    0.4950\n",
       "Name: sh_wgt, Length: 4177, dtype: float64"
      ]
     },
     "execution_count": 58,
     "metadata": {},
     "output_type": "execute_result"
    }
   ],
   "source": [
    "# select just the sh_wgt column \n",
    "shell_wgt = df['sh_wgt']\n",
    "shell_wgt"
   ]
  },
  {
   "cell_type": "code",
   "execution_count": 61,
   "id": "9547b5ad",
   "metadata": {
    "tags": []
   },
   "outputs": [
    {
     "data": {
      "text/html": [
       "<div>\n",
       "<style scoped>\n",
       "    .dataframe tbody tr th:only-of-type {\n",
       "        vertical-align: middle;\n",
       "    }\n",
       "\n",
       "    .dataframe tbody tr th {\n",
       "        vertical-align: top;\n",
       "    }\n",
       "\n",
       "    .dataframe thead th {\n",
       "        text-align: right;\n",
       "    }\n",
       "</style>\n",
       "<table border=\"1\" class=\"dataframe\">\n",
       "  <thead>\n",
       "    <tr style=\"text-align: right;\">\n",
       "      <th></th>\n",
       "      <th>diameter</th>\n",
       "      <th>height</th>\n",
       "    </tr>\n",
       "  </thead>\n",
       "  <tbody>\n",
       "    <tr>\n",
       "      <th>0</th>\n",
       "      <td>0.365</td>\n",
       "      <td>0.095</td>\n",
       "    </tr>\n",
       "    <tr>\n",
       "      <th>1</th>\n",
       "      <td>0.265</td>\n",
       "      <td>0.090</td>\n",
       "    </tr>\n",
       "    <tr>\n",
       "      <th>2</th>\n",
       "      <td>0.420</td>\n",
       "      <td>0.135</td>\n",
       "    </tr>\n",
       "    <tr>\n",
       "      <th>3</th>\n",
       "      <td>0.365</td>\n",
       "      <td>0.125</td>\n",
       "    </tr>\n",
       "    <tr>\n",
       "      <th>4</th>\n",
       "      <td>0.255</td>\n",
       "      <td>0.080</td>\n",
       "    </tr>\n",
       "    <tr>\n",
       "      <th>...</th>\n",
       "      <td>...</td>\n",
       "      <td>...</td>\n",
       "    </tr>\n",
       "    <tr>\n",
       "      <th>4172</th>\n",
       "      <td>0.450</td>\n",
       "      <td>0.165</td>\n",
       "    </tr>\n",
       "    <tr>\n",
       "      <th>4173</th>\n",
       "      <td>0.440</td>\n",
       "      <td>0.135</td>\n",
       "    </tr>\n",
       "    <tr>\n",
       "      <th>4174</th>\n",
       "      <td>0.475</td>\n",
       "      <td>0.205</td>\n",
       "    </tr>\n",
       "    <tr>\n",
       "      <th>4175</th>\n",
       "      <td>0.485</td>\n",
       "      <td>0.150</td>\n",
       "    </tr>\n",
       "    <tr>\n",
       "      <th>4176</th>\n",
       "      <td>0.555</td>\n",
       "      <td>0.195</td>\n",
       "    </tr>\n",
       "  </tbody>\n",
       "</table>\n",
       "<p>4177 rows × 2 columns</p>\n",
       "</div>"
      ],
      "text/plain": [
       "      diameter  height\n",
       "0        0.365   0.095\n",
       "1        0.265   0.090\n",
       "2        0.420   0.135\n",
       "3        0.365   0.125\n",
       "4        0.255   0.080\n",
       "...        ...     ...\n",
       "4172     0.450   0.165\n",
       "4173     0.440   0.135\n",
       "4174     0.475   0.205\n",
       "4175     0.485   0.150\n",
       "4176     0.555   0.195\n",
       "\n",
       "[4177 rows x 2 columns]"
      ]
     },
     "execution_count": 61,
     "metadata": {},
     "output_type": "execute_result"
    }
   ],
   "source": [
    "diameter_and_height = df[['diameter','height']]\n",
    "diameter_and_height"
   ]
  },
  {
   "cell_type": "code",
   "execution_count": 62,
   "id": "b05d8eaa",
   "metadata": {
    "deletable": false,
    "editable": false
   },
   "outputs": [
    {
     "data": {
      "text/html": [
       "<p><strong><pre style='display: inline;'>q7</pre></strong> passed! 🌈</p>"
      ],
      "text/plain": [
       "q7 results: All test cases passed!"
      ]
     },
     "execution_count": 62,
     "metadata": {},
     "output_type": "execute_result"
    }
   ],
   "source": [
    "grader.check(\"q7\")"
   ]
  },
  {
   "cell_type": "markdown",
   "id": "bab9d1e8",
   "metadata": {
    "deletable": false,
    "editable": false
   },
   "source": [
    "## Q8 - Pandas \n",
    "\n",
    "Select the following: \n",
    "* `row_5` - row with index=5, the 6th row, of the DataFrame \n",
    "* `row_6_8` - the 6th and 8th row of the DataFrame, and \n",
    "* `ansC` - every other row and every third column starting from the 2nd row and 3rd column\n",
    "\n"
   ]
  },
  {
   "cell_type": "markdown",
   "id": "1e0a78f9",
   "metadata": {},
   "source": [
    "_Type your answer here, replacing this text._"
   ]
  },
  {
   "cell_type": "code",
   "execution_count": 64,
   "id": "77fd1996",
   "metadata": {
    "id": "ORzleLAFxv8z",
    "tags": []
   },
   "outputs": [
    {
     "data": {
      "text/plain": [
       "sex               I\n",
       "len           0.425\n",
       "diameter        0.3\n",
       "height        0.095\n",
       "wh_wgt       0.3515\n",
       "shuck_wgt     0.141\n",
       "vis_wgt      0.0775\n",
       "sh_wgt         0.12\n",
       "rings             8\n",
       "Name: 5, dtype: object"
      ]
     },
     "execution_count": 64,
     "metadata": {},
     "output_type": "execute_result"
    }
   ],
   "source": [
    "index_5 = df.iloc[5]\n",
    "index_5"
   ]
  },
  {
   "cell_type": "code",
   "execution_count": 65,
   "id": "51d90fbb",
   "metadata": {
    "id": "QhZxAfjEx7WZ",
    "tags": []
   },
   "outputs": [
    {
     "data": {
      "text/html": [
       "<div>\n",
       "<style scoped>\n",
       "    .dataframe tbody tr th:only-of-type {\n",
       "        vertical-align: middle;\n",
       "    }\n",
       "\n",
       "    .dataframe tbody tr th {\n",
       "        vertical-align: top;\n",
       "    }\n",
       "\n",
       "    .dataframe thead th {\n",
       "        text-align: right;\n",
       "    }\n",
       "</style>\n",
       "<table border=\"1\" class=\"dataframe\">\n",
       "  <thead>\n",
       "    <tr style=\"text-align: right;\">\n",
       "      <th></th>\n",
       "      <th>sex</th>\n",
       "      <th>len</th>\n",
       "      <th>diameter</th>\n",
       "      <th>height</th>\n",
       "      <th>wh_wgt</th>\n",
       "      <th>shuck_wgt</th>\n",
       "      <th>vis_wgt</th>\n",
       "      <th>sh_wgt</th>\n",
       "      <th>rings</th>\n",
       "    </tr>\n",
       "  </thead>\n",
       "  <tbody>\n",
       "    <tr>\n",
       "      <th>5</th>\n",
       "      <td>I</td>\n",
       "      <td>0.425</td>\n",
       "      <td>0.300</td>\n",
       "      <td>0.095</td>\n",
       "      <td>0.3515</td>\n",
       "      <td>0.141</td>\n",
       "      <td>0.0775</td>\n",
       "      <td>0.12</td>\n",
       "      <td>8</td>\n",
       "    </tr>\n",
       "    <tr>\n",
       "      <th>7</th>\n",
       "      <td>F</td>\n",
       "      <td>0.545</td>\n",
       "      <td>0.425</td>\n",
       "      <td>0.125</td>\n",
       "      <td>0.7680</td>\n",
       "      <td>0.294</td>\n",
       "      <td>0.1495</td>\n",
       "      <td>0.26</td>\n",
       "      <td>16</td>\n",
       "    </tr>\n",
       "  </tbody>\n",
       "</table>\n",
       "</div>"
      ],
      "text/plain": [
       "  sex    len  diameter  height  wh_wgt  shuck_wgt  vis_wgt  sh_wgt  rings\n",
       "5   I  0.425     0.300   0.095  0.3515      0.141   0.0775    0.12      8\n",
       "7   F  0.545     0.425   0.125  0.7680      0.294   0.1495    0.26     16"
      ]
     },
     "execution_count": 65,
     "metadata": {},
     "output_type": "execute_result"
    }
   ],
   "source": [
    "row_6_8 = df.iloc[[5,7]]\n",
    "row_6_8"
   ]
  },
  {
   "cell_type": "code",
   "execution_count": 71,
   "id": "3dfaef88",
   "metadata": {
    "tags": []
   },
   "outputs": [
    {
     "data": {
      "text/html": [
       "<div>\n",
       "<style scoped>\n",
       "    .dataframe tbody tr th:only-of-type {\n",
       "        vertical-align: middle;\n",
       "    }\n",
       "\n",
       "    .dataframe tbody tr th {\n",
       "        vertical-align: top;\n",
       "    }\n",
       "\n",
       "    .dataframe thead th {\n",
       "        text-align: right;\n",
       "    }\n",
       "</style>\n",
       "<table border=\"1\" class=\"dataframe\">\n",
       "  <thead>\n",
       "    <tr style=\"text-align: right;\">\n",
       "      <th></th>\n",
       "      <th>diameter</th>\n",
       "      <th>height</th>\n",
       "      <th>wh_wgt</th>\n",
       "      <th>shuck_wgt</th>\n",
       "      <th>vis_wgt</th>\n",
       "      <th>sh_wgt</th>\n",
       "      <th>rings</th>\n",
       "    </tr>\n",
       "  </thead>\n",
       "  <tbody>\n",
       "    <tr>\n",
       "      <th>1</th>\n",
       "      <td>0.265</td>\n",
       "      <td>0.090</td>\n",
       "      <td>0.2255</td>\n",
       "      <td>0.0995</td>\n",
       "      <td>0.0485</td>\n",
       "      <td>0.0700</td>\n",
       "      <td>7</td>\n",
       "    </tr>\n",
       "    <tr>\n",
       "      <th>2</th>\n",
       "      <td>0.420</td>\n",
       "      <td>0.135</td>\n",
       "      <td>0.6770</td>\n",
       "      <td>0.2565</td>\n",
       "      <td>0.1415</td>\n",
       "      <td>0.2100</td>\n",
       "      <td>9</td>\n",
       "    </tr>\n",
       "    <tr>\n",
       "      <th>3</th>\n",
       "      <td>0.365</td>\n",
       "      <td>0.125</td>\n",
       "      <td>0.5160</td>\n",
       "      <td>0.2155</td>\n",
       "      <td>0.1140</td>\n",
       "      <td>0.1550</td>\n",
       "      <td>10</td>\n",
       "    </tr>\n",
       "    <tr>\n",
       "      <th>4</th>\n",
       "      <td>0.255</td>\n",
       "      <td>0.080</td>\n",
       "      <td>0.2050</td>\n",
       "      <td>0.0895</td>\n",
       "      <td>0.0395</td>\n",
       "      <td>0.0550</td>\n",
       "      <td>7</td>\n",
       "    </tr>\n",
       "    <tr>\n",
       "      <th>5</th>\n",
       "      <td>0.300</td>\n",
       "      <td>0.095</td>\n",
       "      <td>0.3515</td>\n",
       "      <td>0.1410</td>\n",
       "      <td>0.0775</td>\n",
       "      <td>0.1200</td>\n",
       "      <td>8</td>\n",
       "    </tr>\n",
       "    <tr>\n",
       "      <th>...</th>\n",
       "      <td>...</td>\n",
       "      <td>...</td>\n",
       "      <td>...</td>\n",
       "      <td>...</td>\n",
       "      <td>...</td>\n",
       "      <td>...</td>\n",
       "      <td>...</td>\n",
       "    </tr>\n",
       "    <tr>\n",
       "      <th>4172</th>\n",
       "      <td>0.450</td>\n",
       "      <td>0.165</td>\n",
       "      <td>0.8870</td>\n",
       "      <td>0.3700</td>\n",
       "      <td>0.2390</td>\n",
       "      <td>0.2490</td>\n",
       "      <td>11</td>\n",
       "    </tr>\n",
       "    <tr>\n",
       "      <th>4173</th>\n",
       "      <td>0.440</td>\n",
       "      <td>0.135</td>\n",
       "      <td>0.9660</td>\n",
       "      <td>0.4390</td>\n",
       "      <td>0.2145</td>\n",
       "      <td>0.2605</td>\n",
       "      <td>10</td>\n",
       "    </tr>\n",
       "    <tr>\n",
       "      <th>4174</th>\n",
       "      <td>0.475</td>\n",
       "      <td>0.205</td>\n",
       "      <td>1.1760</td>\n",
       "      <td>0.5255</td>\n",
       "      <td>0.2875</td>\n",
       "      <td>0.3080</td>\n",
       "      <td>9</td>\n",
       "    </tr>\n",
       "    <tr>\n",
       "      <th>4175</th>\n",
       "      <td>0.485</td>\n",
       "      <td>0.150</td>\n",
       "      <td>1.0945</td>\n",
       "      <td>0.5310</td>\n",
       "      <td>0.2610</td>\n",
       "      <td>0.2960</td>\n",
       "      <td>10</td>\n",
       "    </tr>\n",
       "    <tr>\n",
       "      <th>4176</th>\n",
       "      <td>0.555</td>\n",
       "      <td>0.195</td>\n",
       "      <td>1.9485</td>\n",
       "      <td>0.9455</td>\n",
       "      <td>0.3765</td>\n",
       "      <td>0.4950</td>\n",
       "      <td>12</td>\n",
       "    </tr>\n",
       "  </tbody>\n",
       "</table>\n",
       "<p>4176 rows × 7 columns</p>\n",
       "</div>"
      ],
      "text/plain": [
       "      diameter  height  wh_wgt  shuck_wgt  vis_wgt  sh_wgt  rings\n",
       "1        0.265   0.090  0.2255     0.0995   0.0485  0.0700      7\n",
       "2        0.420   0.135  0.6770     0.2565   0.1415  0.2100      9\n",
       "3        0.365   0.125  0.5160     0.2155   0.1140  0.1550     10\n",
       "4        0.255   0.080  0.2050     0.0895   0.0395  0.0550      7\n",
       "5        0.300   0.095  0.3515     0.1410   0.0775  0.1200      8\n",
       "...        ...     ...     ...        ...      ...     ...    ...\n",
       "4172     0.450   0.165  0.8870     0.3700   0.2390  0.2490     11\n",
       "4173     0.440   0.135  0.9660     0.4390   0.2145  0.2605     10\n",
       "4174     0.475   0.205  1.1760     0.5255   0.2875  0.3080      9\n",
       "4175     0.485   0.150  1.0945     0.5310   0.2610  0.2960     10\n",
       "4176     0.555   0.195  1.9485     0.9455   0.3765  0.4950     12\n",
       "\n",
       "[4176 rows x 7 columns]"
      ]
     },
     "execution_count": 71,
     "metadata": {},
     "output_type": "execute_result"
    }
   ],
   "source": [
    "ansC = df.iloc[1::,2::]\n",
    "ansC"
   ]
  },
  {
   "cell_type": "code",
   "execution_count": 72,
   "id": "f5660254",
   "metadata": {
    "deletable": false,
    "editable": false
   },
   "outputs": [
    {
     "data": {
      "text/html": [
       "<p><strong><pre style='display: inline;'>q8</pre></strong> passed! 🌟</p>"
      ],
      "text/plain": [
       "q8 results: All test cases passed!"
      ]
     },
     "execution_count": 72,
     "metadata": {},
     "output_type": "execute_result"
    }
   ],
   "source": [
    "grader.check(\"q8\")"
   ]
  },
  {
   "cell_type": "markdown",
   "id": "69cf11be",
   "metadata": {
    "deletable": false,
    "editable": false,
    "id": "VUNquBv-ygFG",
    "tags": []
   },
   "source": [
    "## Q9 - Data Selection and Statistics \n",
    "\n",
    "Perform `mean()`, `max()`, and `min()`  for first 10 data points for all the weight columns.\n",
    "\n",
    "*Hint: remember df.head(10) returns the first 10 rows of the DataFrame*"
   ]
  },
  {
   "cell_type": "code",
   "execution_count": 110,
   "id": "06a51c27",
   "metadata": {
    "id": "jdqWrtcmy6fH",
    "tags": []
   },
   "outputs": [
    {
     "data": {
      "text/plain": [
       "wh_wgt       0.54385\n",
       "shuck_wgt    0.20885\n",
       "vis_wgt      0.10765\n",
       "sh_wgt       0.18350\n",
       "dtype: float64"
      ]
     },
     "execution_count": 110,
     "metadata": {},
     "output_type": "execute_result"
    }
   ],
   "source": [
    "meanVals =  df[['wh_wgt','shuck_wgt','vis_wgt','sh_wgt']].head(10).mean()\n",
    "meanVals"
   ]
  },
  {
   "cell_type": "code",
   "execution_count": 111,
   "id": "0c6e9f1b",
   "metadata": {
    "id": "5BNQUN0ex9G-",
    "tags": []
   },
   "outputs": [
    {
     "data": {
      "text/plain": [
       "wh_wgt       0.8945\n",
       "shuck_wgt    0.3145\n",
       "vis_wgt      0.1510\n",
       "sh_wgt       0.3300\n",
       "dtype: float64"
      ]
     },
     "execution_count": 111,
     "metadata": {},
     "output_type": "execute_result"
    }
   ],
   "source": [
    "maxVals = df[['wh_wgt','shuck_wgt','vis_wgt','sh_wgt']].head(10).max()\n",
    "maxVals"
   ]
  },
  {
   "cell_type": "code",
   "execution_count": 112,
   "id": "62b59e17-63c9-476e-94d8-e269db9b3b0c",
   "metadata": {
    "tags": []
   },
   "outputs": [
    {
     "data": {
      "text/plain": [
       "wh_wgt       0.2050\n",
       "shuck_wgt    0.0895\n",
       "vis_wgt      0.0395\n",
       "sh_wgt       0.0550\n",
       "dtype: float64"
      ]
     },
     "execution_count": 112,
     "metadata": {},
     "output_type": "execute_result"
    }
   ],
   "source": [
    "minVals = df[['wh_wgt','shuck_wgt','vis_wgt','sh_wgt']].head(10).min()\n",
    "minVals"
   ]
  },
  {
   "cell_type": "code",
   "execution_count": 113,
   "id": "ce28920f",
   "metadata": {
    "deletable": false,
    "editable": false
   },
   "outputs": [
    {
     "data": {
      "text/html": [
       "<p><strong><pre style='display: inline;'>q9</pre></strong> passed! 🚀</p>"
      ],
      "text/plain": [
       "q9 results: All test cases passed!"
      ]
     },
     "execution_count": 113,
     "metadata": {},
     "output_type": "execute_result"
    }
   ],
   "source": [
    "grader.check(\"q9\")"
   ]
  },
  {
   "cell_type": "markdown",
   "id": "fe03d070",
   "metadata": {
    "deletable": false,
    "editable": false,
    "id": "T3oWG3QJy7jk"
   },
   "source": [
    "## Q10 - Data Selection and Statistics \n",
    "\n",
    "Group by column \"sex\" and find the median for the other variables. "
   ]
  },
  {
   "cell_type": "code",
   "execution_count": 98,
   "id": "33b00087",
   "metadata": {
    "id": "mKTJSgzYzK26",
    "tags": []
   },
   "outputs": [
    {
     "data": {
      "text/html": [
       "<div>\n",
       "<style scoped>\n",
       "    .dataframe tbody tr th:only-of-type {\n",
       "        vertical-align: middle;\n",
       "    }\n",
       "\n",
       "    .dataframe tbody tr th {\n",
       "        vertical-align: top;\n",
       "    }\n",
       "\n",
       "    .dataframe thead th {\n",
       "        text-align: right;\n",
       "    }\n",
       "</style>\n",
       "<table border=\"1\" class=\"dataframe\">\n",
       "  <thead>\n",
       "    <tr style=\"text-align: right;\">\n",
       "      <th></th>\n",
       "      <th>len</th>\n",
       "      <th>diameter</th>\n",
       "      <th>height</th>\n",
       "      <th>wh_wgt</th>\n",
       "      <th>shuck_wgt</th>\n",
       "      <th>vis_wgt</th>\n",
       "      <th>sh_wgt</th>\n",
       "      <th>rings</th>\n",
       "    </tr>\n",
       "    <tr>\n",
       "      <th>sex</th>\n",
       "      <th></th>\n",
       "      <th></th>\n",
       "      <th></th>\n",
       "      <th></th>\n",
       "      <th></th>\n",
       "      <th></th>\n",
       "      <th></th>\n",
       "      <th></th>\n",
       "    </tr>\n",
       "  </thead>\n",
       "  <tbody>\n",
       "    <tr>\n",
       "      <th>F</th>\n",
       "      <td>0.590</td>\n",
       "      <td>0.465</td>\n",
       "      <td>0.160</td>\n",
       "      <td>1.03850</td>\n",
       "      <td>0.44050</td>\n",
       "      <td>0.2240</td>\n",
       "      <td>0.295</td>\n",
       "      <td>10.0</td>\n",
       "    </tr>\n",
       "    <tr>\n",
       "      <th>I</th>\n",
       "      <td>0.435</td>\n",
       "      <td>0.335</td>\n",
       "      <td>0.110</td>\n",
       "      <td>0.38400</td>\n",
       "      <td>0.16975</td>\n",
       "      <td>0.0805</td>\n",
       "      <td>0.113</td>\n",
       "      <td>8.0</td>\n",
       "    </tr>\n",
       "    <tr>\n",
       "      <th>M</th>\n",
       "      <td>0.580</td>\n",
       "      <td>0.455</td>\n",
       "      <td>0.155</td>\n",
       "      <td>0.97575</td>\n",
       "      <td>0.42175</td>\n",
       "      <td>0.2100</td>\n",
       "      <td>0.276</td>\n",
       "      <td>10.0</td>\n",
       "    </tr>\n",
       "  </tbody>\n",
       "</table>\n",
       "</div>"
      ],
      "text/plain": [
       "       len  diameter  height   wh_wgt  shuck_wgt  vis_wgt  sh_wgt  rings\n",
       "sex                                                                     \n",
       "F    0.590     0.465   0.160  1.03850    0.44050   0.2240   0.295   10.0\n",
       "I    0.435     0.335   0.110  0.38400    0.16975   0.0805   0.113    8.0\n",
       "M    0.580     0.455   0.155  0.97575    0.42175   0.2100   0.276   10.0"
      ]
     },
     "execution_count": 98,
     "metadata": {},
     "output_type": "execute_result"
    }
   ],
   "source": [
    "group =  df.groupby('sex').median()\n",
    "group"
   ]
  },
  {
   "cell_type": "code",
   "execution_count": 99,
   "id": "bba4c14d",
   "metadata": {
    "deletable": false,
    "editable": false
   },
   "outputs": [
    {
     "data": {
      "text/html": [
       "<p><strong><pre style='display: inline;'>q10</pre></strong> passed! 🌟</p>"
      ],
      "text/plain": [
       "q10 results: All test cases passed!"
      ]
     },
     "execution_count": 99,
     "metadata": {},
     "output_type": "execute_result"
    }
   ],
   "source": [
    "grader.check(\"q10\")"
   ]
  },
  {
   "cell_type": "markdown",
   "id": "10a912f0",
   "metadata": {
    "deletable": false,
    "editable": false,
    "id": "qh_vTojGzRzR",
    "tags": []
   },
   "source": [
    "## Bonus - Data Selection and Statistics \n",
    "\n",
    "Find the mean weights of abolone with more than 12 rings. "
   ]
  },
  {
   "cell_type": "code",
   "execution_count": 123,
   "id": "8b96b38e",
   "metadata": {
    "id": "jZeJ0Nayzhho",
    "tags": []
   },
   "outputs": [
    {
     "data": {
      "text/plain": [
       "wh_wgt       1.119511\n",
       "shuck_wgt    0.432494\n",
       "vis_wgt      0.238449\n",
       "sh_wgt       0.350519\n",
       "dtype: float64"
      ]
     },
     "execution_count": 123,
     "metadata": {},
     "output_type": "execute_result"
    }
   ],
   "source": [
    "mean_vals= df.loc[df['rings']>12]\n",
    "mean_vals =  mean_vals[['wh_wgt','shuck_wgt','vis_wgt','sh_wgt']].mean()\n",
    "mean_vals"
   ]
  },
  {
   "cell_type": "markdown",
   "id": "3f980b8c",
   "metadata": {
    "deletable": false,
    "editable": false
   },
   "source": [
    "## Submission\n",
    "\n",
    "Make sure you have run all cells in your notebook in order before running the cell below, so that all images/graphs appear in the output. The cell below will generate a zip file for you to submit. **Please save before exporting!**"
   ]
  },
  {
   "cell_type": "code",
   "execution_count": 124,
   "id": "ade8a1df",
   "metadata": {
    "deletable": false,
    "editable": false
   },
   "outputs": [
    {
     "name": "stdout",
     "output_type": "stream",
     "text": [
      "Running your submission against local test cases...\n",
      "\n",
      "\n",
      "\n",
      "Your submission received the following results when run against available test cases:\n",
      "\n",
      "    q2 results: All test cases passed!\n",
      "\n",
      "    q4 results: All test cases passed!\n",
      "\n",
      "    q5 results: All test cases passed!\n",
      "\n",
      "    q6 results: All test cases passed!\n",
      "\n",
      "    q7 results: All test cases passed!\n",
      "\n",
      "    q8 results: All test cases passed!\n",
      "\n",
      "    q9 results: All test cases passed!\n",
      "\n",
      "    q10 results: All test cases passed!\n"
     ]
    },
    {
     "data": {
      "text/html": [
       "\n",
       "                    <p>\n",
       "                        Your submission has been exported. Click\n",
       "                        <a href=\"lab1_2023_09_07T14_09_45_552007.zip\" download=\"lab1_2023_09_07T14_09_45_552007.zip\" target=\"_blank\">here</a> to download\n",
       "                        the zip file.\n",
       "                    </p>\n",
       "                "
      ],
      "text/plain": [
       "<IPython.core.display.HTML object>"
      ]
     },
     "metadata": {},
     "output_type": "display_data"
    }
   ],
   "source": [
    "# Save your notebook first, then run this cell to export your submission.\n",
    "grader.export(pdf=False, run_tests=True)"
   ]
  },
  {
   "cell_type": "markdown",
   "id": "bb4f6c94",
   "metadata": {},
   "source": [
    " "
   ]
  }
 ],
 "metadata": {
  "kernelspec": {
   "display_name": "Python [conda env:.conda-un5550] *",
   "language": "python",
   "name": "conda-env-.conda-un5550-py"
  },
  "language_info": {
   "codemirror_mode": {
    "name": "ipython",
    "version": 3
   },
   "file_extension": ".py",
   "mimetype": "text/x-python",
   "name": "python",
   "nbconvert_exporter": "python",
   "pygments_lexer": "ipython3",
   "version": "3.10.12"
  },
  "otter": {
   "OK_FORMAT": true,
   "assignment_name": "lab1",
   "tests": {
    "q10": {
     "name": "q10",
     "points": 6,
     "suites": [
      {
       "cases": [
        {
         "code": ">>> group.iloc[1,1] == 0.335\nTrue",
         "hidden": false,
         "locked": false
        },
        {
         "code": ">>> group.iloc[0, 4] == 0.4405\nTrue",
         "hidden": false,
         "locked": false
        },
        {
         "code": ">>> group.iloc[1, 6] == 0.113\nTrue",
         "hidden": false,
         "locked": false
        },
        {
         "code": ">>> group.iloc[0, 7] == 10.0\nTrue",
         "hidden": false,
         "locked": false
        }
       ],
       "scored": true,
       "setup": "",
       "teardown": "",
       "type": "doctest"
      }
     ]
    },
    "q11": {
     "name": "q11",
     "points": 2,
     "suites": [
      {
       "cases": [],
       "scored": true,
       "setup": "",
       "teardown": "",
       "type": "doctest"
      }
     ]
    },
    "q2": {
     "name": "q2",
     "points": [
      1,
      1
     ],
     "suites": [
      {
       "cases": [
        {
         "code": ">>> class_length == 36\nTrue",
         "hidden": false,
         "locked": false
        },
        {
         "code": ">>> class_split == ['Introduction', 'to', 'Data', 'Science']\nTrue",
         "hidden": false,
         "locked": false
        }
       ],
       "scored": true,
       "setup": "",
       "teardown": "",
       "type": "doctest"
      }
     ]
    },
    "q4": {
     "name": "q4",
     "points": [
      2,
      2
     ],
     "suites": [
      {
       "cases": [
        {
         "code": ">>> df.shape[0]==4177\nTrue",
         "hidden": false,
         "locked": false
        },
        {
         "code": ">>> df.shape[1]==9 \nTrue",
         "hidden": false,
         "locked": false
        }
       ],
       "scored": true,
       "setup": "",
       "teardown": "",
       "type": "doctest"
      }
     ]
    },
    "q5": {
     "name": "q5",
     "points": [
      2,
      2,
      1
     ],
     "suites": [
      {
       "cases": [
        {
         "code": ">>> rows==4177\nTrue",
         "hidden": false,
         "locked": false
        },
        {
         "code": ">>> columns==9\nTrue",
         "hidden": false,
         "locked": false
        },
        {
         "code": ">>> dfColumnNames[0] == 'sex'\nTrue",
         "hidden": false,
         "locked": false
        }
       ],
       "scored": true,
       "setup": "",
       "teardown": "",
       "type": "doctest"
      }
     ]
    },
    "q6": {
     "name": "q6",
     "points": [
      1,
      2
     ],
     "suites": [
      {
       "cases": [
        {
         "code": ">>> first_4_rows.iloc[0,0] == 'M' and first_4_rows.iloc[2,0] == 'F'\nTrue",
         "hidden": false,
         "locked": false
        },
        {
         "code": ">>> first_4_rows.iloc[0,-1] == 15 and \\\n... first_4_rows.iloc[2,-1] == 9\nTrue",
         "hidden": false,
         "locked": false
        }
       ],
       "scored": true,
       "setup": "",
       "teardown": "",
       "type": "doctest"
      }
     ]
    },
    "q7": {
     "name": "q7",
     "points": 8,
     "suites": [
      {
       "cases": [
        {
         "code": ">>> shell_wgt[0] == 0.1500 and shell_wgt[1] == 0.0700 \nTrue",
         "hidden": false,
         "locked": false
        },
        {
         "code": ">>> shell_wgt[393] == 0.08 and shell_wgt[4000] == 0.1325\nTrue",
         "hidden": false,
         "locked": false
        },
        {
         "code": ">>> diameter_and_height.iloc[0,0] == 0.365 and \\\n... diameter_and_height.iloc[0,1] == 0.095 \nTrue",
         "hidden": false,
         "locked": false
        },
        {
         "code": ">>> diameter_and_height.iloc[3,1] == 0.125 and \\\n... diameter_and_height.iloc[4,1] == 0.08\nTrue",
         "hidden": false,
         "locked": false
        }
       ],
       "scored": true,
       "setup": "",
       "teardown": "",
       "type": "doctest"
      }
     ]
    },
    "q8": {
     "name": "q8",
     "points": 9,
     "suites": [
      {
       "cases": [
        {
         "code": ">>> index_5[0] == 'I' and index_5[6] == 0.0775\nTrue",
         "hidden": false,
         "locked": false
        },
        {
         "code": ">>> row_6_8.iloc[0,0] == 'I' and row_6_8.iloc[1,0] == 'F'\nTrue",
         "hidden": false,
         "locked": false
        },
        {
         "code": ">>> row_6_8.iloc[1,1] == 0.545 and row_6_8.iloc[1,3] == 0.125\nTrue",
         "hidden": false,
         "locked": false
        }
       ],
       "scored": true,
       "setup": "",
       "teardown": "",
       "type": "doctest"
      }
     ]
    },
    "q9": {
     "name": "q9",
     "points": 7,
     "suites": [
      {
       "cases": [
        {
         "code": ">>> minVals[3]\n0.055",
         "hidden": false,
         "locked": false
        },
        {
         "code": ">>> np.isclose(meanVals[0], 0.5438500) \nTrue",
         "hidden": false,
         "locked": false
        },
        {
         "code": ">>> np.isclose(meanVals[1], 0.2088499) \nTrue",
         "hidden": false,
         "locked": false
        },
        {
         "code": ">>> np.isclose(meanVals[2],0.10765) \nTrue",
         "hidden": false,
         "locked": false
        }
       ],
       "scored": true,
       "setup": "",
       "teardown": "",
       "type": "doctest"
      }
     ]
    }
   }
  }
 },
 "nbformat": 4,
 "nbformat_minor": 5
}
