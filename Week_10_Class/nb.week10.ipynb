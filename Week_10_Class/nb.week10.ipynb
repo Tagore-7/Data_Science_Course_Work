{
 "cells": [
  {
   "cell_type": "markdown",
   "id": "48975d67",
   "metadata": {
    "id": "-dVXeKchMspk"
   },
   "source": [
    "# Learning \n",
    "\n",
    "Reading: Chapter 5 \n",
    "\n",
    "Acknowledgement: some material from the Python Data Science Handbook by Jake VanderPlas\n",
    "\n",
    "There are three broad classes of machine learning tasks:\n",
    "1. Supervised Learning: training set with desired outputs available\n",
    "2. Unsupervised Learning: no labels available; algorithm has to find structure on its own.\n",
    "3. Reinforcement Learning: learn from experiences, getting positive and negative rewards; choose actions to maximize rewards.\n",
    "\n"
   ]
  },
  {
   "cell_type": "code",
   "execution_count": 1,
   "id": "a470832c",
   "metadata": {
    "tags": []
   },
   "outputs": [],
   "source": [
    "import pandas as pd\n",
    "import numpy as np\n",
    "import matplotlib \n",
    "import seaborn as sns\n",
    "%matplotlib inline\n",
    "\n",
    "import sklearn"
   ]
  },
  {
   "cell_type": "code",
   "execution_count": 2,
   "id": "252b8c99",
   "metadata": {
    "tags": []
   },
   "outputs": [],
   "source": [
    "np.random.seed(5550)    # Set seed for reproducibility of notebook"
   ]
  },
  {
   "cell_type": "markdown",
   "id": "39f3e451",
   "metadata": {
    "id": "5zFDJNAWM4Dq"
   },
   "source": [
    "## Supervised Learning \n",
    "\n",
    "This module focuses on a particular class of supervised machine learning: classification, where we have a finite number of choices to label an observation. \n",
    "\n",
    "Goals for this module:\n",
    "* Exposure to the [Scikit-learn toolbox](https://scikit-learn.org/stable/index.html)\n",
    "* Metrics to evaluate performance of ML algorithm\n",
    "* Training / Validation / Testing\n",
    "* Awareness of some ML algorithms and their mathematical foundations"
   ]
  },
  {
   "cell_type": "markdown",
   "id": "2476b1cc",
   "metadata": {
    "id": "TE6s-cmYM8bf"
   },
   "source": [
    "## Problem Statement \n",
    "\n",
    "We are given $n$ samples of data which belong to two (or more) classes.   We want to utilize an algorithm to learn from these already labeled data in order to predict the class of unlabeled data.  Each data has at least one feature (a.k.a. attribute).  We sometimes refer to this data as *multi-variate* data.  The terminology used in the ML domain varies greatly.  \n",
    "* features / attributes / dimensions / regressors / covariates / predictors / independent variables are used interchangably.\n",
    "* samples / instances / examples \n",
    "* classes / label / outcome / response / dependent variable\n",
    "\n",
    "We will make use of `scikit-learn`, https://en.wikipedia.org/wiki/Scikit-learn, which has various classification, regression and clustering algorithms including support vector machines, random forests, gradient boosting, k-means clustering.\n",
    "\n",
    "`scikit-learn` Documentation: https://scikit-learn.org/stable/index.html"
   ]
  },
  {
   "cell_type": "markdown",
   "id": "edbaf326",
   "metadata": {
    "id": "r2dtnVwCium_"
   },
   "source": [
    "# `scikit-learn` \n",
    "\n",
    "There are several Python libraries which provide implementations of a range of machine learning algorithms.\n",
    "One of the best known is [Scikit-Learn](http://scikit-learn.org), a package that provides efficient versions of a large number of common algorithms.\n",
    "Scikit-Learn is characterized by a clean, uniform, and streamlined API, as well as by very useful and complete online documentation.\n",
    "A benefit of this uniformity is that once you understand the basic use and syntax of Scikit-Learn for one type of model, switching to a new model or algorithm is very straightforward.\n",
    "\n",
    "\n",
    "We will start by covering *data representation* in Scikit-Learn, followed by covering the *Estimator* API, and finally go example of these methods. "
   ]
  },
  {
   "cell_type": "markdown",
   "id": "4f4806a6",
   "metadata": {
    "id": "FiFi5L1KjUGn"
   },
   "source": [
    "## Data Representation in Scikit-Learn\n",
    "\n",
    "Machine learning is about creating models from data: for that reason, we'll start by discussing how data can be represented in order to be understood by the computer.\n",
    "The best way to think about data within Scikit-Learn is in terms of tables, or matrices, of data."
   ]
  },
  {
   "cell_type": "markdown",
   "id": "c36bf12f",
   "metadata": {
    "id": "83YbslSpjvlt"
   },
   "source": [
    "### Data as table\n",
    "\n",
    "A basic table is a two-dimensional grid of data, in which the rows represent individual elements of the dataset, and the columns represent quantities related to each of these elements.\n",
    "For example, consider the [Iris dataset](https://en.wikipedia.org/wiki/Iris_flower_data_set), famously analyzed by Ronald Fisher in 1936.\n",
    "We can download this dataset in the form of a Pandas ``DataFrame`` using the [seaborn](http://seaborn.pydata.org/) library:"
   ]
  },
  {
   "cell_type": "code",
   "execution_count": 3,
   "id": "61e633c5",
   "metadata": {
    "colab": {
     "base_uri": "https://localhost:8080/",
     "height": 195
    },
    "executionInfo": {
     "elapsed": 2251,
     "status": "ok",
     "timestamp": 1604618108555,
     "user": {
      "displayName": "Laura Brown",
      "photoUrl": "https://lh3.googleusercontent.com/a-/AOh14GjYbC5So3kNOYBteW-fSY5JpgP-bBJa7kyAEluaKg=s64",
      "userId": "02180634349638765126"
     },
     "user_tz": 300
    },
    "id": "-HIjojgLj2vE",
    "outputId": "37302c25-36cf-4420-8314-6862eed164e2",
    "tags": []
   },
   "outputs": [
    {
     "data": {
      "text/html": [
       "<div>\n",
       "<style scoped>\n",
       "    .dataframe tbody tr th:only-of-type {\n",
       "        vertical-align: middle;\n",
       "    }\n",
       "\n",
       "    .dataframe tbody tr th {\n",
       "        vertical-align: top;\n",
       "    }\n",
       "\n",
       "    .dataframe thead th {\n",
       "        text-align: right;\n",
       "    }\n",
       "</style>\n",
       "<table border=\"1\" class=\"dataframe\">\n",
       "  <thead>\n",
       "    <tr style=\"text-align: right;\">\n",
       "      <th></th>\n",
       "      <th>sepal_length</th>\n",
       "      <th>sepal_width</th>\n",
       "      <th>petal_length</th>\n",
       "      <th>petal_width</th>\n",
       "      <th>species</th>\n",
       "    </tr>\n",
       "  </thead>\n",
       "  <tbody>\n",
       "    <tr>\n",
       "      <th>0</th>\n",
       "      <td>5.1</td>\n",
       "      <td>3.5</td>\n",
       "      <td>1.4</td>\n",
       "      <td>0.2</td>\n",
       "      <td>setosa</td>\n",
       "    </tr>\n",
       "    <tr>\n",
       "      <th>1</th>\n",
       "      <td>4.9</td>\n",
       "      <td>3.0</td>\n",
       "      <td>1.4</td>\n",
       "      <td>0.2</td>\n",
       "      <td>setosa</td>\n",
       "    </tr>\n",
       "    <tr>\n",
       "      <th>2</th>\n",
       "      <td>4.7</td>\n",
       "      <td>3.2</td>\n",
       "      <td>1.3</td>\n",
       "      <td>0.2</td>\n",
       "      <td>setosa</td>\n",
       "    </tr>\n",
       "    <tr>\n",
       "      <th>3</th>\n",
       "      <td>4.6</td>\n",
       "      <td>3.1</td>\n",
       "      <td>1.5</td>\n",
       "      <td>0.2</td>\n",
       "      <td>setosa</td>\n",
       "    </tr>\n",
       "    <tr>\n",
       "      <th>4</th>\n",
       "      <td>5.0</td>\n",
       "      <td>3.6</td>\n",
       "      <td>1.4</td>\n",
       "      <td>0.2</td>\n",
       "      <td>setosa</td>\n",
       "    </tr>\n",
       "  </tbody>\n",
       "</table>\n",
       "</div>"
      ],
      "text/plain": [
       "   sepal_length  sepal_width  petal_length  petal_width species\n",
       "0           5.1          3.5           1.4          0.2  setosa\n",
       "1           4.9          3.0           1.4          0.2  setosa\n",
       "2           4.7          3.2           1.3          0.2  setosa\n",
       "3           4.6          3.1           1.5          0.2  setosa\n",
       "4           5.0          3.6           1.4          0.2  setosa"
      ]
     },
     "execution_count": 3,
     "metadata": {},
     "output_type": "execute_result"
    }
   ],
   "source": [
    "# import seaborn as sns\n",
    "iris = sns.load_dataset('iris')\n",
    "iris.head()"
   ]
  },
  {
   "cell_type": "markdown",
   "id": "cb6f4896",
   "metadata": {
    "id": "g9NK2fSSj1_y"
   },
   "source": [
    "Here each row of the data refers to a single observed flower, and the number of rows is the total number of flowers in the dataset.\n",
    "In general, we will refer to the rows of the matrix as *samples*, and the number of rows as ``n_samples``.\n",
    "\n",
    "Likewise, each column of the data refers to a particular quantitative piece of information that describes each sample.\n",
    "In general, we will refer to the columns of the matrix as *features*, and the number of columns as ``n_features``."
   ]
  },
  {
   "cell_type": "markdown",
   "id": "51e81dd7",
   "metadata": {
    "id": "nk9WGAMDj8Qs"
   },
   "source": [
    "#### Features matrix\n",
    "\n",
    "This table layout makes clear that the information can be thought of as a two-dimensional numerical array or matrix, which we will call the *features matrix*.\n",
    "By convention, this features matrix is often stored in a variable named ``X``.\n",
    "The features matrix is assumed to be two-dimensional, with shape ``[n_samples, n_features]``, and is most often contained in a NumPy array or a Pandas ``DataFrame``, though some Scikit-Learn models also accept SciPy sparse matrices.\n",
    "\n",
    "The samples (i.e., rows) always refer to the individual objects described by the dataset.\n",
    "For example, the sample might be a flower, a person, a document, an image, a sound file, a video, an astronomical object, or anything else you can describe with a set of quantitative measurements.\n",
    "\n",
    "The features (i.e., columns) always refer to the distinct observations that describe each sample in a quantitative manner.\n",
    "Features are generally real-valued, but may be Boolean or discrete-valued in some cases."
   ]
  },
  {
   "cell_type": "markdown",
   "id": "d16a0ac6",
   "metadata": {
    "id": "yr2UZz2vkAUN"
   },
   "source": [
    "#### Target array\n",
    "\n",
    "In addition to the feature matrix ``X``, we also generally work with a *label* or *target* array, which by convention we will usually call ``y``.\n",
    "The target array is usually one dimensional, with length ``n_samples``, and is generally contained in a NumPy array or Pandas ``Series``.\n",
    "The target array may have continuous numerical values, or discrete classes/labels.\n",
    "While some Scikit-Learn estimators do handle multiple target values in the form of a two-dimensional, ``[n_samples, n_targets]`` target array, we will primarily be working with the common case of a one-dimensional target array.\n",
    "\n",
    "Often one point of confusion is how the target array differs from the other features columns. The distinguishing feature of the target array is that it is usually the quantity we want to *predict from the data*: in statistical terms, it is the dependent variable.\n",
    "For example, in the preceding data we may wish to construct a model that can predict the species of flower based on the other measurements; in this case, the ``species`` column would be considered the target array.\n",
    "\n",
    "With this target array in mind, we can use Seaborn to conveniently visualize the data:"
   ]
  },
  {
   "cell_type": "code",
   "execution_count": 4,
   "id": "51204236",
   "metadata": {
    "colab": {
     "base_uri": "https://localhost:8080/",
     "height": 496
    },
    "executionInfo": {
     "elapsed": 9373,
     "status": "ok",
     "timestamp": 1604618124806,
     "user": {
      "displayName": "Laura Brown",
      "photoUrl": "https://lh3.googleusercontent.com/a-/AOh14GjYbC5So3kNOYBteW-fSY5JpgP-bBJa7kyAEluaKg=s64",
      "userId": "02180634349638765126"
     },
     "user_tz": 300
    },
    "id": "y8FkDwjSkEzt",
    "outputId": "ced83c8e-c552-4fea-c05a-9eb8dc1b1aa9",
    "tags": []
   },
   "outputs": [
    {
     "data": {
      "image/png": "[encoded data removed]",
      "text/plain": [
       "<Figure size 930.25x800 with 20 Axes>"
      ]
     },
     "metadata": {},
     "output_type": "display_data"
    }
   ],
   "source": [
    "sns.set()\n",
    "sns.pairplot(iris, hue='species', height=2);"
   ]
  },
  {
   "cell_type": "markdown",
   "id": "2943ed7c",
   "metadata": {
    "id": "_-fqH2EvkKeW"
   },
   "source": [
    "For use in Scikit-Learn, we will extract the features matrix and target array from the ``DataFrame``, which we can do using some of the Pandas ``DataFrame`` operations:"
   ]
  },
  {
   "cell_type": "code",
   "execution_count": 5,
   "id": "821525cf",
   "metadata": {
    "colab": {
     "base_uri": "https://localhost:8080/"
    },
    "executionInfo": {
     "elapsed": 2193,
     "status": "ok",
     "timestamp": 1604618131740,
     "user": {
      "displayName": "Laura Brown",
      "photoUrl": "https://lh3.googleusercontent.com/a-/AOh14GjYbC5So3kNOYBteW-fSY5JpgP-bBJa7kyAEluaKg=s64",
      "userId": "02180634349638765126"
     },
     "user_tz": 300
    },
    "id": "c44ymsWmkO81",
    "outputId": "5a867cf2-b8be-4a02-c614-9a5a6222438b",
    "tags": []
   },
   "outputs": [
    {
     "data": {
      "text/plain": [
       "(150, 4)"
      ]
     },
     "execution_count": 5,
     "metadata": {},
     "output_type": "execute_result"
    }
   ],
   "source": [
    "X_iris = iris.drop('species', axis=1)\n",
    "X_iris.shape"
   ]
  },
  {
   "cell_type": "code",
   "execution_count": 6,
   "id": "bcfce1e6",
   "metadata": {
    "colab": {
     "base_uri": "https://localhost:8080/"
    },
    "executionInfo": {
     "elapsed": 2298,
     "status": "ok",
     "timestamp": 1604618134147,
     "user": {
      "displayName": "Laura Brown",
      "photoUrl": "https://lh3.googleusercontent.com/a-/AOh14GjYbC5So3kNOYBteW-fSY5JpgP-bBJa7kyAEluaKg=s64",
      "userId": "02180634349638765126"
     },
     "user_tz": 300
    },
    "id": "HgalbEgQkSqM",
    "outputId": "7fdcdf9d-7fd3-4ee5-8c20-ba3ac68b7fe0",
    "tags": []
   },
   "outputs": [
    {
     "data": {
      "text/plain": [
       "(150,)"
      ]
     },
     "execution_count": 6,
     "metadata": {},
     "output_type": "execute_result"
    }
   ],
   "source": [
    "y_iris = iris['species']\n",
    "y_iris.shape"
   ]
  },
  {
   "cell_type": "markdown",
   "id": "ea9bed35",
   "metadata": {
    "id": "Wplrzq9ekX_x"
   },
   "source": [
    "### Data as `numpy` array \n",
    "\n",
    "The iris data set is also available directly in scikit-learn."
   ]
  },
  {
   "cell_type": "code",
   "execution_count": 7,
   "id": "52fb548f",
   "metadata": {
    "executionInfo": {
     "elapsed": 1461,
     "status": "ok",
     "timestamp": 1604618137212,
     "user": {
      "displayName": "Laura Brown",
      "photoUrl": "https://lh3.googleusercontent.com/a-/AOh14GjYbC5So3kNOYBteW-fSY5JpgP-bBJa7kyAEluaKg=s64",
      "userId": "02180634349638765126"
     },
     "user_tz": 300
    },
    "id": "GTo44EoDMsGJ",
    "tags": []
   },
   "outputs": [],
   "source": [
    "import matplotlib.pylab as plt\n",
    "from matplotlib.colors import ListedColormap\n",
    "from sklearn import datasets # import standard datasets\n",
    "\n",
    "iris = datasets.load_iris() # load iris data set"
   ]
  },
  {
   "cell_type": "markdown",
   "id": "31e0e8fa",
   "metadata": {
    "id": "5fWc9_CBN1JN"
   },
   "source": [
    "The sample datasets are dictionary objects that hold the data and some related metadata."
   ]
  },
  {
   "cell_type": "code",
   "execution_count": 8,
   "id": "718ff36b",
   "metadata": {
    "colab": {
     "base_uri": "https://localhost:8080/"
    },
    "executionInfo": {
     "elapsed": 1199,
     "status": "ok",
     "timestamp": 1604448266581,
     "user": {
      "displayName": "Laura Brown",
      "photoUrl": "https://lh3.googleusercontent.com/a-/AOh14GjYbC5So3kNOYBteW-fSY5JpgP-bBJa7kyAEluaKg=s64",
      "userId": "02180634349638765126"
     },
     "user_tz": 300
    },
    "id": "K54sVMb3MrEt",
    "outputId": "7d6ef64d-e1fe-45fa-fe87-c67953693a6a",
    "tags": []
   },
   "outputs": [
    {
     "name": "stdout",
     "output_type": "stream",
     "text": [
      "dict_keys(['data', 'target', 'frame', 'target_names', 'DESCR', 'feature_names', 'filename', 'data_module'])\n"
     ]
    }
   ],
   "source": [
    "print(iris.keys())"
   ]
  },
  {
   "cell_type": "code",
   "execution_count": 9,
   "id": "ef9b0a5f",
   "metadata": {
    "colab": {
     "base_uri": "https://localhost:8080/"
    },
    "executionInfo": {
     "elapsed": 769,
     "status": "ok",
     "timestamp": 1604448295765,
     "user": {
      "displayName": "Laura Brown",
      "photoUrl": "https://lh3.googleusercontent.com/a-/AOh14GjYbC5So3kNOYBteW-fSY5JpgP-bBJa7kyAEluaKg=s64",
      "userId": "02180634349638765126"
     },
     "user_tz": 300
    },
    "id": "QjJQWt88N6hi",
    "outputId": "07342e6a-5ea2-4238-a0f7-1f6a512023aa",
    "tags": []
   },
   "outputs": [
    {
     "name": "stdout",
     "output_type": "stream",
     "text": [
      "{'data': array([[5.1, 3.5, 1.4, 0.2],\n",
      "       [4.9, 3. , 1.4, 0.2],\n",
      "       [4.7, 3.2, 1.3, 0.2],\n",
      "       [4.6, 3.1, 1.5, 0.2],\n",
      "       [5. , 3.6, 1.4, 0.2],\n",
      "       [5.4, 3.9, 1.7, 0.4],\n",
      "       [4.6, 3.4, 1.4, 0.3],\n",
      "       [5. , 3.4, 1.5, 0.2],\n",
      "       [4.4, 2.9, 1.4, 0.2],\n",
      "       [4.9, 3.1, 1.5, 0.1],\n",
      "       [5.4, 3.7, 1.5, 0.2],\n",
      "       [4.8, 3.4, 1.6, 0.2],\n",
      "       [4.8, 3. , 1.4, 0.1],\n",
      "       [4.3, 3. , 1.1, 0.1],\n",
      "       [5.8, 4. , 1.2, 0.2],\n",
      "       [5.7, 4.4, 1.5, 0.4],\n",
      "       [5.4, 3.9, 1.3, 0.4],\n",
      "       [5.1, 3.5, 1.4, 0.3],\n",
      "       [5.7, 3.8, 1.7, 0.3],\n",
      "       [5.1, 3.8, 1.5, 0.3],\n",
      "       [5.4, 3.4, 1.7, 0.2],\n",
      "       [5.1, 3.7, 1.5, 0.4],\n",
      "       [4.6, 3.6, 1. , 0.2],\n",
      "       [5.1, 3.3, 1.7, 0.5],\n",
      "       [4.8, 3.4, 1.9, 0.2],\n",
      "       [5. , 3. , 1.6, 0.2],\n",
      "       [5. , 3.4, 1.6, 0.4],\n",
      "       [5.2, 3.5, 1.5, 0.2],\n",
      "       [5.2, 3.4, 1.4, 0.2],\n",
      "       [4.7, 3.2, 1.6, 0.2],\n",
      "       [4.8, 3.1, 1.6, 0.2],\n",
      "       [5.4, 3.4, 1.5, 0.4],\n",
      "       [5.2, 4.1, 1.5, 0.1],\n",
      "       [5.5, 4.2, 1.4, 0.2],\n",
      "       [4.9, 3.1, 1.5, 0.2],\n",
      "       [5. , 3.2, 1.2, 0.2],\n",
      "       [5.5, 3.5, 1.3, 0.2],\n",
      "       [4.9, 3.6, 1.4, 0.1],\n",
      "       [4.4, 3. , 1.3, 0.2],\n",
      "       [5.1, 3.4, 1.5, 0.2],\n",
      "       [5. , 3.5, 1.3, 0.3],\n",
      "       [4.5, 2.3, 1.3, 0.3],\n",
      "       [4.4, 3.2, 1.3, 0.2],\n",
      "       [5. , 3.5, 1.6, 0.6],\n",
      "       [5.1, 3.8, 1.9, 0.4],\n",
      "       [4.8, 3. , 1.4, 0.3],\n",
      "       [5.1, 3.8, 1.6, 0.2],\n",
      "       [4.6, 3.2, 1.4, 0.2],\n",
      "       [5.3, 3.7, 1.5, 0.2],\n",
      "       [5. , 3.3, 1.4, 0.2],\n",
      "       [7. , 3.2, 4.7, 1.4],\n",
      "       [6.4, 3.2, 4.5, 1.5],\n",
      "       [6.9, 3.1, 4.9, 1.5],\n",
      "       [5.5, 2.3, 4. , 1.3],\n",
      "       [6.5, 2.8, 4.6, 1.5],\n",
      "       [5.7, 2.8, 4.5, 1.3],\n",
      "       [6.3, 3.3, 4.7, 1.6],\n",
      "       [4.9, 2.4, 3.3, 1. ],\n",
      "       [6.6, 2.9, 4.6, 1.3],\n",
      "       [5.2, 2.7, 3.9, 1.4],\n",
      "       [5. , 2. , 3.5, 1. ],\n",
      "       [5.9, 3. , 4.2, 1.5],\n",
      "       [6. , 2.2, 4. , 1. ],\n",
      "       [6.1, 2.9, 4.7, 1.4],\n",
      "       [5.6, 2.9, 3.6, 1.3],\n",
      "       [6.7, 3.1, 4.4, 1.4],\n",
      "       [5.6, 3. , 4.5, 1.5],\n",
      "       [5.8, 2.7, 4.1, 1. ],\n",
      "       [6.2, 2.2, 4.5, 1.5],\n",
      "       [5.6, 2.5, 3.9, 1.1],\n",
      "       [5.9, 3.2, 4.8, 1.8],\n",
      "       [6.1, 2.8, 4. , 1.3],\n",
      "       [6.3, 2.5, 4.9, 1.5],\n",
      "       [6.1, 2.8, 4.7, 1.2],\n",
      "       [6.4, 2.9, 4.3, 1.3],\n",
      "       [6.6, 3. , 4.4, 1.4],\n",
      "       [6.8, 2.8, 4.8, 1.4],\n",
      "       [6.7, 3. , 5. , 1.7],\n",
      "       [6. , 2.9, 4.5, 1.5],\n",
      "       [5.7, 2.6, 3.5, 1. ],\n",
      "       [5.5, 2.4, 3.8, 1.1],\n",
      "       [5.5, 2.4, 3.7, 1. ],\n",
      "       [5.8, 2.7, 3.9, 1.2],\n",
      "       [6. , 2.7, 5.1, 1.6],\n",
      "       [5.4, 3. , 4.5, 1.5],\n",
      "       [6. , 3.4, 4.5, 1.6],\n",
      "       [6.7, 3.1, 4.7, 1.5],\n",
      "       [6.3, 2.3, 4.4, 1.3],\n",
      "       [5.6, 3. , 4.1, 1.3],\n",
      "       [5.5, 2.5, 4. , 1.3],\n",
      "       [5.5, 2.6, 4.4, 1.2],\n",
      "       [6.1, 3. , 4.6, 1.4],\n",
      "       [5.8, 2.6, 4. , 1.2],\n",
      "       [5. , 2.3, 3.3, 1. ],\n",
      "       [5.6, 2.7, 4.2, 1.3],\n",
      "       [5.7, 3. , 4.2, 1.2],\n",
      "       [5.7, 2.9, 4.2, 1.3],\n",
      "       [6.2, 2.9, 4.3, 1.3],\n",
      "       [5.1, 2.5, 3. , 1.1],\n",
      "       [5.7, 2.8, 4.1, 1.3],\n",
      "       [6.3, 3.3, 6. , 2.5],\n",
      "       [5.8, 2.7, 5.1, 1.9],\n",
      "       [7.1, 3. , 5.9, 2.1],\n",
      "       [6.3, 2.9, 5.6, 1.8],\n",
      "       [6.5, 3. , 5.8, 2.2],\n",
      "       [7.6, 3. , 6.6, 2.1],\n",
      "       [4.9, 2.5, 4.5, 1.7],\n",
      "       [7.3, 2.9, 6.3, 1.8],\n",
      "       [6.7, 2.5, 5.8, 1.8],\n",
      "       [7.2, 3.6, 6.1, 2.5],\n",
      "       [6.5, 3.2, 5.1, 2. ],\n",
      "       [6.4, 2.7, 5.3, 1.9],\n",
      "       [6.8, 3. , 5.5, 2.1],\n",
      "       [5.7, 2.5, 5. , 2. ],\n",
      "       [5.8, 2.8, 5.1, 2.4],\n",
      "       [6.4, 3.2, 5.3, 2.3],\n",
      "       [6.5, 3. , 5.5, 1.8],\n",
      "       [7.7, 3.8, 6.7, 2.2],\n",
      "       [7.7, 2.6, 6.9, 2.3],\n",
      "       [6. , 2.2, 5. , 1.5],\n",
      "       [6.9, 3.2, 5.7, 2.3],\n",
      "       [5.6, 2.8, 4.9, 2. ],\n",
      "       [7.7, 2.8, 6.7, 2. ],\n",
      "       [6.3, 2.7, 4.9, 1.8],\n",
      "       [6.7, 3.3, 5.7, 2.1],\n",
      "       [7.2, 3.2, 6. , 1.8],\n",
      "       [6.2, 2.8, 4.8, 1.8],\n",
      "       [6.1, 3. , 4.9, 1.8],\n",
      "       [6.4, 2.8, 5.6, 2.1],\n",
      "       [7.2, 3. , 5.8, 1.6],\n",
      "       [7.4, 2.8, 6.1, 1.9],\n",
      "       [7.9, 3.8, 6.4, 2. ],\n",
      "       [6.4, 2.8, 5.6, 2.2],\n",
      "       [6.3, 2.8, 5.1, 1.5],\n",
      "       [6.1, 2.6, 5.6, 1.4],\n",
      "       [7.7, 3. , 6.1, 2.3],\n",
      "       [6.3, 3.4, 5.6, 2.4],\n",
      "       [6.4, 3.1, 5.5, 1.8],\n",
      "       [6. , 3. , 4.8, 1.8],\n",
      "       [6.9, 3.1, 5.4, 2.1],\n",
      "       [6.7, 3.1, 5.6, 2.4],\n",
      "       [6.9, 3.1, 5.1, 2.3],\n",
      "       [5.8, 2.7, 5.1, 1.9],\n",
      "       [6.8, 3.2, 5.9, 2.3],\n",
      "       [6.7, 3.3, 5.7, 2.5],\n",
      "       [6.7, 3. , 5.2, 2.3],\n",
      "       [6.3, 2.5, 5. , 1.9],\n",
      "       [6.5, 3. , 5.2, 2. ],\n",
      "       [6.2, 3.4, 5.4, 2.3],\n",
      "       [5.9, 3. , 5.1, 1.8]]), 'target': array([0, 0, 0, 0, 0, 0, 0, 0, 0, 0, 0, 0, 0, 0, 0, 0, 0, 0, 0, 0, 0, 0,\n",
      "       0, 0, 0, 0, 0, 0, 0, 0, 0, 0, 0, 0, 0, 0, 0, 0, 0, 0, 0, 0, 0, 0,\n",
      "       0, 0, 0, 0, 0, 0, 1, 1, 1, 1, 1, 1, 1, 1, 1, 1, 1, 1, 1, 1, 1, 1,\n",
      "       1, 1, 1, 1, 1, 1, 1, 1, 1, 1, 1, 1, 1, 1, 1, 1, 1, 1, 1, 1, 1, 1,\n",
      "       1, 1, 1, 1, 1, 1, 1, 1, 1, 1, 1, 1, 2, 2, 2, 2, 2, 2, 2, 2, 2, 2,\n",
      "       2, 2, 2, 2, 2, 2, 2, 2, 2, 2, 2, 2, 2, 2, 2, 2, 2, 2, 2, 2, 2, 2,\n",
      "       2, 2, 2, 2, 2, 2, 2, 2, 2, 2, 2, 2, 2, 2, 2, 2, 2, 2]), 'frame': None, 'target_names': array(['setosa', 'versicolor', 'virginica'], dtype='<U10'), 'DESCR': '.. _iris_dataset:\\n\\nIris plants dataset\\n--------------------\\n\\n**Data Set Characteristics:**\\n\\n    :Number of Instances: 150 (50 in each of three classes)\\n    :Number of Attributes: 4 numeric, predictive attributes and the class\\n    :Attribute Information:\\n        - sepal length in cm\\n        - sepal width in cm\\n        - petal length in cm\\n        - petal width in cm\\n        - class:\\n                - Iris-Setosa\\n                - Iris-Versicolour\\n                - Iris-Virginica\\n                \\n    :Summary Statistics:\\n\\n    ============== ==== ==== ======= ===== ====================\\n                    Min  Max   Mean    SD   Class Correlation\\n    ============== ==== ==== ======= ===== ====================\\n    sepal length:   4.3  7.9   5.84   0.83    0.7826\\n    sepal width:    2.0  4.4   3.05   0.43   -0.4194\\n    petal length:   1.0  6.9   3.76   1.76    0.9490  (high!)\\n    petal width:    0.1  2.5   1.20   0.76    0.9565  (high!)\\n    ============== ==== ==== ======= ===== ====================\\n\\n    :Missing Attribute Values: None\\n    :Class Distribution: 33.3% for each of 3 classes.\\n    :Creator: R.A. Fisher\\n    :Donor: Michael Marshall (MARSHALL%PLU@io.arc.nasa.gov)\\n    :Date: July, 1988\\n\\nThe famous Iris database, first used by Sir R.A. Fisher. The dataset is taken\\nfrom Fisher\\'s paper. Note that it\\'s the same as in R, but not as in the UCI\\nMachine Learning Repository, which has two wrong data points.\\n\\nThis is perhaps the best known database to be found in the\\npattern recognition literature.  Fisher\\'s paper is a classic in the field and\\nis referenced frequently to this day.  (See Duda & Hart, for example.)  The\\ndata set contains 3 classes of 50 instances each, where each class refers to a\\ntype of iris plant.  One class is linearly separable from the other 2; the\\nlatter are NOT linearly separable from each other.\\n\\n.. topic:: References\\n\\n   - Fisher, R.A. \"The use of multiple measurements in taxonomic problems\"\\n     Annual Eugenics, 7, Part II, 179-188 (1936); also in \"Contributions to\\n     Mathematical Statistics\" (John Wiley, NY, 1950).\\n   - Duda, R.O., & Hart, P.E. (1973) Pattern Classification and Scene Analysis.\\n     (Q327.D83) John Wiley & Sons.  ISBN 0-471-22361-1.  See page 218.\\n   - Dasarathy, B.V. (1980) \"Nosing Around the Neighborhood: A New System\\n     Structure and Classification Rule for Recognition in Partially Exposed\\n     Environments\".  IEEE Transactions on Pattern Analysis and Machine\\n     Intelligence, Vol. PAMI-2, No. 1, 67-71.\\n   - Gates, G.W. (1972) \"The Reduced Nearest Neighbor Rule\".  IEEE Transactions\\n     on Information Theory, May 1972, 431-433.\\n   - See also: 1988 MLC Proceedings, 54-64.  Cheeseman et al\"s AUTOCLASS II\\n     conceptual clustering system finds 3 classes in the data.\\n   - Many, many more ...', 'feature_names': ['sepal length (cm)', 'sepal width (cm)', 'petal length (cm)', 'petal width (cm)'], 'filename': 'iris.csv', 'data_module': 'sklearn.datasets.data'}\n"
     ]
    }
   ],
   "source": [
    "print(iris)"
   ]
  },
  {
   "cell_type": "markdown",
   "id": "9a269bd2",
   "metadata": {
    "id": "ue7CF_ucOFQi"
   },
   "source": [
    "The actual feature array is stored in `.data` "
   ]
  },
  {
   "cell_type": "code",
   "execution_count": 10,
   "id": "c2c07ae8",
   "metadata": {
    "tags": []
   },
   "outputs": [
    {
     "data": {
      "text/plain": [
       "numpy.ndarray"
      ]
     },
     "execution_count": 10,
     "metadata": {},
     "output_type": "execute_result"
    }
   ],
   "source": [
    "type(iris.data)"
   ]
  },
  {
   "cell_type": "markdown",
   "id": "41cde0fe",
   "metadata": {},
   "source": [
    "### Aside: NumPy Array \n",
    "\n",
    "We can look at various properties and ways to index into a `numpy` array. "
   ]
  },
  {
   "cell_type": "code",
   "execution_count": 11,
   "id": "400c3905",
   "metadata": {
    "tags": []
   },
   "outputs": [
    {
     "name": "stdout",
     "output_type": "stream",
     "text": [
      "x3 ndim:  2\n",
      "x3 shape: (150, 4)\n",
      "x3 size:  600\n"
     ]
    }
   ],
   "source": [
    "print(\"x3 ndim: \", iris.data.ndim)\n",
    "print(\"x3 shape:\", iris.data.shape)\n",
    "print(\"x3 size: \", iris.data.size)"
   ]
  },
  {
   "cell_type": "markdown",
   "id": "716bd7ab",
   "metadata": {},
   "source": [
    "In a single dimensional array, you can use indexing like Python's standard list indexing. "
   ]
  },
  {
   "cell_type": "code",
   "execution_count": 12,
   "id": "c0fbe0a8",
   "metadata": {
    "tags": []
   },
   "outputs": [],
   "source": [
    "x1 = np.random.randint(10, size=6)  # One-dimensional array"
   ]
  },
  {
   "cell_type": "code",
   "execution_count": 13,
   "id": "18aad551",
   "metadata": {
    "tags": []
   },
   "outputs": [
    {
     "data": {
      "text/plain": [
       "array([6, 7, 9, 9, 9, 4])"
      ]
     },
     "execution_count": 13,
     "metadata": {},
     "output_type": "execute_result"
    }
   ],
   "source": [
    "x1"
   ]
  },
  {
   "cell_type": "code",
   "execution_count": 14,
   "id": "7704aed5",
   "metadata": {
    "tags": []
   },
   "outputs": [
    {
     "data": {
      "text/plain": [
       "6"
      ]
     },
     "execution_count": 14,
     "metadata": {},
     "output_type": "execute_result"
    }
   ],
   "source": [
    "x1[0]"
   ]
  },
  {
   "cell_type": "code",
   "execution_count": 15,
   "id": "905102b3",
   "metadata": {
    "tags": []
   },
   "outputs": [
    {
     "data": {
      "text/plain": [
       "9"
      ]
     },
     "execution_count": 15,
     "metadata": {},
     "output_type": "execute_result"
    }
   ],
   "source": [
    "x1[4]"
   ]
  },
  {
   "cell_type": "code",
   "execution_count": 16,
   "id": "8e7f1355",
   "metadata": {
    "tags": []
   },
   "outputs": [
    {
     "data": {
      "text/plain": [
       "4"
      ]
     },
     "execution_count": 16,
     "metadata": {},
     "output_type": "execute_result"
    }
   ],
   "source": [
    "x1[-1]"
   ]
  },
  {
   "cell_type": "markdown",
   "id": "64ce3552",
   "metadata": {},
   "source": [
    "For a multi-dimensional array, items can be accessed using a comma-separated tuple of indices."
   ]
  },
  {
   "cell_type": "code",
   "execution_count": 17,
   "id": "3b6162b7",
   "metadata": {
    "tags": []
   },
   "outputs": [
    {
     "data": {
      "text/plain": [
       "array([[4, 8, 5, 1, 1],\n",
       "       [2, 7, 0, 5, 8],\n",
       "       [1, 6, 2, 5, 9]])"
      ]
     },
     "execution_count": 17,
     "metadata": {},
     "output_type": "execute_result"
    }
   ],
   "source": [
    "x2 = np.random.randint(10, size=(3, 5))  # Two-dimensional array\n",
    "x2"
   ]
  },
  {
   "cell_type": "code",
   "execution_count": 18,
   "id": "1d764d40",
   "metadata": {
    "tags": []
   },
   "outputs": [
    {
     "data": {
      "text/plain": [
       "4"
      ]
     },
     "execution_count": 18,
     "metadata": {},
     "output_type": "execute_result"
    }
   ],
   "source": [
    "x2[0, 0]"
   ]
  },
  {
   "cell_type": "code",
   "execution_count": 19,
   "id": "e20a0084",
   "metadata": {
    "tags": []
   },
   "outputs": [
    {
     "data": {
      "text/plain": [
       "9"
      ]
     },
     "execution_count": 19,
     "metadata": {},
     "output_type": "execute_result"
    }
   ],
   "source": [
    "x2[2,-1]"
   ]
  },
  {
   "cell_type": "markdown",
   "id": "e7e7e4b9",
   "metadata": {},
   "source": [
    "We can access subarrays using the slide notation with the `:`.  Slice syntax follows that of standard Python list `x[start:stop:step]`.  \n",
    "\n",
    "If any of these are unspecified, the default values of `start=0`, `stop=size of dim` and `step=1` are used.  "
   ]
  },
  {
   "cell_type": "code",
   "execution_count": 20,
   "id": "1a0cdda0",
   "metadata": {
    "tags": []
   },
   "outputs": [
    {
     "data": {
      "text/plain": [
       "array([6, 7, 9, 9, 9])"
      ]
     },
     "execution_count": 20,
     "metadata": {},
     "output_type": "execute_result"
    }
   ],
   "source": [
    "x1[:5]  # first five elements"
   ]
  },
  {
   "cell_type": "code",
   "execution_count": 21,
   "id": "8c7504c1",
   "metadata": {
    "tags": []
   },
   "outputs": [
    {
     "data": {
      "text/plain": [
       "array([9, 4])"
      ]
     },
     "execution_count": 21,
     "metadata": {},
     "output_type": "execute_result"
    }
   ],
   "source": [
    "x1[4:7]  # middle sub-array"
   ]
  },
  {
   "cell_type": "code",
   "execution_count": 22,
   "id": "208d8357",
   "metadata": {
    "tags": []
   },
   "outputs": [
    {
     "data": {
      "text/plain": [
       "array([7, 9, 4])"
      ]
     },
     "execution_count": 22,
     "metadata": {},
     "output_type": "execute_result"
    }
   ],
   "source": [
    "x1[1::2] # every other element, starting at index 1"
   ]
  },
  {
   "cell_type": "code",
   "execution_count": 23,
   "id": "813b7441",
   "metadata": {
    "tags": []
   },
   "outputs": [
    {
     "data": {
      "text/plain": [
       "array([[4, 8, 5],\n",
       "       [2, 7, 0]])"
      ]
     },
     "execution_count": 23,
     "metadata": {},
     "output_type": "execute_result"
    }
   ],
   "source": [
    "x2[:2, :3]  # two rows, three columns"
   ]
  },
  {
   "cell_type": "code",
   "execution_count": 24,
   "id": "a784e63f",
   "metadata": {
    "tags": []
   },
   "outputs": [
    {
     "data": {
      "text/plain": [
       "array([[4, 5, 1],\n",
       "       [2, 0, 8],\n",
       "       [1, 2, 9]])"
      ]
     },
     "execution_count": 24,
     "metadata": {},
     "output_type": "execute_result"
    }
   ],
   "source": [
    "x2[:3, ::2]  # all rows, every other column"
   ]
  },
  {
   "cell_type": "markdown",
   "id": "6d4f773a",
   "metadata": {},
   "source": [
    "We can also access elements based on conditions using Boolean arrays as masks"
   ]
  },
  {
   "cell_type": "code",
   "execution_count": 25,
   "id": "284d5589",
   "metadata": {
    "tags": []
   },
   "outputs": [
    {
     "data": {
      "text/plain": [
       "array([[4, 8, 5, 1, 1],\n",
       "       [2, 7, 0, 5, 8],\n",
       "       [1, 6, 2, 5, 9]])"
      ]
     },
     "execution_count": 25,
     "metadata": {},
     "output_type": "execute_result"
    }
   ],
   "source": [
    "x2"
   ]
  },
  {
   "cell_type": "code",
   "execution_count": 26,
   "id": "11e782c7",
   "metadata": {
    "tags": []
   },
   "outputs": [
    {
     "data": {
      "text/plain": [
       "array([4, 1, 1, 2, 0, 1, 2])"
      ]
     },
     "execution_count": 26,
     "metadata": {},
     "output_type": "execute_result"
    }
   ],
   "source": [
    "x2[x2 < 5]"
   ]
  },
  {
   "cell_type": "markdown",
   "id": "faf79d64",
   "metadata": {},
   "source": [
    "Fancy indexing is conceptually simple: it means passing an array of indices to access multiple array elements at once.\n",
    "\n",
    "For even more powerful operations, fancy indexing can be combined with the other indexing schemes we've seen."
   ]
  },
  {
   "cell_type": "code",
   "execution_count": 27,
   "id": "ab89d425",
   "metadata": {
    "tags": []
   },
   "outputs": [
    {
     "data": {
      "text/plain": [
       "array([[7, 2],\n",
       "       [6, 1]])"
      ]
     },
     "execution_count": 27,
     "metadata": {},
     "output_type": "execute_result"
    }
   ],
   "source": [
    "x2[1:, [1, 0]]"
   ]
  },
  {
   "cell_type": "markdown",
   "id": "b4d37d66",
   "metadata": {},
   "source": [
    "### Back to Supervised Learning\n",
    "\n",
    "Here we can look at the first five rows of the iris data `X`. "
   ]
  },
  {
   "cell_type": "code",
   "execution_count": 28,
   "id": "3d9c890d",
   "metadata": {
    "colab": {
     "base_uri": "https://localhost:8080/"
    },
    "executionInfo": {
     "elapsed": 905,
     "status": "ok",
     "timestamp": 1604448345873,
     "user": {
      "displayName": "Laura Brown",
      "photoUrl": "https://lh3.googleusercontent.com/a-/AOh14GjYbC5So3kNOYBteW-fSY5JpgP-bBJa7kyAEluaKg=s64",
      "userId": "02180634349638765126"
     },
     "user_tz": 300
    },
    "id": "7C6PfquxOCLN",
    "outputId": "fad0be73-bddd-4269-c28c-2c45263b75f1",
    "tags": []
   },
   "outputs": [
    {
     "name": "stdout",
     "output_type": "stream",
     "text": [
      "[[5.1 3.5 1.4 0.2]\n",
      " [4.9 3.  1.4 0.2]\n",
      " [4.7 3.2 1.3 0.2]\n",
      " [4.6 3.1 1.5 0.2]\n",
      " [5.  3.6 1.4 0.2]]\n"
     ]
    }
   ],
   "source": [
    "print(iris.data[:5,:])"
   ]
  },
  {
   "cell_type": "code",
   "execution_count": 29,
   "id": "37171e4e",
   "metadata": {
    "colab": {
     "base_uri": "https://localhost:8080/"
    },
    "executionInfo": {
     "elapsed": 1057,
     "status": "ok",
     "timestamp": 1604618153284,
     "user": {
      "displayName": "Laura Brown",
      "photoUrl": "https://lh3.googleusercontent.com/a-/AOh14GjYbC5So3kNOYBteW-fSY5JpgP-bBJa7kyAEluaKg=s64",
      "userId": "02180634349638765126"
     },
     "user_tz": 300
    },
    "id": "dlps1RLmOM_k",
    "outputId": "ae90118f-bf67-4ee2-e1dc-41697a7da8b2",
    "tags": []
   },
   "outputs": [
    {
     "name": "stdout",
     "output_type": "stream",
     "text": [
      "number of samples = 150, number of features = 4\n"
     ]
    }
   ],
   "source": [
    "features = iris.data.shape[1]\n",
    "samples = iris.data.shape[0]\n",
    "print(\"number of samples = %g, number of features = %g\" % (samples, features))"
   ]
  },
  {
   "cell_type": "code",
   "execution_count": 30,
   "id": "a5afbaa8",
   "metadata": {
    "colab": {
     "base_uri": "https://localhost:8080/"
    },
    "executionInfo": {
     "elapsed": 1084,
     "status": "ok",
     "timestamp": 1604618155948,
     "user": {
      "displayName": "Laura Brown",
      "photoUrl": "https://lh3.googleusercontent.com/a-/AOh14GjYbC5So3kNOYBteW-fSY5JpgP-bBJa7kyAEluaKg=s64",
      "userId": "02180634349638765126"
     },
     "user_tz": 300
    },
    "id": "Cvy_IyGlkoLO",
    "outputId": "a8573591-2f61-42f7-c8df-c0b21c4255dc",
    "tags": []
   },
   "outputs": [
    {
     "name": "stdout",
     "output_type": "stream",
     "text": [
      "number of samples in target array 150\n"
     ]
    }
   ],
   "source": [
    "print(\"number of samples in target array %g\" % (iris.target.shape[0]))"
   ]
  },
  {
   "cell_type": "markdown",
   "id": "58054146",
   "metadata": {
    "id": "l-ltIzxAk9x7"
   },
   "source": [
    "## Scikit-learn's Estimator API \n",
    "\n",
    "The Scikit-Learn API is designed with the following guiding principles in mind, as outlined in the [Scikit-Learn API paper](http://arxiv.org/abs/1309.0238):\n",
    "\n",
    "- *Consistency*: All objects share a common interface drawn from a limited set of methods, with consistent documentation.\n",
    "\n",
    "- *Inspection*: All specified parameter values are exposed as public attributes.\n",
    "\n",
    "- *Limited object hierarchy*: Only algorithms are represented by Python classes; datasets are represented\n",
    "  in standard formats (NumPy arrays, Pandas ``DataFrame``s, SciPy sparse matrices) and parameter\n",
    "  names use standard Python strings.\n",
    "\n",
    "- *Composition*: Many machine learning tasks can be expressed as sequences of more fundamental algorithms,\n",
    "  and Scikit-Learn makes use of this wherever possible.\n",
    "\n",
    "- *Sensible defaults*: When models require user-specified parameters, the library defines an appropriate default value.\n",
    "\n",
    "In practice, these principles make Scikit-Learn very easy to use, once the basic principles are understood.\n",
    "Every machine learning algorithm in Scikit-Learn is implemented via the Estimator API, which provides a consistent interface for a wide range of machine learning applications."
   ]
  },
  {
   "cell_type": "markdown",
   "id": "2226a9a7",
   "metadata": {
    "id": "5WZfT9ORlIbd"
   },
   "source": [
    "### Basics of the API \n",
    "\n",
    "Most commonly, the steps in using the Scikit-Learn estimator API are as follows\n",
    "(we will step through a handful of detailed examples in the sections that follow).\n",
    "\n",
    "1. Choose a class of model by importing the appropriate estimator class from Scikit-Learn.\n",
    "2. Choose model hyperparameters by instantiating this class with desired values.\n",
    "3. Arrange data into a features matrix and target vector following the discussion above.\n",
    "4. Fit the model to your data by calling the ``fit()`` method of the model instance.\n",
    "5. Apply the Model to new data:\n",
    "   - For supervised learning, often we predict labels for unknown data using the ``predict()`` method.\n",
    "   - For unsupervised learning, we often transform or infer properties of the data using the ``transform()`` or ``predict()`` method.\n",
    "\n",
    "We will now step through a simple examples of applying supervised learning methods."
   ]
  },
  {
   "cell_type": "markdown",
   "id": "c573ef9c",
   "metadata": {
    "id": "9SMq7_s7OcKM"
   },
   "source": [
    "###  Supervised learning example: KNN\n",
    "\n",
    "All ML objects in `scikit-learn` share a uniform API for learning (or training a model, and predicting, namely, `fit()` and `predict()`.  \n",
    "\n",
    "\n"
   ]
  },
  {
   "cell_type": "markdown",
   "id": "72afe4ca",
   "metadata": {
    "id": "VG8yEiyVlrdC"
   },
   "source": [
    "**KNN**\n",
    "\n",
    "We begin with the $k$ nearest neighbors (KNN) algorithm, which is a widely used technique because it can be evaluated very quickly, and it is easy to interpret the output. How does the KNN algorithm work?  For each test sample:\n",
    "1. Pick a value of $k$: the number of neighbors we wish to use for classification.\n",
    "2. Compute some measure between the test sample and each training sample.  Often, one uses the Euclidean distance, but other metrics might be appropriate.\n",
    "3. Sort the computed distances in increasing order based on distance values\n",
    "4. For the $k$ closest training samples, return the most frequent class as the predicted class."
   ]
  },
  {
   "cell_type": "markdown",
   "id": "7ea27326",
   "metadata": {
    "id": "GfZMjAKFl1tl"
   },
   "source": [
    "#### 1. Choose a class of model \n",
    "\n",
    "In Scikit-Learn, every class of model is represented by a Python class. So, for example, if we would like to compute a Knearest neighbors model, we can import the [KNeighbors classification](https://scikit-learn.org/stable/modules/generated/sklearn.neighbors.KNeighborsClassifier.html#sklearn.neighbors.KNeighborsClassifier) class:"
   ]
  },
  {
   "cell_type": "code",
   "execution_count": 31,
   "id": "54200538",
   "metadata": {
    "id": "HTifP7iXmEaH",
    "tags": []
   },
   "outputs": [],
   "source": [
    "from sklearn import neighbors"
   ]
  },
  {
   "cell_type": "markdown",
   "id": "a00f3c6a",
   "metadata": {
    "id": "ha_LIg9YmGRe"
   },
   "source": [
    "Note, there are other neighbors models (for regression, unsupervised learning, etc.).  You can read more about them in the [`sklearn.neighbors` module documentation](https://scikit-learn.org/stable/modules/classes.html#module-sklearn.neighbors)"
   ]
  },
  {
   "cell_type": "markdown",
   "id": "e9127573",
   "metadata": {
    "id": "5_t-qROImkXb"
   },
   "source": [
    "#### 2. Choose model hyperparameters \n",
    "\n",
    "An important point is that *a class of model is not the same as an instance of a model*.\n",
    "\n",
    "Once we have decided on our model class, there are still some options open to us.\n",
    "Depending on the model class we are working with, we might need to answer one or more questions like the following:\n",
    "\n",
    "* How many neighbors will be considered when making the classification? \n",
    "* How are the neighbors weighted? \n",
    "* Which method to carry out the model should be used? \n",
    "* and more \n",
    "\n",
    "These are examples of the important choices that must be made *once the model class is selected*.\n",
    "These choices are often represented as *hyperparameters*, or parameters that must be set before the model is fit to data.\n",
    "In Scikit-Learn, hyperparameters are chosen by passing values at model instantiation.\n",
    "We will explore how you can quantitatively motivate the choice of hyperparameters later. \n",
    "\n",
    "For our example, we will set the number of neighbors to 5 and use the default options for other parameters. \n"
   ]
  },
  {
   "cell_type": "code",
   "execution_count": 32,
   "id": "b10613fc",
   "metadata": {
    "id": "fWKaBzLsnMuD",
    "tags": []
   },
   "outputs": [],
   "source": [
    "model = neighbors.KNeighborsClassifier(n_neighbors = 5)"
   ]
  },
  {
   "cell_type": "markdown",
   "id": "df851e0c",
   "metadata": {
    "id": "D22TyJaonFVp"
   },
   "source": [
    "Keep in mind that when the model is instantiated, the only action is the storing of these hyperparameter values.\n",
    "In particular, we have not yet applied the model to any data: the Scikit-Learn API makes very clear the distinction between *choice of model* and *application of model to data*."
   ]
  },
  {
   "cell_type": "markdown",
   "id": "92bf0acc",
   "metadata": {
    "id": "bHWhm2Bcnbb2"
   },
   "source": [
    "#### 3. Arrange data into a features matrix and target vector \n",
    "\n",
    "Previously we detailed the Scikit-Learn data representation, which requires a two-dimensional features matrix and a one-dimensional target array.\n",
    "\n",
    "For our example, the data is already in the correct form. "
   ]
  },
  {
   "cell_type": "code",
   "execution_count": 33,
   "id": "6dc3b9df",
   "metadata": {
    "id": "ezHUCQVenpzy",
    "tags": []
   },
   "outputs": [],
   "source": [
    "# train the classifier using the all the samples, except the last one\n",
    "X = iris.data[:-1]\n",
    "y = iris.target[:-1]"
   ]
  },
  {
   "cell_type": "markdown",
   "id": "b29efb55",
   "metadata": {
    "id": "EXZN_-Kqn3tp"
   },
   "source": [
    "#### 4. Fit the model to the data \n",
    "\n",
    "Now it is time to apply our model to data.\n",
    "This can be done with the ``fit()`` method of the model:"
   ]
  },
  {
   "cell_type": "code",
   "execution_count": 34,
   "id": "4355704c",
   "metadata": {
    "colab": {
     "base_uri": "https://localhost:8080/"
    },
    "executionInfo": {
     "elapsed": 1286,
     "status": "ok",
     "timestamp": 1604448719872,
     "user": {
      "displayName": "Laura Brown",
      "photoUrl": "https://lh3.googleusercontent.com/a-/AOh14GjYbC5So3kNOYBteW-fSY5JpgP-bBJa7kyAEluaKg=s64",
      "userId": "02180634349638765126"
     },
     "user_tz": 300
    },
    "id": "6f1pxmVloBAw",
    "outputId": "6888f92d-2fc9-41a0-c5f2-6d5baa458442",
    "tags": []
   },
   "outputs": [
    {
     "data": {
      "text/html": [
       "<style>#sk-container-id-1 {color: black;}#sk-container-id-1 pre{padding: 0;}#sk-container-id-1 div.sk-toggleable {background-color: white;}#sk-container-id-1 label.sk-toggleable__label {cursor: pointer;display: block;width: 100%;margin-bottom: 0;padding: 0.3em;box-sizing: border-box;text-align: center;}#sk-container-id-1 label.sk-toggleable__label-arrow:before {content: \"▸\";float: left;margin-right: 0.25em;color: #696969;}#sk-container-id-1 label.sk-toggleable__label-arrow:hover:before {color: black;}#sk-container-id-1 div.sk-estimator:hover label.sk-toggleable__label-arrow:before {color: black;}#sk-container-id-1 div.sk-toggleable__content {max-height: 0;max-width: 0;overflow: hidden;text-align: left;background-color: #f0f8ff;}#sk-container-id-1 div.sk-toggleable__content pre {margin: 0.2em;color: black;border-radius: 0.25em;background-color: #f0f8ff;}#sk-container-id-1 input.sk-toggleable__control:checked~div.sk-toggleable__content {max-height: 200px;max-width: 100%;overflow: auto;}#sk-container-id-1 input.sk-toggleable__control:checked~label.sk-toggleable__label-arrow:before {content: \"▾\";}#sk-container-id-1 div.sk-estimator input.sk-toggleable__control:checked~label.sk-toggleable__label {background-color: #d4ebff;}#sk-container-id-1 div.sk-label input.sk-toggleable__control:checked~label.sk-toggleable__label {background-color: #d4ebff;}#sk-container-id-1 input.sk-hidden--visually {border: 0;clip: rect(1px 1px 1px 1px);clip: rect(1px, 1px, 1px, 1px);height: 1px;margin: -1px;overflow: hidden;padding: 0;position: absolute;width: 1px;}#sk-container-id-1 div.sk-estimator {font-family: monospace;background-color: #f0f8ff;border: 1px dotted black;border-radius: 0.25em;box-sizing: border-box;margin-bottom: 0.5em;}#sk-container-id-1 div.sk-estimator:hover {background-color: #d4ebff;}#sk-container-id-1 div.sk-parallel-item::after {content: \"\";width: 100%;border-bottom: 1px solid gray;flex-grow: 1;}#sk-container-id-1 div.sk-label:hover label.sk-toggleable__label {background-color: #d4ebff;}#sk-container-id-1 div.sk-serial::before {content: \"\";position: absolute;border-left: 1px solid gray;box-sizing: border-box;top: 0;bottom: 0;left: 50%;z-index: 0;}#sk-container-id-1 div.sk-serial {display: flex;flex-direction: column;align-items: center;background-color: white;padding-right: 0.2em;padding-left: 0.2em;position: relative;}#sk-container-id-1 div.sk-item {position: relative;z-index: 1;}#sk-container-id-1 div.sk-parallel {display: flex;align-items: stretch;justify-content: center;background-color: white;position: relative;}#sk-container-id-1 div.sk-item::before, #sk-container-id-1 div.sk-parallel-item::before {content: \"\";position: absolute;border-left: 1px solid gray;box-sizing: border-box;top: 0;bottom: 0;left: 50%;z-index: -1;}#sk-container-id-1 div.sk-parallel-item {display: flex;flex-direction: column;z-index: 1;position: relative;background-color: white;}#sk-container-id-1 div.sk-parallel-item:first-child::after {align-self: flex-end;width: 50%;}#sk-container-id-1 div.sk-parallel-item:last-child::after {align-self: flex-start;width: 50%;}#sk-container-id-1 div.sk-parallel-item:only-child::after {width: 0;}#sk-container-id-1 div.sk-dashed-wrapped {border: 1px dashed gray;margin: 0 0.4em 0.5em 0.4em;box-sizing: border-box;padding-bottom: 0.4em;background-color: white;}#sk-container-id-1 div.sk-label label {font-family: monospace;font-weight: bold;display: inline-block;line-height: 1.2em;}#sk-container-id-1 div.sk-label-container {text-align: center;}#sk-container-id-1 div.sk-container {/* jupyter's `normalize.less` sets `[hidden] { display: none; }` but bootstrap.min.css set `[hidden] { display: none !important; }` so we also need the `!important` here to be able to override the default hidden behavior on the sphinx rendered scikit-learn.org. See: https://github.com/scikit-learn/scikit-learn/issues/21755 */display: inline-block !important;position: relative;}#sk-container-id-1 div.sk-text-repr-fallback {display: none;}</style><div id=\"sk-container-id-1\" class=\"sk-top-container\"><div class=\"sk-text-repr-fallback\"><pre>KNeighborsClassifier()</pre><b>In a Jupyter environment, please rerun this cell to show the HTML representation or trust the notebook. <br />On GitHub, the HTML representation is unable to render, please try loading this page with nbviewer.org.</b></div><div class=\"sk-container\" hidden><div class=\"sk-item\"><div class=\"sk-estimator sk-toggleable\"><input class=\"sk-toggleable__control sk-hidden--visually\" id=\"sk-estimator-id-1\" type=\"checkbox\" checked><label for=\"sk-estimator-id-1\" class=\"sk-toggleable__label sk-toggleable__label-arrow\">KNeighborsClassifier</label><div class=\"sk-toggleable__content\"><pre>KNeighborsClassifier()</pre></div></div></div></div></div>"
      ],
      "text/plain": [
       "KNeighborsClassifier()"
      ]
     },
     "execution_count": 34,
     "metadata": {},
     "output_type": "execute_result"
    }
   ],
   "source": [
    "model.fit(X, y)"
   ]
  },
  {
   "cell_type": "markdown",
   "id": "be4bf379",
   "metadata": {
    "id": "Jr7b6vs2n-EK"
   },
   "source": [
    "This `fit()` command causes a number of model-dependent internal computations to take place, and the results of these computations are stored in model-specific attributes that the user can explore. In Scikit-Learn, by convention all model parameters that were learned during the `fit()` process have trailing underscores; for example"
   ]
  },
  {
   "cell_type": "code",
   "execution_count": 35,
   "id": "e8dabded",
   "metadata": {
    "colab": {
     "base_uri": "https://localhost:8080/"
    },
    "executionInfo": {
     "elapsed": 1095,
     "status": "ok",
     "timestamp": 1604448744787,
     "user": {
      "displayName": "Laura Brown",
      "photoUrl": "https://lh3.googleusercontent.com/a-/AOh14GjYbC5So3kNOYBteW-fSY5JpgP-bBJa7kyAEluaKg=s64",
      "userId": "02180634349638765126"
     },
     "user_tz": 300
    },
    "id": "7oBGYW0CoM23",
    "outputId": "69b7770f-493b-48c3-8c5d-0fbbbfd0467b",
    "tags": []
   },
   "outputs": [
    {
     "data": {
      "text/plain": [
       "149"
      ]
     },
     "execution_count": 35,
     "metadata": {},
     "output_type": "execute_result"
    }
   ],
   "source": [
    "model.n_samples_fit_"
   ]
  },
  {
   "cell_type": "markdown",
   "id": "5305d9c9",
   "metadata": {
    "id": "ELqgmzMdoZz-"
   },
   "source": [
    "One question that frequently comes up regards the uncertainty in such internal model parameters.\n",
    "In general, Scikit-Learn does not provide tools to draw conclusions from internal model parameters themselves: interpreting model parameters is much more a *statistical modeling* question than a *machine learning* question.\n",
    "Machine learning rather focuses on what the model *predicts*.\n",
    "If you would like to dive into the meaning of fit parameters within the model, other tools are available, including the [Statsmodels Python package](http://statsmodels.sourceforge.net/)."
   ]
  },
  {
   "cell_type": "markdown",
   "id": "a989e5ee",
   "metadata": {
    "id": "gUBk21FWohZx"
   },
   "source": [
    "#### 5. Predict labels for unknown data \n",
    "\n",
    "Once the model is trained, the main task of supervised machine learning is to evaluate it based on what it says about new data that was not part of the training set.\n",
    "In Scikit-Learn, this can be done using the ``predict()`` method.\n",
    "For the sake of this example, our \"new data\" will be a grid of *x* values, and we will ask what *y* values the model predicts:"
   ]
  },
  {
   "cell_type": "code",
   "execution_count": 36,
   "id": "15f9239f",
   "metadata": {
    "colab": {
     "base_uri": "https://localhost:8080/"
    },
    "executionInfo": {
     "elapsed": 933,
     "status": "ok",
     "timestamp": 1604448772145,
     "user": {
      "displayName": "Laura Brown",
      "photoUrl": "https://lh3.googleusercontent.com/a-/AOh14GjYbC5So3kNOYBteW-fSY5JpgP-bBJa7kyAEluaKg=s64",
      "userId": "02180634349638765126"
     },
     "user_tz": 300
    },
    "id": "yd4AWKYton4o",
    "outputId": "ac8d74e2-4e62-4d38-940d-0a5e10932ac7",
    "tags": []
   },
   "outputs": [
    {
     "data": {
      "text/plain": [
       "array([2])"
      ]
     },
     "execution_count": 36,
     "metadata": {},
     "output_type": "execute_result"
    }
   ],
   "source": [
    "y_pred = model.predict(iris.data[-1:])\n",
    "y_pred"
   ]
  },
  {
   "cell_type": "code",
   "execution_count": 37,
   "id": "178599c4",
   "metadata": {
    "tags": []
   },
   "outputs": [
    {
     "data": {
      "text/plain": [
       "2"
      ]
     },
     "execution_count": 37,
     "metadata": {},
     "output_type": "execute_result"
    }
   ],
   "source": [
    "iris.target[-1]"
   ]
  },
  {
   "cell_type": "markdown",
   "id": "38eca953",
   "metadata": {},
   "source": [
    "The model predicted the target correctly. "
   ]
  },
  {
   "cell_type": "markdown",
   "id": "484b8946",
   "metadata": {
    "id": "AuK_iJdTpDQz"
   },
   "source": [
    "### Supervised Learning Example - All together \n",
    "\n",
    "Let's put the code above into a single cell to choose a model, set the hyperparameters, arrange the data, fit the model, and predict labels."
   ]
  },
  {
   "cell_type": "code",
   "execution_count": 38,
   "id": "d79ea7e8",
   "metadata": {
    "colab": {
     "base_uri": "https://localhost:8080/"
    },
    "executionInfo": {
     "elapsed": 832,
     "status": "ok",
     "timestamp": 1604618405618,
     "user": {
      "displayName": "Laura Brown",
      "photoUrl": "https://lh3.googleusercontent.com/a-/AOh14GjYbC5So3kNOYBteW-fSY5JpgP-bBJa7kyAEluaKg=s64",
      "userId": "02180634349638765126"
     },
     "user_tz": 300
    },
    "id": "FfY76YbXOahB",
    "outputId": "22d838e5-e900-40d7-a0fe-248b0af7068c",
    "tags": []
   },
   "outputs": [
    {
     "name": "stdout",
     "output_type": "stream",
     "text": [
      "actual classification: virginica\n",
      "predicted classification: virginica\n"
     ]
    }
   ],
   "source": [
    "from sklearn import neighbors\n",
    "# create an instance of K-nearest neighbor classifer\n",
    "# sklearn.neighbors.KNeighborsClassifier(n_neighbors=5, *, weights='uniform', \n",
    "#                                        algorithm='auto', leaf_size=30, p=2, \n",
    "#                                        metric='minkowski', metric_params=None, \n",
    "#                                        n_jobs=None, **kwargs)\n",
    "knn = neighbors.KNeighborsClassifier(n_neighbors = 5)\n",
    "\n",
    "# train the classifier using the all the samples, except the last one\n",
    "# fit(X, y)   Fit the model using X as training data and y as target values\n",
    "knn.fit(iris.data[:-1], iris.target[:-1] )\n",
    "\n",
    "# compute the prediction of the last sample according to the model\n",
    "# predict(X)  Predict the class labels for the provided data.\n",
    "predict  = knn.predict(iris.data[-1:])\n",
    "\n",
    "print(\"actual classification: \" + iris.target_names[iris.target[-1]])\n",
    "print(\"predicted classification: \" + iris.target_names[predict[0]])"
   ]
  },
  {
   "cell_type": "markdown",
   "id": "1d86360e",
   "metadata": {
    "id": "cE1fAKh7QQG2"
   },
   "source": [
    "### Visualize Classification boundary \n",
    "\n",
    "It is difficult to visualize the classification boundary for four-dimensional data (sepal length, sepal width, petal length, petal width). We could take a slice of the four-dimensional space to visualize the classification along two dimensions. Instead, suppose we only fit the training samples using the first two features, sepal length and sepal width (in cm). We can visualize the classification boundary for this classification by laying down a mesh, and running a predictor at the mesh values.\n"
   ]
  },
  {
   "cell_type": "code",
   "execution_count": 39,
   "id": "6df9964f",
   "metadata": {
    "colab": {
     "base_uri": "https://localhost:8080/",
     "height": 268
    },
    "executionInfo": {
     "elapsed": 1145,
     "status": "ok",
     "timestamp": 1604618612107,
     "user": {
      "displayName": "Laura Brown",
      "photoUrl": "https://lh3.googleusercontent.com/a-/AOh14GjYbC5So3kNOYBteW-fSY5JpgP-bBJa7kyAEluaKg=s64",
      "userId": "02180634349638765126"
     },
     "user_tz": 300
    },
    "id": "NoW8M8DZQkVC",
    "outputId": "7c83d711-d746-4acf-878f-dec94d94dcd1",
    "tags": []
   },
   "outputs": [
    {
     "data": {
      "image/png": "[encoded data removed]",
      "text/plain": [
       "<Figure size 640x480 with 1 Axes>"
      ]
     },
     "metadata": {},
     "output_type": "display_data"
    }
   ],
   "source": [
    "x = iris.data[:,:2] # take only the first two columns\n",
    "y = iris.target\n",
    "\n",
    "# train classifier\n",
    "knn = neighbors.KNeighborsClassifier(n_neighbors = 3)\n",
    "knn.fit(x, y)\n",
    "\n",
    "# setup mesh\n",
    "h = 0.1\n",
    "x_min, x_max = x[:, 0].min() - 1, x[:, 0].max() + 1\n",
    "y_min, y_max = x[:, 1].min() - 1, x[:, 1].max() + 1\n",
    "xg, yg = np.meshgrid(np.arange(x_min, x_max, h),\n",
    "                     np.arange(y_min, y_max, h))\n",
    "\n",
    "# run classifier on mesh\n",
    "z = knn.predict(np.c_[xg.ravel(), yg.ravel()])\n",
    "\n",
    "# specifying some colors\n",
    "cmap_light = ListedColormap(['#FFAAAA', '#AAFFAA', '#AAAAFF'])\n",
    "cmap_bold = ListedColormap(['#FF0000', '#00FF00', '#0000FF'])\n",
    "\n",
    "# plot classifier\n",
    "zg = z.reshape(xg.shape)\n",
    "_ = plt.figure()\n",
    "_ = plt.pcolormesh(xg,yg,zg,cmap=cmap_light)\n",
    "\n",
    "# overlay with training data points\n",
    "_ = plt.scatter(x[:,0],x[:,1],c=y, cmap=cmap_bold, edgecolor='k')\n",
    "\n",
    "# setting the aspect ratio so we can visualize distance properly\n",
    "_ = plt.gca().set_aspect('equal')"
   ]
  },
  {
   "cell_type": "markdown",
   "id": "b77c11a2",
   "metadata": {
    "id": "a6HkteZ5QvQS"
   },
   "source": [
    "## Performance Measures \n",
    "\n",
    "\n",
    "One of the most basic way to measure performance of a classifier is its accuracy, $$ acc = \\frac{\\text{Number of correct predictions}}{n}.$$  Lets return to the full iris data set, train the model on all the data, and run the predictor on the data."
   ]
  },
  {
   "cell_type": "code",
   "execution_count": 40,
   "id": "09041fb7",
   "metadata": {
    "colab": {
     "base_uri": "https://localhost:8080/"
    },
    "executionInfo": {
     "elapsed": 871,
     "status": "ok",
     "timestamp": 1604618756682,
     "user": {
      "displayName": "Laura Brown",
      "photoUrl": "https://lh3.googleusercontent.com/a-/AOh14GjYbC5So3kNOYBteW-fSY5JpgP-bBJa7kyAEluaKg=s64",
      "userId": "02180634349638765126"
     },
     "user_tz": 300
    },
    "id": "yoJHRinlQr65",
    "outputId": "8c9e07b0-ecd0-49e7-865a-a86821589fc2",
    "tags": []
   },
   "outputs": [
    {
     "data": {
      "text/plain": [
       "0.9733333333333334"
      ]
     },
     "execution_count": 40,
     "metadata": {},
     "output_type": "execute_result"
    }
   ],
   "source": [
    "knn = neighbors.KNeighborsClassifier(n_neighbors = 11)\n",
    "\n",
    "# train the classifier using the all the samples\n",
    "knn.fit(iris.data, iris.target)\n",
    "\n",
    "# compute the prediction each sample using the model\n",
    "predict  = knn.predict(iris.data)\n",
    "\n",
    "from sklearn.metrics import accuracy_score\n",
    "\n",
    "# compute the accuracy of the predictions: \n",
    "# sklearn.metrics.accuracy_score(y_true, y_pred, ...)\n",
    "accuracy_score(iris.target, predict)"
   ]
  },
  {
   "cell_type": "markdown",
   "id": "25de8812",
   "metadata": {
    "id": "MqXpWazsRKQH"
   },
   "source": [
    "### Confusion Matrix\n",
    "\n",
    "This is a surprisingly good model.  However, keep in mind that we have fit the model to the data, so we won't know how it will perform on unseen data.  We'll address this later.  First, one might need a more detailed analysis for the prediction of elements within classifications.  If we were doing a binary classification (e.g. true / false), we would normally present a [confusion matrix](https://en.wikipedia.org/wiki/Confusion_matrix), that compares the predictor to the ground truth\n",
    "<table border=1px>\n",
    "    <tr>\n",
    "        <th></th>\n",
    "        <th colspan=2 text-align=\"center\">Ground Truth </th>\n",
    "    </tr>\n",
    "    <tr>\n",
    "        <th>Prediction </th>\n",
    "        <th>Positive</th>\n",
    "        <th>Negative</th>\n",
    "    </tr>\n",
    "    <tr>\n",
    "        <th> Positive </th>\n",
    "        <td> TP </td>\n",
    "        <td> FP </td>\n",
    "    </tr>\n",
    "    <tr>\n",
    "        <th> Negative </th>\n",
    "        <td> FN </td>\n",
    "        <td> TN </td>\n",
    "    </tr>\n",
    "</table>\n",
    "where \n",
    "\n",
    "* TP: true positives: classifier predicts a sample as positive in accordance with ground truth\n",
    "* FP: false positive: classifier predicts a sample as positive in conflict with ground truth\n",
    "* TN: true negative:  classifier predicts a sample as negative in accordance with ground truth\n",
    "* FN: false negative: classifier predicts a sample as negative in conflict with ground truth\n",
    "\n",
    "Note the similarity with the type-I and type-II error we saw previously in hypothesis testing. Using this notation, the accuracy is $$ \\text{accuracy} = \\frac{\\text{TP + TN}}{\\text{TP + TN + FP + FN}}.$$ There are a few additional metrics of interest:\n",
    "\n",
    "* sensitivity, recall, true positive rate: \n",
    "$$ \\text{sensitivity} = \\frac{\\text{TP}}{\\text{TP + FN}}$$\n",
    "* specificity, true negative rate: $$ \\text{specificity} = \\frac{\\text{TN}}{\\text{TN + FP} }$$\n",
    "* precision, positive predictive value: $$ \\text{precision} = \\frac{\\text{TP}}{\\text{TP + FP} }$$\n",
    "* negative predictive value: $$ \\text{NPV} = \\frac{\\text{TN}}{\\text{TN + FN} }$$\n"
   ]
  },
  {
   "cell_type": "markdown",
   "id": "54a2c64d",
   "metadata": {
    "id": "JGknUDnsS0gT"
   },
   "source": [
    "__Question__: What do we do when there are more classes? well, we can generate a $k \\times k$ matrix, where $k$ is the number of classes.  Four our iris example:\n",
    "<table border=1px>\n",
    "    <tr>\n",
    "        <th></th>\n",
    "        <th colspan=3 text-align=\"center\">Ground Truth </th>\n",
    "    </tr>\n",
    "    <tr>\n",
    "        <th>Prediction </th>\n",
    "        <th>setosa</th>\n",
    "        <th>versicolor</th>\n",
    "        <th>virginica</th>       \n",
    "    </tr>\n",
    "    <tr>\n",
    "        <th> setosa </th>\n",
    "        <td> TC </td>\n",
    "        <td> FC </td>\n",
    "        <td> FC </td>\n",
    "    </tr>\n",
    "    <tr>\n",
    "        <th> versicolor </th>\n",
    "        <td> FC </td>\n",
    "        <td> TC </td>\n",
    "        <td> FC </td>\n",
    "    </tr>\n",
    "    <tr>\n",
    "        <th> virginica </th>\n",
    "        <td> FC </td>\n",
    "        <td> FC </td>\n",
    "        <td> TC </td>\n",
    "    </tr>\n",
    "</table>\n",
    "where we now have\n",
    "\n",
    "* TC: true classification\n",
    "* FC: false classification, where you could even specify further by extending the idea of false negative or false positive, for example, falsely identified setosa as versicolor.\n",
    "\n",
    "Lets generate the confusion matrix for our classification problem"
   ]
  },
  {
   "cell_type": "code",
   "execution_count": 41,
   "id": "0fad725d",
   "metadata": {
    "colab": {
     "base_uri": "https://localhost:8080/"
    },
    "executionInfo": {
     "elapsed": 1155,
     "status": "ok",
     "timestamp": 1604618998311,
     "user": {
      "displayName": "Laura Brown",
      "photoUrl": "https://lh3.googleusercontent.com/a-/AOh14GjYbC5So3kNOYBteW-fSY5JpgP-bBJa7kyAEluaKg=s64",
      "userId": "02180634349638765126"
     },
     "user_tz": 300
    },
    "id": "7AWE2IMgRfOA",
    "outputId": "b4b71448-5767-4286-b87c-975f380703bf",
    "tags": []
   },
   "outputs": [
    {
     "name": "stdout",
     "output_type": "stream",
     "text": [
      "[[50.  0.  0.]\n",
      " [ 0. 48.  2.]\n",
      " [ 0.  2. 48.]]\n"
     ]
    }
   ],
   "source": [
    "C = np.empty([3,3])\n",
    "for i in range(3):\n",
    "    for j in range(3):\n",
    "        C[i,j] = np.sum(np.logical_and(iris.target==i, predict==j))\n",
    "print(C)"
   ]
  },
  {
   "cell_type": "markdown",
   "id": "0b6c9c6f",
   "metadata": {
    "id": "MWOYFEmCTMgX"
   },
   "source": [
    "We can also use `scikit-learn` [`confusion_matrix`](https://scikit-learn.org/stable/modules/generated/sklearn.metrics.confusion_matrix.html#sklearn.metrics.confusion_matrix) method. "
   ]
  },
  {
   "cell_type": "code",
   "execution_count": 42,
   "id": "5e0507ee",
   "metadata": {
    "colab": {
     "base_uri": "https://localhost:8080/"
    },
    "executionInfo": {
     "elapsed": 1422,
     "status": "ok",
     "timestamp": 1604619050124,
     "user": {
      "displayName": "Laura Brown",
      "photoUrl": "https://lh3.googleusercontent.com/a-/AOh14GjYbC5So3kNOYBteW-fSY5JpgP-bBJa7kyAEluaKg=s64",
      "userId": "02180634349638765126"
     },
     "user_tz": 300
    },
    "id": "exy6mrWzTKeK",
    "outputId": "2e0653de-cba6-4920-8ab8-ca98ab2804be",
    "tags": []
   },
   "outputs": [
    {
     "data": {
      "text/plain": [
       "array([[50,  0,  0],\n",
       "       [ 0, 48,  2],\n",
       "       [ 0,  2, 48]])"
      ]
     },
     "execution_count": 42,
     "metadata": {},
     "output_type": "execute_result"
    }
   ],
   "source": [
    "# sklearn.metrics.confusion_matrix(y_true, y_pred, ...)\n",
    "from sklearn.metrics import confusion_matrix \n",
    "\n",
    "confusion_matrix(iris.target, predict)\n"
   ]
  },
  {
   "cell_type": "markdown",
   "id": "4bc6db58",
   "metadata": {
    "id": "YGqQd7DqUakp"
   },
   "source": [
    "Here, our classifier identifies all the setosa variety perfectly; it identified 48/50 versicolor correctly, and misclassified 2 versicolors as verginica; the classifier identified 48/50 virginica variety correctly, and misclassified 2 virginica varieties as versicolor. \n",
    "\n",
    "In order to extend the performance metrics from the binary classification (i.e. sensitivity, specificity, precision or NPV), a pair-wise comparison is needed, i.e., setosa -- non-setosa, versicolor -- non-versicolor, virginica -- non-verginica."
   ]
  },
  {
   "cell_type": "markdown",
   "id": "de5a2883",
   "metadata": {
    "id": "C4PXU0YKUbz-"
   },
   "source": [
    "Although the performance measures look pretty good, we have thus far checked the classifier performance on the same data that it has been trained on.  This is a common *fundamental flaw* in evaluating machine learning models.\n",
    "\n",
    "\n",
    "We have no way to measure how the model will behave on new, unlabeled data.  The common approach is to split the data into a **training** set and a **test** set. "
   ]
  },
  {
   "cell_type": "markdown",
   "id": "45814da1",
   "metadata": {
    "id": "4zoX6k67qFmx"
   },
   "source": [
    "### Model validation with Train/Test sets \n",
    "\n",
    "So what can be done?\n",
    "A better sense of a model's performance can be found using what's known as a *test or holdout set*: that is, we hold back some subset of the data from the training of the model, and then use this test/holdout set to check the model performance.\n",
    "\n",
    "<img src=\"https://pages.mtu.edu/~lebrown/un5550-f21/p6/train_test_split_new.png\" width=\"50%\">\n",
    "\n",
    "\n",
    "This splitting can be done using the ``train_test_split`` utility in Scikit-Learn:"
   ]
  },
  {
   "cell_type": "code",
   "execution_count": 43,
   "id": "8c7d3516",
   "metadata": {
    "colab": {
     "base_uri": "https://localhost:8080/"
    },
    "executionInfo": {
     "elapsed": 1132,
     "status": "ok",
     "timestamp": 1604619227277,
     "user": {
      "displayName": "Laura Brown",
      "photoUrl": "https://lh3.googleusercontent.com/a-/AOh14GjYbC5So3kNOYBteW-fSY5JpgP-bBJa7kyAEluaKg=s64",
      "userId": "02180634349638765126"
     },
     "user_tz": 300
    },
    "id": "PyvUcM9-UbUZ",
    "outputId": "d31d79c6-5d1a-4b8d-8cb9-c4a5b60b10fe",
    "tags": []
   },
   "outputs": [
    {
     "name": "stdout",
     "output_type": "stream",
     "text": [
      "accuracy = 0.96 \n"
     ]
    }
   ],
   "source": [
    "from sklearn.model_selection import train_test_split\n",
    "X_train, X_test, y_train, y_test = train_test_split(iris.data, iris.target, \n",
    "                                                    test_size=0.33, random_state=10)\n",
    "# note: test_size is a number between 0 and 1,\n",
    "# random_state is the seed used by the random number generator.  \n",
    "# Here, I've fixed it to 10 for reproducibility\n",
    "\n",
    "knn = neighbors.KNeighborsClassifier(n_neighbors = 5)\n",
    "\n",
    "# train the classifier using the training data\n",
    "knn.fit(X_train, y_train)\n",
    "\n",
    "# compute the prediction of the test set using the model\n",
    "predict  = knn.predict(X_test)\n",
    "\n",
    "from sklearn.metrics import accuracy_score\n",
    "print(\"accuracy = %g \" % (accuracy_score(y_test, predict)))"
   ]
  },
  {
   "cell_type": "markdown",
   "id": "224117f5",
   "metadata": {
    "id": "yzpMrxHIqSrK"
   },
   "source": [
    "We see here a more reasonable result: the nearest-neighbor classifier is about 95% accurate on this hold-out set. The hold-out set is similar to unknown data, because the model has not \"seen\" it before."
   ]
  },
  {
   "cell_type": "markdown",
   "id": "4a3b07a9",
   "metadata": {
    "id": "tD1z7jyoVA_8"
   },
   "source": [
    "Calculating the confusion matrix on the test data. \n"
   ]
  },
  {
   "cell_type": "code",
   "execution_count": 44,
   "id": "68fc59ec",
   "metadata": {
    "colab": {
     "base_uri": "https://localhost:8080/"
    },
    "executionInfo": {
     "elapsed": 1332,
     "status": "ok",
     "timestamp": 1604619290214,
     "user": {
      "displayName": "Laura Brown",
      "photoUrl": "https://lh3.googleusercontent.com/a-/AOh14GjYbC5So3kNOYBteW-fSY5JpgP-bBJa7kyAEluaKg=s64",
      "userId": "02180634349638765126"
     },
     "user_tz": 300
    },
    "id": "F-_yNuI5VEoD",
    "outputId": "9634edfe-29e8-4500-9fe3-6ffe0458b8a9",
    "tags": []
   },
   "outputs": [
    {
     "data": {
      "text/plain": [
       "array([[15,  0,  0],\n",
       "       [ 0, 17,  2],\n",
       "       [ 0,  0, 16]])"
      ]
     },
     "execution_count": 44,
     "metadata": {},
     "output_type": "execute_result"
    }
   ],
   "source": [
    "confusion_matrix(y_test, predict)"
   ]
  },
  {
   "cell_type": "markdown",
   "id": "9742ac00",
   "metadata": {
    "id": "vO3baYp-Vq0f"
   },
   "source": [
    "Which allows us to conclude that the classifier had a bit of problem trying to classify the versicolor and virginica species.\n",
    "\n"
   ]
  },
  {
   "cell_type": "markdown",
   "id": "4ed9dfc6",
   "metadata": {},
   "source": [
    "This is a common approach, but has multiple limitations.  First, there is the issue of model selection.  Most models have hyper-parameter, e.g., `n_neighbors` in KNN or kernel parameters of an SVM or we may also want to select among different models or algorithms.  A way to find a good parameter is to try different values and evaluate it on a test set.  Then, select the hyper-parameters performing best on the test set.\n",
    "\n",
    "<img src=\"https://pages.mtu.edu/~lebrown/un5550-f21/p6/overfitting_validation_set_3.png\" width=\"70%\">\n",
    "\n",
    "\n",
    "This assumes we know the \"real\" generalization performance for each hyper-parameter (this is only theoretically knowable).  What we have is the performance on the test set, which is a noisy version of the true generalization ability of the model.  If we pick the best performing hyper-parameters (red dot), it provides a good estimate of what the optimum hyper-parameter should be (the red dot is close to the maximum of the orange curve along the x-axis).  The accuracy on the test set is noisy, and the value selected (red dot) is overly optimistic.  *The test set accuracy is an unbiased estimate of generalization, but it's unbiased on average.  \n",
    "\n",
    "Also, we have used the test set to select our hyper-parameter, we have no way of estimating the performance of the model with this hyper-parameter. \n",
    "\n",
    "*How to solve this problem?* Use an additional set to evaluate/select hyperparameters. "
   ]
  },
  {
   "cell_type": "markdown",
   "id": "49e9f33c",
   "metadata": {
    "id": "n-la7dAaqoKc"
   },
   "source": [
    "### Model Selection with Three-fold split \n",
    "\n",
    "In the above example, we set the value of $k$ for the number of neighbors.  Let's instead explore how to select the optimum hyper-parameter.  \n",
    "\n",
    "Use of three separate sets:    \n",
    "* the training set for model building \n",
    "* the validation set for model selection \n",
    "* the test set for final model evaluation \n",
    "is probably the most common used method for model selection and evaluation. It is a **best practice** to follow (along with other techniques described in lab and future classes). \n",
    "\n",
    "<img src=\"https://pages.mtu.edu/~lebrown/un5550-f21/p6/train_test_validation_split.png\" width=\"50%\">\n",
    "\n",
    "With this new approach, we use the validation set to select the optimum hyper-parameter and the test set to estimate the performance (accuracy).  Because the test set was not used for estimating the best hyper-parameter, the test set provides an unbiased estimate of the generalization performance. It is important to note, *the test set only provides an unbiased result if we are using it once**.  If we apply the selection procedure several times, comparing several test-set results and picking the best-performing model, we are in the exact same situation as above, and the estimate will be biased. \n",
    "\n",
    "You want to be careful in the use of the test set; ideally, set it aside and use it only once after you decide on the final model.  \n"
   ]
  },
  {
   "cell_type": "markdown",
   "id": "167b42d4",
   "metadata": {},
   "source": [
    "#### Example of three-fold split \n",
    "\n",
    "Let's see a simple example of using the three-fold split to select the number of neighbors in KNN on the iris data set.  We first take 25% as the test set, then take 25% of the remaining as the validation set (about ~19% of the original data).  \n",
    "\n",
    "We build a model for each value of `n_neighbors` (range from 1-15 in steps of 2), evaluate it on the validation set and store the result.  We find the value which gives the best performance. \n",
    "\n",
    "Then, we often rebuild the model on all the training data (train + validation) with the best-performing hyper-parameter (as determined by the validation set), and evaluate the model on the test set. \n",
    "\n",
    "The step of retraining the model using both the training and validation set is optional, in particular, if model training is very expensive or if the amount of training data is large enough for our model.  In this example problem, neither is the case so we retrain. "
   ]
  },
  {
   "cell_type": "code",
   "execution_count": 45,
   "id": "612c5cbe",
   "metadata": {
    "colab": {
     "base_uri": "https://localhost:8080/"
    },
    "executionInfo": {
     "elapsed": 1307,
     "status": "ok",
     "timestamp": 1604619360959,
     "user": {
      "displayName": "Laura Brown",
      "photoUrl": "https://lh3.googleusercontent.com/a-/AOh14GjYbC5So3kNOYBteW-fSY5JpgP-bBJa7kyAEluaKg=s64",
      "userId": "02180634349638765126"
     },
     "user_tz": 300
    },
    "id": "Kziou2qxVKqM",
    "outputId": "e6cb2e9e-2547-4768-9406-6e5f1b0ea0b1",
    "tags": []
   },
   "outputs": [
    {
     "name": "stdout",
     "output_type": "stream",
     "text": [
      "best validation score:  0.964\n",
      "best n_neighbors: 5\n",
      "test-set score: 0.947\n"
     ]
    }
   ],
   "source": [
    "# Set up data for example \n",
    "X = iris.data \n",
    "y = iris.target\n",
    "\n",
    "# Split of the test set \n",
    "X_trainval, X_test, y_trainval, y_test = train_test_split(\n",
    "    X, y, test_size=0.25, random_state=5)\n",
    "\n",
    "# Split trainval into train + val \n",
    "X_train, X_val, y_train, y_val = train_test_split(\n",
    "    X_trainval, y_trainval, test_size=0.25, random_state=5)\n",
    "\n",
    "# create a list to hold the perf. results on validation set \n",
    "val_scores = [] \n",
    "# specify hyper-parameter values \n",
    "nbrs = np.arange(1,16,2)\n",
    "\n",
    "for n in nbrs: \n",
    "    # build a model \n",
    "    knn = neighbors.KNeighborsClassifier(n_neighbors=n)\n",
    "    knn.fit(X_train, y_train)\n",
    "    # calculate performance on validation set \n",
    "    val_scores.append(knn.score(X_val, y_val))\n",
    "\n",
    "# Find the best score and best hyper-parameter \n",
    "print(\"best validation score:  %.3f\" % np.max(val_scores))\n",
    "best_nbrs = nbrs[np.argmax(val_scores)]\n",
    "print(\"best n_neighbors: %d\" % best_nbrs)\n",
    "\n",
    "# Retrain model on train + validation set \n",
    "knn = neighbors.KNeighborsClassifier(n_neighbors=best_nbrs)\n",
    "knn.fit(X_trainval, y_trainval)\n",
    "print(\"test-set score: %.3f\" % knn.score(X_test, y_test))"
   ]
  },
  {
   "cell_type": "markdown",
   "id": "7919f97b",
   "metadata": {
    "id": "MtAJZyljVblS"
   },
   "source": [
    "This approach has improved upon the hold-out set method, but still relies on the particular splits.  What is we change the random splits, we might end up with different results.  In fact, if we see different outcomes based on our splits, it may mean the model is not very robust or there is not enough data.  \n",
    "\n",
    "*How can we make it more robust?*  Cross-validation (more next time)"
   ]
  },
  {
   "cell_type": "code",
   "execution_count": null,
   "id": "7065c1f7",
   "metadata": {},
   "outputs": [],
   "source": []
  },
  {
   "cell_type": "code",
   "execution_count": null,
   "id": "a6fd5ffc-cfbd-4c51-808f-b3df44c71f02",
   "metadata": {},
   "outputs": [],
   "source": []
  }
 ],
 "metadata": {
  "kernelspec": {
   "display_name": "Python [conda env:.conda-un5550] *",
   "language": "python",
   "name": "conda-env-.conda-un5550-py"
  },
  "language_info": {
   "codemirror_mode": {
    "name": "ipython",
    "version": 3
   },
   "file_extension": ".py",
   "mimetype": "text/x-python",
   "name": "python",
   "nbconvert_exporter": "python",
   "pygments_lexer": "ipython3",
   "version": "3.10.12"
  }
 },
 "nbformat": 4,
 "nbformat_minor": 5
}
