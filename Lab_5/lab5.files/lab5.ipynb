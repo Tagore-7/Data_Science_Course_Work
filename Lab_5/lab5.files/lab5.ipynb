{
 "cells": [
  {
   "cell_type": "markdown",
   "id": "0cf4e2b7",
   "metadata": {
    "id": "N6Yirgh_ZmdR"
   },
   "source": [
    "# Lab 5 - Getting Data\n",
    "\n",
    "The topics of week 5 is getting data with web scraping. \n",
    "\n",
    "In this lab notebook you will gain experience webscraping data of various forms.\n",
    "\n",
    "We will be looking at various websites and using them to get information (these sites are selected because of their public informative nature). "
   ]
  },
  {
   "cell_type": "markdown",
   "id": "955281cd",
   "metadata": {},
   "source": [
    "## Lab Setup "
   ]
  },
  {
   "cell_type": "code",
   "execution_count": 22,
   "id": "91642026",
   "metadata": {
    "id": "YVdDTDldbUrG",
    "tags": []
   },
   "outputs": [
    {
     "ename": "Exception",
     "evalue": "Could not create the log file as the file system is read-only. Please contact your instructor before continuing on this assignment.",
     "output_type": "error",
     "traceback": [
      "\u001b[0;31m---------------------------------------------------------------------------\u001b[0m",
      "\u001b[0;31mOSError\u001b[0m                                   Traceback (most recent call last)",
      "File \u001b[0;32m~/.conda/envs/un5550/lib/python3.10/site-packages/otter/check/logs.py:135\u001b[0m, in \u001b[0;36mLogEntry.flush_to_file\u001b[0;34m(self, filename)\u001b[0m\n\u001b[1;32m    134\u001b[0m \u001b[38;5;28;01mtry\u001b[39;00m:\n\u001b[0;32m--> 135\u001b[0m     file \u001b[38;5;241m=\u001b[39m \u001b[38;5;28;43mopen\u001b[39;49m\u001b[43m(\u001b[49m\u001b[43mfilename\u001b[49m\u001b[43m,\u001b[49m\u001b[43m \u001b[49m\u001b[38;5;124;43m\"\u001b[39;49m\u001b[38;5;124;43mab+\u001b[39;49m\u001b[38;5;124;43m\"\u001b[39;49m\u001b[43m)\u001b[49m\n\u001b[1;32m    136\u001b[0m     dill\u001b[38;5;241m.\u001b[39mdump(\u001b[38;5;28mself\u001b[39m, file)\n",
      "\u001b[0;31mOSError\u001b[0m: [Errno 116] Stale file handle: '.OTTER_LOG'",
      "\nDuring handling of the above exception, another exception occurred:\n",
      "\u001b[0;31mException\u001b[0m                                 Traceback (most recent call last)",
      "Cell \u001b[0;32mIn[22], line 8\u001b[0m\n\u001b[1;32m      5\u001b[0m \u001b[38;5;28;01mimport\u001b[39;00m \u001b[38;5;21;01mre\u001b[39;00m\n\u001b[1;32m      7\u001b[0m \u001b[38;5;28;01mimport\u001b[39;00m \u001b[38;5;21;01motter\u001b[39;00m\n\u001b[0;32m----> 8\u001b[0m grader \u001b[38;5;241m=\u001b[39m \u001b[43motter\u001b[49m\u001b[38;5;241;43m.\u001b[39;49m\u001b[43mNotebook\u001b[49m\u001b[43m(\u001b[49m\u001b[43m)\u001b[49m\n",
      "File \u001b[0;32m~/.conda/envs/un5550/lib/python3.10/site-packages/otter/check/utils.py:206\u001b[0m, in \u001b[0;36mlogs_event.<locals>.event_logger\u001b[0;34m(wrapped, self, args, kwargs)\u001b[0m\n\u001b[1;32m    203\u001b[0m     \u001b[38;5;28;01mraise\u001b[39;00m e\n\u001b[1;32m    205\u001b[0m \u001b[38;5;28;01melse\u001b[39;00m:\n\u001b[0;32m--> 206\u001b[0m     \u001b[38;5;28;43mself\u001b[39;49m\u001b[38;5;241;43m.\u001b[39;49m\u001b[43m_log_event\u001b[49m\u001b[43m(\u001b[49m\u001b[43mevent_type\u001b[49m\u001b[43m,\u001b[49m\u001b[43m \u001b[49m\u001b[43mresults\u001b[49m\u001b[38;5;241;43m=\u001b[39;49m\u001b[43mresults\u001b[49m\u001b[43m,\u001b[49m\u001b[43m \u001b[49m\u001b[43mquestion\u001b[49m\u001b[38;5;241;43m=\u001b[39;49m\u001b[43mquestion\u001b[49m\u001b[43m,\u001b[49m\u001b[43m \u001b[49m\u001b[43mshelve_env\u001b[49m\u001b[38;5;241;43m=\u001b[39;49m\u001b[43mshelve_env\u001b[49m\u001b[43m)\u001b[49m\n\u001b[1;32m    208\u001b[0m \u001b[38;5;28;01mreturn\u001b[39;00m results\n",
      "File \u001b[0;32m~/.conda/envs/un5550/lib/python3.10/site-packages/otter/check/utils.py:153\u001b[0m, in \u001b[0;36mincompatible_with.<locals>.incompatible\u001b[0;34m(wrapped, self, args, kwargs)\u001b[0m\n\u001b[1;32m    151\u001b[0m     \u001b[38;5;28;01melse\u001b[39;00m:\n\u001b[1;32m    152\u001b[0m         \u001b[38;5;28;01mreturn\u001b[39;00m\n\u001b[0;32m--> 153\u001b[0m \u001b[38;5;28;01mreturn\u001b[39;00m \u001b[43mwrapped\u001b[49m\u001b[43m(\u001b[49m\u001b[38;5;241;43m*\u001b[39;49m\u001b[43margs\u001b[49m\u001b[43m,\u001b[49m\u001b[43m \u001b[49m\u001b[38;5;241;43m*\u001b[39;49m\u001b[38;5;241;43m*\u001b[39;49m\u001b[43mkwargs\u001b[49m\u001b[43m)\u001b[49m\n",
      "File \u001b[0;32m~/.conda/envs/un5550/lib/python3.10/site-packages/otter/check/notebook.py:153\u001b[0m, in \u001b[0;36mNotebook._log_event\u001b[0;34m(self, event_type, results, question, success, error, shelve_env)\u001b[0m\n\u001b[1;32m    144\u001b[0m \u001b[38;5;28;01mif\u001b[39;00m _SHELVE \u001b[38;5;129;01mand\u001b[39;00m event_type \u001b[38;5;241m==\u001b[39m EventType\u001b[38;5;241m.\u001b[39mCHECK:\n\u001b[1;32m    145\u001b[0m     entry\u001b[38;5;241m.\u001b[39mshelve(\n\u001b[1;32m    146\u001b[0m         shelve_env,\n\u001b[1;32m    147\u001b[0m         delete\u001b[38;5;241m=\u001b[39m\u001b[38;5;28;01mTrue\u001b[39;00m,\n\u001b[0;32m   (...)\u001b[0m\n\u001b[1;32m    150\u001b[0m         variables\u001b[38;5;241m=\u001b[39m\u001b[38;5;28mself\u001b[39m\u001b[38;5;241m.\u001b[39m_vars_to_store\n\u001b[1;32m    151\u001b[0m     )\n\u001b[0;32m--> 153\u001b[0m \u001b[43mentry\u001b[49m\u001b[38;5;241;43m.\u001b[39;49m\u001b[43mflush_to_file\u001b[49m\u001b[43m(\u001b[49m\u001b[43m_OTTER_LOG_FILENAME\u001b[49m\u001b[43m)\u001b[49m\n",
      "File \u001b[0;32m~/.conda/envs/un5550/lib/python3.10/site-packages/otter/check/logs.py:139\u001b[0m, in \u001b[0;36mLogEntry.flush_to_file\u001b[0;34m(self, filename)\u001b[0m\n\u001b[1;32m    136\u001b[0m     dill\u001b[38;5;241m.\u001b[39mdump(\u001b[38;5;28mself\u001b[39m, file)\n\u001b[1;32m    138\u001b[0m \u001b[38;5;28;01mexcept\u001b[39;00m \u001b[38;5;167;01mOSError\u001b[39;00m:\n\u001b[0;32m--> 139\u001b[0m     \u001b[38;5;28;01mraise\u001b[39;00m \u001b[38;5;167;01mException\u001b[39;00m(\n\u001b[1;32m    140\u001b[0m         \u001b[38;5;124m\"\u001b[39m\u001b[38;5;124mCould not create the log file as the file system is read-only. Please contact your \u001b[39m\u001b[38;5;124m\"\u001b[39m\n\u001b[1;32m    141\u001b[0m         \u001b[38;5;124m\"\u001b[39m\u001b[38;5;124minstructor before continuing on this assignment.\u001b[39m\u001b[38;5;124m\"\u001b[39m\n\u001b[1;32m    142\u001b[0m     )\n\u001b[1;32m    144\u001b[0m \u001b[38;5;28;01mfinally\u001b[39;00m:\n\u001b[1;32m    145\u001b[0m     \u001b[38;5;28;01mif\u001b[39;00m \u001b[38;5;124m\"\u001b[39m\u001b[38;5;124mfile\u001b[39m\u001b[38;5;124m\"\u001b[39m \u001b[38;5;129;01min\u001b[39;00m \u001b[38;5;28mlocals\u001b[39m():\n",
      "\u001b[0;31mException\u001b[0m: Could not create the log file as the file system is read-only. Please contact your instructor before continuing on this assignment."
     ]
    }
   ],
   "source": [
    "from bs4 import BeautifulSoup\n",
    "import requests \n",
    "import pandas as pd\n",
    "import numpy as np\n",
    "import re\n",
    "\n",
    "import otter\n",
    "grader = otter.Notebook()"
   ]
  },
  {
   "cell_type": "markdown",
   "id": "2edffc04",
   "metadata": {
    "deletable": false,
    "editable": false,
    "id": "gs41KLtpZ1tR"
   },
   "source": [
    "## Exercise 1 \n",
    "\n",
    "Identify the name of the data set most relevant to 'climate' on https://www.data.gov \n",
    "\n",
    "You will want to use the **url = \"https://catalog.data.gov/dataset?q=climate&sort=score+desc%2C+name+asc\"**.\n",
    "\n",
    "Then, you will use BeautifulSoup to parse the website to find the name of the data set.  "
   ]
  },
  {
   "cell_type": "code",
   "execution_count": 18,
   "id": "f1e9d0a8",
   "metadata": {
    "id": "0VNObJxZYv5Q",
    "tags": []
   },
   "outputs": [
    {
     "ename": "TypeError",
     "evalue": "object of type 'Response' has no len()",
     "output_type": "error",
     "traceback": [
      "\u001b[0;31m---------------------------------------------------------------------------\u001b[0m",
      "\u001b[0;31mTypeError\u001b[0m                                 Traceback (most recent call last)",
      "Cell \u001b[0;32mIn[18], line 5\u001b[0m\n\u001b[1;32m      3\u001b[0m url \u001b[38;5;241m=\u001b[39m \u001b[38;5;124m'\u001b[39m\u001b[38;5;124mhttps://catalog.data.gov/dataset?q=climate&sort=score+desc\u001b[39m\u001b[38;5;124m%\u001b[39m\u001b[38;5;124m2C+name+asc\u001b[39m\u001b[38;5;124m'\u001b[39m\n\u001b[1;32m      4\u001b[0m resp_q1 \u001b[38;5;241m=\u001b[39m requests\u001b[38;5;241m.\u001b[39mget(url) \n\u001b[0;32m----> 5\u001b[0m soup_q1 \u001b[38;5;241m=\u001b[39m \u001b[43mBeautifulSoup\u001b[49m\u001b[43m(\u001b[49m\u001b[43mresp_q1\u001b[49m\u001b[43m,\u001b[49m\u001b[38;5;124;43m'\u001b[39;49m\u001b[38;5;124;43mhtml.parser\u001b[39;49m\u001b[38;5;124;43m'\u001b[39;49m\u001b[43m)\u001b[49m\n\u001b[1;32m      7\u001b[0m \u001b[38;5;66;03m#using header tag to get the text \u001b[39;00m\n\u001b[1;32m      8\u001b[0m name \u001b[38;5;241m=\u001b[39m soup_q1\u001b[38;5;241m.\u001b[39mh3\u001b[38;5;241m.\u001b[39ma\u001b[38;5;241m.\u001b[39mtext\u001b[38;5;241m.\u001b[39mstrip()\n",
      "File \u001b[0;32m~/.conda/envs/un5550/lib/python3.10/site-packages/bs4/__init__.py:315\u001b[0m, in \u001b[0;36mBeautifulSoup.__init__\u001b[0;34m(self, markup, features, builder, parse_only, from_encoding, exclude_encodings, element_classes, **kwargs)\u001b[0m\n\u001b[1;32m    313\u001b[0m \u001b[38;5;28;01mif\u001b[39;00m \u001b[38;5;28mhasattr\u001b[39m(markup, \u001b[38;5;124m'\u001b[39m\u001b[38;5;124mread\u001b[39m\u001b[38;5;124m'\u001b[39m):        \u001b[38;5;66;03m# It's a file-type object.\u001b[39;00m\n\u001b[1;32m    314\u001b[0m     markup \u001b[38;5;241m=\u001b[39m markup\u001b[38;5;241m.\u001b[39mread()\n\u001b[0;32m--> 315\u001b[0m \u001b[38;5;28;01melif\u001b[39;00m \u001b[38;5;28;43mlen\u001b[39;49m\u001b[43m(\u001b[49m\u001b[43mmarkup\u001b[49m\u001b[43m)\u001b[49m \u001b[38;5;241m<\u001b[39m\u001b[38;5;241m=\u001b[39m \u001b[38;5;241m256\u001b[39m \u001b[38;5;129;01mand\u001b[39;00m (\n\u001b[1;32m    316\u001b[0m         (\u001b[38;5;28misinstance\u001b[39m(markup, \u001b[38;5;28mbytes\u001b[39m) \u001b[38;5;129;01mand\u001b[39;00m \u001b[38;5;129;01mnot\u001b[39;00m \u001b[38;5;124mb\u001b[39m\u001b[38;5;124m'\u001b[39m\u001b[38;5;124m<\u001b[39m\u001b[38;5;124m'\u001b[39m \u001b[38;5;129;01min\u001b[39;00m markup)\n\u001b[1;32m    317\u001b[0m         \u001b[38;5;129;01mor\u001b[39;00m (\u001b[38;5;28misinstance\u001b[39m(markup, \u001b[38;5;28mstr\u001b[39m) \u001b[38;5;129;01mand\u001b[39;00m \u001b[38;5;129;01mnot\u001b[39;00m \u001b[38;5;124m'\u001b[39m\u001b[38;5;124m<\u001b[39m\u001b[38;5;124m'\u001b[39m \u001b[38;5;129;01min\u001b[39;00m markup)\n\u001b[1;32m    318\u001b[0m ):\n\u001b[1;32m    319\u001b[0m     \u001b[38;5;66;03m# Issue warnings for a couple beginner problems\u001b[39;00m\n\u001b[1;32m    320\u001b[0m     \u001b[38;5;66;03m# involving passing non-markup to Beautiful Soup.\u001b[39;00m\n\u001b[1;32m    321\u001b[0m     \u001b[38;5;66;03m# Beautiful Soup will still parse the input as markup,\u001b[39;00m\n\u001b[1;32m    322\u001b[0m     \u001b[38;5;66;03m# since that is sometimes the intended behavior.\u001b[39;00m\n\u001b[1;32m    323\u001b[0m     \u001b[38;5;28;01mif\u001b[39;00m \u001b[38;5;129;01mnot\u001b[39;00m \u001b[38;5;28mself\u001b[39m\u001b[38;5;241m.\u001b[39m_markup_is_url(markup):\n\u001b[1;32m    324\u001b[0m         \u001b[38;5;28mself\u001b[39m\u001b[38;5;241m.\u001b[39m_markup_resembles_filename(markup)                \n",
      "\u001b[0;31mTypeError\u001b[0m: object of type 'Response' has no len()"
     ]
    }
   ],
   "source": [
    "# Identify the name of the data set most relevant to \"climate\" on data.gov\n",
    "# Use BeautifulSoup to parse the website to find the name of the data set. \n",
    "url = 'https://catalog.data.gov/dataset?q=climate&sort=score+desc%2C+name+asc'\n",
    "resp_q1 = requests.get(url) \n",
    "soup_q1 = BeautifulSoup(resp_q1,'html.parser')\n",
    "\n",
    "#using header tag to get the text \n",
    "name = soup_q1.h3.a.text.strip()\n",
    "name"
   ]
  },
  {
   "cell_type": "code",
   "execution_count": 19,
   "id": "9a3e623c",
   "metadata": {
    "deletable": false,
    "editable": false
   },
   "outputs": [
    {
     "ename": "Exception",
     "evalue": "Could not create the log file as the file system is read-only. Please contact your instructor before continuing on this assignment.",
     "output_type": "error",
     "traceback": [
      "\u001b[0;31m---------------------------------------------------------------------------\u001b[0m",
      "\u001b[0;31mValueError\u001b[0m                                Traceback (most recent call last)",
      "File \u001b[0;32m~/.conda/envs/un5550/lib/python3.10/site-packages/otter/check/utils.py:194\u001b[0m, in \u001b[0;36mlogs_event.<locals>.event_logger\u001b[0;34m(wrapped, self, args, kwargs)\u001b[0m\n\u001b[1;32m    193\u001b[0m \u001b[38;5;28;01mif\u001b[39;00m event_type \u001b[38;5;241m==\u001b[39m EventType\u001b[38;5;241m.\u001b[39mCHECK:\n\u001b[0;32m--> 194\u001b[0m     question, results, shelve_env \u001b[38;5;241m=\u001b[39m \u001b[43mwrapped\u001b[49m\u001b[43m(\u001b[49m\u001b[38;5;241;43m*\u001b[39;49m\u001b[43margs\u001b[49m\u001b[43m,\u001b[49m\u001b[43m \u001b[49m\u001b[38;5;241;43m*\u001b[39;49m\u001b[38;5;241;43m*\u001b[39;49m\u001b[43mkwargs\u001b[49m\u001b[43m)\u001b[49m\n\u001b[1;32m    196\u001b[0m \u001b[38;5;28;01melse\u001b[39;00m:\n",
      "File \u001b[0;32m~/.conda/envs/un5550/lib/python3.10/site-packages/otter/check/notebook.py:201\u001b[0m, in \u001b[0;36mNotebook.check\u001b[0;34m(self, question, global_env)\u001b[0m\n\u001b[1;32m    200\u001b[0m \u001b[38;5;28mself\u001b[39m\u001b[38;5;241m.\u001b[39m_logger\u001b[38;5;241m.\u001b[39minfo(\u001b[38;5;124mf\u001b[39m\u001b[38;5;124m\"\u001b[39m\u001b[38;5;124mRunning check for question: \u001b[39m\u001b[38;5;132;01m{\u001b[39;00mquestion\u001b[38;5;132;01m}\u001b[39;00m\u001b[38;5;124m\"\u001b[39m)\n\u001b[0;32m--> 201\u001b[0m test_path, test_name \u001b[38;5;241m=\u001b[39m \u001b[43mresolve_test_info\u001b[49m\u001b[43m(\u001b[49m\n\u001b[1;32m    202\u001b[0m \u001b[43m    \u001b[49m\u001b[38;5;28;43mself\u001b[39;49m\u001b[38;5;241;43m.\u001b[39;49m\u001b[43m_path\u001b[49m\u001b[43m,\u001b[49m\n\u001b[1;32m    203\u001b[0m \u001b[43m    \u001b[49m\u001b[38;5;28;43mself\u001b[39;49m\u001b[38;5;241;43m.\u001b[39;49m\u001b[43m_resolve_nb_path\u001b[49m\u001b[43m(\u001b[49m\u001b[38;5;28;43;01mNone\u001b[39;49;00m\u001b[43m,\u001b[49m\u001b[43m \u001b[49m\u001b[43mfail_silently\u001b[49m\u001b[38;5;241;43m=\u001b[39;49m\u001b[38;5;28;43;01mTrue\u001b[39;49;00m\u001b[43m)\u001b[49m\u001b[43m,\u001b[49m\n\u001b[1;32m    204\u001b[0m \u001b[43m    \u001b[49m\u001b[38;5;28;43mself\u001b[39;49m\u001b[38;5;241;43m.\u001b[39;49m\u001b[43m_tests_url_prefix\u001b[49m\u001b[43m,\u001b[49m\n\u001b[1;32m    205\u001b[0m \u001b[43m    \u001b[49m\u001b[43mquestion\u001b[49m\u001b[43m,\u001b[49m\n\u001b[1;32m    206\u001b[0m \u001b[43m\u001b[49m\u001b[43m)\u001b[49m\n\u001b[1;32m    208\u001b[0m \u001b[38;5;28mself\u001b[39m\u001b[38;5;241m.\u001b[39m_logger\u001b[38;5;241m.\u001b[39mdebug(\u001b[38;5;124mf\u001b[39m\u001b[38;5;124m\"\u001b[39m\u001b[38;5;124mResolved test path: \u001b[39m\u001b[38;5;132;01m{\u001b[39;00mtest_path\u001b[38;5;132;01m}\u001b[39;00m\u001b[38;5;124m\"\u001b[39m)\n",
      "File \u001b[0;32m~/.conda/envs/un5550/lib/python3.10/site-packages/otter/check/utils.py:298\u001b[0m, in \u001b[0;36mresolve_test_info\u001b[0;34m(tests_dir, nb_path, tests_url_prefix, question)\u001b[0m\n\u001b[1;32m    297\u001b[0m \u001b[38;5;28;01mif\u001b[39;00m nb_path \u001b[38;5;129;01mis\u001b[39;00m \u001b[38;5;28;01mNone\u001b[39;00m:\n\u001b[0;32m--> 298\u001b[0m     \u001b[38;5;28;01mraise\u001b[39;00m \u001b[38;5;167;01mValueError\u001b[39;00m(\u001b[38;5;124m\"\u001b[39m\u001b[38;5;124mTests directory does not exist and no notebook path provided\u001b[39m\u001b[38;5;124m\"\u001b[39m)\n\u001b[1;32m    300\u001b[0m test_path \u001b[38;5;241m=\u001b[39m nb_path\n",
      "\u001b[0;31mValueError\u001b[0m: Tests directory does not exist and no notebook path provided",
      "\nDuring handling of the above exception, another exception occurred:\n",
      "\u001b[0;31mOSError\u001b[0m                                   Traceback (most recent call last)",
      "File \u001b[0;32m~/.conda/envs/un5550/lib/python3.10/site-packages/otter/check/logs.py:135\u001b[0m, in \u001b[0;36mLogEntry.flush_to_file\u001b[0;34m(self, filename)\u001b[0m\n\u001b[1;32m    134\u001b[0m \u001b[38;5;28;01mtry\u001b[39;00m:\n\u001b[0;32m--> 135\u001b[0m     file \u001b[38;5;241m=\u001b[39m \u001b[38;5;28;43mopen\u001b[39;49m\u001b[43m(\u001b[49m\u001b[43mfilename\u001b[49m\u001b[43m,\u001b[49m\u001b[43m \u001b[49m\u001b[38;5;124;43m\"\u001b[39;49m\u001b[38;5;124;43mab+\u001b[39;49m\u001b[38;5;124;43m\"\u001b[39;49m\u001b[43m)\u001b[49m\n\u001b[1;32m    136\u001b[0m     dill\u001b[38;5;241m.\u001b[39mdump(\u001b[38;5;28mself\u001b[39m, file)\n",
      "\u001b[0;31mOSError\u001b[0m: [Errno 116] Stale file handle: '.OTTER_LOG'",
      "\nDuring handling of the above exception, another exception occurred:\n",
      "\u001b[0;31mException\u001b[0m                                 Traceback (most recent call last)",
      "Cell \u001b[0;32mIn[19], line 1\u001b[0m\n\u001b[0;32m----> 1\u001b[0m \u001b[43mgrader\u001b[49m\u001b[38;5;241;43m.\u001b[39;49m\u001b[43mcheck\u001b[49m\u001b[43m(\u001b[49m\u001b[38;5;124;43m\"\u001b[39;49m\u001b[38;5;124;43mq1\u001b[39;49m\u001b[38;5;124;43m\"\u001b[39;49m\u001b[43m)\u001b[49m\n",
      "File \u001b[0;32m~/.conda/envs/un5550/lib/python3.10/site-packages/otter/check/utils.py:202\u001b[0m, in \u001b[0;36mlogs_event.<locals>.event_logger\u001b[0;34m(wrapped, self, args, kwargs)\u001b[0m\n\u001b[1;32m    199\u001b[0m         question \u001b[38;5;241m=\u001b[39m \u001b[38;5;28;01mNone\u001b[39;00m\n\u001b[1;32m    201\u001b[0m \u001b[38;5;28;01mexcept\u001b[39;00m \u001b[38;5;167;01mException\u001b[39;00m \u001b[38;5;28;01mas\u001b[39;00m e:\n\u001b[0;32m--> 202\u001b[0m     \u001b[38;5;28;43mself\u001b[39;49m\u001b[38;5;241;43m.\u001b[39;49m\u001b[43m_log_event\u001b[49m\u001b[43m(\u001b[49m\u001b[43mevent_type\u001b[49m\u001b[43m,\u001b[49m\u001b[43m \u001b[49m\u001b[43msuccess\u001b[49m\u001b[38;5;241;43m=\u001b[39;49m\u001b[38;5;28;43;01mFalse\u001b[39;49;00m\u001b[43m,\u001b[49m\u001b[43m \u001b[49m\u001b[43merror\u001b[49m\u001b[38;5;241;43m=\u001b[39;49m\u001b[43me\u001b[49m\u001b[43m)\u001b[49m\n\u001b[1;32m    203\u001b[0m     \u001b[38;5;28;01mraise\u001b[39;00m e\n\u001b[1;32m    205\u001b[0m \u001b[38;5;28;01melse\u001b[39;00m:\n",
      "File \u001b[0;32m~/.conda/envs/un5550/lib/python3.10/site-packages/otter/check/utils.py:153\u001b[0m, in \u001b[0;36mincompatible_with.<locals>.incompatible\u001b[0;34m(wrapped, self, args, kwargs)\u001b[0m\n\u001b[1;32m    151\u001b[0m     \u001b[38;5;28;01melse\u001b[39;00m:\n\u001b[1;32m    152\u001b[0m         \u001b[38;5;28;01mreturn\u001b[39;00m\n\u001b[0;32m--> 153\u001b[0m \u001b[38;5;28;01mreturn\u001b[39;00m \u001b[43mwrapped\u001b[49m\u001b[43m(\u001b[49m\u001b[38;5;241;43m*\u001b[39;49m\u001b[43margs\u001b[49m\u001b[43m,\u001b[49m\u001b[43m \u001b[49m\u001b[38;5;241;43m*\u001b[39;49m\u001b[38;5;241;43m*\u001b[39;49m\u001b[43mkwargs\u001b[49m\u001b[43m)\u001b[49m\n",
      "File \u001b[0;32m~/.conda/envs/un5550/lib/python3.10/site-packages/otter/check/notebook.py:153\u001b[0m, in \u001b[0;36mNotebook._log_event\u001b[0;34m(self, event_type, results, question, success, error, shelve_env)\u001b[0m\n\u001b[1;32m    144\u001b[0m \u001b[38;5;28;01mif\u001b[39;00m _SHELVE \u001b[38;5;129;01mand\u001b[39;00m event_type \u001b[38;5;241m==\u001b[39m EventType\u001b[38;5;241m.\u001b[39mCHECK:\n\u001b[1;32m    145\u001b[0m     entry\u001b[38;5;241m.\u001b[39mshelve(\n\u001b[1;32m    146\u001b[0m         shelve_env,\n\u001b[1;32m    147\u001b[0m         delete\u001b[38;5;241m=\u001b[39m\u001b[38;5;28;01mTrue\u001b[39;00m,\n\u001b[0;32m   (...)\u001b[0m\n\u001b[1;32m    150\u001b[0m         variables\u001b[38;5;241m=\u001b[39m\u001b[38;5;28mself\u001b[39m\u001b[38;5;241m.\u001b[39m_vars_to_store\n\u001b[1;32m    151\u001b[0m     )\n\u001b[0;32m--> 153\u001b[0m \u001b[43mentry\u001b[49m\u001b[38;5;241;43m.\u001b[39;49m\u001b[43mflush_to_file\u001b[49m\u001b[43m(\u001b[49m\u001b[43m_OTTER_LOG_FILENAME\u001b[49m\u001b[43m)\u001b[49m\n",
      "File \u001b[0;32m~/.conda/envs/un5550/lib/python3.10/site-packages/otter/check/logs.py:139\u001b[0m, in \u001b[0;36mLogEntry.flush_to_file\u001b[0;34m(self, filename)\u001b[0m\n\u001b[1;32m    136\u001b[0m     dill\u001b[38;5;241m.\u001b[39mdump(\u001b[38;5;28mself\u001b[39m, file)\n\u001b[1;32m    138\u001b[0m \u001b[38;5;28;01mexcept\u001b[39;00m \u001b[38;5;167;01mOSError\u001b[39;00m:\n\u001b[0;32m--> 139\u001b[0m     \u001b[38;5;28;01mraise\u001b[39;00m \u001b[38;5;167;01mException\u001b[39;00m(\n\u001b[1;32m    140\u001b[0m         \u001b[38;5;124m\"\u001b[39m\u001b[38;5;124mCould not create the log file as the file system is read-only. Please contact your \u001b[39m\u001b[38;5;124m\"\u001b[39m\n\u001b[1;32m    141\u001b[0m         \u001b[38;5;124m\"\u001b[39m\u001b[38;5;124minstructor before continuing on this assignment.\u001b[39m\u001b[38;5;124m\"\u001b[39m\n\u001b[1;32m    142\u001b[0m     )\n\u001b[1;32m    144\u001b[0m \u001b[38;5;28;01mfinally\u001b[39;00m:\n\u001b[1;32m    145\u001b[0m     \u001b[38;5;28;01mif\u001b[39;00m \u001b[38;5;124m\"\u001b[39m\u001b[38;5;124mfile\u001b[39m\u001b[38;5;124m\"\u001b[39m \u001b[38;5;129;01min\u001b[39;00m \u001b[38;5;28mlocals\u001b[39m():\n",
      "\u001b[0;31mException\u001b[0m: Could not create the log file as the file system is read-only. Please contact your instructor before continuing on this assignment."
     ]
    }
   ],
   "source": [
    "grader.check(\"q1\")"
   ]
  },
  {
   "cell_type": "markdown",
   "id": "48b82f39",
   "metadata": {
    "deletable": false,
    "editable": false,
    "id": "AM4-gV6JbZUi"
   },
   "source": [
    "## Exercise 2 \n",
    "\n",
    "Total number of clinical trials (\"research studies\") recorded at the National Institutes of Health, https://clinicaltrials.gov"
   ]
  },
  {
   "cell_type": "code",
   "execution_count": null,
   "id": "71696171",
   "metadata": {
    "id": "L2Nd4fZYbc5Q",
    "tags": []
   },
   "outputs": [],
   "source": [
    "# Identify the number of clinical trials (research studies) on https://clinicaltrials.gov\n",
    "# Use BeautifulSoup to parse the website to find the number of studies. \n",
    "url = 'https://classic.clinicaltrials.gov/'\n",
    "resp_q2 = requests.get(url) \n",
    "soup_q2 = BeautifulSoup(resp_q2,'html.parser')\n",
    "\n",
    "#using header tag to get the text and converting to integer.\n",
    "num_research_studies =  int(soup_q2.h2.text.split()[1].replace(',','')) # integer value\n",
    "num_research_studies"
   ]
  },
  {
   "cell_type": "code",
   "execution_count": null,
   "id": "e64c1270",
   "metadata": {
    "deletable": false,
    "editable": false
   },
   "outputs": [],
   "source": [
    "grader.check(\"q2\")"
   ]
  },
  {
   "cell_type": "markdown",
   "id": "4d14345f",
   "metadata": {
    "deletable": false,
    "editable": false,
    "id": "hLv57yD-bsCI"
   },
   "source": [
    "## Exercise 3 \n",
    "\n",
    "Give the number of travel advisories, by level, for international travel given by the US government. Data available at: https://travel.state.gov/content/travel/en/traveladvisories/traveladvisories.html/\n",
    "\n",
    "Create two solutions for this question, the first using `pandas` `read_html` function.  The second version should be using just BeautifulSoup and Python to scrape the table. \n",
    "\n",
    "Note, you do not need to put the results into a DataFrame for version 2 (although that is one option). "
   ]
  },
  {
   "cell_type": "code",
   "execution_count": null,
   "id": "e9a2e2ad",
   "metadata": {
    "deletable": false,
    "editable": false,
    "id": "Z-VKIhm5bp0d",
    "tags": []
   },
   "outputs": [],
   "source": [
    "site = requests.get('https://travel.state.gov/content/travel/en/traveladvisories/traveladvisories.html/').text\n",
    "q3 = BeautifulSoup(site, 'html5lib')"
   ]
  },
  {
   "cell_type": "markdown",
   "id": "9e6b181d",
   "metadata": {
    "deletable": false,
    "editable": false,
    "id": "xKqvx5j7b7Pt"
   },
   "source": [
    "**Version 1** - Write one solution using pandas `read_html`"
   ]
  },
  {
   "cell_type": "markdown",
   "id": "9938119a",
   "metadata": {
    "deletable": false,
    "editable": false,
    "id": "L-77DMh1b3Iq"
   },
   "source": [
    "**Version 2** - Write another solution just using beautiful soup and other Python functions to scrape the table."
   ]
  },
  {
   "cell_type": "code",
   "execution_count": null,
   "id": "19f652f9",
   "metadata": {
    "id": "hObOuGpCbxNU",
    "tags": []
   },
   "outputs": [],
   "source": [
    "# Version 1\n",
    "# Read in the table using pandas \"read_html\" function \n",
    "# Report out number of each warnings \n",
    "\n",
    "\n",
    "travel_advisory = pd.read_html(\"https://travel.state.gov/content/travel/en/traveladvisories/traveladvisories.html/\")[0]\n",
    "travel_advisory_level_counts = travel_advisory['Level'].value_counts()\n",
    "\n",
    "l1Num1 = travel_advisory_level_counts.get('Level 1: Exercise Normal Precautions')\n",
    "l2Num1 = travel_advisory_level_counts.get('Level 2: Exercise Increased Caution')\n",
    "l3Num1 = travel_advisory_level_counts.get('Level 3: Reconsider Travel')\n",
    "l4Num1 = travel_advisory_level_counts.get('Level 4: Do Not Travel')\n",
    "\n",
    "\n",
    "\n",
    "\n",
    "print(\"Number of travel Level 1 warnings : \" +  str(l1Num1)) \n",
    "print(\"Number of travel Level 2 warnings : \" +  str(l2Num1))\n",
    "print(\"Number of travel Level 3 warnings : \" +  str(l3Num1))\n",
    "print(\"Number of travel Level 4 warnings : \" +  str(l4Num1))"
   ]
  },
  {
   "cell_type": "code",
   "execution_count": null,
   "id": "3d906f89",
   "metadata": {
    "id": "I5meuSuzbze6",
    "tags": []
   },
   "outputs": [],
   "source": [
    "# Version 2\n",
    "# Write another solution just using beautiful soup and other Python functions to \n",
    "#   scrape the table information\n",
    "# Report out number of each warnings \n",
    "\n",
    "\n",
    "# for getting the table from website you can find the table tag and has id summary using it we can get the table.\n",
    "travel_advisories_table = q3.find('table', {'summary': ''})\n",
    "\n",
    "\n",
    "#creating two lists for storing the values\n",
    "advisories = []\n",
    "levels = []\n",
    "\n",
    "#for storing all the data from the table. \n",
    "for row in travel_advisories_table.find_all('tr')[1:]:\n",
    "    columns = row.find_all('td')\n",
    "    advisories.append(columns[0].text.strip())\n",
    "    levels.append(columns[1].text.strip())\n",
    "\n",
    "# Creating a dataframe with same coulmn names as in the website \n",
    "travel_advisory = pd.DataFrame({'Advisory': advisories, 'Level': levels})\n",
    "\n",
    "\n",
    "#using same code above to get the level values\n",
    "travel_advisory_level_counts = travel_advisory['Level'].value_counts()\n",
    "\n",
    "l1Num2 = travel_advisory_level_counts.get('Level 1: Exercise Normal Precautions')\n",
    "l2Num2 = travel_advisory_level_counts.get('Level 2: Exercise Increased Caution')\n",
    "l3Num2 = travel_advisory_level_counts.get('Level 3: Reconsider Travel')\n",
    "l4Num2 = travel_advisory_level_counts.get('Level 4: Do Not Travel')\n",
    "\n",
    "\n",
    "\n",
    "print(\"Number of travel Level 1 warnings : \" +  str(l1Num2)) \n",
    "print(\"Number of travel Level 2 warnings : \" +  str(l2Num2))\n",
    "print(\"Number of travel Level 3 warnings : \" +  str(l3Num2))\n",
    "print(\"Number of travel Level 4 warnings : \" +  str(l4Num2))"
   ]
  },
  {
   "cell_type": "code",
   "execution_count": null,
   "id": "38bed78d",
   "metadata": {
    "deletable": false,
    "editable": false
   },
   "outputs": [],
   "source": [
    "grader.check(\"q3\")"
   ]
  },
  {
   "cell_type": "markdown",
   "id": "926553d1",
   "metadata": {
    "deletable": false,
    "editable": false,
    "id": "ISRqO9H4lyqc"
   },
   "source": [
    "##  Exercise 4\n",
    "\n",
    "Let's look at the number of workplace fatalities as reported to the federal and state Occupational Safety and Health Administration (OSHA) at https://www.osha.gov/fatalities. \n",
    "\n",
    "Use `pandas` `read_html` to read in the table of fatalities. \n"
   ]
  },
  {
   "cell_type": "code",
   "execution_count": null,
   "id": "0bf85e87",
   "metadata": {
    "tags": []
   },
   "outputs": [],
   "source": [
    "headers = {\"User-Agent\":\"Mozilla/5.0\"}\n",
    "site = requests.get('https://www.osha.gov/fatalities', headers = headers).text\n",
    "\n",
    "soup_q4 = BeautifulSoup(site,'html.parser') \n",
    "\n",
    "# Read in Table using pandas \"read_html\" method\n",
    "df4 = pd.read_html(site)\n",
    "df4 = df4[0]\n",
    "\n",
    "# Report the total number of citations issued related to fatality\n",
    "cits = (df4['Citation Issued Related to Fatality'] == 'Yes').sum()\n",
    "\n",
    "df4.head()\n",
    "\n",
    "print(\"Number of citations issues related to fatality: \", cits)"
   ]
  },
  {
   "cell_type": "code",
   "execution_count": null,
   "id": "d856d825",
   "metadata": {
    "deletable": false,
    "editable": false
   },
   "outputs": [],
   "source": [
    "grader.check(\"q4\")"
   ]
  },
  {
   "cell_type": "markdown",
   "id": "e2e501ba",
   "metadata": {
    "deletable": false,
    "editable": false
   },
   "source": [
    "## Exercise 5 \n",
    "\n",
    "Save in a DataFrame the incidents that occurred in fiscal year 2022, Oct. 1, 2021 - Sept. 30, 2022.  \n",
    "\n",
    "Try using `pd.to_datetime` to add a new \"Date\" column with the Date of Incident column converted to a datetime object that may be easier to filter. \n",
    "\n",
    "https://pandas.pydata.org/docs/reference/api/pandas.to_datetime.html\n"
   ]
  },
  {
   "cell_type": "code",
   "execution_count": null,
   "id": "7a27c576",
   "metadata": {
    "tags": []
   },
   "outputs": [],
   "source": [
    "# Save all incidents that occured in fiscal year 2022: Oct. 1, 2021 - Sept. 30, 2022\n",
    "#  in a DataFrame (\"q5result\"), it will have a new column \"Date\" with the Date of \n",
    "#  Incident column converted to a datetime object. \n",
    "\n",
    "\n",
    "df4['Date'] = pd.to_datetime(df4['Date of Incident'], format='%m/%d/%Y')\n",
    "starting_date = pd.to_datetime('2021-10-01')\n",
    "ending_date = pd.to_datetime('2022-09-30')\n",
    "\n",
    "\n",
    "q5result = df4[(df4['Date'] >= starting_date) & (df4['Date'] <= ending_date)]\n",
    "q5result.head()"
   ]
  },
  {
   "cell_type": "code",
   "execution_count": null,
   "id": "55412992",
   "metadata": {
    "deletable": false,
    "editable": false
   },
   "outputs": [],
   "source": [
    "grader.check(\"q5\")"
   ]
  },
  {
   "cell_type": "markdown",
   "id": "9f14f62d",
   "metadata": {
    "deletable": false,
    "editable": false,
    "id": "WWMZaRxTz5Gl"
   },
   "source": [
    "## Exercise 6 \n",
    "\n",
    "Identify the most viewed data set on Michigan state's open data portal.   \n",
    "https://data.michigan.gov/browse?sortBy=most_accessed\n",
    "\n",
    "Stores its name in the provided \"most_viewed_data_nm\" variable and the number of views in \"num_views\"."
   ]
  },
  {
   "cell_type": "code",
   "execution_count": null,
   "id": "f2484644",
   "metadata": {
    "tags": []
   },
   "outputs": [],
   "source": [
    "resp_q6 = requests.get('https://data.michigan.gov/browse?sortBy=most_accessed').text \n",
    "soup_q6 = BeautifulSoup(resp_q6,'html.parser')\n",
    "\n",
    "most_viewed_data_nm = soup_q6.find('div', {'class': 'browse2-result-title'}).a.text\n",
    "\n",
    "num_views = int(float(soup_q6.find('div',{'class':'browse2-result-view-count-value'}).text.strip().replace(',', '')))\n",
    "\n",
    "\n",
    "print(\"Most visited data: %s  with %d views\" % (most_viewed_data_nm, num_views))"
   ]
  },
  {
   "cell_type": "code",
   "execution_count": null,
   "id": "65aa4a44",
   "metadata": {
    "deletable": false,
    "editable": false
   },
   "outputs": [],
   "source": [
    "grader.check(\"q6\")"
   ]
  },
  {
   "cell_type": "markdown",
   "id": "bbb4b1c0",
   "metadata": {
    "deletable": false,
    "editable": false
   },
   "source": [
    "## Submission\n",
    "\n",
    "Make sure you have run all cells in your notebook in order before running the cell below, so that all images/graphs appear in the output. The cell below will generate a zip file for you to submit. **Please save before exporting!**"
   ]
  },
  {
   "cell_type": "code",
   "execution_count": null,
   "id": "dd6d1add",
   "metadata": {
    "deletable": false,
    "editable": false
   },
   "outputs": [],
   "source": [
    "# Save your notebook first, then run this cell to export your submission.\n",
    "grader.export(pdf=False)"
   ]
  },
  {
   "cell_type": "markdown",
   "id": "2ebbc478",
   "metadata": {},
   "source": [
    " "
   ]
  }
 ],
 "metadata": {
  "kernelspec": {
   "display_name": "Python [conda env:.conda-un5550] *",
   "language": "python",
   "name": "conda-env-.conda-un5550-py"
  },
  "language_info": {
   "codemirror_mode": {
    "name": "ipython",
    "version": 3
   },
   "file_extension": ".py",
   "mimetype": "text/x-python",
   "name": "python",
   "nbconvert_exporter": "python",
   "pygments_lexer": "ipython3",
   "version": "3.10.12"
  },
  "otter": {
   "OK_FORMAT": true,
   "assignment_name": "lab5",
   "tests": {
    "q1": {
     "name": "q1",
     "points": 6,
     "suites": [
      {
       "cases": [
        {
         "code": ">>> name == \"Downscaled Climate Model Climate Toolbox\"\nTrue",
         "hidden": false,
         "locked": false
        }
       ],
       "scored": true,
       "setup": "",
       "teardown": "",
       "type": "doctest"
      }
     ]
    },
    "q2": {
     "name": "q2",
     "points": 8,
     "suites": [
      {
       "cases": [
        {
         "code": ">>> num_research_studies >= 468124 \nTrue",
         "hidden": false,
         "locked": false
        }
       ],
       "scored": true,
       "setup": "",
       "teardown": "",
       "type": "doctest"
      }
     ]
    },
    "q3": {
     "name": "q3",
     "points": 10,
     "suites": [
      {
       "cases": [
        {
         "code": ">>> l1Num1 == l1Num2 \nTrue",
         "hidden": false,
         "locked": false
        },
        {
         "code": ">>> l2Num1 == l2Num2 \nTrue",
         "hidden": false,
         "locked": false
        },
        {
         "code": ">>> l3Num1 == l3Num2\nTrue",
         "hidden": false,
         "locked": false
        },
        {
         "code": ">>> l4Num1 == l4Num2\nTrue",
         "hidden": false,
         "locked": false
        }
       ],
       "scored": true,
       "setup": "",
       "teardown": "",
       "type": "doctest"
      }
     ]
    },
    "q4": {
     "name": "q4",
     "points": 10,
     "suites": [
      {
       "cases": [
        {
         "code": ">>> df4.shape[1] == 7\nTrue",
         "hidden": false,
         "locked": false
        }
       ],
       "scored": true,
       "setup": "",
       "teardown": "",
       "type": "doctest"
      }
     ]
    },
    "q5": {
     "name": "q5",
     "points": 6,
     "suites": [
      {
       "cases": [
        {
         "code": ">>> q5result.shape[0] == 864\nTrue",
         "hidden": false,
         "locked": false
        },
        {
         "code": ">>> q5result.shape[1] == 8\nTrue",
         "hidden": false,
         "locked": false
        },
        {
         "code": ">>> \"Date\" in q5result.columns\nTrue",
         "hidden": false,
         "locked": false
        }
       ],
       "scored": true,
       "setup": "",
       "teardown": "",
       "type": "doctest"
      }
     ]
    },
    "q6": {
     "name": "q6",
     "points": 10,
     "suites": [
      {
       "cases": [
        {
         "code": ">>> most_viewed_data_nm == 'MI_Congress_Plot'\nTrue",
         "hidden": false,
         "locked": false
        }
       ],
       "scored": true,
       "setup": "",
       "teardown": "",
       "type": "doctest"
      }
     ]
    }
   }
  }
 },
 "nbformat": 4,
 "nbformat_minor": 5
}
